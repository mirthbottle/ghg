{
 "metadata": {
  "name": "",
  "signature": "sha256:a599bc29c47f912dd19c08439924334eff5372ffa486fd6e190badaef44d8cf5"
 },
 "nbformat": 3,
 "nbformat_minor": 0,
 "worksheets": [
  {
   "cells": [
    {
     "cell_type": "markdown",
     "metadata": {},
     "source": [
      "# data source\n",
      "# CAIT 2.0 UNFCCC Annex I emissions\n",
      "http://www.wri.org/resources/data-sets/unfccc-annex-i-ghg-emissions-0\n",
      "\n",
      "# CAIT 2.0 Country GHG Emissions.csv\n",
      "####,,Emissions Totals,,Emissions by Gas,,,,Emissions by Sector,,,,,,Energy Emissions by Sub-Sector,,,,,"
     ]
    },
    {
     "cell_type": "code",
     "collapsed": false,
     "input": [
      "import csv"
     ],
     "language": "python",
     "metadata": {},
     "outputs": [],
     "prompt_number": 1
    },
    {
     "cell_type": "code",
     "collapsed": false,
     "input": [
      "%matplotlib inline\n",
      "import matplotlib.pyplot as plt\n",
      "import numpy as np\n",
      "import matplotlib.mlab as mlab\n",
      "import prettyplotlib as ppl\n",
      "import pandas as pd"
     ],
     "language": "python",
     "metadata": {},
     "outputs": [],
     "prompt_number": 12
    },
    {
     "cell_type": "code",
     "collapsed": false,
     "input": [
      "dict_reader = csv.DictReader(open('CAIT 2.0 UNFCCC Annex I GHG Emissions - csv.csv'))\n",
      "country_annex_year = []\n",
      "for row in dict_reader:\n",
      "    keys = row.keys()\n",
      "    clean_row = {}\n",
      "    for key in keys:\n",
      "        clean_row[key] = row[key].strip()\n",
      "    country_annex_year.append(clean_row)"
     ],
     "language": "python",
     "metadata": {},
     "outputs": [],
     "prompt_number": 10
    },
    {
     "cell_type": "code",
     "collapsed": false,
     "input": [
      "dict_reader = csv.DictReader(open('CAIT 2.0 Country GHG Emissions.csv'))\n",
      "country_year = []\n",
      "for row in dict_reader:\n",
      "    keys = row.keys()\n",
      "    clean_row = {}\n",
      "    for key in keys:\n",
      "        clean_row[key] = row[key].strip()\n",
      "    country_year.append(clean_row)"
     ],
     "language": "python",
     "metadata": {},
     "outputs": [],
     "prompt_number": 36
    },
    {
     "cell_type": "code",
     "collapsed": false,
     "input": [
      "row.keys()\n",
      "float(country_year[0]['Fugitive Emissions (MtCO2e)'])"
     ],
     "language": "python",
     "metadata": {},
     "outputs": [
      {
       "metadata": {},
       "output_type": "pyout",
       "prompt_number": 50,
       "text": [
        "1.255569903"
       ]
      }
     ],
     "prompt_number": 50
    },
    {
     "cell_type": "code",
     "collapsed": false,
     "input": [
      "# cy = country year\n",
      "cy = pd.DataFrame(country_year)"
     ],
     "language": "python",
     "metadata": {},
     "outputs": [],
     "prompt_number": 38
    },
    {
     "cell_type": "code",
     "collapsed": false,
     "input": [
      "cy.keys()"
     ],
     "language": "python",
     "metadata": {},
     "outputs": [
      {
       "metadata": {},
       "output_type": "pyout",
       "prompt_number": 58,
       "text": [
        "Index([u'Agriculture (MtCO2e)', u'Bunker Fuels (MtCO2)', u'Country', u'Electricity/Heat (MtCO2)', u'Energy (MtCO2e)', u'Fugitive Emissions (MtCO2e)', u'Industrial Processes (MtCO2e)', u'LUCF (MtCO2)', u'Manufacturing/Construction (MtCO2)', u'Other Fuel Combustion (MtCO2e)', u'Total CH4 (MtCO2e)', u'Total CO? Excluding Land-Use Change and Forestry (MtCO2)', u'Total F-Gas (MtCO2e)', u'Total GHG Emissions Excluding Land-Use Change and Forestry (MtCO2e)', u'Total GHG Emissions Including Land-Use Change and Forestry (MtCO2e)', u'Total N2O (MtCO2e)', u'Transportation (MtCO2)', u'Waste (MtCO2e)', u'Year'], dtype='object')"
       ]
      }
     ],
     "prompt_number": 58
    },
    {
     "cell_type": "code",
     "collapsed": false,
     "input": [
      "cy = cy.replace('', '0')"
     ],
     "language": "python",
     "metadata": {},
     "outputs": [],
     "prompt_number": 55
    },
    {
     "cell_type": "code",
     "collapsed": false,
     "input": [
      "for key in cy.keys():\n",
      "    if key != 'Country':\n",
      "        cy[key] = cy[key].apply(float)"
     ],
     "language": "python",
     "metadata": {},
     "outputs": [],
     "prompt_number": 57
    },
    {
     "cell_type": "code",
     "collapsed": false,
     "input": [
      "e2011 = cy[cy['Year'] == 2011]"
     ],
     "language": "python",
     "metadata": {},
     "outputs": [],
     "prompt_number": 72
    },
    {
     "cell_type": "code",
     "collapsed": false,
     "input": [
      "len(e2011['Country'])"
     ],
     "language": "python",
     "metadata": {},
     "outputs": [
      {
       "metadata": {},
       "output_type": "pyout",
       "prompt_number": 73,
       "text": [
        "189"
       ]
      }
     ],
     "prompt_number": 73
    },
    {
     "cell_type": "code",
     "collapsed": false,
     "input": [
      "cy[:1]\n",
      "e2011[:1]"
     ],
     "language": "python",
     "metadata": {},
     "outputs": [
      {
       "html": [
        "<div style=\"max-height:1000px;max-width:1500px;overflow:auto;\">\n",
        "<table border=\"1\" class=\"dataframe\">\n",
        "  <thead>\n",
        "    <tr style=\"text-align: right;\">\n",
        "      <th></th>\n",
        "      <th>Agriculture (MtCO2e)</th>\n",
        "      <th>Bunker Fuels (MtCO2)</th>\n",
        "      <th>Country</th>\n",
        "      <th>Electricity/Heat (MtCO2)</th>\n",
        "      <th>Energy (MtCO2e)</th>\n",
        "      <th>Fugitive Emissions (MtCO2e)</th>\n",
        "      <th>Industrial Processes (MtCO2e)</th>\n",
        "      <th>LUCF (MtCO2)</th>\n",
        "      <th>Manufacturing/Construction (MtCO2)</th>\n",
        "      <th>Other Fuel Combustion (MtCO2e)</th>\n",
        "      <th>Total CH4 (MtCO2e)</th>\n",
        "      <th>Total CO? Excluding Land-Use Change and Forestry (MtCO2)</th>\n",
        "      <th>Total F-Gas (MtCO2e)</th>\n",
        "      <th>Total GHG Emissions Excluding Land-Use Change and Forestry (MtCO2e)</th>\n",
        "      <th>Total GHG Emissions Including Land-Use Change and Forestry (MtCO2e)</th>\n",
        "      <th>Total N2O (MtCO2e)</th>\n",
        "      <th>Transportation (MtCO2)</th>\n",
        "      <th>Waste (MtCO2e)</th>\n",
        "      <th>Year</th>\n",
        "    </tr>\n",
        "  </thead>\n",
        "  <tbody>\n",
        "    <tr>\n",
        "      <th>21</th>\n",
        "      <td> 10.649049</td>\n",
        "      <td> 0</td>\n",
        "      <td> Afghanistan</td>\n",
        "      <td> 0</td>\n",
        "      <td> 0</td>\n",
        "      <td> 0.018588</td>\n",
        "      <td> 0</td>\n",
        "      <td> 0</td>\n",
        "      <td> 0</td>\n",
        "      <td> 0</td>\n",
        "      <td> 14.918806</td>\n",
        "      <td> 6.5892</td>\n",
        "      <td> 0.250075</td>\n",
        "      <td> 25.314</td>\n",
        "      <td> 25.314</td>\n",
        "      <td> 3.555945</td>\n",
        "      <td> 0</td>\n",
        "      <td> 7.807114</td>\n",
        "      <td> 2011</td>\n",
        "    </tr>\n",
        "  </tbody>\n",
        "</table>\n",
        "<p>1 rows \u00d7 19 columns</p>\n",
        "</div>"
       ],
       "metadata": {},
       "output_type": "pyout",
       "prompt_number": 70,
       "text": [
        "    Agriculture (MtCO2e)  Bunker Fuels (MtCO2)      Country  \\\n",
        "21             10.649049                     0  Afghanistan   \n",
        "\n",
        "    Electricity/Heat (MtCO2)  Energy (MtCO2e)  Fugitive Emissions (MtCO2e)  \\\n",
        "21                         0                0                     0.018588   \n",
        "\n",
        "    Industrial Processes (MtCO2e)  LUCF (MtCO2)  \\\n",
        "21                              0             0   \n",
        "\n",
        "    Manufacturing/Construction (MtCO2)  Other Fuel Combustion (MtCO2e)  \\\n",
        "21                                   0                               0   \n",
        "\n",
        "    Total CH4 (MtCO2e)  \\\n",
        "21           14.918806   \n",
        "\n",
        "    Total CO? Excluding Land-Use Change and Forestry (MtCO2)  \\\n",
        "21                                             6.5892          \n",
        "\n",
        "    Total F-Gas (MtCO2e)  \\\n",
        "21              0.250075   \n",
        "\n",
        "    Total GHG Emissions Excluding Land-Use Change and Forestry (MtCO2e)  \\\n",
        "21                                             25.314                     \n",
        "\n",
        "    Total GHG Emissions Including Land-Use Change and Forestry (MtCO2e)  \\\n",
        "21                                             25.314                     \n",
        "\n",
        "    Total N2O (MtCO2e)  Transportation (MtCO2)  Waste (MtCO2e)  Year  \n",
        "21            3.555945                       0        7.807114  2011  \n",
        "\n",
        "[1 rows x 19 columns]"
       ]
      }
     ],
     "prompt_number": 70
    },
    {
     "cell_type": "markdown",
     "metadata": {},
     "source": [
      "# now try to make a pie chart with country emissions totals from 2011"
     ]
    },
    {
     "cell_type": "code",
     "collapsed": false,
     "input": [
      "e2011 = e2011.sort('Total GHG Emissions Including Land-Use Change and Forestry (MtCO2e)', ascending = 0)\n",
      "e2011totals = e2011[['Total GHG Emissions Including Land-Use Change and Forestry (MtCO2e)','Country']]\n",
      "# get rid of World total\n",
      "e2011totals = e2011totals[1:]"
     ],
     "language": "python",
     "metadata": {},
     "outputs": [],
     "prompt_number": 97
    },
    {
     "cell_type": "code",
     "collapsed": false,
     "input": [
      "ts = e2011totals['Total GHG Emissions Including Land-Use Change and Forestry (MtCO2e)']\n",
      "plt.pie(ts.values[0:180])\n",
      "plt.show()\n",
      "# top 10 countries get called out.\n",
      "# group everyone else in Other"
     ],
     "language": "python",
     "metadata": {},
     "outputs": [
      {
       "metadata": {},
       "output_type": "display_data",
       "png": "[encoded data removed]",
       "text": [
        "<matplotlib.figure.Figure at 0x7f5a865ee790>"
       ]
      }
     ],
     "prompt_number": 118
    },
    {
     "cell_type": "heading",
     "level": 1,
     "metadata": {},
     "source": []
    }
   ],
   "metadata": {}
  }
 ]
}