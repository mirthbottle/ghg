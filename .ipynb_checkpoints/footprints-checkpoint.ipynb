{
 "metadata": {
  "name": ""
 },
 "nbformat": 3,
 "nbformat_minor": 0,
 "worksheets": [
  {
   "cells": [
    {
     "cell_type": "code",
     "collapsed": false,
     "input": [
      "import csv"
     ],
     "language": "python",
     "metadata": {},
     "outputs": [],
     "prompt_number": 1
    },
    {
     "cell_type": "code",
     "collapsed": false,
     "input": [
      "def get_g500_data():\n",
      "    dict_reader = csv.DictReader(open('G500 Appendix update 2011.csv'))\n",
      "    companies = []\n",
      "    for row in dict_reader:\n",
      "        keys = row.keys()\n",
      "        clean_row = {}\n",
      "        for key in keys:\n",
      "            clean_row[key] = row[key].strip()\n",
      "        companies.append(clean_row)\n",
      "    return companies"
     ],
     "language": "python",
     "metadata": {},
     "outputs": [],
     "prompt_number": 2
    },
    {
     "cell_type": "code",
     "collapsed": false,
     "input": [
      "def retrieve_record(cs, c_name):\n",
      "    return (item for item in cs if item[\"Company\"] == c_name).next()"
     ],
     "language": "python",
     "metadata": {},
     "outputs": [],
     "prompt_number": 5
    },
    {
     "cell_type": "code",
     "collapsed": false,
     "input": [
      "def filter_by_sector(cs, sector):\n",
      "    companies = []\n",
      "    for item in cs:\n",
      "        if item['Sector'] == sector:\n",
      "            companies.append(item)\n",
      "    return companies"
     ],
     "language": "python",
     "metadata": {},
     "outputs": [],
     "prompt_number": 6
    },
    {
     "cell_type": "code",
     "collapsed": false,
     "input": [
      "def filter_has_all_scopes(cs):\n",
      "    companies = []\n",
      "    no_scopes = []\n",
      "    for item in cs:\n",
      "        try:\n",
      "            float(item['Scope 1'])\n",
      "            float(item['Scope 2'])\n",
      "            float(item['Scope 3'])\n",
      "            companies.append(item)\n",
      "        except ValueError:\n",
      "            no_scopes.append(item)\n",
      "    return companies"
     ],
     "language": "python",
     "metadata": {},
     "outputs": [],
     "prompt_number": 16
    },
    {
     "cell_type": "code",
     "collapsed": false,
     "input": [
      "companies = get_g500_data()"
     ],
     "language": "python",
     "metadata": {},
     "outputs": [],
     "prompt_number": 10
    },
    {
     "cell_type": "code",
     "collapsed": false,
     "input": [
      "all_scopes = filter_has_all_scopes(companies)"
     ],
     "language": "python",
     "metadata": {},
     "outputs": [],
     "prompt_number": 17
    },
    {
     "cell_type": "code",
     "collapsed": false,
     "input": [
      "len(all_scopes)"
     ],
     "language": "python",
     "metadata": {},
     "outputs": [
      {
       "metadata": {},
       "output_type": "pyout",
       "prompt_number": 20,
       "text": [
        "264"
       ]
      }
     ],
     "prompt_number": 20
    },
    {
     "cell_type": "code",
     "collapsed": false,
     "input": [
      "all_scopes[2]['Company']"
     ],
     "language": "python",
     "metadata": {},
     "outputs": [
      {
       "metadata": {},
       "output_type": "pyout",
       "prompt_number": 119,
       "text": [
        "'Accenture'"
       ]
      }
     ],
     "prompt_number": 119
    },
    {
     "cell_type": "markdown",
     "metadata": {},
     "source": [
      "how does scope 3 change rankings?  need revenue data to normalize emissions.  scrape from yahoo finance"
     ]
    },
    {
     "cell_type": "code",
     "collapsed": false,
     "input": [
      "from selenium import webdriver"
     ],
     "language": "python",
     "metadata": {},
     "outputs": [],
     "prompt_number": 64
    },
    {
     "cell_type": "markdown",
     "metadata": {},
     "source": [
      "get stock symbol - still need to make it handle exceptions"
     ]
    },
    {
     "cell_type": "code",
     "collapsed": false,
     "input": [
      "def get_symbol(name, browser):\n",
      "    browser.get('http://finance.yahoo.com/')\n",
      "    search = browser.find_element_by_class_name('yucs-search-input')\n",
      "    search.send_keys(name)\n",
      "    browser.find_element_by_id('yucs-sprop_button').click()\n",
      "    return browser.title.split(':')[0]"
     ],
     "language": "python",
     "metadata": {},
     "outputs": [],
     "prompt_number": 115
    },
    {
     "cell_type": "code",
     "collapsed": false,
     "input": [
      "get_symbol(all_scopes[2]['Company'], browser)"
     ],
     "language": "python",
     "metadata": {},
     "outputs": [
      {
       "metadata": {},
       "output_type": "pyout",
       "prompt_number": 120,
       "text": [
        "u'ACN'"
       ]
      }
     ],
     "prompt_number": 120
    },
    {
     "cell_type": "code",
     "collapsed": false,
     "input": [
      "browser = webdriver.Firefox()"
     ],
     "language": "python",
     "metadata": {},
     "outputs": [],
     "prompt_number": 104
    },
    {
     "cell_type": "code",
     "collapsed": false,
     "input": [
      "browser.get('http://finance.yahoo.com/')"
     ],
     "language": "python",
     "metadata": {},
     "outputs": [],
     "prompt_number": 93
    },
    {
     "cell_type": "code",
     "collapsed": false,
     "input": [
      "search = browser.find_element_by_class_name('yucs-search-input')"
     ],
     "language": "python",
     "metadata": {},
     "outputs": [],
     "prompt_number": 108
    },
    {
     "cell_type": "code",
     "collapsed": false,
     "input": [
      "search.send_keys('google')"
     ],
     "language": "python",
     "metadata": {},
     "outputs": [],
     "prompt_number": 109
    },
    {
     "cell_type": "code",
     "collapsed": false,
     "input": [
      "finance_submit = browser.find_element_by_id('yucs-sprop_button')\n",
      "finance_submit.click()"
     ],
     "language": "python",
     "metadata": {},
     "outputs": [],
     "prompt_number": 98
    },
    {
     "cell_type": "code",
     "collapsed": false,
     "input": [
      "t = browser.title\n",
      "t.split(':')[0]"
     ],
     "language": "python",
     "metadata": {},
     "outputs": [
      {
       "metadata": {},
       "output_type": "pyout",
       "prompt_number": 114,
       "text": [
        "u'ABB'"
       ]
      }
     ],
     "prompt_number": 114
    },
    {
     "cell_type": "code",
     "collapsed": false,
     "input": [
      "is_link = browser.find_element_by_link_text('Income Statement')\n",
      "is_link.click()"
     ],
     "language": "python",
     "metadata": {},
     "outputs": [],
     "prompt_number": 87
    },
    {
     "cell_type": "code",
     "collapsed": false,
     "input": [
      "page_source = browser.page_source\n",
      "x = page_source.split('Total Revenue')[1].split('Cost of Revenue')[0]"
     ],
     "language": "python",
     "metadata": {},
     "outputs": [
      {
       "metadata": {},
       "output_type": "pyout",
       "prompt_number": 92,
       "text": [
        "u'\\n                            </strong>\\n                        </td><td align=\"right\">\\n                                <strong>\\n                            59,825,000\\xa0\\xa0\\n                                </strong>\\n                            </td><td align=\"right\">\\n                                <strong>\\n                            50,175,000\\xa0\\xa0\\n                                </strong>\\n                            </td><td align=\"right\">\\n                                <strong>\\n                            37,905,000\\xa0\\xa0\\n                                </strong>\\n                            </td></tr><tr><td colspan=\"2\">'"
       ]
      }
     ],
     "prompt_number": 92
    },
    {
     "cell_type": "code",
     "collapsed": false,
     "input": [
      "renevues = x.split('</strong>')"
     ],
     "language": "python",
     "metadata": {},
     "outputs": [],
     "prompt_number": 122
    },
    {
     "cell_type": "code",
     "collapsed": false,
     "input": [
      "import re\n",
      "m = re.search('\\d{1,}','e234123sdf')\n",
      "m.group(0)"
     ],
     "language": "python",
     "metadata": {},
     "outputs": []
    },
    {
     "cell_type": "code",
     "collapsed": false,
     "input": [
      "r = renevues[len(renevues)-2]\n",
      "r = r.replace(',','')\n",
      "revenue = re.search('\\d{1,}',r)\n",
      "revenue.group(0)"
     ],
     "language": "python",
     "metadata": {},
     "outputs": [
      {
       "metadata": {},
       "output_type": "pyout",
       "prompt_number": 159,
       "text": [
        "u'37905000'"
       ]
      }
     ],
     "prompt_number": 159
    },
    {
     "cell_type": "code",
     "collapsed": false,
     "input": [],
     "language": "python",
     "metadata": {},
     "outputs": [],
     "prompt_number": 159
    },
    {
     "cell_type": "code",
     "collapsed": false,
     "input": [],
     "language": "python",
     "metadata": {},
     "outputs": []
    }
   ],
   "metadata": {}
  }
 ]
}