{
 "metadata": {
  "name": "",
  "signature": "sha256:0d5ae80d79d5ea68fefc43ea0375f66e7694c4768bdf59ddb7cc9514b047118d"
 },
 "nbformat": 3,
 "nbformat_minor": 0,
 "worksheets": []
}