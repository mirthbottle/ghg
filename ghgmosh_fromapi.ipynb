{
 "cells": [
  {
   "cell_type": "code",
   "execution_count": 1,
   "metadata": {},
   "outputs": [],
   "source": [
    "import pandas as pd\n",
    "import json\n",
    "import requests\n",
    "import climateworks_datamosh as cw"
   ]
  },
  {
   "cell_type": "code",
   "execution_count": 100,
   "metadata": {},
   "outputs": [],
   "source": [
    "%load_ext autoreload\n",
    "%autoreload 2"
   ]
  },
  {
   "cell_type": "code",
   "execution_count": 108,
   "metadata": {},
   "outputs": [],
   "source": [
    "from importlib import reload"
   ]
  },
  {
   "cell_type": "code",
   "execution_count": 109,
   "metadata": {},
   "outputs": [
    {
     "data": {
      "text/plain": [
       "<module 'climateworks_datamosh' from '/mnt/labbook/code/climateworks_datamosh.py'>"
      ]
     },
     "execution_count": 109,
     "metadata": {},
     "output_type": "execute_result"
    }
   ],
   "source": [
    "reload(cw)"
   ]
  },
  {
   "cell_type": "markdown",
   "metadata": {},
   "source": [
    "# get (almost) all the data\n",
    "### would need to retrieve again by iso3 code to make sure you really get all the records"
   ]
  },
  {
   "cell_type": "code",
   "execution_count": 45,
   "metadata": {},
   "outputs": [
    {
     "data": {
      "text/plain": [
       "[]"
      ]
     },
     "execution_count": 45,
     "metadata": {},
     "output_type": "execute_result"
    }
   ],
   "source": [
    "payload={\"start_year\": 2017, \"end_year\": 2018, \"regions\": [\"CHN\"]}\n",
    "datatable, error_pages = cw.get_cw_data(payload)"
   ]
  },
  {
   "cell_type": "code",
   "execution_count": 85,
   "metadata": {},
   "outputs": [],
   "source": [
    "allghg = datatable.loc[datatable[\"gas\"] == \"All GHG\"].copy()\n",
    "allghg = allghg.drop_duplicates([\"country\", \"sector\", \"size\"])"
   ]
  },
  {
   "cell_type": "code",
   "execution_count": 80,
   "metadata": {},
   "outputs": [],
   "source": [
    "# allghg.to_excel(\"../output/allghg 2017.xlsx\", encoding=\"utf8\")"
   ]
  },
  {
   "cell_type": "markdown",
   "metadata": {},
   "source": [
    "# get top 9 emitters"
   ]
  },
  {
   "cell_type": "code",
   "execution_count": 128,
   "metadata": {},
   "outputs": [],
   "source": [
    "allghg = pd.read_excel(\"../output/allghg 2017.xlsx\", encoding=\"utf8\")"
   ]
  },
  {
   "cell_type": "code",
   "execution_count": 62,
   "metadata": {},
   "outputs": [
    {
     "data": {
      "text/html": [
       "<div>\n",
       "<style scoped>\n",
       "    .dataframe tbody tr th:only-of-type {\n",
       "        vertical-align: middle;\n",
       "    }\n",
       "\n",
       "    .dataframe tbody tr th {\n",
       "        vertical-align: top;\n",
       "    }\n",
       "\n",
       "    .dataframe thead th {\n",
       "        text-align: right;\n",
       "    }\n",
       "</style>\n",
       "<table border=\"1\" class=\"dataframe\">\n",
       "  <thead>\n",
       "    <tr style=\"text-align: right;\">\n",
       "      <th></th>\n",
       "      <th>id</th>\n",
       "      <th>iso_code3</th>\n",
       "      <th>country</th>\n",
       "      <th>data_source</th>\n",
       "      <th>sector</th>\n",
       "      <th>gas</th>\n",
       "      <th>unit</th>\n",
       "      <th>emissions</th>\n",
       "      <th>size</th>\n",
       "    </tr>\n",
       "  </thead>\n",
       "  <tbody>\n",
       "    <tr>\n",
       "      <th>7</th>\n",
       "      <td>541650</td>\n",
       "      <td>CHN</td>\n",
       "      <td>China</td>\n",
       "      <td>CAIT</td>\n",
       "      <td>Total excluding LUCF</td>\n",
       "      <td>All GHG</td>\n",
       "      <td>MtCO₂e</td>\n",
       "      <td>[{'year': 2017, 'value': 12090.97}]</td>\n",
       "      <td>12090.97</td>\n",
       "    </tr>\n",
       "  </tbody>\n",
       "</table>\n",
       "</div>"
      ],
      "text/plain": [
       "       id iso_code3 country data_source                sector      gas  \\\n",
       "7  541650       CHN   China        CAIT  Total excluding LUCF  All GHG   \n",
       "\n",
       "     unit                            emissions      size  \n",
       "7  MtCO₂e  [{'year': 2017, 'value': 12090.97}]  12090.97  "
      ]
     },
     "execution_count": 62,
     "metadata": {},
     "output_type": "execute_result"
    }
   ],
   "source": [
    "allghg.loc[(allghg[\"iso_code3\"] == \"CHN\") & (allghg[\"sector\"] == \"Total excluding LUCF\")]"
   ]
  },
  {
   "cell_type": "code",
   "execution_count": 129,
   "metadata": {},
   "outputs": [
    {
     "data": {
      "text/html": [
       "<div>\n",
       "<style scoped>\n",
       "    .dataframe tbody tr th:only-of-type {\n",
       "        vertical-align: middle;\n",
       "    }\n",
       "\n",
       "    .dataframe tbody tr th {\n",
       "        vertical-align: top;\n",
       "    }\n",
       "\n",
       "    .dataframe thead th {\n",
       "        text-align: right;\n",
       "    }\n",
       "</style>\n",
       "<table border=\"1\" class=\"dataframe\">\n",
       "  <thead>\n",
       "    <tr style=\"text-align: right;\">\n",
       "      <th></th>\n",
       "      <th>Unnamed: 0</th>\n",
       "      <th>id</th>\n",
       "      <th>iso_code3</th>\n",
       "      <th>country</th>\n",
       "      <th>data_source</th>\n",
       "      <th>sector</th>\n",
       "      <th>gas</th>\n",
       "      <th>unit</th>\n",
       "      <th>emissions</th>\n",
       "      <th>size</th>\n",
       "    </tr>\n",
       "  </thead>\n",
       "  <tbody>\n",
       "    <tr>\n",
       "      <th>2551</th>\n",
       "      <td>3</td>\n",
       "      <td>548970</td>\n",
       "      <td>WORLD</td>\n",
       "      <td>World</td>\n",
       "      <td>CAIT</td>\n",
       "      <td>Total excluding LUCF</td>\n",
       "      <td>All GHG</td>\n",
       "      <td>MtCO₂e</td>\n",
       "      <td>[{'year': 2017, 'value': 46730.35}]</td>\n",
       "      <td>46730.35</td>\n",
       "    </tr>\n",
       "  </tbody>\n",
       "</table>\n",
       "</div>"
      ],
      "text/plain": [
       "      Unnamed: 0      id iso_code3 country data_source                sector  \\\n",
       "2551           3  548970     WORLD   World        CAIT  Total excluding LUCF   \n",
       "\n",
       "          gas    unit                            emissions      size  \n",
       "2551  All GHG  MtCO₂e  [{'year': 2017, 'value': 46730.35}]  46730.35  "
      ]
     },
     "execution_count": 129,
     "metadata": {},
     "output_type": "execute_result"
    }
   ],
   "source": [
    "allghg.loc[(allghg[\"country\"] == \"World\") & (allghg[\"sector\"] == \"Total excluding LUCF\")]"
   ]
  },
  {
   "cell_type": "code",
   "execution_count": 52,
   "metadata": {},
   "outputs": [
    {
     "data": {
      "text/plain": [
       "44122.76"
      ]
     },
     "execution_count": 52,
     "metadata": {},
     "output_type": "execute_result"
    }
   ],
   "source": [
    "allghg_c = allghg.loc[~allghg[\"country\"].isin([\"World\", \"European Union (27)\"])].copy().sort_values(by=[\"size\"], ascending=False)\n",
    "\n",
    "allghg_c.loc[(allghg_c[\"sector\"] == \"Total excluding LUCF\")][\"size\"].sum()"
   ]
  },
  {
   "cell_type": "code",
   "execution_count": 58,
   "metadata": {},
   "outputs": [],
   "source": [
    "top9_names = allghg_c.loc[allghg_c[\"sector\"] == \"Total excluding LUCF\"].head(9)[[\"iso_code3\", \"country\"]]"
   ]
  },
  {
   "cell_type": "code",
   "execution_count": 94,
   "metadata": {},
   "outputs": [],
   "source": [
    "top9_names.to_excel(\"../output/top9_names2017.xlsx\")"
   ]
  },
  {
   "cell_type": "markdown",
   "metadata": {},
   "source": [
    "# format data for chart"
   ]
  },
  {
   "cell_type": "code",
   "execution_count": 90,
   "metadata": {},
   "outputs": [
    {
     "name": "stdout",
     "output_type": "stream",
     "text": [
      "3\n",
      "3\n",
      "3\n",
      "3\n",
      "3\n",
      "3\n",
      "3\n",
      "3\n",
      "3\n"
     ]
    }
   ],
   "source": [
    "top9data = top9_names[\"iso_code3\"].apply(\n",
    "    lambda c: cw.get_cw_data({\"start_year\": 2017, \"end_year\": 2018, \"regions\": [c]}))"
   ]
  },
  {
   "cell_type": "code",
   "execution_count": 121,
   "metadata": {},
   "outputs": [
    {
     "name": "stdout",
     "output_type": "stream",
     "text": [
      "China\n",
      "12090.97\n",
      "10037.669999999998\n",
      "United States\n",
      "5840.71\n",
      "5100.78\n",
      "India\n",
      "3230.2700000000004\n",
      "2307.8199999999997\n",
      "Russia\n",
      "2496.2999999999997\n",
      "2227.21\n",
      "Japan\n",
      "1235.31\n",
      "1135.3600000000001\n",
      "Brazil\n",
      "1063.59\n",
      "459.14\n",
      "Indonesia\n",
      "912.33\n",
      "548.52\n",
      "Germany\n",
      "832.67\n",
      "736.5200000000001\n",
      "Iran\n",
      "814.7399999999999\n",
      "704.8700000000001\n"
     ]
    }
   ],
   "source": [
    "ghg_fs = []\n",
    "dfs = []\n",
    "for d in top9data:\n",
    "    allghg = d[0].loc[d[0][\"gas\"] == \"All GHG\"].copy()\n",
    "    dfs.append(d[0])\n",
    "    ghg_fs.append(cw.format_sectors(allghg))"
   ]
  },
  {
   "cell_type": "code",
   "execution_count": 132,
   "metadata": {},
   "outputs": [],
   "source": [
    "top9ghg = pd.concat(dfs)\n",
    "top9ghg = top9ghg.loc[top9ghg[\"gas\"] == \"All GHG\"].copy()"
   ]
  },
  {
   "cell_type": "code",
   "execution_count": 115,
   "metadata": {},
   "outputs": [
    {
     "data": {
      "text/plain": [
       "{'name': 'China',\n",
       " 'size': 12090.97,\n",
       " 'children': [{'name': 'energy',\n",
       "   'size': 10037.65,\n",
       "   'children': [{'name': 'electricity', 'size': 4904.12},\n",
       "    {'name': 'manufacturing', 'size': 2734.18},\n",
       "    {'name': 'transportation', 'size': 880.9},\n",
       "    {'name': 'building', 'size': 533.08},\n",
       "    {'name': 'other fuels', 'size': 290.6},\n",
       "    {'name': 'fugitive', 'size': 694.79}]},\n",
       "  {'name': 'industrial processes', 'size': 1144.49},\n",
       "  {'name': 'agriculture', 'size': 717.22},\n",
       "  {'name': 'waste', 'size': 191.61}]}"
      ]
     },
     "execution_count": 115,
     "metadata": {},
     "output_type": "execute_result"
    }
   ],
   "source": [
    "ghg_fs[0]"
   ]
  },
  {
   "cell_type": "markdown",
   "metadata": {},
   "source": [
    "# validate World numbers"
   ]
  },
  {
   "cell_type": "code",
   "execution_count": 135,
   "metadata": {},
   "outputs": [],
   "source": [
    "worldghg = allghg.loc[(allghg[\"country\"] == \"World\")]"
   ]
  },
  {
   "cell_type": "code",
   "execution_count": 137,
   "metadata": {},
   "outputs": [],
   "source": [
    "names_map = {**cw.sector_names, **cw.e_subsectors}\n",
    "worldghg.loc[:, \"name\"] = worldghg[\"sector\"].apply(lambda s: names_map.get(s, s))"
   ]
  },
  {
   "cell_type": "code",
   "execution_count": 139,
   "metadata": {},
   "outputs": [
    {
     "data": {
      "text/plain": [
       "46730.35"
      ]
     },
     "execution_count": 139,
     "metadata": {},
     "output_type": "execute_result"
    }
   ],
   "source": [
    "worldghg.loc[worldghg[\"name\"] == \"Total excluding LUCF\", \"size\"].values[0]"
   ]
  },
  {
   "cell_type": "code",
   "execution_count": 141,
   "metadata": {},
   "outputs": [
    {
     "data": {
      "text/plain": [
       "46730.35"
      ]
     },
     "execution_count": 141,
     "metadata": {},
     "output_type": "execute_result"
    }
   ],
   "source": [
    "worldghg.loc[worldghg[\"name\"].isin(list(sector_names.values()))][\"size\"].sum()"
   ]
  },
  {
   "cell_type": "code",
   "execution_count": 144,
   "metadata": {},
   "outputs": [
    {
     "data": {
      "text/plain": [
       "2553    36435.64\n",
       "Name: size, dtype: float64"
      ]
     },
     "execution_count": 144,
     "metadata": {},
     "output_type": "execute_result"
    }
   ],
   "source": [
    "worldghg.loc[worldghg[\"name\"]==\"energy\"][\"size\"]"
   ]
  },
  {
   "cell_type": "code",
   "execution_count": 147,
   "metadata": {},
   "outputs": [
    {
     "data": {
      "text/plain": [
       "36435.65"
      ]
     },
     "execution_count": 147,
     "metadata": {},
     "output_type": "execute_result"
    }
   ],
   "source": [
    "worldghg.loc[worldghg[\"name\"].isin(list(cw.e_subsectors.values()))][\"size\"].sum()"
   ]
  },
  {
   "cell_type": "code",
   "execution_count": 152,
   "metadata": {},
   "outputs": [
    {
     "name": "stderr",
     "output_type": "stream",
     "text": [
      "/opt/conda/lib/python3.7/site-packages/pandas/core/indexing.py:845: SettingWithCopyWarning: \n",
      "A value is trying to be set on a copy of a slice from a DataFrame.\n",
      "Try using .loc[row_indexer,col_indexer] = value instead\n",
      "\n",
      "See the caveats in the documentation: https://pandas.pydata.org/pandas-docs/stable/user_guide/indexing.html#returning-a-view-versus-a-copy\n",
      "  self.obj[key] = _infer_fill_value(value)\n",
      "/opt/conda/lib/python3.7/site-packages/pandas/core/indexing.py:966: SettingWithCopyWarning: \n",
      "A value is trying to be set on a copy of a slice from a DataFrame.\n",
      "Try using .loc[row_indexer,col_indexer] = value instead\n",
      "\n",
      "See the caveats in the documentation: https://pandas.pydata.org/pandas-docs/stable/user_guide/indexing.html#returning-a-view-versus-a-copy\n",
      "  self.obj[item] = s\n"
     ]
    }
   ],
   "source": [
    "orecord = cw.other_record(allghg.loc[(allghg[\"country\"] == \"World\")], top9ghg)"
   ]
  },
  {
   "cell_type": "code",
   "execution_count": 153,
   "metadata": {},
   "outputs": [
    {
     "data": {
      "text/plain": [
       "{'name': 'Other',\n",
       " 'size': 18213.47,\n",
       " 'children': [{'name': 'energy',\n",
       "   'size': 13177.77,\n",
       "   'children': [{'name': 'electricity', 'size': 4770.11},\n",
       "    {'name': 'manufacturing', 'size': 1610.98},\n",
       "    {'name': 'transportation', 'size': 4089.15},\n",
       "    {'name': 'building', 'size': 1055.8},\n",
       "    {'name': 'other fuels', 'size': 775.86},\n",
       "    {'name': 'fugitive', 'size': 875.86}]},\n",
       "  {'name': 'industrial processes', 'size': 1073.73},\n",
       "  {'name': 'agriculture', 'size': 3163.61},\n",
       "  {'name': 'waste', 'size': 798.35}]}"
      ]
     },
     "execution_count": 153,
     "metadata": {},
     "output_type": "execute_result"
    }
   ],
   "source": [
    "orecord"
   ]
  },
  {
   "cell_type": "code",
   "execution_count": 154,
   "metadata": {},
   "outputs": [],
   "source": [
    "ghg2017 = {\"name\": \"global ghg sources\", \"children\": [orecord]+ghg_fs}"
   ]
  },
  {
   "cell_type": "code",
   "execution_count": 155,
   "metadata": {},
   "outputs": [],
   "source": [
    "with open(\"../output/ghg2017_source_countries.json\", 'w') as f:\n",
    "    json.dump(ghg2017, f, indent=2)"
   ]
  },
  {
   "cell_type": "code",
   "execution_count": null,
   "metadata": {},
   "outputs": [],
   "source": []
  }
 ],
 "metadata": {
  "kernelspec": {
   "display_name": "Python 3",
   "language": "python",
   "name": "python3"
  },
  "language_info": {
   "codemirror_mode": {
    "name": "ipython",
    "version": 3
   },
   "file_extension": ".py",
   "mimetype": "text/x-python",
   "name": "python",
   "nbconvert_exporter": "python",
   "pygments_lexer": "ipython3",
   "version": "3.7.6"
  }
 },
 "nbformat": 4,
 "nbformat_minor": 4
}
