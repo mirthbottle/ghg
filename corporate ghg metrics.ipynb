{
 "metadata": {
  "name": "",
  "signature": "sha256:ae5aebd43031f199cfd23be0b648de41ff41e07b5186f91f9234ed007617c532"
 },
 "nbformat": 3,
 "nbformat_minor": 0,
 "worksheets": [
  {
   "cells": [
    {
     "cell_type": "markdown",
     "metadata": {},
     "source": [
      "# data from CDP"
     ]
    },
    {
     "cell_type": "code",
     "collapsed": false,
     "input": [
      "import pandas as pd\n",
      "from scipy.stats import ttest_ind"
     ],
     "language": "python",
     "metadata": {},
     "outputs": [],
     "prompt_number": 75
    },
    {
     "cell_type": "code",
     "collapsed": false,
     "input": [
      "%matplotlib inline\n",
      "import matplotlib.pyplot as plt\n",
      "import numpy as np\n",
      "import matplotlib.mlab as mlab\n",
      "import prettyplotlib as ppl"
     ],
     "language": "python",
     "metadata": {},
     "outputs": [],
     "prompt_number": 24
    },
    {
     "cell_type": "code",
     "collapsed": false,
     "input": [
      "import brewer2mpl\n",
      "set2 = brewer2mpl.get_map('Set2', 'qualitative', 8).mpl_colors\n",
      "set2[0]"
     ],
     "language": "python",
     "metadata": {},
     "outputs": [
      {
       "metadata": {},
       "output_type": "pyout",
       "prompt_number": 25,
       "text": [
        "(0.4, 0.7607843137254902, 0.6470588235294118)"
       ]
      }
     ],
     "prompt_number": 25
    },
    {
     "cell_type": "code",
     "collapsed": false,
     "input": [
      "sample = pd.DataFrame.from_csv('sample_company_goals.csv')"
     ],
     "language": "python",
     "metadata": {},
     "outputs": [],
     "prompt_number": 26
    },
    {
     "cell_type": "code",
     "collapsed": false,
     "input": [
      "have_goals = sample.loc[sample['has goal']==1]\n",
      "hg_ave_1 = have_goals['% change emissions'].mean()\n",
      "hg_std_1 = have_goals['% change emissions'].std()\n",
      "hg_ave_2 = have_goals['% change intensity'].mean()\n",
      "hg_std_2 = have_goals['% change intensity'].std()\n",
      "# mean = 0\n",
      "# variance = 1\n",
      "# mean2 = 2.5"
     ],
     "language": "python",
     "metadata": {},
     "outputs": [],
     "prompt_number": 49
    },
    {
     "cell_type": "code",
     "collapsed": false,
     "input": [
      "no_goals = sample.loc[sample['has goal']==0]\n",
      "ng_ave_1 = no_goals['% change emissions'].mean()\n",
      "ng_std_1 = no_goals['% change emissions'].std()\n",
      "ng_ave_2 = no_goals['% change intensity'].mean()\n",
      "ng_std_2 = no_goals['% change intensity'].std()"
     ],
     "language": "python",
     "metadata": {},
     "outputs": [],
     "prompt_number": 50
    },
    {
     "cell_type": "code",
     "collapsed": false,
     "input": [
      "[[hg_ave_1, hg_std_1], [hg_ave_2, hg_std_2],\n",
      "[ng_ave_1, ng_std_1], [ng_ave_2, ng_std_2]]"
     ],
     "language": "python",
     "metadata": {},
     "outputs": [
      {
       "metadata": {},
       "output_type": "pyout",
       "prompt_number": 74,
       "text": [
        "[[-0.049000000000000009, 0.3502840117517339],\n",
        " [-0.14599999999999999, 0.34179916130187721],\n",
        " [0.096250000000000016, 0.44753092470959877],\n",
        " [-0.011249999999999996, 0.33972415280636142]]"
       ]
      }
     ],
     "prompt_number": 74
    },
    {
     "cell_type": "code",
     "collapsed": false,
     "input": [
      "ttest_ind(have_goals['% change emissions'],no_goals['% change emissions'])"
     ],
     "language": "python",
     "metadata": {},
     "outputs": [
      {
       "metadata": {},
       "output_type": "pyout",
       "prompt_number": 76,
       "text": [
        "(-0.77369590048001746, 0.45039170294514297)"
       ]
      }
     ],
     "prompt_number": 76
    },
    {
     "cell_type": "code",
     "collapsed": false,
     "input": [
      "ttest_ind(have_goals['% change intensity'],no_goals['% change intensity'])"
     ],
     "language": "python",
     "metadata": {},
     "outputs": [
      {
       "metadata": {},
       "output_type": "pyout",
       "prompt_number": 77,
       "text": [
        "(-0.83333487958988717, 0.41692308306003345)"
       ]
      }
     ],
     "prompt_number": 77
    },
    {
     "cell_type": "code",
     "collapsed": false,
     "input": [
      "pe_x = np.linspace(-1.5,1.5,100)\n",
      "hg_pe = mlab.normpdf(pe_x,hg_ave_1,hg_std_1)\n",
      "ng_pe = mlab.normpdf(pe_x,ng_ave_1,ng_std_1)"
     ],
     "language": "python",
     "metadata": {},
     "outputs": [],
     "prompt_number": 78
    },
    {
     "cell_type": "code",
     "collapsed": false,
     "input": [
      "hist(no_goals['% change emissions'].values)"
     ],
     "language": "python",
     "metadata": {},
     "outputs": [
      {
       "ename": "TypeError",
       "evalue": "'tuple' object is not callable",
       "output_type": "pyerr",
       "traceback": [
        "\u001b[1;31m---------------------------------------------------------------------------\u001b[0m\n\u001b[1;31mTypeError\u001b[0m                                 Traceback (most recent call last)",
        "\u001b[1;32m<ipython-input-114-50f00b402bf5>\u001b[0m in \u001b[0;36m<module>\u001b[1;34m()\u001b[0m\n\u001b[1;32m----> 1\u001b[1;33m \u001b[0mhist\u001b[0m\u001b[1;33m(\u001b[0m\u001b[0mno_goals\u001b[0m\u001b[1;33m[\u001b[0m\u001b[1;34m'% change emissions'\u001b[0m\u001b[1;33m]\u001b[0m\u001b[1;33m.\u001b[0m\u001b[0mvalues\u001b[0m\u001b[1;33m)\u001b[0m\u001b[1;33m\u001b[0m\u001b[0m\n\u001b[0m",
        "\u001b[1;31mTypeError\u001b[0m: 'tuple' object is not callable"
       ]
      }
     ],
     "prompt_number": 114
    },
    {
     "cell_type": "code",
     "collapsed": false,
     "input": [
      "ppl.plot(pe_x,ng_pe, linewidth = 3.0, color=set2[1])\n",
      "ppl.fill_between(pe_x,0,hg_pe,where=pe_x>-0.052, color=set2[0])\n",
      "ppl.fill_between(pe_x,0,ng_pe,where=pe_x>0.096, color=set2[1])\n",
      "ppl.plot(pe_x,hg_pe, linewidth = 3.0, color=set2[0])"
     ],
     "language": "python",
     "metadata": {},
     "outputs": [
      {
       "metadata": {},
       "output_type": "pyout",
       "prompt_number": 117,
       "text": [
        "[<matplotlib.lines.Line2D at 0x7f14c06c08d0>]"
       ]
      },
      {
       "metadata": {},
       "output_type": "display_data",
       "png": "[encoded data removed]",
       "text": [
        "<matplotlib.figure.Figure at 0x7f14c0730e50>"
       ]
      }
     ],
     "prompt_number": 117
    },
    {
     "cell_type": "code",
     "collapsed": false,
     "input": [
      "pi_x = np.linspace(-1.5,1.5,100)\n",
      "hg_pi = mlab.normpdf(pi_x,hg_ave_2,hg_std_2)\n",
      "ng_pi = mlab.normpdf(pi_x,ng_ave_2,ng_std_2)"
     ],
     "language": "python",
     "metadata": {},
     "outputs": [],
     "prompt_number": 68
    },
    {
     "cell_type": "code",
     "collapsed": false,
     "input": [
      "ppl.plot(pi_x,hg_pi, linewidth = 3.0)\n",
      "ppl.plot(pi_x,ng_pi, linewidth = 3.0)\n",
      "ppl.fill_between(pi_x,0,ng_pi,where=pi_x>-0.0112, color=set2[1])\n",
      "ppl.fill_between(pi_x,0,hg_pi,where=pi_x>-0.146, color=set2[0])"
     ],
     "language": "python",
     "metadata": {},
     "outputs": [
      {
       "metadata": {},
       "output_type": "pyout",
       "prompt_number": 98,
       "text": [
        "<matplotlib.axes._subplots.AxesSubplot at 0x7f14c12bd890>"
       ]
      },
      {
       "metadata": {},
       "output_type": "display_data",
       "png": "[encoded data removed]",
       "text": [
        "<matplotlib.figure.Figure at 0x7f14c12ea4d0>"
       ]
      }
     ],
     "prompt_number": 98
    },
    {
     "cell_type": "code",
     "collapsed": false,
     "input": [],
     "language": "python",
     "metadata": {},
     "outputs": []
    }
   ],
   "metadata": {}
  }
 ]
}