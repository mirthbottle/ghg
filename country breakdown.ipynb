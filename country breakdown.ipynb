{
 "metadata": {
  "name": "",
  "signature": "sha256:3f5e0223aaa65c8c0d78c8db69248a7333507d002ecbacfe1ce144b970b66133"
 },
 "nbformat": 3,
 "nbformat_minor": 0,
 "worksheets": [
  {
   "cells": [
    {
     "cell_type": "code",
     "collapsed": false,
     "input": [
      "import pandas as pd"
     ],
     "language": "python",
     "metadata": {},
     "outputs": [],
     "prompt_number": 1
    },
    {
     "cell_type": "code",
     "collapsed": false,
     "input": [
      "import ghgmosh as gm"
     ],
     "language": "python",
     "metadata": {},
     "outputs": [],
     "prompt_number": 22
    },
    {
     "cell_type": "code",
     "collapsed": false,
     "input": [
      "p = pd.read_pickle(\"../CDPdata/sheet43_2014.pkl\")"
     ],
     "language": "python",
     "metadata": {},
     "outputs": [],
     "prompt_number": 2
    },
    {
     "cell_type": "code",
     "collapsed": false,
     "input": [
      "p[p.columns[1:5]].head()"
     ],
     "language": "python",
     "metadata": {},
     "outputs": [
      {
       "html": [
        "<div style=\"max-height:1000px;max-width:1500px;overflow:auto;\">\n",
        "<table border=\"1\" class=\"dataframe\">\n",
        "  <thead>\n",
        "    <tr style=\"text-align: right;\">\n",
        "      <th></th>\n",
        "      <th>Account No</th>\n",
        "      <th>Country</th>\n",
        "      <th>GICS Sector</th>\n",
        "      <th>GICS Industry Group</th>\n",
        "    </tr>\n",
        "  </thead>\n",
        "  <tbody>\n",
        "    <tr>\n",
        "      <th>0</th>\n",
        "      <td> 20309</td>\n",
        "      <td> Germany</td>\n",
        "      <td> Consumer Discretionary</td>\n",
        "      <td> Automobiles &amp; Components</td>\n",
        "    </tr>\n",
        "    <tr>\n",
        "      <th>1</th>\n",
        "      <td> 20309</td>\n",
        "      <td> Germany</td>\n",
        "      <td> Consumer Discretionary</td>\n",
        "      <td> Automobiles &amp; Components</td>\n",
        "    </tr>\n",
        "    <tr>\n",
        "      <th>2</th>\n",
        "      <td> 20309</td>\n",
        "      <td> Germany</td>\n",
        "      <td> Consumer Discretionary</td>\n",
        "      <td> Automobiles &amp; Components</td>\n",
        "    </tr>\n",
        "    <tr>\n",
        "      <th>3</th>\n",
        "      <td> 20309</td>\n",
        "      <td> Germany</td>\n",
        "      <td> Consumer Discretionary</td>\n",
        "      <td> Automobiles &amp; Components</td>\n",
        "    </tr>\n",
        "    <tr>\n",
        "      <th>4</th>\n",
        "      <td> 20309</td>\n",
        "      <td> Germany</td>\n",
        "      <td> Consumer Discretionary</td>\n",
        "      <td> Automobiles &amp; Components</td>\n",
        "    </tr>\n",
        "  </tbody>\n",
        "</table>\n",
        "</div>"
       ],
       "metadata": {},
       "output_type": "pyout",
       "prompt_number": 5,
       "text": [
        "   Account No  Country             GICS Sector       GICS Industry Group\n",
        "0       20309  Germany  Consumer Discretionary  Automobiles & Components\n",
        "1       20309  Germany  Consumer Discretionary  Automobiles & Components\n",
        "2       20309  Germany  Consumer Discretionary  Automobiles & Components\n",
        "3       20309  Germany  Consumer Discretionary  Automobiles & Components\n",
        "4       20309  Germany  Consumer Discretionary  Automobiles & Components"
       ]
      }
     ],
     "prompt_number": 5
    },
    {
     "cell_type": "code",
     "collapsed": false,
     "input": [
      "# groupby country and subcountry\n",
      "q = p.rename(columns={p.columns[2]:\"Headquarter Country\", p.columns[16]:\"Source Country\", p.columns[17]:\"Scope 1\"})"
     ],
     "language": "python",
     "metadata": {},
     "outputs": [],
     "prompt_number": 12
    },
    {
     "cell_type": "code",
     "collapsed": false,
     "input": [
      "country_g = q.groupby([\"Headquarter Country\", \"Source Country\"])"
     ],
     "language": "python",
     "metadata": {},
     "outputs": [],
     "prompt_number": 13
    },
    {
     "cell_type": "code",
     "collapsed": false,
     "input": [
      "t = country_g.sum()/1000000\n",
      "country_gs = t[[\"Scope 1\"]]"
     ],
     "language": "python",
     "metadata": {},
     "outputs": [],
     "prompt_number": 20
    },
    {
     "cell_type": "code",
     "collapsed": false,
     "input": [
      "country_gs.head()"
     ],
     "language": "python",
     "metadata": {},
     "outputs": [
      {
       "html": [
        "<div style=\"max-height:1000px;max-width:1500px;overflow:auto;\">\n",
        "<table border=\"1\" class=\"dataframe\">\n",
        "  <thead>\n",
        "    <tr style=\"text-align: right;\">\n",
        "      <th></th>\n",
        "      <th></th>\n",
        "      <th>Scope 1</th>\n",
        "    </tr>\n",
        "    <tr>\n",
        "      <th>Headquarter Country</th>\n",
        "      <th>Source Country</th>\n",
        "      <th></th>\n",
        "    </tr>\n",
        "  </thead>\n",
        "  <tbody>\n",
        "    <tr>\n",
        "      <th rowspan=\"5\" valign=\"top\">Australia</th>\n",
        "      <th>Argentina</th>\n",
        "      <td>  0.002830</td>\n",
        "    </tr>\n",
        "    <tr>\n",
        "      <th>Asia Pacific (or JAPA)</th>\n",
        "      <td>  0.320493</td>\n",
        "    </tr>\n",
        "    <tr>\n",
        "      <th>Australia</th>\n",
        "      <td> 34.549437</td>\n",
        "    </tr>\n",
        "    <tr>\n",
        "      <th>Bangladesh</th>\n",
        "      <td>  0.010558</td>\n",
        "    </tr>\n",
        "    <tr>\n",
        "      <th>Belgium</th>\n",
        "      <td>  0.015534</td>\n",
        "    </tr>\n",
        "  </tbody>\n",
        "</table>\n",
        "</div>"
       ],
       "metadata": {},
       "output_type": "pyout",
       "prompt_number": 21,
       "text": [
        "                                              Scope 1\n",
        "Headquarter Country Source Country                   \n",
        "Australia           Argentina                0.002830\n",
        "                    Asia Pacific (or JAPA)   0.320493\n",
        "                    Australia               34.549437\n",
        "                    Bangladesh               0.010558\n",
        "                    Belgium                  0.015534"
       ]
      }
     ],
     "prompt_number": 21
    },
    {
     "cell_type": "code",
     "collapsed": false,
     "input": [
      "gm.write_json(country_gs, \"country_source_breakdown.json\")"
     ],
     "language": "python",
     "metadata": {},
     "outputs": [
      {
       "ename": "UnicodeEncodeError",
       "evalue": "'ascii' codec can't encode character u'\\xe9' in position 1: ordinal not in range(128)",
       "output_type": "pyerr",
       "traceback": [
        "\u001b[1;31m---------------------------------------------------------------------------\u001b[0m\n\u001b[1;31mUnicodeEncodeError\u001b[0m                        Traceback (most recent call last)",
        "\u001b[1;32m<ipython-input-23-a0fa5922fcff>\u001b[0m in \u001b[0;36m<module>\u001b[1;34m()\u001b[0m\n\u001b[1;32m----> 1\u001b[1;33m \u001b[0mgm\u001b[0m\u001b[1;33m.\u001b[0m\u001b[0mwrite_json\u001b[0m\u001b[1;33m(\u001b[0m\u001b[0mcountry_gs\u001b[0m\u001b[1;33m,\u001b[0m \u001b[1;34m\"country_source_breakdown.json\"\u001b[0m\u001b[1;33m)\u001b[0m\u001b[1;33m\u001b[0m\u001b[0m\n\u001b[0m",
        "\u001b[1;32m/home/mirthbottle/ghg/ghgmosh.py\u001b[0m in \u001b[0;36mwrite_json\u001b[1;34m(p, filename)\u001b[0m\n\u001b[0;32m     26\u001b[0m         \u001b[1;32mfor\u001b[0m \u001b[0mi2\u001b[0m \u001b[1;32min\u001b[0m \u001b[0mindex2s\u001b[0m\u001b[1;33m:\u001b[0m\u001b[1;33m\u001b[0m\u001b[0m\n\u001b[0;32m     27\u001b[0m             \u001b[0ms\u001b[0m \u001b[1;33m=\u001b[0m \u001b[0mround\u001b[0m\u001b[1;33m(\u001b[0m\u001b[0mgroup\u001b[0m\u001b[1;33m.\u001b[0m\u001b[0mloc\u001b[0m\u001b[1;33m[\u001b[0m\u001b[0mi2\u001b[0m\u001b[1;33m]\u001b[0m\u001b[1;33m.\u001b[0m\u001b[0mvalues\u001b[0m\u001b[1;33m[\u001b[0m\u001b[1;36m0\u001b[0m\u001b[1;33m]\u001b[0m\u001b[1;33m,\u001b[0m \u001b[1;36m3\u001b[0m\u001b[1;33m)\u001b[0m\u001b[1;33m\u001b[0m\u001b[0m\n\u001b[1;32m---> 28\u001b[1;33m             \u001b[0mchild2\u001b[0m \u001b[1;33m=\u001b[0m \u001b[1;33m{\u001b[0m\u001b[1;34m\"name\"\u001b[0m\u001b[1;33m:\u001b[0m \u001b[0mstr\u001b[0m\u001b[1;33m(\u001b[0m\u001b[0mi2\u001b[0m\u001b[1;33m)\u001b[0m\u001b[1;33m,\u001b[0m \u001b[1;34m\"size\"\u001b[0m\u001b[1;33m:\u001b[0m \u001b[0ms\u001b[0m\u001b[1;33m}\u001b[0m\u001b[1;33m\u001b[0m\u001b[0m\n\u001b[0m\u001b[0;32m     29\u001b[0m             \u001b[0mchild1\u001b[0m\u001b[1;33m[\u001b[0m\u001b[1;34m\"children\"\u001b[0m\u001b[1;33m]\u001b[0m\u001b[1;33m.\u001b[0m\u001b[0mappend\u001b[0m\u001b[1;33m(\u001b[0m\u001b[0mchild2\u001b[0m\u001b[1;33m)\u001b[0m\u001b[1;33m\u001b[0m\u001b[0m\n\u001b[0;32m     30\u001b[0m         \u001b[0mdata\u001b[0m\u001b[1;33m[\u001b[0m\u001b[1;34m\"children\"\u001b[0m\u001b[1;33m]\u001b[0m\u001b[1;33m.\u001b[0m\u001b[0mappend\u001b[0m\u001b[1;33m(\u001b[0m\u001b[0mchild1\u001b[0m\u001b[1;33m)\u001b[0m\u001b[1;33m\u001b[0m\u001b[0m\n",
        "\u001b[1;31mUnicodeEncodeError\u001b[0m: 'ascii' codec can't encode character u'\\xe9' in position 1: ordinal not in range(128)"
       ]
      }
     ],
     "prompt_number": 23
    },
    {
     "cell_type": "code",
     "collapsed": false,
     "input": [],
     "language": "python",
     "metadata": {},
     "outputs": []
    }
   ],
   "metadata": {}
  }
 ]
}