{
 "cells": [
  {
   "cell_type": "code",
   "execution_count": 98,
   "metadata": {},
   "outputs": [],
   "source": [
    "import pandas as pd\n",
    "import json\n",
    "import cait_datamosh as cait"
   ]
  },
  {
   "cell_type": "code",
   "execution_count": 28,
   "metadata": {},
   "outputs": [],
   "source": [
    "%load_ext autoreload\n",
    "%autoreload 2"
   ]
  },
  {
   "cell_type": "code",
   "execution_count": 2,
   "metadata": {},
   "outputs": [],
   "source": [
    "edata = pd.read_excel(\"../input/CAIT_Country_GHG_Emissions_-_All_Data-10022017.xlsx\",sheet_name=\"GHG Emissions\", header=[0,1], index_col=[0,1])"
   ]
  },
  {
   "cell_type": "code",
   "execution_count": 6,
   "metadata": {},
   "outputs": [
    {
     "data": {
      "text/html": [
       "<div>\n",
       "<style scoped>\n",
       "    .dataframe tbody tr th:only-of-type {\n",
       "        vertical-align: middle;\n",
       "    }\n",
       "\n",
       "    .dataframe tbody tr th {\n",
       "        vertical-align: top;\n",
       "    }\n",
       "\n",
       "    .dataframe thead tr th {\n",
       "        text-align: left;\n",
       "    }\n",
       "</style>\n",
       "<table border=\"1\" class=\"dataframe\">\n",
       "  <thead>\n",
       "    <tr>\n",
       "      <th></th>\n",
       "      <th></th>\n",
       "      <th colspan=\"2\" halign=\"left\">Emissions Totals</th>\n",
       "      <th colspan=\"4\" halign=\"left\">Emissions by Gas Excluding LUCF</th>\n",
       "      <th colspan=\"3\" halign=\"left\">Emissions by Gas Including LUCF</th>\n",
       "      <th colspan=\"6\" halign=\"left\">Emissions by Sector</th>\n",
       "      <th colspan=\"5\" halign=\"left\">Energy Emissions by Sub-Sector</th>\n",
       "    </tr>\n",
       "    <tr>\n",
       "      <th></th>\n",
       "      <th>Year</th>\n",
       "      <th>Total GHG Emissions Excluding Land-Use Change and Forestry (MtCO2e)</th>\n",
       "      <th>Total GHG Emissions Including Land-Use Change and Forestry (MtCO₂e‍)</th>\n",
       "      <th>Total CO2 (excluding Land-Use Change and Forestry) (MtCO2)</th>\n",
       "      <th>Total CH4 (MtCO2e)</th>\n",
       "      <th>Total N2O (MtCO2e)</th>\n",
       "      <th>Total F-Gas (MtCO2e)</th>\n",
       "      <th>Total CO2 (including Land-Use Change and Forestry) (MtCO2)</th>\n",
       "      <th>Total CH4 (including Land-Use Change and Forestry) (MtCO2e)</th>\n",
       "      <th>Total N2O (including Land-Use Change and Forestry) (MtCO2e)</th>\n",
       "      <th>Energy (MtCO2e)</th>\n",
       "      <th>Industrial Processes (MtCO2e)</th>\n",
       "      <th>Agriculture (MtCO2e)</th>\n",
       "      <th>Waste (MtCO2e)</th>\n",
       "      <th>Land-Use Change and Forestry (MtCO2)</th>\n",
       "      <th>Bunker Fuels (MtCO2)</th>\n",
       "      <th>Electricity/Heat (MtCO2)</th>\n",
       "      <th>Manufacturing/Construction (MtCO2)</th>\n",
       "      <th>Transportation (MtCO2)</th>\n",
       "      <th>Other Fuel Combustion (MtCO2e)</th>\n",
       "      <th>Fugitive Emissions (MtCO2e)</th>\n",
       "    </tr>\n",
       "  </thead>\n",
       "  <tbody>\n",
       "    <tr>\n",
       "      <th rowspan=\"5\" valign=\"top\">Afghanistan</th>\n",
       "      <th>1990</th>\n",
       "      <td>15.212848</td>\n",
       "      <td>15.212848</td>\n",
       "      <td>2.915024</td>\n",
       "      <td>9.311589</td>\n",
       "      <td>2.984055</td>\n",
       "      <td>0.002180</td>\n",
       "      <td>2.915024</td>\n",
       "      <td>9.311589</td>\n",
       "      <td>2.984055</td>\n",
       "      <td>3.774044</td>\n",
       "      <td>0.057140</td>\n",
       "      <td>7.342710</td>\n",
       "      <td>4.038954</td>\n",
       "      <td>0.0</td>\n",
       "      <td>NaN</td>\n",
       "      <td>NaN</td>\n",
       "      <td>NaN</td>\n",
       "      <td>NaN</td>\n",
       "      <td>NaN</td>\n",
       "      <td>1.242220</td>\n",
       "    </tr>\n",
       "    <tr>\n",
       "      <th>1991</th>\n",
       "      <td>15.286439</td>\n",
       "      <td>15.286439</td>\n",
       "      <td>2.684445</td>\n",
       "      <td>9.516187</td>\n",
       "      <td>3.082194</td>\n",
       "      <td>0.003613</td>\n",
       "      <td>2.684445</td>\n",
       "      <td>9.516187</td>\n",
       "      <td>3.082194</td>\n",
       "      <td>3.376803</td>\n",
       "      <td>0.058573</td>\n",
       "      <td>7.631027</td>\n",
       "      <td>4.220036</td>\n",
       "      <td>0.0</td>\n",
       "      <td>NaN</td>\n",
       "      <td>NaN</td>\n",
       "      <td>NaN</td>\n",
       "      <td>NaN</td>\n",
       "      <td>NaN</td>\n",
       "      <td>1.020851</td>\n",
       "    </tr>\n",
       "    <tr>\n",
       "      <th>1992</th>\n",
       "      <td>14.010531</td>\n",
       "      <td>14.010531</td>\n",
       "      <td>1.392269</td>\n",
       "      <td>9.571483</td>\n",
       "      <td>3.041733</td>\n",
       "      <td>0.005046</td>\n",
       "      <td>1.392269</td>\n",
       "      <td>9.571483</td>\n",
       "      <td>3.041733</td>\n",
       "      <td>1.914300</td>\n",
       "      <td>0.063670</td>\n",
       "      <td>7.631443</td>\n",
       "      <td>4.401118</td>\n",
       "      <td>0.0</td>\n",
       "      <td>NaN</td>\n",
       "      <td>NaN</td>\n",
       "      <td>NaN</td>\n",
       "      <td>NaN</td>\n",
       "      <td>NaN</td>\n",
       "      <td>0.602588</td>\n",
       "    </tr>\n",
       "    <tr>\n",
       "      <th>1993</th>\n",
       "      <td>14.028118</td>\n",
       "      <td>14.028118</td>\n",
       "      <td>1.322704</td>\n",
       "      <td>9.609869</td>\n",
       "      <td>3.089066</td>\n",
       "      <td>0.006479</td>\n",
       "      <td>1.322704</td>\n",
       "      <td>9.609869</td>\n",
       "      <td>3.089066</td>\n",
       "      <td>1.678073</td>\n",
       "      <td>0.065103</td>\n",
       "      <td>7.702742</td>\n",
       "      <td>4.582200</td>\n",
       "      <td>0.0</td>\n",
       "      <td>NaN</td>\n",
       "      <td>NaN</td>\n",
       "      <td>NaN</td>\n",
       "      <td>NaN</td>\n",
       "      <td>NaN</td>\n",
       "      <td>0.413993</td>\n",
       "    </tr>\n",
       "    <tr>\n",
       "      <th>1994</th>\n",
       "      <td>13.985408</td>\n",
       "      <td>13.985408</td>\n",
       "      <td>1.267744</td>\n",
       "      <td>9.789039</td>\n",
       "      <td>2.920713</td>\n",
       "      <td>0.007912</td>\n",
       "      <td>1.267744</td>\n",
       "      <td>9.789039</td>\n",
       "      <td>2.920713</td>\n",
       "      <td>1.456451</td>\n",
       "      <td>0.066536</td>\n",
       "      <td>7.699139</td>\n",
       "      <td>4.763283</td>\n",
       "      <td>0.0</td>\n",
       "      <td>NaN</td>\n",
       "      <td>NaN</td>\n",
       "      <td>NaN</td>\n",
       "      <td>NaN</td>\n",
       "      <td>NaN</td>\n",
       "      <td>0.247331</td>\n",
       "    </tr>\n",
       "  </tbody>\n",
       "</table>\n",
       "</div>"
      ],
      "text/plain": [
       "                                                                    Emissions Totals  \\\n",
       "Year             Total GHG Emissions Excluding Land-Use Change and Forestry (MtCO2e)   \n",
       "Afghanistan 1990                                          15.212848                    \n",
       "            1991                                          15.286439                    \n",
       "            1992                                          14.010531                    \n",
       "            1993                                          14.028118                    \n",
       "            1994                                          13.985408                    \n",
       "\n",
       "                                                                                       \\\n",
       "Year             Total GHG Emissions Including Land-Use Change and Forestry (MtCO₂e‍)   \n",
       "Afghanistan 1990                                          15.212848                     \n",
       "            1991                                          15.286439                     \n",
       "            1992                                          14.010531                     \n",
       "            1993                                          14.028118                     \n",
       "            1994                                          13.985408                     \n",
       "\n",
       "                                            Emissions by Gas Excluding LUCF  \\\n",
       "Year             Total CO2 (excluding Land-Use Change and Forestry) (MtCO2)   \n",
       "Afghanistan 1990                                           2.915024           \n",
       "            1991                                           2.684445           \n",
       "            1992                                           1.392269           \n",
       "            1993                                           1.322704           \n",
       "            1994                                           1.267744           \n",
       "\n",
       "                                                                             \\\n",
       "Year             Total CH4 (MtCO2e) Total N2O (MtCO2e) Total F-Gas (MtCO2e)   \n",
       "Afghanistan 1990           9.311589           2.984055             0.002180   \n",
       "            1991           9.516187           3.082194             0.003613   \n",
       "            1992           9.571483           3.041733             0.005046   \n",
       "            1993           9.609869           3.089066             0.006479   \n",
       "            1994           9.789039           2.920713             0.007912   \n",
       "\n",
       "                                            Emissions by Gas Including LUCF  \\\n",
       "Year             Total CO2 (including Land-Use Change and Forestry) (MtCO2)   \n",
       "Afghanistan 1990                                           2.915024           \n",
       "            1991                                           2.684445           \n",
       "            1992                                           1.392269           \n",
       "            1993                                           1.322704           \n",
       "            1994                                           1.267744           \n",
       "\n",
       "                                                                              \\\n",
       "Year             Total CH4 (including Land-Use Change and Forestry) (MtCO2e)   \n",
       "Afghanistan 1990                                           9.311589            \n",
       "            1991                                           9.516187            \n",
       "            1992                                           9.571483            \n",
       "            1993                                           9.609869            \n",
       "            1994                                           9.789039            \n",
       "\n",
       "                                                                              \\\n",
       "Year             Total N2O (including Land-Use Change and Forestry) (MtCO2e)   \n",
       "Afghanistan 1990                                           2.984055            \n",
       "            1991                                           3.082194            \n",
       "            1992                                           3.041733            \n",
       "            1993                                           3.089066            \n",
       "            1994                                           2.920713            \n",
       "\n",
       "                 Emissions by Sector                                \\\n",
       "Year                 Energy (MtCO2e) Industrial Processes (MtCO2e)   \n",
       "Afghanistan 1990            3.774044                      0.057140   \n",
       "            1991            3.376803                      0.058573   \n",
       "            1992            1.914300                      0.063670   \n",
       "            1993            1.678073                      0.065103   \n",
       "            1994            1.456451                      0.066536   \n",
       "\n",
       "                                                      \\\n",
       "Year             Agriculture (MtCO2e) Waste (MtCO2e)   \n",
       "Afghanistan 1990             7.342710       4.038954   \n",
       "            1991             7.631027       4.220036   \n",
       "            1992             7.631443       4.401118   \n",
       "            1993             7.702742       4.582200   \n",
       "            1994             7.699139       4.763283   \n",
       "\n",
       "                                                                            \\\n",
       "Year             Land-Use Change and Forestry (MtCO2) Bunker Fuels (MtCO2)   \n",
       "Afghanistan 1990                                  0.0                  NaN   \n",
       "            1991                                  0.0                  NaN   \n",
       "            1992                                  0.0                  NaN   \n",
       "            1993                                  0.0                  NaN   \n",
       "            1994                                  0.0                  NaN   \n",
       "\n",
       "                 Energy Emissions by Sub-Sector  \\\n",
       "Year                   Electricity/Heat (MtCO2)   \n",
       "Afghanistan 1990                            NaN   \n",
       "            1991                            NaN   \n",
       "            1992                            NaN   \n",
       "            1993                            NaN   \n",
       "            1994                            NaN   \n",
       "\n",
       "                                                                            \\\n",
       "Year             Manufacturing/Construction (MtCO2) Transportation (MtCO2)   \n",
       "Afghanistan 1990                                NaN                    NaN   \n",
       "            1991                                NaN                    NaN   \n",
       "            1992                                NaN                    NaN   \n",
       "            1993                                NaN                    NaN   \n",
       "            1994                                NaN                    NaN   \n",
       "\n",
       "                                                                             \n",
       "Year             Other Fuel Combustion (MtCO2e) Fugitive Emissions (MtCO2e)  \n",
       "Afghanistan 1990                            NaN                    1.242220  \n",
       "            1991                            NaN                    1.020851  \n",
       "            1992                            NaN                    0.602588  \n",
       "            1993                            NaN                    0.413993  \n",
       "            1994                            NaN                    0.247331  "
      ]
     },
     "execution_count": 6,
     "metadata": {},
     "output_type": "execute_result"
    }
   ],
   "source": [
    "edata.head()"
   ]
  },
  {
   "cell_type": "code",
   "execution_count": 11,
   "metadata": {},
   "outputs": [
    {
     "data": {
      "text/plain": [
       "11013.03442627012"
      ]
     },
     "execution_count": 11,
     "metadata": {},
     "output_type": "execute_result"
    }
   ],
   "source": [
    "total = edata.loc[\"China\", 2011][\"Emissions by Gas Excluding LUCF\"].sum()"
   ]
  },
  {
   "cell_type": "markdown",
   "metadata": {},
   "source": [
    "# validate column totals"
   ]
  },
  {
   "cell_type": "code",
   "execution_count": 65,
   "metadata": {},
   "outputs": [],
   "source": [
    "cdata = edata.loc[\"China\", 2011]"
   ]
  },
  {
   "cell_type": "code",
   "execution_count": 69,
   "metadata": {},
   "outputs": [
    {
     "data": {
      "text/plain": [
       "                     Year                         \n",
       "Emissions by Sector  Energy (MtCO2e)                  8902.470680\n",
       "                     Industrial Processes (MtCO2e)    1221.234311\n",
       "                     Agriculture (MtCO2e)              692.650802\n",
       "                     Waste (MtCO2e)                    196.678633\n",
       "Name: (China, 2011), dtype: float64"
      ]
     },
     "execution_count": 69,
     "metadata": {},
     "output_type": "execute_result"
    }
   ],
   "source": [
    "cdata.loc[\"Emissions by Sector\", sectors]"
   ]
  },
  {
   "cell_type": "code",
   "execution_count": 89,
   "metadata": {},
   "outputs": [
    {
     "data": {
      "text/plain": [
       "8902.470679595655"
      ]
     },
     "execution_count": 89,
     "metadata": {},
     "output_type": "execute_result"
    }
   ],
   "source": [
    "cdata[\"Emissions by Sector\"][\"Energy (MtCO2e)\"]"
   ]
  },
  {
   "cell_type": "code",
   "execution_count": 97,
   "metadata": {},
   "outputs": [
    {
     "data": {
      "text/plain": [
       "                                Year                              \n",
       "Energy Emissions by Sub-Sector  Electricity/Heat (MtCO2)              4434.890000\n",
       "                                Manufacturing/Construction (MtCO2)    2789.820000\n",
       "                                Transportation (MtCO2)                 634.610000\n",
       "                                Other Fuel Combustion (MtCO2e)         738.338186\n",
       "                                Fugitive Emissions (MtCO2e)            304.812494\n",
       "Name: (China, 2011), dtype: float64"
      ]
     },
     "execution_count": 97,
     "metadata": {},
     "output_type": "execute_result"
    }
   ],
   "source": [
    "cdata.loc[\"Energy Emissions by Sub-Sector\",list(e_subsectors)]"
   ]
  },
  {
   "cell_type": "code",
   "execution_count": 96,
   "metadata": {},
   "outputs": [],
   "source": [
    "sector_names = {\n",
    "    \"Energy (MtCO2e)\":\"energy\", \"Industrial Processes (MtCO2e)\": \"industrial processes\", \"Agriculture (MtCO2e)\": \"agriculture\", \n",
    "    \"Waste (MtCO2e)\": 'waste'}\n",
    "\n",
    "e_subsectors = {\n",
    "    \"Electricity/Heat (MtCO2)\": \"electricity\", \"Manufacturing/Construction (MtCO2)\": \"manufacturing\", \n",
    "    \"Transportation (MtCO2)\": \"transportation\", \"Other Fuel Combustion (MtCO2e)\": \"other fuels\", \n",
    "    \"Fugitive Emissions (MtCO2e)\": \"fugitive\"}"
   ]
  },
  {
   "cell_type": "markdown",
   "metadata": {},
   "source": [
    "# get year data"
   ]
  },
  {
   "cell_type": "code",
   "execution_count": 43,
   "metadata": {},
   "outputs": [],
   "source": [
    "# no index\n",
    "edata_ni = edata.reset_index().rename(columns={\"level_0\": \"country\", \"level_1\": \"year\"})"
   ]
  },
  {
   "cell_type": "code",
   "execution_count": 44,
   "metadata": {},
   "outputs": [],
   "source": [
    "cdata_yr = edata_ni.loc[edata_ni[\"year\"]==2011]"
   ]
  },
  {
   "cell_type": "code",
   "execution_count": 50,
   "metadata": {},
   "outputs": [],
   "source": [
    "colname = \"Total GHG Emissions Excluding Land-Use Change and Forestry (MtCO2e)\"\n",
    "cdata_yr.loc[:,colname] = cdata_yr[\"Emissions Totals\"][colname]\n",
    "\n",
    "cdata_yr = cdata_yr.sort_values(by=colname, ascending=False)"
   ]
  },
  {
   "cell_type": "code",
   "execution_count": 57,
   "metadata": {},
   "outputs": [],
   "source": [
    "worldghg = cdata_yr.loc[cdata_yr[\"country\"] == \"World\"].copy()"
   ]
  },
  {
   "cell_type": "code",
   "execution_count": 59,
   "metadata": {},
   "outputs": [],
   "source": [
    "cdata_yr = cdata_yr.loc[~cdata_yr[\"country\"].isin([\"World\", \"European Union (28)\"])]"
   ]
  },
  {
   "cell_type": "code",
   "execution_count": 62,
   "metadata": {},
   "outputs": [],
   "source": [
    "top9ghg = cdata_yr.head(9)"
   ]
  },
  {
   "cell_type": "code",
   "execution_count": 63,
   "metadata": {},
   "outputs": [],
   "source": [
    "top9ghg.to_excel(\"../output/top9_ghg2011.xlsx\", encoding=\"utf8\")"
   ]
  },
  {
   "cell_type": "markdown",
   "metadata": {},
   "source": [
    "# format top 9 for chart"
   ]
  },
  {
   "cell_type": "code",
   "execution_count": 110,
   "metadata": {},
   "outputs": [
    {
     "data": {
      "text/html": [
       "<div>\n",
       "<style scoped>\n",
       "    .dataframe tbody tr th:only-of-type {\n",
       "        vertical-align: middle;\n",
       "    }\n",
       "\n",
       "    .dataframe tbody tr th {\n",
       "        vertical-align: top;\n",
       "    }\n",
       "\n",
       "    .dataframe thead th {\n",
       "        text-align: right;\n",
       "    }\n",
       "</style>\n",
       "<table border=\"1\" class=\"dataframe\">\n",
       "  <thead>\n",
       "    <tr style=\"text-align: right;\">\n",
       "      <th>Year</th>\n",
       "      <th>Energy (MtCO2e)</th>\n",
       "      <th>Industrial Processes (MtCO2e)</th>\n",
       "      <th>Agriculture (MtCO2e)</th>\n",
       "      <th>Waste (MtCO2e)</th>\n",
       "    </tr>\n",
       "  </thead>\n",
       "  <tbody>\n",
       "    <tr>\n",
       "      <th>896</th>\n",
       "      <td>8902.470680</td>\n",
       "      <td>1221.234311</td>\n",
       "      <td>692.650802</td>\n",
       "      <td>196.678633</td>\n",
       "    </tr>\n",
       "    <tr>\n",
       "      <th>4596</th>\n",
       "      <td>5594.713254</td>\n",
       "      <td>243.943747</td>\n",
       "      <td>352.796457</td>\n",
       "      <td>163.093757</td>\n",
       "    </tr>\n",
       "    <tr>\n",
       "      <th>1946</th>\n",
       "      <td>1842.039917</td>\n",
       "      <td>166.631655</td>\n",
       "      <td>632.485143</td>\n",
       "      <td>58.722269</td>\n",
       "    </tr>\n",
       "    <tr>\n",
       "      <th>3596</th>\n",
       "      <td>2028.660092</td>\n",
       "      <td>67.195043</td>\n",
       "      <td>91.713519</td>\n",
       "      <td>72.617637</td>\n",
       "    </tr>\n",
       "    <tr>\n",
       "      <th>2146</th>\n",
       "      <td>1176.437878</td>\n",
       "      <td>79.238405</td>\n",
       "      <td>20.856593</td>\n",
       "      <td>4.578047</td>\n",
       "    </tr>\n",
       "    <tr>\n",
       "      <th>596</th>\n",
       "      <td>418.930815</td>\n",
       "      <td>50.019669</td>\n",
       "      <td>441.820338</td>\n",
       "      <td>44.053655</td>\n",
       "    </tr>\n",
       "    <tr>\n",
       "      <th>1646</th>\n",
       "      <td>753.378150</td>\n",
       "      <td>42.761224</td>\n",
       "      <td>58.170889</td>\n",
       "      <td>9.945956</td>\n",
       "    </tr>\n",
       "    <tr>\n",
       "      <th>2846</th>\n",
       "      <td>511.384427</td>\n",
       "      <td>38.735890</td>\n",
       "      <td>84.009303</td>\n",
       "      <td>108.015259</td>\n",
       "    </tr>\n",
       "    <tr>\n",
       "      <th>1971</th>\n",
       "      <td>468.235455</td>\n",
       "      <td>24.468759</td>\n",
       "      <td>158.891738</td>\n",
       "      <td>63.277411</td>\n",
       "    </tr>\n",
       "  </tbody>\n",
       "</table>\n",
       "</div>"
      ],
      "text/plain": [
       "Year  Energy (MtCO2e)  Industrial Processes (MtCO2e)  Agriculture (MtCO2e)  \\\n",
       "896       8902.470680                    1221.234311            692.650802   \n",
       "4596      5594.713254                     243.943747            352.796457   \n",
       "1946      1842.039917                     166.631655            632.485143   \n",
       "3596      2028.660092                      67.195043             91.713519   \n",
       "2146      1176.437878                      79.238405             20.856593   \n",
       "596        418.930815                      50.019669            441.820338   \n",
       "1646       753.378150                      42.761224             58.170889   \n",
       "2846       511.384427                      38.735890             84.009303   \n",
       "1971       468.235455                      24.468759            158.891738   \n",
       "\n",
       "Year  Waste (MtCO2e)  \n",
       "896       196.678633  \n",
       "4596      163.093757  \n",
       "1946       58.722269  \n",
       "3596       72.617637  \n",
       "2146        4.578047  \n",
       "596        44.053655  \n",
       "1646        9.945956  \n",
       "2846      108.015259  \n",
       "1971       63.277411  "
      ]
     },
     "execution_count": 110,
     "metadata": {},
     "output_type": "execute_result"
    }
   ],
   "source": [
    "top9ghg[\"Emissions by Sector\"][sectors]"
   ]
  },
  {
   "cell_type": "code",
   "execution_count": 83,
   "metadata": {},
   "outputs": [
    {
     "data": {
      "text/plain": [
       "11013.03442627012"
      ]
     },
     "execution_count": 83,
     "metadata": {},
     "output_type": "execute_result"
    }
   ],
   "source": [
    "top9ghg.loc[896][colname].values[0]"
   ]
  },
  {
   "cell_type": "code",
   "execution_count": 84,
   "metadata": {},
   "outputs": [
    {
     "data": {
      "text/html": [
       "<div>\n",
       "<style scoped>\n",
       "    .dataframe tbody tr th:only-of-type {\n",
       "        vertical-align: middle;\n",
       "    }\n",
       "\n",
       "    .dataframe tbody tr th {\n",
       "        vertical-align: top;\n",
       "    }\n",
       "\n",
       "    .dataframe thead th {\n",
       "        text-align: right;\n",
       "    }\n",
       "</style>\n",
       "<table border=\"1\" class=\"dataframe\">\n",
       "  <thead>\n",
       "    <tr style=\"text-align: right;\">\n",
       "      <th></th>\n",
       "      <th>Year</th>\n",
       "      <th>size</th>\n",
       "    </tr>\n",
       "  </thead>\n",
       "  <tbody>\n",
       "    <tr>\n",
       "      <th>0</th>\n",
       "      <td>Energy (MtCO2e)</td>\n",
       "      <td>8902.47</td>\n",
       "    </tr>\n",
       "    <tr>\n",
       "      <th>1</th>\n",
       "      <td>Industrial Processes (MtCO2e)</td>\n",
       "      <td>1221.23</td>\n",
       "    </tr>\n",
       "    <tr>\n",
       "      <th>2</th>\n",
       "      <td>Agriculture (MtCO2e)</td>\n",
       "      <td>692.651</td>\n",
       "    </tr>\n",
       "    <tr>\n",
       "      <th>3</th>\n",
       "      <td>Waste (MtCO2e)</td>\n",
       "      <td>196.679</td>\n",
       "    </tr>\n",
       "  </tbody>\n",
       "</table>\n",
       "</div>"
      ],
      "text/plain": [
       "                            Year     size\n",
       "0                Energy (MtCO2e)  8902.47\n",
       "1  Industrial Processes (MtCO2e)  1221.23\n",
       "2           Agriculture (MtCO2e)  692.651\n",
       "3                 Waste (MtCO2e)  196.679"
      ]
     },
     "execution_count": 84,
     "metadata": {},
     "output_type": "execute_result"
    }
   ],
   "source": [
    "top9ghg.loc[896][\"Emissions by Sector\"][sectors].to_frame(name=\"size\").reset_index()"
   ]
  },
  {
   "cell_type": "code",
   "execution_count": 107,
   "metadata": {},
   "outputs": [
    {
     "name": "stdout",
     "output_type": "stream",
     "text": [
      "China\n",
      "11013.029999999999\n",
      "8902.47\n",
      "United States of America\n",
      "6354.54\n",
      "5594.71\n",
      "India\n",
      "2699.8799999999997\n",
      "1842.04\n",
      "Russian Federation\n",
      "2260.19\n",
      "2028.6599999999999\n",
      "Japan\n",
      "1281.12\n",
      "1176.44\n",
      "Brazil\n",
      "954.8199999999999\n",
      "418.92\n",
      "Germany\n",
      "864.26\n",
      "753.3799999999999\n",
      "Mexico\n",
      "742.15\n",
      "511.38\n",
      "Indonesia\n",
      "714.88\n",
      "468.22999999999996\n"
     ]
    }
   ],
   "source": [
    "crecords = top9ghg.apply(cait.format_sectors, axis=1)"
   ]
  },
  {
   "cell_type": "code",
   "execution_count": 108,
   "metadata": {},
   "outputs": [],
   "source": [
    "crecords_df = crecords.to_frame(name=\"records\")"
   ]
  },
  {
   "cell_type": "code",
   "execution_count": 109,
   "metadata": {},
   "outputs": [
    {
     "data": {
      "text/html": [
       "<div>\n",
       "<style scoped>\n",
       "    .dataframe tbody tr th:only-of-type {\n",
       "        vertical-align: middle;\n",
       "    }\n",
       "\n",
       "    .dataframe tbody tr th {\n",
       "        vertical-align: top;\n",
       "    }\n",
       "\n",
       "    .dataframe thead th {\n",
       "        text-align: right;\n",
       "    }\n",
       "</style>\n",
       "<table border=\"1\" class=\"dataframe\">\n",
       "  <thead>\n",
       "    <tr style=\"text-align: right;\">\n",
       "      <th></th>\n",
       "      <th>records</th>\n",
       "    </tr>\n",
       "  </thead>\n",
       "  <tbody>\n",
       "    <tr>\n",
       "      <th>896</th>\n",
       "      <td>{'name': 'China', 'size': 11013.03, 'children'...</td>\n",
       "    </tr>\n",
       "    <tr>\n",
       "      <th>4596</th>\n",
       "      <td>{'name': 'United States of America', 'size': 6...</td>\n",
       "    </tr>\n",
       "    <tr>\n",
       "      <th>1946</th>\n",
       "      <td>{'name': 'India', 'size': 2699.88, 'children':...</td>\n",
       "    </tr>\n",
       "    <tr>\n",
       "      <th>3596</th>\n",
       "      <td>{'name': 'Russian Federation', 'size': 2260.19...</td>\n",
       "    </tr>\n",
       "    <tr>\n",
       "      <th>2146</th>\n",
       "      <td>{'name': 'Japan', 'size': 1281.11, 'children':...</td>\n",
       "    </tr>\n",
       "  </tbody>\n",
       "</table>\n",
       "</div>"
      ],
      "text/plain": [
       "                                                records\n",
       "896   {'name': 'China', 'size': 11013.03, 'children'...\n",
       "4596  {'name': 'United States of America', 'size': 6...\n",
       "1946  {'name': 'India', 'size': 2699.88, 'children':...\n",
       "3596  {'name': 'Russian Federation', 'size': 2260.19...\n",
       "2146  {'name': 'Japan', 'size': 1281.11, 'children':..."
      ]
     },
     "execution_count": 109,
     "metadata": {},
     "output_type": "execute_result"
    }
   ],
   "source": [
    "crecords_df.head()"
   ]
  },
  {
   "cell_type": "code",
   "execution_count": 239,
   "metadata": {},
   "outputs": [],
   "source": [
    "crecords_df.loc[:, \"has error\"] = crecords_df[\"records\"].apply(lambda r: r.get(\"error\") != None)"
   ]
  },
  {
   "cell_type": "code",
   "execution_count": 243,
   "metadata": {},
   "outputs": [
    {
     "data": {
      "text/html": [
       "<div>\n",
       "<style scoped>\n",
       "    .dataframe tbody tr th:only-of-type {\n",
       "        vertical-align: middle;\n",
       "    }\n",
       "\n",
       "    .dataframe tbody tr th {\n",
       "        vertical-align: top;\n",
       "    }\n",
       "\n",
       "    .dataframe thead th {\n",
       "        text-align: right;\n",
       "    }\n",
       "</style>\n",
       "<table border=\"1\" class=\"dataframe\">\n",
       "  <thead>\n",
       "    <tr style=\"text-align: right;\">\n",
       "      <th></th>\n",
       "      <th>records</th>\n",
       "      <th>has error</th>\n",
       "    </tr>\n",
       "    <tr>\n",
       "      <th>country</th>\n",
       "      <th></th>\n",
       "      <th></th>\n",
       "    </tr>\n",
       "  </thead>\n",
       "  <tbody>\n",
       "  </tbody>\n",
       "</table>\n",
       "</div>"
      ],
      "text/plain": [
       "Empty DataFrame\n",
       "Columns: [records, has error]\n",
       "Index: []"
      ]
     },
     "execution_count": 243,
     "metadata": {},
     "output_type": "execute_result"
    }
   ],
   "source": [
    "crecords_df.loc[crecords_df[\"has error\"]]"
   ]
  },
  {
   "cell_type": "code",
   "execution_count": 126,
   "metadata": {},
   "outputs": [],
   "source": [
    "wt = worldghg[\"Emissions by Sector\"][list(sector_names)].T"
   ]
  },
  {
   "cell_type": "code",
   "execution_count": 136,
   "metadata": {},
   "outputs": [],
   "source": [
    "orecord = cait.other_record(worldghg, top9ghg)"
   ]
  },
  {
   "cell_type": "code",
   "execution_count": 137,
   "metadata": {},
   "outputs": [
    {
     "data": {
      "text/plain": [
       "{'name': 'Other',\n",
       " 'size': 17174.87,\n",
       " 'children': [{'name': 'energy',\n",
       "   'size': 12966.92,\n",
       "   'children': [{'name': 'electricity', 'size': 4655.51},\n",
       "    {'name': 'manufacturing', 'size': 1655.87},\n",
       "    {'name': 'transportation', 'size': 3574.53},\n",
       "    {'name': 'other fuels', 'size': 1758.7},\n",
       "    {'name': 'fugitive', 'size': 1322.33}]},\n",
       "  {'name': 'industrial processes', 'size': 799.27},\n",
       "  {'name': 'agriculture', 'size': 2646.35},\n",
       "  {'name': 'waste', 'size': 762.34}]}"
      ]
     },
     "execution_count": 137,
     "metadata": {},
     "output_type": "execute_result"
    }
   ],
   "source": [
    "orecord"
   ]
  },
  {
   "cell_type": "code",
   "execution_count": 141,
   "metadata": {},
   "outputs": [],
   "source": [
    "ghg2011 = {\"name\": \"global ghg sources\", \"children\": [orecord] + crecords_df[\"records\"].values.tolist()}"
   ]
  },
  {
   "cell_type": "code",
   "execution_count": 142,
   "metadata": {},
   "outputs": [],
   "source": [
    "with open(\"../output/ghg2011_source_countries.json\", 'w') as f:\n",
    "    json.dump(ghg2011, f, indent=2)"
   ]
  },
  {
   "cell_type": "code",
   "execution_count": null,
   "metadata": {},
   "outputs": [],
   "source": []
  }
 ],
 "metadata": {
  "kernelspec": {
   "display_name": "Python 3",
   "language": "python",
   "name": "python3"
  },
  "language_info": {
   "codemirror_mode": {
    "name": "ipython",
    "version": 3
   },
   "file_extension": ".py",
   "mimetype": "text/x-python",
   "name": "python",
   "nbconvert_exporter": "python",
   "pygments_lexer": "ipython3",
   "version": "3.7.6"
  }
 },
 "nbformat": 4,
 "nbformat_minor": 4
}
