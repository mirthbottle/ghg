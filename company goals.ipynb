{
 "metadata": {
  "name": "",
  "signature": "sha256:68ce06a7a76ed688a9c8828c7d710ded63e7f939260814045db538bc6982beae"
 },
 "nbformat": 3,
 "nbformat_minor": 0,
 "worksheets": [
  {
   "cells": [
    {
     "cell_type": "code",
     "collapsed": false,
     "input": [
      "import pandas as pd"
     ],
     "language": "python",
     "metadata": {},
     "outputs": [],
     "prompt_number": 1
    },
    {
     "cell_type": "code",
     "collapsed": false,
     "input": [
      "import targetsmosh as tm"
     ],
     "language": "python",
     "metadata": {},
     "outputs": [],
     "prompt_number": 2
    },
    {
     "cell_type": "code",
     "collapsed": false,
     "input": [
      "reload(tm)"
     ],
     "language": "python",
     "metadata": {},
     "outputs": [
      {
       "metadata": {},
       "output_type": "pyout",
       "prompt_number": 19,
       "text": [
        "<module 'targetsmosh' from 'targetsmosh.py'>"
       ]
      }
     ],
     "prompt_number": 19
    },
    {
     "cell_type": "code",
     "collapsed": false,
     "input": [
      "vcounts2013 = tm.get_vcounts(p, 2013)\n",
      "tm.summary(vcounts2013, p)"
     ],
     "language": "python",
     "metadata": {},
     "outputs": []
    },
    {
     "cell_type": "code",
     "collapsed": false,
     "input": [
      "p = pd.read_pickle('../CDPdata/sheet9_2011.pkl')"
     ],
     "language": "python",
     "metadata": {},
     "outputs": [],
     "prompt_number": 31
    },
    {
     "cell_type": "code",
     "collapsed": false,
     "input": [
      "scopes12 = pd.read_pickle(\"../CDPdata/2010to2014scopes12.pkl\")\n",
      "companies = scopes12.index.levels[0].tolist()"
     ],
     "language": "python",
     "metadata": {},
     "outputs": [],
     "prompt_number": 24
    },
    {
     "cell_type": "code",
     "collapsed": false,
     "input": [
      "# targets2011 = tm.get_targets(p, 2011)\n",
      "# targets2014 = pd.read_pickle(\"../CDPdata/2014targets.pkl\")\n",
      "targets2014 = targets2014[targets2014['ISIN'].isin(isins)]"
     ],
     "language": "python",
     "metadata": {},
     "outputs": [],
     "prompt_number": 58
    },
    {
     "cell_type": "code",
     "collapsed": false,
     "input": [
      "# targets2010.to_pickle(\"../CDPdata/2010targets.pkl\")\n",
      "targets2012[\"target type\"].value_counts()"
     ],
     "language": "python",
     "metadata": {},
     "outputs": [
      {
       "metadata": {},
       "output_type": "pyout",
       "prompt_number": 92,
       "text": [
        "Intensity target                  140\n",
        "Absolute target                    93\n",
        "Absolute and intensity targets     71\n",
        "No                                 56\n",
        "dtype: int64"
       ]
      }
     ],
     "prompt_number": 92
    },
    {
     "cell_type": "code",
     "collapsed": false,
     "input": [
      "# year 2010, 2011, and 2012 doesn't have isins, only organisation\n",
      "# targets2010['target type'].apply(lambda x: unicode(x).encode('utf-8'))\n",
      "# targets2010 = targets2010[targets2010['Organisation'].isin(companies)]\n",
      "targets2014.head()"
     ],
     "language": "python",
     "metadata": {},
     "outputs": [
      {
       "html": [
        "<div style=\"max-height:1000px;max-width:1500px;overflow:auto;\">\n",
        "<table border=\"1\" class=\"dataframe\">\n",
        "  <thead>\n",
        "    <tr style=\"text-align: right;\">\n",
        "      <th></th>\n",
        "      <th>ISIN</th>\n",
        "      <th>target type</th>\n",
        "      <th>year</th>\n",
        "      <th>has absolute</th>\n",
        "      <th>has intensity</th>\n",
        "    </tr>\n",
        "  </thead>\n",
        "  <tbody>\n",
        "    <tr>\n",
        "      <th>1 </th>\n",
        "      <td> CH0012335540</td>\n",
        "      <td>               Intensity target</td>\n",
        "      <td> 2014</td>\n",
        "      <td> False</td>\n",
        "      <td>  True</td>\n",
        "    </tr>\n",
        "    <tr>\n",
        "      <th>9 </th>\n",
        "      <td> US9311421039</td>\n",
        "      <td> Absolute and intensity targets</td>\n",
        "      <td> 2014</td>\n",
        "      <td>  True</td>\n",
        "      <td>  True</td>\n",
        "    </tr>\n",
        "    <tr>\n",
        "      <th>12</th>\n",
        "      <td> FI0009003727</td>\n",
        "      <td> Absolute and intensity targets</td>\n",
        "      <td> 2014</td>\n",
        "      <td>  True</td>\n",
        "      <td>  True</td>\n",
        "    </tr>\n",
        "    <tr>\n",
        "      <th>15</th>\n",
        "      <td> IE00BLNN3691</td>\n",
        "      <td>                             No</td>\n",
        "      <td> 2014</td>\n",
        "      <td> False</td>\n",
        "      <td> False</td>\n",
        "    </tr>\n",
        "    <tr>\n",
        "      <th>26</th>\n",
        "      <td> US9581021055</td>\n",
        "      <td>               Intensity target</td>\n",
        "      <td> 2014</td>\n",
        "      <td> False</td>\n",
        "      <td>  True</td>\n",
        "    </tr>\n",
        "  </tbody>\n",
        "</table>\n",
        "</div>"
       ],
       "metadata": {},
       "output_type": "pyout",
       "prompt_number": 59,
       "text": [
        "            ISIN                     target type  year has absolute  \\\n",
        "1   CH0012335540                Intensity target  2014        False   \n",
        "9   US9311421039  Absolute and intensity targets  2014         True   \n",
        "12  FI0009003727  Absolute and intensity targets  2014         True   \n",
        "15  IE00BLNN3691                              No  2014        False   \n",
        "26  US9581021055                Intensity target  2014        False   \n",
        "\n",
        "   has intensity  \n",
        "1           True  \n",
        "9           True  \n",
        "12          True  \n",
        "15         False  \n",
        "26          True  "
       ]
      }
     ],
     "prompt_number": 59
    },
    {
     "cell_type": "code",
     "collapsed": false,
     "input": [
      "# t = pd.concat([targets2010, targets2011, targets2012, targets2013, targets2014])\n",
      "# t.set_index([\"ISIN\",\"year\"], inplace=True)\n",
      "# t.sort_index(inplace=True)\n",
      "t[\"has target\"] = t[\"has absolute\"]  | t[\"has intensity\"]\n",
      "t.to_pickle(\"../CDPdata/2010to2014targets.pkl\")\n",
      "t.head()"
     ],
     "language": "python",
     "metadata": {},
     "outputs": [
      {
       "html": [
        "<div style=\"max-height:1000px;max-width:1500px;overflow:auto;\">\n",
        "<table border=\"1\" class=\"dataframe\">\n",
        "  <thead>\n",
        "    <tr style=\"text-align: right;\">\n",
        "      <th></th>\n",
        "      <th></th>\n",
        "      <th>Organisation</th>\n",
        "      <th>has absolute</th>\n",
        "      <th>has intensity</th>\n",
        "      <th>target type</th>\n",
        "    </tr>\n",
        "    <tr>\n",
        "      <th>ISIN</th>\n",
        "      <th>year</th>\n",
        "      <th></th>\n",
        "      <th></th>\n",
        "      <th></th>\n",
        "      <th></th>\n",
        "    </tr>\n",
        "  </thead>\n",
        "  <tbody>\n",
        "    <tr>\n",
        "      <th rowspan=\"5\" valign=\"top\">AN8068571086</th>\n",
        "      <th>2010</th>\n",
        "      <td> Schlumberger Limited</td>\n",
        "      <td> False</td>\n",
        "      <td> False</td>\n",
        "      <td>              NaN</td>\n",
        "    </tr>\n",
        "    <tr>\n",
        "      <th>2011</th>\n",
        "      <td> Schlumberger Limited</td>\n",
        "      <td> False</td>\n",
        "      <td> False</td>\n",
        "      <td>               No</td>\n",
        "    </tr>\n",
        "    <tr>\n",
        "      <th>2012</th>\n",
        "      <td> Schlumberger Limited</td>\n",
        "      <td> False</td>\n",
        "      <td> False</td>\n",
        "      <td>               No</td>\n",
        "    </tr>\n",
        "    <tr>\n",
        "      <th>2013</th>\n",
        "      <td>                  NaN</td>\n",
        "      <td> False</td>\n",
        "      <td>  True</td>\n",
        "      <td> Intensity target</td>\n",
        "    </tr>\n",
        "    <tr>\n",
        "      <th>2014</th>\n",
        "      <td>                  NaN</td>\n",
        "      <td> False</td>\n",
        "      <td>  True</td>\n",
        "      <td> Intensity target</td>\n",
        "    </tr>\n",
        "  </tbody>\n",
        "</table>\n",
        "</div>"
       ],
       "metadata": {},
       "output_type": "pyout",
       "prompt_number": 100,
       "text": [
        "                           Organisation has absolute has intensity  \\\n",
        "ISIN         year                                                    \n",
        "AN8068571086 2010  Schlumberger Limited        False         False   \n",
        "             2011  Schlumberger Limited        False         False   \n",
        "             2012  Schlumberger Limited        False         False   \n",
        "             2013                   NaN        False          True   \n",
        "             2014                   NaN        False          True   \n",
        "\n",
        "                        target type  \n",
        "ISIN         year                    \n",
        "AN8068571086 2010               NaN  \n",
        "             2011                No  \n",
        "             2012                No  \n",
        "             2013  Intensity target  \n",
        "             2014  Intensity target  "
       ]
      }
     ],
     "prompt_number": 100
    },
    {
     "cell_type": "code",
     "collapsed": false,
     "input": [
      "isinsubset = pd.read_pickle(\"../CDPdata/isin_subset.pkl\")\n",
      "isins = isinsubset[\"ISIN\"].tolist()"
     ],
     "language": "python",
     "metadata": {},
     "outputs": [],
     "prompt_number": 53
    },
    {
     "cell_type": "code",
     "collapsed": false,
     "input": [
      "targets2012[\"ISIN\"] = targets2012[\"Organisation\"]\n",
      "targets2012.set_index(\"Organisation\", inplace=True)\n",
      "targets2012[\"ISIN\"] = targets2012[\"ISIN\"].map(isinsubset[\"ISIN\"])\n",
      "targets2012 = targets2012.drop_duplicates(\"ISIN\")\n",
      "targets2012.reset_index(inplace=True)\n",
      "targets2012.head()"
     ],
     "language": "python",
     "metadata": {},
     "outputs": [
      {
       "html": [
        "<div style=\"max-height:1000px;max-width:1500px;overflow:auto;\">\n",
        "<table border=\"1\" class=\"dataframe\">\n",
        "  <thead>\n",
        "    <tr style=\"text-align: right;\">\n",
        "      <th></th>\n",
        "      <th>Organisation</th>\n",
        "      <th>target type</th>\n",
        "      <th>year</th>\n",
        "      <th>has absolute</th>\n",
        "      <th>has intensity</th>\n",
        "      <th>ISIN</th>\n",
        "    </tr>\n",
        "  </thead>\n",
        "  <tbody>\n",
        "    <tr>\n",
        "      <th>0</th>\n",
        "      <td> EDP - Energias de Portugal S.A.</td>\n",
        "      <td> Absolute and intensity targets</td>\n",
        "      <td> 2012</td>\n",
        "      <td>  True</td>\n",
        "      <td>  True</td>\n",
        "      <td> PTEDP0AM0009</td>\n",
        "    </tr>\n",
        "    <tr>\n",
        "      <th>1</th>\n",
        "      <td>                     Nordea Bank</td>\n",
        "      <td>               Intensity target</td>\n",
        "      <td> 2012</td>\n",
        "      <td> False</td>\n",
        "      <td>  True</td>\n",
        "      <td> SE0000427361</td>\n",
        "    </tr>\n",
        "    <tr>\n",
        "      <th>2</th>\n",
        "      <td>                  Technicolor SA</td>\n",
        "      <td>                             No</td>\n",
        "      <td> 2012</td>\n",
        "      <td> False</td>\n",
        "      <td> False</td>\n",
        "      <td> FR0010918292</td>\n",
        "    </tr>\n",
        "    <tr>\n",
        "      <th>3</th>\n",
        "      <td>                   Bemis Company</td>\n",
        "      <td>               Intensity target</td>\n",
        "      <td> 2012</td>\n",
        "      <td> False</td>\n",
        "      <td>  True</td>\n",
        "      <td> US0814371052</td>\n",
        "    </tr>\n",
        "    <tr>\n",
        "      <th>4</th>\n",
        "      <td>                       SABMiller</td>\n",
        "      <td>               Intensity target</td>\n",
        "      <td> 2012</td>\n",
        "      <td> False</td>\n",
        "      <td>  True</td>\n",
        "      <td> GB0004835483</td>\n",
        "    </tr>\n",
        "  </tbody>\n",
        "</table>\n",
        "</div>"
       ],
       "metadata": {},
       "output_type": "pyout",
       "prompt_number": 89,
       "text": [
        "                      Organisation                     target type  year  \\\n",
        "0  EDP - Energias de Portugal S.A.  Absolute and intensity targets  2012   \n",
        "1                      Nordea Bank                Intensity target  2012   \n",
        "2                   Technicolor SA                              No  2012   \n",
        "3                    Bemis Company                Intensity target  2012   \n",
        "4                        SABMiller                Intensity target  2012   \n",
        "\n",
        "  has absolute has intensity          ISIN  \n",
        "0         True          True  PTEDP0AM0009  \n",
        "1        False          True  SE0000427361  \n",
        "2        False         False  FR0010918292  \n",
        "3        False          True  US0814371052  \n",
        "4        False          True  GB0004835483  "
       ]
      }
     ],
     "prompt_number": 89
    },
    {
     "cell_type": "code",
     "collapsed": false,
     "input": [
      "# isinsubset.reset_index(inplace=True)\n",
      "# isinsubset.rename(columns={\"index\":\"Organisation\"}, inplace=True)\n",
      "# isinsubset.set_index(\"Organisation\", inplace=True)"
     ],
     "language": "python",
     "metadata": {},
     "outputs": [],
     "prompt_number": 83
    },
    {
     "cell_type": "markdown",
     "metadata": {},
     "source": [
      "## get target details"
     ]
    },
    {
     "cell_type": "code",
     "collapsed": false,
     "input": [
      "xls = pd.ExcelFile('../CDPdata/Investor CDP 2013_Public Data.xlsx')"
     ],
     "language": "python",
     "metadata": {},
     "outputs": [],
     "prompt_number": 29
    },
    {
     "cell_type": "code",
     "collapsed": false,
     "input": [
      "xls2012 = pd.ExcelFile('../CDPdata/Investor CDP 2012_Public Data.xlsx')"
     ],
     "language": "python",
     "metadata": {},
     "outputs": [],
     "prompt_number": 36
    },
    {
     "cell_type": "code",
     "collapsed": false,
     "input": [
      "p = xls2012.parse(14)\n",
      "p2 = xls2012.parse(16)"
     ],
     "language": "python",
     "metadata": {},
     "outputs": [],
     "prompt_number": 52
    },
    {
     "cell_type": "code",
     "collapsed": false,
     "input": [
      "p.to_pickle('../CDPdata/2012sheet14.pkl')\n",
      "p2.to_pickle('../CDPdata/2012sheet16.pkl')"
     ],
     "language": "python",
     "metadata": {},
     "outputs": [],
     "prompt_number": 56
    },
    {
     "cell_type": "code",
     "collapsed": false,
     "input": [
      "# 2014\n",
      "p.columns[12:20]"
     ],
     "language": "python",
     "metadata": {},
     "outputs": [
      {
       "metadata": {},
       "output_type": "pyout",
       "prompt_number": 55,
       "text": [
        "Index([u'3.1d. Please provide details on your progress against this target made in the reporting year\\n\\n3.1d. ID', u'3.1d. % complete (time)', u'3.1d. % complete (emissions)', u'3.1d. Comment'], dtype='object')"
       ]
      }
     ],
     "prompt_number": 55
    },
    {
     "cell_type": "code",
     "collapsed": false,
     "input": [
      "p2[p2.columns[15]].value_counts()"
     ],
     "language": "python",
     "metadata": {},
     "outputs": [
      {
       "metadata": {},
       "output_type": "pyout",
       "prompt_number": 17,
       "text": [
        "Scope 1+2                                                       720\n",
        "Scope 1                                                         233\n",
        "Scope 1+2+3                                                     164\n",
        "Scope 2                                                         149\n",
        "Scope 3: Business travel                                         36\n",
        "Scope 3: Use of sold products                                    27\n",
        "Scope 3: Downstream transportation and distribution              17\n",
        "Scope 3: Upstream transportation & distribution                  16\n",
        "Scope 3: Purchased goods & services                              14\n",
        "Scope 3: Waste generated in operations                           11\n",
        "Scope 3: Fuel- and energy-related activities (not included in Scopes 1 or 2)      6\n",
        "Scope 3: Employee commuting                                       5\n",
        "Scope 3: Franchises                                               2\n",
        "Other: Scope 1+3                                                  2\n",
        "Other: Data Centre Scope 1 & 2 Emissions                          2\n",
        "Other: Biomass                                                    2\n",
        "Other: Office Space Scope 1 & 2 Emissions                         2\n",
        "Other: Scope 1 (distribution fleet) +3 (downstream transportation and distribution)      1\n",
        "Other: PFC                                                        1\n",
        "Other: Scope 3: Downstream and upstream transportation and distribution      1\n",
        "Other: Illovo Scope 1 and 2                                       1\n",
        "Other: Achieving a weighted average 4.5 star NABERS Energy across office portfolio in 2013      1\n",
        "Other: Scope 3 Cold Drinks Equipment                              1\n",
        "Other: Scope 1+2 of European Waste Operations                     1\n",
        "Other: Cash+Carry Europe West (Scope 1+2+3)                       1\n",
        "Other: Scope 1+2 for Offices (excludes Data Center and Travel related S1+2 emissions)      1\n",
        "Other: \u5ec3\u68c4\u7269\u767a\u751f\u539f\u5358\u4f4d                                                   1\n",
        "Other: Scope 1+2+ Scope 3: Upstream transportation + Scope 3: Business travel      1\n",
        "Other: Sum of Scope3 (except foreign business trip)               1\n",
        "Other: Diesel use on project sites in the Netherlands - (scope 1)      1\n",
        "Other: Office Paper (inclusive of policy printing)                1\n",
        "Other: Total Carbon Reduction                                     1\n",
        "Other: Scope 1 + Scope 2 + Scope 3 (business air travel)          1\n",
        "Other: Scope 3: Company cars                                      1\n",
        "Other: Reducing the unit requirement by 10% from the 2005 benchmark by 2015      1\n",
        "Other: Scope 1+2, Scope 3: Use of sold products, Scope 3 Downstream Transportastion and Distribution      1\n",
        "Other: Electricity - (scope 2)                                    1\n",
        "Other: Scope 1+2 of 28 Coway vendors                              1\n",
        "Other: CO2 from electricity consumed in H&M stores                1\n",
        "Other: \u6c34\u4f7f\u7528\u91cf\u539f\u5358\u4f4d                                                    1\n",
        "Other: Scope 1 + Scope 2 + Scope 3 (without raws materials emissions      1\n",
        "Scope 3: End-of-life treatment of sold products                   1\n",
        "Other: Scope 1 & 2 emissions from facility (site) renewable energy use      1\n",
        "Other: Scope3:Upstream transportation & distribution,Downstream transportation and distribution      1\n",
        "Other: Scope 1 & 2 emissions from facility (site) energy use      1\n",
        "Scope 3: Downstream leased assets                                 1\n",
        "Other: Water Use                                                  1\n",
        "Other: Wholesale Delivery Services (Scope 1+2+3)                  1\n",
        "Other: Corporate                                                  1\n",
        "Other: GHG emissions from our commercial building                 1\n",
        "Other: Lease car (business and commuter travel in the Netherlands) - (scope 1)      1\n",
        "Other: Electricity consumption in Inditex stores                  1\n",
        "Other: Cash+Carry Europe East (Scope 1+2+3)                       1\n",
        "Other: Scope 1 emissions from our vehicle fleet.                  1\n",
        "Length: 54, dtype: int64"
       ]
      }
     ],
     "prompt_number": 17
    },
    {
     "cell_type": "code",
     "collapsed": false,
     "input": [
      "p2[p2.columns[18]].value_counts()"
     ],
     "language": "python",
     "metadata": {},
     "outputs": [
      {
       "metadata": {},
       "output_type": "pyout",
       "prompt_number": 16,
       "text": [
        "metric tonnes CO2e per unit revenue                             228\n",
        "metric tonnes CO2e per FTE employee                             168\n",
        "metric tonnes CO2e per metric tonne of product                  135\n",
        "metric tonnes CO2e per unit of production                       112\n",
        "metric tonnes CO2e per square meter                             108\n",
        "metric tonnes CO2e per megawatt hour (MWh)                       42\n",
        "grams CO2 per kilometer                                          23\n",
        "metric tonnes CO2e per unit hour worked                          22\n",
        "metric tonnes CO2e per square foot                               22\n",
        "metric tonnes CO2e per unit of service provided                  17\n",
        "metric tonnes CO2e per vehicle produced                          11\n",
        "Other: metric tonnes of fugitive CO2e/tonnes CH4 produced by landfill     10\n",
        "metric tonnes CO2e per kilometer                                  7\n",
        "metric tonnes CO2e per barrel of oil equivalent (BOE)             7\n",
        "Other:                                                            7\n",
        "...\n",
        "Other: U.S. tons CO2 emitted per MWh                            1\n",
        "Other: metric tonnes CO2e per million dollars in sales          1\n",
        "Other: tOther: tonnes of CO2e per tonnes of clinker             1\n",
        "Other: kilograms of CO2e per thousand gross-ton-mile            1\n",
        "Other: Crude oil equivalent KL /Net Sales                       1\n",
        "Other: metric tonnes CO2e per unit GP                           1\n",
        "Other: \u5b9f\u8cea\u751f\u7523\u9ad8\u539f\u5358\u4f4d\u6307\u6570\u6539\u5584\u7387                                            1\n",
        "Other: metric tonnes CO2e per unit shipped                      1\n",
        "Other: mt CO2e/GC, converted from actual goal metric of restaurant kWh per number of sales transactions, or \"guest counts\" (GC)    1\n",
        "Other: kg CO2/ton clinker                                       1\n",
        "Other: grams CO2e per revenue ton mile                          1\n",
        "Other: metric tons of CO2e avoided per tons of CO2e emitted     1\n",
        "Other: CO2 per transferred mobile data (kg CO2/GB)              1\n",
        "Other: tonnes CO2(e) relative to the value of net written premiums    1\n",
        "Other: \uff21\uff34\uff2d\uff11\u53f0\u306e\u6392\u51fa\u91cf                                                1\n",
        "Length: 427, dtype: int64"
       ]
      }
     ],
     "prompt_number": 16
    },
    {
     "cell_type": "code",
     "collapsed": false,
     "input": [],
     "language": "python",
     "metadata": {},
     "outputs": []
    }
   ],
   "metadata": {}
  }
 ]
}