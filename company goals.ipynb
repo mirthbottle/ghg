{
 "metadata": {
  "name": "",
  "signature": "sha256:61b46ff9a589a16e96139e8242a4fab129cab4ed09fa5674b474731f59491cc2"
 },
 "nbformat": 3,
 "nbformat_minor": 0,
 "worksheets": [
  {
   "cells": [
    {
     "cell_type": "code",
     "collapsed": false,
     "input": [
      "import pandas as pd"
     ],
     "language": "python",
     "metadata": {},
     "outputs": [],
     "prompt_number": 1
    },
    {
     "cell_type": "code",
     "collapsed": false,
     "input": [
      "import targetsmosh as tm"
     ],
     "language": "python",
     "metadata": {},
     "outputs": [],
     "prompt_number": 2
    },
    {
     "cell_type": "code",
     "collapsed": false,
     "input": [
      "vcounts2013 = tm.get_vcounts(p, 2013)\n",
      "tm.summary(vcounts2013, p)"
     ],
     "language": "python",
     "metadata": {},
     "outputs": []
    },
    {
     "cell_type": "code",
     "collapsed": false,
     "input": [
      "p = pd.read_pickle('../CDPdata/sheet12_2014.pkl')"
     ],
     "language": "python",
     "metadata": {},
     "outputs": [],
     "prompt_number": 3
    },
    {
     "cell_type": "code",
     "collapsed": false,
     "input": [
      "pcols = p.columns.values\n",
      "targets = p[p[\"ISIN\"].notnull()][[\"ISIN\",pcols[14]]]\n",
      "targets.rename(columns = {pcols[14]: \"target type\"}, inplace=True)\n",
      "targets[\"year\"] = 2014\n",
      "targets[\"has absolute\"] = targets[\"target type\"]"
     ],
     "language": "python",
     "metadata": {},
     "outputs": [],
     "prompt_number": 15
    },
    {
     "cell_type": "code",
     "collapsed": false,
     "input": [
      "targets[\"has absolute\"] = targets[\"target type\"].apply(lambda x: \"solute\" in str(x))\n",
      "targets[\"has intensity\"] = targets[\"target type\"].apply(lambda x: \"ntensity\" in str(x))\n",
      "targets.head()"
     ],
     "language": "python",
     "metadata": {},
     "outputs": [
      {
       "html": [
        "<div style=\"max-height:1000px;max-width:1500px;overflow:auto;\">\n",
        "<table border=\"1\" class=\"dataframe\">\n",
        "  <thead>\n",
        "    <tr style=\"text-align: right;\">\n",
        "      <th></th>\n",
        "      <th>ISIN</th>\n",
        "      <th>target type</th>\n",
        "      <th>year</th>\n",
        "      <th>has absolute</th>\n",
        "      <th>has intensity</th>\n",
        "    </tr>\n",
        "  </thead>\n",
        "  <tbody>\n",
        "    <tr>\n",
        "      <th>0</th>\n",
        "      <td> DE0007664039</td>\n",
        "      <td> Absolute and intensity targets</td>\n",
        "      <td> 2014</td>\n",
        "      <td>  True</td>\n",
        "      <td>  True</td>\n",
        "    </tr>\n",
        "    <tr>\n",
        "      <th>1</th>\n",
        "      <td> CH0012335540</td>\n",
        "      <td>               Intensity target</td>\n",
        "      <td> 2014</td>\n",
        "      <td> False</td>\n",
        "      <td>  True</td>\n",
        "    </tr>\n",
        "    <tr>\n",
        "      <th>2</th>\n",
        "      <td> NL0009432491</td>\n",
        "      <td> Absolute and intensity targets</td>\n",
        "      <td> 2014</td>\n",
        "      <td>  True</td>\n",
        "      <td>  True</td>\n",
        "    </tr>\n",
        "    <tr>\n",
        "      <th>3</th>\n",
        "      <td> LI0010737216</td>\n",
        "      <td>                             No</td>\n",
        "      <td> 2014</td>\n",
        "      <td> False</td>\n",
        "      <td> False</td>\n",
        "    </tr>\n",
        "    <tr>\n",
        "      <th>5</th>\n",
        "      <td> US3848021040</td>\n",
        "      <td>               Intensity target</td>\n",
        "      <td> 2014</td>\n",
        "      <td> False</td>\n",
        "      <td>  True</td>\n",
        "    </tr>\n",
        "  </tbody>\n",
        "</table>\n",
        "</div>"
       ],
       "metadata": {},
       "output_type": "pyout",
       "prompt_number": 33,
       "text": [
        "           ISIN                     target type  year has absolute  \\\n",
        "0  DE0007664039  Absolute and intensity targets  2014         True   \n",
        "1  CH0012335540                Intensity target  2014        False   \n",
        "2  NL0009432491  Absolute and intensity targets  2014         True   \n",
        "3  LI0010737216                              No  2014        False   \n",
        "5  US3848021040                Intensity target  2014        False   \n",
        "\n",
        "  has intensity  \n",
        "0          True  \n",
        "1          True  \n",
        "2          True  \n",
        "3         False  \n",
        "5          True  "
       ]
      }
     ],
     "prompt_number": 33
    },
    {
     "cell_type": "code",
     "collapsed": false,
     "input": [
      "targets[\"target type\"].value_counts()"
     ],
     "language": "python",
     "metadata": {},
     "outputs": [
      {
       "metadata": {},
       "output_type": "pyout",
       "prompt_number": 19,
       "text": [
        "Intensity target                  540\n",
        "Absolute target                   416\n",
        "No                                371\n",
        "Absolute and intensity targets    326\n",
        "dtype: int64"
       ]
      }
     ],
     "prompt_number": 19
    },
    {
     "cell_type": "code",
     "collapsed": false,
     "input": [
      "if \"bsolute\" in \"Absolute\":\n",
      "    print \"hi\""
     ],
     "language": "python",
     "metadata": {},
     "outputs": [
      {
       "output_type": "stream",
       "stream": "stdout",
       "text": [
        "hi\n"
       ]
      }
     ],
     "prompt_number": 20
    },
    {
     "cell_type": "code",
     "collapsed": false,
     "input": [],
     "language": "python",
     "metadata": {},
     "outputs": []
    }
   ],
   "metadata": {}
  }
 ]
}