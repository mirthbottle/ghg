{
 "metadata": {
  "name": "",
  "signature": "sha256:f6af41a945707acfbb8f3194de8dd467c09d23e3a44df5bea8418ffb864101d5"
 },
 "nbformat": 3,
 "nbformat_minor": 0,
 "worksheets": [
  {
   "cells": [
    {
     "cell_type": "code",
     "collapsed": false,
     "input": [
      "import pandas as pd"
     ],
     "language": "python",
     "metadata": {},
     "outputs": [],
     "prompt_number": 1
    },
    {
     "cell_type": "code",
     "collapsed": false,
     "input": [
      "scopes12 = pd.read_pickle(\"../CDPdata/2010to2014scopes12.pkl\")"
     ],
     "language": "python",
     "metadata": {},
     "outputs": [],
     "prompt_number": 18
    },
    {
     "cell_type": "code",
     "collapsed": false,
     "input": [
      "companies = scopes12.index.levels[0].tolist()"
     ],
     "language": "python",
     "metadata": {},
     "outputs": [],
     "prompt_number": 19
    },
    {
     "cell_type": "code",
     "collapsed": false,
     "input": [
      "len(companies)"
     ],
     "language": "python",
     "metadata": {},
     "outputs": [
      {
       "metadata": {},
       "output_type": "pyout",
       "prompt_number": 20,
       "text": [
        "361"
       ]
      }
     ],
     "prompt_number": 20
    },
    {
     "cell_type": "code",
     "collapsed": false,
     "input": [
      "p = pd.read_pickle(\"../CDPdata/sheet35_2014.pkl\")\n",
      "pcols = p.columns.values\n",
      "pcols"
     ],
     "language": "python",
     "metadata": {},
     "outputs": [
      {
       "metadata": {},
       "output_type": "pyout",
       "prompt_number": 22,
       "text": [
        "array([u'Organisation', u'Account No', u'Country', u'GICS Sector',\n",
        "       u'GICS Industry Group', u'GICS Industry', u'GICS Sub-Industry',\n",
        "       u'Access', u'Primary Expansion', u'Secondary Expansions',\n",
        "       u'Complexity', u'Ticker', u'ISIN', u'Complexity.1',\n",
        "       u'Reporting Period\\nFrom', u'Reporting Period\\nTo',\n",
        "       u'CC8.1. Please select the boundary you are using for your Scope 1 and 2 greenhouse gas inventory',\n",
        "       u'CC8.2. Please provide your gross global Scope 1 emissions figures in metric tonnes CO2e',\n",
        "       u'CC8.3. Please provide your gross global Scope 2 emissions figures in metric tonnes CO2e \\xa0',\n",
        "       u'CC8.4. Are there are any sources (e.g. facilities, specific GHGs, activities, geographies, etc.) of Scope 1 and Scope 2 emissions that are within your selected reporting boundary which are not included in your disclosure?',\n",
        "       u'Table question - see worksheet \"CC8.4a\"',\n",
        "       u'Table question - see worksheet \"CC8.5\"',\n",
        "       u'CC8.6. Please indicate the verification/assurance status that applies to your reported Scope 1 emissions',\n",
        "       u'Table question - see worksheet \"CC8.6a\"',\n",
        "       u'Table question - see worksheet \"CC8.6b\"',\n",
        "       u'CC8.7. Please indicate the verification/assurance status that applies to your reported Scope 2 emissions',\n",
        "       u'Table question - see worksheet \"CC8.7a\"',\n",
        "       u'Table question - see worksheet \"CC8.8\"',\n",
        "       u'CC8.9. Are carbon dioxide emissions from biologically sequestered carbon relevant to your organization?',\n",
        "       u'CC8.9a. Please provide the emissions from biologically sequestered carbon relevant to\\xa0your organization\\xa0in metric tonnes CO2',\n",
        "       u'Further Information', u'Attachments', 'Unnamed: 32',\n",
        "       'Unnamed: 33', 'Unnamed: 34', 'Unnamed: 35', 'Unnamed: 36',\n",
        "       'Unnamed: 37', 'Unnamed: 38', 'Unnamed: 39'], dtype=object)"
       ]
      }
     ],
     "prompt_number": 22
    },
    {
     "cell_type": "code",
     "collapsed": false,
     "input": [
      "tickers = p[[\"Organisation\",\"Ticker\"]]\n",
      "tickers=tickers[tickers[\"Ticker\"].notnull()].drop_duplicates(\"Organisation\")\n",
      "tickers = tickers.set_index(\"Organisation\")\n",
      "tickers.head()"
     ],
     "language": "python",
     "metadata": {},
     "outputs": [
      {
       "html": [
        "<div style=\"max-height:1000px;max-width:1500px;overflow:auto;\">\n",
        "<table border=\"1\" class=\"dataframe\">\n",
        "  <thead>\n",
        "    <tr style=\"text-align: right;\">\n",
        "      <th></th>\n",
        "      <th>Ticker</th>\n",
        "    </tr>\n",
        "    <tr>\n",
        "      <th>Organisation</th>\n",
        "      <th></th>\n",
        "    </tr>\n",
        "  </thead>\n",
        "  <tbody>\n",
        "    <tr>\n",
        "      <th>Volkswagen AG</th>\n",
        "      <td>    VOW3 GR</td>\n",
        "    </tr>\n",
        "    <tr>\n",
        "      <th>Vontobel Holding AG</th>\n",
        "      <td>    VONN SW</td>\n",
        "    </tr>\n",
        "    <tr>\n",
        "      <th>Vopak</th>\n",
        "      <td>     VPK NA</td>\n",
        "    </tr>\n",
        "    <tr>\n",
        "      <th>VP Bank Gruppe</th>\n",
        "      <td>     VPB SW</td>\n",
        "    </tr>\n",
        "    <tr>\n",
        "      <th>VWR International LLC</th>\n",
        "      <td> 553556Z US</td>\n",
        "    </tr>\n",
        "  </tbody>\n",
        "</table>\n",
        "</div>"
       ],
       "metadata": {},
       "output_type": "pyout",
       "prompt_number": 44,
       "text": [
        "                           Ticker\n",
        "Organisation                     \n",
        "Volkswagen AG             VOW3 GR\n",
        "Vontobel Holding AG       VONN SW\n",
        "Vopak                      VPK NA\n",
        "VP Bank Gruppe             VPB SW\n",
        "VWR International LLC  553556Z US"
       ]
      }
     ],
     "prompt_number": 44
    },
    {
     "cell_type": "code",
     "collapsed": false,
     "input": [
      "tickers.to_pickle(\"../CDPdata/2014tickers.pkl\")"
     ],
     "language": "python",
     "metadata": {},
     "outputs": [],
     "prompt_number": 48
    },
    {
     "cell_type": "code",
     "collapsed": false,
     "input": [
      "tsubset = tickers.loc[companies]"
     ],
     "language": "python",
     "metadata": {},
     "outputs": [],
     "prompt_number": 45
    },
    {
     "cell_type": "code",
     "collapsed": false,
     "input": [
      "tsubset.to_pickle(\"../CDPdata/tickers_subset.pkl\")\n",
      "len(tsubset.index.tolist())"
     ],
     "language": "python",
     "metadata": {},
     "outputs": [
      {
       "metadata": {},
       "output_type": "pyout",
       "prompt_number": 47,
       "text": [
        "361"
       ]
      }
     ],
     "prompt_number": 47
    },
    {
     "cell_type": "code",
     "collapsed": false,
     "input": [],
     "language": "python",
     "metadata": {},
     "outputs": [
      {
       "metadata": {},
       "output_type": "pyout",
       "prompt_number": 37,
       "text": [
        "361"
       ]
      }
     ],
     "prompt_number": 37
    },
    {
     "cell_type": "code",
     "collapsed": false,
     "input": [],
     "language": "python",
     "metadata": {},
     "outputs": []
    }
   ],
   "metadata": {}
  }
 ]
}