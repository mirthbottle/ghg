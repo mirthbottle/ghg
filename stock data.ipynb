{
 "metadata": {
  "name": ""
 },
 "nbformat": 3,
 "nbformat_minor": 0,
 "worksheets": [
  {
   "cells": [
    {
     "cell_type": "code",
     "collapsed": false,
     "input": [
      "import pandas as pd\n",
      "import pandas.io.data as web\n",
      "import datetime\n",
      "start = datetime.datetime(2011, 1, 1)\n",
      "end = datetime.datetime(2012, 1, 1)\n",
      "f=web.DataReader(\"EMC\", 'yahoo', start, end)"
     ],
     "language": "python",
     "metadata": {},
     "outputs": [],
     "prompt_number": 1
    },
    {
     "cell_type": "code",
     "collapsed": false,
     "input": [
      "f"
     ],
     "language": "python",
     "metadata": {},
     "outputs": [
      {
       "metadata": {},
       "output_type": "pyout",
       "prompt_number": 2,
       "text": [
        "<class 'pandas.core.frame.DataFrame'>\n",
        "Index: 252 entries, 2011-01-03 00:00:00 to 2011-12-30 00:00:00\n",
        "Data columns:\n",
        "Open         252  non-null values\n",
        "High         252  non-null values\n",
        "Low          252  non-null values\n",
        "Close        252  non-null values\n",
        "Volume       252  non-null values\n",
        "Adj Close    252  non-null values\n",
        "dtypes: float64(5), int64(1)"
       ]
      }
     ],
     "prompt_number": 2
    },
    {
     "cell_type": "code",
     "collapsed": false,
     "input": [],
     "language": "python",
     "metadata": {},
     "outputs": []
    }
   ],
   "metadata": {}
  }
 ]
}