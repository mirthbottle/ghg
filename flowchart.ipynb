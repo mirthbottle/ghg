{
 "metadata": {
  "name": "",
  "signature": "sha256:c04d86f11642003d48c8e347d225a8b13c3754fda314798e72f0ea6de7db0986"
 },
 "nbformat": 3,
 "nbformat_minor": 0,
 "worksheets": [
  {
   "cells": [
    {
     "cell_type": "markdown",
     "metadata": {},
     "source": [
      "http://www.wri.org/resources/charts-graphs/us-greenhouse-gas-emissions-flow-chart"
     ]
    },
    {
     "cell_type": "code",
     "collapsed": false,
     "input": [],
     "language": "python",
     "metadata": {},
     "outputs": []
    }
   ],
   "metadata": {}
  }
 ]
}