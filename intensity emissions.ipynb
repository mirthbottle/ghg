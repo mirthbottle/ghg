{
 "metadata": {
  "name": "",
  "signature": "sha256:f206bb4ab6d7904d6e48bf3731f13dd2eb54d5739220ddb14cbe80dd5c40ba0e"
 },
 "nbformat": 3,
 "nbformat_minor": 0,
 "worksheets": [
  {
   "cells": [
    {
     "cell_type": "code",
     "collapsed": false,
     "input": [
      "import pandas as pd"
     ],
     "language": "python",
     "metadata": {},
     "outputs": [],
     "prompt_number": 1
    },
    {
     "cell_type": "code",
     "collapsed": false,
     "input": [
      "import ghgmosh as gm"
     ],
     "language": "python",
     "metadata": {},
     "outputs": [],
     "prompt_number": 2
    },
    {
     "cell_type": "code",
     "collapsed": false,
     "input": [
      "reload(gm)"
     ],
     "language": "python",
     "metadata": {},
     "outputs": [
      {
       "metadata": {},
       "output_type": "pyout",
       "prompt_number": 174,
       "text": [
        "<module 'ghgmosh' from 'ghgmosh.py'>"
       ]
      }
     ],
     "prompt_number": 174
    },
    {
     "cell_type": "code",
     "collapsed": false,
     "input": [
      "ghgrevs = pd.read_pickle(\"../CDPdata/ghgrevenues.pkl\")\n",
      "ghgrevs.columns"
     ],
     "language": "python",
     "metadata": {},
     "outputs": [
      {
       "metadata": {},
       "output_type": "pyout",
       "prompt_number": 3,
       "text": [
        "Index([u'cogs', u'revt', u'Organisation', u'Scope 1', u'Scope 2', u'has Scope 1and2', u'1and2 total', u'1and2 intensity'], dtype='object')"
       ]
      }
     ],
     "prompt_number": 3
    },
    {
     "cell_type": "code",
     "collapsed": false,
     "input": [
      "# f[\"1and2 intensity\"][2014]\n",
      "f = ghgrevs.loc[\"DE0005557508\"]\n",
      "# ef = gm.percent_change(f,\"1and2 intensity\")\n",
      "# ef[[\"percent change 1and2 intensity\"]]"
     ],
     "language": "python",
     "metadata": {},
     "outputs": [],
     "prompt_number": 9
    },
    {
     "cell_type": "code",
     "collapsed": false,
     "input": [
      "g = gm.compute_percent_changes(ghgrevs, \"1and2 intensity\")"
     ],
     "language": "python",
     "metadata": {},
     "outputs": [
      {
       "output_type": "stream",
       "stream": "stderr",
       "text": [
        "ghgmosh.py:159: SettingWithCopyWarning: \n",
        "A value is trying to be set on a copy of a slice from a DataFrame.\n",
        "Try using .loc[row_indexer,col_indexer] = value instead\n",
        "\n",
        "See the the caveats in the documentation: http://pandas.pydata.org/pandas-docs/stable/indexing.html#indexing-view-versus-copy\n",
        "  f[newcolname] = 0\n",
        "/home/mirthbottle/anaconda/lib/python2.7/site-packages/pandas/core/indexing.py:415: SettingWithCopyWarning: \n",
        "A value is trying to be set on a copy of a slice from a DataFrame.\n",
        "Try using .loc[row_indexer,col_indexer] = value instead\n",
        "\n",
        "See the the caveats in the documentation: http://pandas.pydata.org/pandas-docs/stable/indexing.html#indexing-view-versus-copy\n",
        "  self.obj[item] = s\n"
       ]
      },
      {
       "output_type": "stream",
       "stream": "stdout",
       "text": [
        "CH0010645932\n",
        "CH0038388911"
       ]
      },
      {
       "output_type": "stream",
       "stream": "stdout",
       "text": [
        "\n",
        "DE0005552004"
       ]
      },
      {
       "output_type": "stream",
       "stream": "stdout",
       "text": [
        "\n",
        "DE0005557508"
       ]
      },
      {
       "output_type": "stream",
       "stream": "stdout",
       "text": [
        "\n",
        "DE0005937007"
       ]
      },
      {
       "output_type": "stream",
       "stream": "stdout",
       "text": [
        "\n",
        "DE0006047004"
       ]
      },
      {
       "output_type": "stream",
       "stream": "stdout",
       "text": [
        "\n",
        "DE0006070006"
       ]
      },
      {
       "output_type": "stream",
       "stream": "stdout",
       "text": [
        "\n",
        "DE0006483001"
       ]
      },
      {
       "output_type": "stream",
       "stream": "stdout",
       "text": [
        "\n",
        "DE0006599905"
       ]
      },
      {
       "output_type": "stream",
       "stream": "stdout",
       "text": [
        "\n",
        "DE000BASF111"
       ]
      },
      {
       "output_type": "stream",
       "stream": "stdout",
       "text": [
        "\n",
        "DK0010234467"
       ]
      },
      {
       "output_type": "stream",
       "stream": "stdout",
       "text": [
        "\n",
        "ES0173093115"
       ]
      },
      {
       "output_type": "stream",
       "stream": "stdout",
       "text": [
        "\n",
        "ES0178430E18"
       ]
      },
      {
       "output_type": "stream",
       "stream": "stdout",
       "text": [
        "\n",
        "FR0000120073"
       ]
      },
      {
       "output_type": "stream",
       "stream": "stdout",
       "text": [
        "\n",
        "FR0000121972"
       ]
      },
      {
       "output_type": "stream",
       "stream": "stdout",
       "text": [
        "\n",
        "FR0000125338"
       ]
      },
      {
       "output_type": "stream",
       "stream": "stdout",
       "text": [
        "\n",
        "FR0000125486"
       ]
      },
      {
       "output_type": "stream",
       "stream": "stdout",
       "text": [
        "\n",
        "FR0000131906"
       ]
      },
      {
       "output_type": "stream",
       "stream": "stdout",
       "text": [
        "\n",
        "GB0000961622"
       ]
      },
      {
       "output_type": "stream",
       "stream": "stdout",
       "text": [
        "\n",
        "GB0003318416"
       ]
      },
      {
       "output_type": "stream",
       "stream": "stdout",
       "text": [
        "\n",
        "GB0004544929"
       ]
      },
      {
       "output_type": "stream",
       "stream": "stdout",
       "text": [
        "\n",
        "GB0004915632"
       ]
      },
      {
       "output_type": "stream",
       "stream": "stdout",
       "text": [
        "\n",
        "GB0006731235"
       ]
      },
      {
       "output_type": "stream",
       "stream": "stdout",
       "text": [
        "\n",
        "GB0006776081"
       ]
      },
      {
       "output_type": "stream",
       "stream": "stdout",
       "text": [
        "\n",
        "GB0007188757"
       ]
      },
      {
       "output_type": "stream",
       "stream": "stdout",
       "text": [
        "\n",
        "GB0008847096"
       ]
      },
      {
       "output_type": "stream",
       "stream": "stdout",
       "text": [
        "\n",
        "GB00B033F229"
       ]
      },
      {
       "output_type": "stream",
       "stream": "stdout",
       "text": [
        "\n",
        "GB00B07KD360"
       ]
      },
      {
       "output_type": "stream",
       "stream": "stdout",
       "text": [
        "\n",
        "GB00B19NKB76"
       ]
      },
      {
       "output_type": "stream",
       "stream": "stdout",
       "text": [
        "\n",
        "GB00B1FH8J72"
       ]
      },
      {
       "output_type": "stream",
       "stream": "stdout",
       "text": [
        "\n",
        "GB00B1XZS820"
       ]
      },
      {
       "output_type": "stream",
       "stream": "stdout",
       "text": [
        "\n",
        "GB00B6YTLS95"
       ]
      },
      {
       "output_type": "stream",
       "stream": "stdout",
       "text": [
        "\n",
        "GB00BN33FD40"
       ]
      },
      {
       "output_type": "stream",
       "stream": "stdout",
       "text": [
        "\n",
        "INE012A01025"
       ]
      },
      {
       "output_type": "stream",
       "stream": "stdout",
       "text": [
        "\n",
        "IT0001207098"
       ]
      },
      {
       "output_type": "stream",
       "stream": "stdout",
       "text": [
        "\n",
        "IT0001465159"
       ]
      },
      {
       "output_type": "stream",
       "stream": "stdout",
       "text": [
        "\n",
        "LU0323134006"
       ]
      },
      {
       "output_type": "stream",
       "stream": "stdout",
       "text": [
        "\n",
        "NL0000226223"
       ]
      },
      {
       "output_type": "stream",
       "stream": "stdout",
       "text": [
        "\n",
        "NL0000888691"
       ]
      },
      {
       "output_type": "stream",
       "stream": "stdout",
       "text": [
        "\n",
        "NO0005806802"
       ]
      },
      {
       "output_type": "stream",
       "stream": "stdout",
       "text": [
        "\n",
        "SE0001174889"
       ]
      },
      {
       "output_type": "stream",
       "stream": "stdout",
       "text": [
        "\n",
        "ZAE000006284"
       ]
      },
      {
       "output_type": "stream",
       "stream": "stdout",
       "text": [
        "\n",
        "ZAE000011953"
       ]
      },
      {
       "output_type": "stream",
       "stream": "stdout",
       "text": [
        "\n",
        "ZAE000015228"
       ]
      },
      {
       "output_type": "stream",
       "stream": "stdout",
       "text": [
        "\n",
        "ZAE000018123"
       ]
      },
      {
       "output_type": "stream",
       "stream": "stdout",
       "text": [
        "\n",
        "ZAE000026480"
       ]
      },
      {
       "output_type": "stream",
       "stream": "stdout",
       "text": [
        "\n",
        "ZAE000042164"
       ]
      },
      {
       "output_type": "stream",
       "stream": "stdout",
       "text": [
        "\n",
        "ZAE000071676"
       ]
      },
      {
       "output_type": "stream",
       "stream": "stdout",
       "text": [
        "\n",
        "ZAE000073441"
       ]
      },
      {
       "output_type": "stream",
       "stream": "stdout",
       "text": [
        "\n",
        "ZAE000085346"
       ]
      },
      {
       "output_type": "stream",
       "stream": "stdout",
       "text": [
        "\n",
        "ZAE000132577"
       ]
      },
      {
       "output_type": "stream",
       "stream": "stdout",
       "text": [
        "\n",
        "ZAE000152617"
       ]
      },
      {
       "output_type": "stream",
       "stream": "stdout",
       "text": [
        "\n"
       ]
      },
      {
       "output_type": "stream",
       "stream": "stderr",
       "text": [
        "ghgmosh.py:148: SettingWithCopyWarning: \n",
        "A value is trying to be set on a copy of a slice from a DataFrame.\n",
        "Try using .loc[row_indexer,col_indexer] = value instead\n",
        "\n",
        "See the the caveats in the documentation: http://pandas.pydata.org/pandas-docs/stable/indexing.html#indexing-view-versus-copy\n",
        "  f[\"ISIN\"] = c\n"
       ]
      }
     ],
     "prompt_number": 4
    },
    {
     "cell_type": "code",
     "collapsed": false,
     "input": [
      "gabs = gm.compute_percent_changes(g,\"1and2 total\")\n",
      "gabs.head()"
     ],
     "language": "python",
     "metadata": {},
     "outputs": [
      {
       "html": [
        "<div style=\"max-height:1000px;max-width:1500px;overflow:auto;\">\n",
        "<table border=\"1\" class=\"dataframe\">\n",
        "  <thead>\n",
        "    <tr style=\"text-align: right;\">\n",
        "      <th></th>\n",
        "      <th></th>\n",
        "      <th>cogs</th>\n",
        "      <th>revt</th>\n",
        "      <th>Organisation</th>\n",
        "      <th>Scope 1</th>\n",
        "      <th>Scope 2</th>\n",
        "      <th>has Scope 1and2</th>\n",
        "      <th>1and2 total</th>\n",
        "      <th>1and2 intensity</th>\n",
        "      <th>percent change 1and2 intensity</th>\n",
        "      <th>percent change 1and2 total</th>\n",
        "    </tr>\n",
        "    <tr>\n",
        "      <th>ISIN</th>\n",
        "      <th>year</th>\n",
        "      <th></th>\n",
        "      <th></th>\n",
        "      <th></th>\n",
        "      <th></th>\n",
        "      <th></th>\n",
        "      <th></th>\n",
        "      <th></th>\n",
        "      <th></th>\n",
        "      <th></th>\n",
        "      <th></th>\n",
        "    </tr>\n",
        "  </thead>\n",
        "  <tbody>\n",
        "    <tr>\n",
        "      <th rowspan=\"5\" valign=\"top\">AN8068571086</th>\n",
        "      <th>2010</th>\n",
        "      <td> 18587</td>\n",
        "      <td> 27447</td>\n",
        "      <td> Schlumberger Limited</td>\n",
        "      <td> 1315000</td>\n",
        "      <td> 390000</td>\n",
        "      <td> 1</td>\n",
        "      <td> 1705000</td>\n",
        "      <td> 62.119722</td>\n",
        "      <td> 0.000000</td>\n",
        "      <td> 0.000000</td>\n",
        "    </tr>\n",
        "    <tr>\n",
        "      <th>2011</th>\n",
        "      <td> 28077</td>\n",
        "      <td> 39540</td>\n",
        "      <td> Schlumberger Limited</td>\n",
        "      <td> 1610000</td>\n",
        "      <td> 330000</td>\n",
        "      <td> 1</td>\n",
        "      <td> 1940000</td>\n",
        "      <td> 49.064239</td>\n",
        "      <td> 0.210166</td>\n",
        "      <td>-0.137830</td>\n",
        "    </tr>\n",
        "    <tr>\n",
        "      <th>2012</th>\n",
        "      <td> 29567</td>\n",
        "      <td> 42149</td>\n",
        "      <td> Schlumberger Limited</td>\n",
        "      <td> 1761333</td>\n",
        "      <td> 341824</td>\n",
        "      <td> 1</td>\n",
        "      <td> 2103157</td>\n",
        "      <td> 49.898147</td>\n",
        "      <td>-0.016996</td>\n",
        "      <td>-0.084102</td>\n",
        "    </tr>\n",
        "    <tr>\n",
        "      <th>2013</th>\n",
        "      <td> 31504</td>\n",
        "      <td> 45266</td>\n",
        "      <td> Schlumberger Limited</td>\n",
        "      <td> 2200000</td>\n",
        "      <td> 550000</td>\n",
        "      <td> 1</td>\n",
        "      <td> 2750000</td>\n",
        "      <td> 60.751999</td>\n",
        "      <td>-0.217520</td>\n",
        "      <td>-0.307558</td>\n",
        "    </tr>\n",
        "    <tr>\n",
        "      <th>2014</th>\n",
        "      <td> 33659</td>\n",
        "      <td> 48580</td>\n",
        "      <td> Schlumberger Limited</td>\n",
        "      <td> 1790000</td>\n",
        "      <td> 430000</td>\n",
        "      <td> 1</td>\n",
        "      <td> 2220000</td>\n",
        "      <td> 45.697818</td>\n",
        "      <td> 0.247797</td>\n",
        "      <td> 0.192727</td>\n",
        "    </tr>\n",
        "  </tbody>\n",
        "</table>\n",
        "</div>"
       ],
       "metadata": {},
       "output_type": "pyout",
       "prompt_number": 10,
       "text": [
        "                    cogs   revt          Organisation  Scope 1  Scope 2  \\\n",
        "ISIN         year                                                         \n",
        "AN8068571086 2010  18587  27447  Schlumberger Limited  1315000   390000   \n",
        "             2011  28077  39540  Schlumberger Limited  1610000   330000   \n",
        "             2012  29567  42149  Schlumberger Limited  1761333   341824   \n",
        "             2013  31504  45266  Schlumberger Limited  2200000   550000   \n",
        "             2014  33659  48580  Schlumberger Limited  1790000   430000   \n",
        "\n",
        "                   has Scope 1and2  1and2 total  1and2 intensity  \\\n",
        "ISIN         year                                                  \n",
        "AN8068571086 2010                1      1705000        62.119722   \n",
        "             2011                1      1940000        49.064239   \n",
        "             2012                1      2103157        49.898147   \n",
        "             2013                1      2750000        60.751999   \n",
        "             2014                1      2220000        45.697818   \n",
        "\n",
        "                   percent change 1and2 intensity  percent change 1and2 total  \n",
        "ISIN         year                                                              \n",
        "AN8068571086 2010                        0.000000                    0.000000  \n",
        "             2011                        0.210166                   -0.137830  \n",
        "             2012                       -0.016996                   -0.084102  \n",
        "             2013                       -0.217520                   -0.307558  \n",
        "             2014                        0.247797                    0.192727  "
       ]
      }
     ],
     "prompt_number": 10
    },
    {
     "cell_type": "code",
     "collapsed": false,
     "input": [
      "gabs.to_pickle(\"../CDPdata/ghgrevs_with_changes.pkl\")\n",
      "len(gabs.index.levels[0])\n",
      "# g[[\"percent change 1and2 intensity\"]].head()"
     ],
     "language": "python",
     "metadata": {},
     "outputs": [
      {
       "metadata": {},
       "output_type": "pyout",
       "prompt_number": 11,
       "text": [
        "268"
       ]
      }
     ],
     "prompt_number": 11
    },
    {
     "cell_type": "code",
     "collapsed": false,
     "input": [
      "gabs.columns"
     ],
     "language": "python",
     "metadata": {},
     "outputs": [
      {
       "metadata": {},
       "output_type": "pyout",
       "prompt_number": 12,
       "text": [
        "Index([u'cogs', u'revt', u'Organisation', u'Scope 1', u'Scope 2', u'has Scope 1and2', u'1and2 total', u'1and2 intensity', u'percent change 1and2 intensity', u'percent change 1and2 total'], dtype='object')"
       ]
      }
     ],
     "prompt_number": 12
    },
    {
     "cell_type": "code",
     "collapsed": false,
     "input": [],
     "language": "python",
     "metadata": {},
     "outputs": []
    }
   ],
   "metadata": {}
  }
 ]
}