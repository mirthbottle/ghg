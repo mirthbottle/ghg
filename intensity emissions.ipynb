{
 "metadata": {
  "name": "",
  "signature": "sha256:a4679498c57822fd40b1fda0da7952a2863e79f976b2a025928eeac2917d2203"
 },
 "nbformat": 3,
 "nbformat_minor": 0,
 "worksheets": [
  {
   "cells": [
    {
     "cell_type": "code",
     "collapsed": false,
     "input": [
      "import pandas as pd"
     ],
     "language": "python",
     "metadata": {},
     "outputs": [],
     "prompt_number": 1
    },
    {
     "cell_type": "code",
     "collapsed": false,
     "input": [
      "import ghgmosh as gm"
     ],
     "language": "python",
     "metadata": {},
     "outputs": [],
     "prompt_number": 2
    },
    {
     "cell_type": "code",
     "collapsed": false,
     "input": [
      "reload(gm)"
     ],
     "language": "python",
     "metadata": {},
     "outputs": [
      {
       "metadata": {},
       "output_type": "pyout",
       "prompt_number": 174,
       "text": [
        "<module 'ghgmosh' from 'ghgmosh.py'>"
       ]
      }
     ],
     "prompt_number": 174
    },
    {
     "cell_type": "markdown",
     "metadata": {},
     "source": [
      "## get data from compustat"
     ]
    },
    {
     "cell_type": "code",
     "collapsed": false,
     "input": [
      "usa = pd.io.excel.read_excel(\"../CDPdata/s12_american.xlsx\")\n",
      "world = pd.io.excel.read_excel(\"../CDPdata/s12_world.xlsx\")"
     ],
     "language": "python",
     "metadata": {},
     "outputs": [],
     "prompt_number": 40
    },
    {
     "cell_type": "code",
     "collapsed": false,
     "input": [
      "world.columns"
     ],
     "language": "python",
     "metadata": {},
     "outputs": [
      {
       "metadata": {},
       "output_type": "pyout",
       "prompt_number": 38,
       "text": [
        "Index([u'Global Company Key', u'Industry Format', u'Data Format', u'Level of Consolidation - Company Annual Descriptor', u'Population Source', u'Data Year - Fiscal', u'Data Date', u'Cost of Goods Sold', u'Revenue - Total', u'ISIN', u'Company Name', u'Active/Inactive Status Marker', u'Current ISO Country Code - Incorporation'], dtype='object')"
       ]
      }
     ],
     "prompt_number": 38
    },
    {
     "cell_type": "code",
     "collapsed": false,
     "input": [
      "world.rename(columns={\"International Security Identification Number\":\"ISIN\"}, inplace=True)\n",
      "world = world[world[\"ISIN\"].isnull()==False]\n",
      "world = world[world[\"Revenue - Total\"].isnull()==False]\n",
      "len(world[\"ISIN\"].value_counts().index) # 337 out of 457 requested\n",
      "# chinese compnaies didn't return the ISIN in the column, don't know why"
     ],
     "language": "python",
     "metadata": {},
     "outputs": [
      {
       "metadata": {},
       "output_type": "pyout",
       "prompt_number": 41,
       "text": [
        "337"
       ]
      }
     ],
     "prompt_number": 41
    },
    {
     "cell_type": "code",
     "collapsed": false,
     "input": [
      "usa.rename(columns={\"Ticker Symbol\":\"Ticker\"}, inplace=True)\n",
      "len(usa['Ticker'].value_counts().index) # 194 out of 197 requested"
     ],
     "language": "python",
     "metadata": {},
     "outputs": [
      {
       "metadata": {},
       "output_type": "pyout",
       "prompt_number": 43,
       "text": [
        "194"
       ]
      }
     ],
     "prompt_number": 43
    },
    {
     "cell_type": "code",
     "collapsed": false,
     "input": [
      "orginfos = pd.read_pickle(\"../CDPdata/orginfos.pkl\")"
     ],
     "language": "python",
     "metadata": {},
     "outputs": [],
     "prompt_number": 10
    },
    {
     "cell_type": "code",
     "collapsed": false,
     "input": [
      "orginfos[\"Ticker\"] = orginfos[\"Ticker\"].apply(lambda(x): str(x).split(\" \")[0])"
     ],
     "language": "python",
     "metadata": {},
     "outputs": [],
     "prompt_number": 15
    },
    {
     "cell_type": "code",
     "collapsed": false,
     "input": [
      "orginfos_byticker = orginfos.reset_index().set_index(\"Ticker\")\n",
      "orginfos_byticker = orginfos_byticker[orginfos_byticker[\"Country\"]== \"USA\"]\n",
      "orginfos_byisin = orginfos.reset_index().set_index(\"ISIN\")"
     ],
     "language": "python",
     "metadata": {},
     "outputs": [],
     "prompt_number": 17
    },
    {
     "cell_type": "code",
     "collapsed": false,
     "input": [
      "usa.set_index(\"Ticker\", inplace=True)\n",
      "world.set_index(\"ISIN\", inplace=True)"
     ],
     "language": "python",
     "metadata": {},
     "outputs": [],
     "prompt_number": 44
    },
    {
     "cell_type": "code",
     "collapsed": false,
     "input": [
      "usainfos = usa.join(orginfos_byticker[[\"Organisation\"]])\n",
      "worldinfos = world.join(orginfos_byisin[[\"Organisation\"]])"
     ],
     "language": "python",
     "metadata": {},
     "outputs": [],
     "prompt_number": 45
    },
    {
     "cell_type": "code",
     "collapsed": false,
     "input": [
      "# len(usainfos[\"Organisation\"].value_counts().index) # 194\n",
      "# len(worldinfos[\"Organisation\"].value_counts().index) # 337 perfect\n",
      "337+194"
     ],
     "language": "python",
     "metadata": {},
     "outputs": [
      {
       "metadata": {},
       "output_type": "pyout",
       "prompt_number": 72,
       "text": [
        "531"
       ]
      }
     ],
     "prompt_number": 72
    },
    {
     "cell_type": "code",
     "collapsed": false,
     "input": [
      "usainfos = usainfos.reset_index().set_index(\"Organisation\")\n",
      "worldinfos = worldinfos.reset_index().set_index(\"Organisation\")\n",
      "s12_financials = pd.concat([usainfos, worldinfos])\n",
      "s12_financials.to_pickle(\"../CDPdata/s12_financials.pkl\")"
     ],
     "language": "python",
     "metadata": {},
     "outputs": [],
     "prompt_number": 51
    },
    {
     "cell_type": "code",
     "collapsed": false,
     "input": [
      "s12_financials[\"ISO Currency Code\"].value_counts() # all USD thank goodness"
     ],
     "language": "python",
     "metadata": {},
     "outputs": [
      {
       "metadata": {},
       "output_type": "pyout",
       "prompt_number": 53,
       "text": [
        "USD    1148\n",
        "dtype: int64"
       ]
      }
     ],
     "prompt_number": 53
    },
    {
     "cell_type": "code",
     "collapsed": false,
     "input": [
      "# columns i need : year, revt, cogs\n",
      "# combine with scopes12_5 to compute intensities\n",
      "targets5 = pd.read_pickle(\"../CDPdata/2010to2014targets5yrs.pkl\")\n",
      "scopes12_5 = pd.read_pickle(\"../CDPdata/2010to2014scopes12fiveyrs.pkl\")"
     ],
     "language": "python",
     "metadata": {},
     "outputs": [],
     "prompt_number": 56
    },
    {
     "cell_type": "code",
     "collapsed": false,
     "input": [
      "s12_financials.rename(columns={\"Data Year - Fiscal\":\"year\", \"Revenue - Total\":\"Revenues\", \"Cost of Goods Sold\":\"COGS\"},inplace=True)\n",
      "s12_financials = s12_financials.reset_index().set_index([\"Organisation\",\"year\"])\n",
      "s12_ghgfins = s12_financials[[\"Revenues\", \"COGS\"]].join(scopes12_5[[\"Country\", \"GICS Industry\", \"scope1\", \"scope2\"]])"
     ],
     "language": "python",
     "metadata": {},
     "outputs": [],
     "prompt_number": 62
    },
    {
     "cell_type": "code",
     "collapsed": false,
     "input": [
      "s12_ghgfins[\"1and2 total\"] = s12_ghgfins[\"scope1\"]+ s12_ghgfins[\"scope2\"]\n",
      "s12_ghgfins[\"1and2 intensity\"] = s12_ghgfins[\"1and2 total\"]/s12_ghgfins[\"Revenues\"]\n",
      "s12_ghgfins = s12_ghgfins[s12_ghgfins[\"1and2 intensity\"].isnull() == False]"
     ],
     "language": "python",
     "metadata": {},
     "outputs": [],
     "prompt_number": 66
    },
    {
     "cell_type": "code",
     "collapsed": false,
     "input": [
      "len(s12_ghgfins.index.levels[0].value_counts().index) #531 either way but all companies might not have 5\n",
      "len(s12_ghgfins) # 3070 without taking out 1and2 intensities, 2579 taking out nulls"
     ],
     "language": "python",
     "metadata": {},
     "outputs": [
      {
       "metadata": {},
       "output_type": "pyout",
       "prompt_number": 75,
       "text": [
        "531"
       ]
      }
     ],
     "prompt_number": 75
    },
    {
     "cell_type": "code",
     "collapsed": false,
     "input": [
      "s12_ghgfins.to_pickle(\"../CDPdata/s12_ghgfins.pkl\")"
     ],
     "language": "python",
     "metadata": {},
     "outputs": [],
     "prompt_number": 79
    },
    {
     "cell_type": "code",
     "collapsed": false,
     "input": [
      "s12_ghgfins.head()"
     ],
     "language": "python",
     "metadata": {},
     "outputs": [
      {
       "html": [
        "<div style=\"max-height:1000px;max-width:1500px;overflow:auto;\">\n",
        "<table border=\"1\" class=\"dataframe\">\n",
        "  <thead>\n",
        "    <tr style=\"text-align: right;\">\n",
        "      <th></th>\n",
        "      <th></th>\n",
        "      <th>Revenues</th>\n",
        "      <th>COGS</th>\n",
        "      <th>Country</th>\n",
        "      <th>GICS Industry</th>\n",
        "      <th>scope1</th>\n",
        "      <th>scope2</th>\n",
        "      <th>1and2 total</th>\n",
        "      <th>1and2 intensity</th>\n",
        "    </tr>\n",
        "    <tr>\n",
        "      <th>Organisation</th>\n",
        "      <th>year</th>\n",
        "      <th></th>\n",
        "      <th></th>\n",
        "      <th></th>\n",
        "      <th></th>\n",
        "      <th></th>\n",
        "      <th></th>\n",
        "      <th></th>\n",
        "      <th></th>\n",
        "    </tr>\n",
        "  </thead>\n",
        "  <tbody>\n",
        "    <tr>\n",
        "      <th rowspan=\"5\" valign=\"top\">3M Company</th>\n",
        "      <th>2010</th>\n",
        "      <td> 26662</td>\n",
        "      <td> 12711</td>\n",
        "      <td> USA</td>\n",
        "      <td> Industrial Conglomerates</td>\n",
        "      <td> 3290000</td>\n",
        "      <td> 1690000</td>\n",
        "      <td> 4980000</td>\n",
        "      <td> 186.782687</td>\n",
        "    </tr>\n",
        "    <tr>\n",
        "      <th>2011</th>\n",
        "      <td> 29611</td>\n",
        "      <td> 14457</td>\n",
        "      <td> USA</td>\n",
        "      <td> Industrial Conglomerates</td>\n",
        "      <td> 4300000</td>\n",
        "      <td> 1950000</td>\n",
        "      <td> 6250000</td>\n",
        "      <td> 211.070210</td>\n",
        "    </tr>\n",
        "    <tr>\n",
        "      <th>2012</th>\n",
        "      <td> 29904</td>\n",
        "      <td> 14397</td>\n",
        "      <td> USA</td>\n",
        "      <td> Industrial Conglomerates</td>\n",
        "      <td> 4060000</td>\n",
        "      <td> 2030000</td>\n",
        "      <td> 6090000</td>\n",
        "      <td> 203.651685</td>\n",
        "    </tr>\n",
        "    <tr>\n",
        "      <th>2013</th>\n",
        "      <td> 30871</td>\n",
        "      <td> 14735</td>\n",
        "      <td> USA</td>\n",
        "      <td> Industrial Conglomerates</td>\n",
        "      <td> 4540000</td>\n",
        "      <td> 2230000</td>\n",
        "      <td> 6770000</td>\n",
        "      <td> 219.299666</td>\n",
        "    </tr>\n",
        "    <tr>\n",
        "      <th>2014</th>\n",
        "      <td> 31821</td>\n",
        "      <td> 15039</td>\n",
        "      <td> USA</td>\n",
        "      <td> Industrial Conglomerates</td>\n",
        "      <td> 4550000</td>\n",
        "      <td> 2230000</td>\n",
        "      <td> 6780000</td>\n",
        "      <td> 213.066843</td>\n",
        "    </tr>\n",
        "  </tbody>\n",
        "</table>\n",
        "</div>"
       ],
       "metadata": {},
       "output_type": "pyout",
       "prompt_number": 80,
       "text": [
        "                   Revenues   COGS Country             GICS Industry   scope1  \\\n",
        "Organisation year                                                               \n",
        "3M Company   2010     26662  12711     USA  Industrial Conglomerates  3290000   \n",
        "             2011     29611  14457     USA  Industrial Conglomerates  4300000   \n",
        "             2012     29904  14397     USA  Industrial Conglomerates  4060000   \n",
        "             2013     30871  14735     USA  Industrial Conglomerates  4540000   \n",
        "             2014     31821  15039     USA  Industrial Conglomerates  4550000   \n",
        "\n",
        "                    scope2  1and2 total  1and2 intensity  \n",
        "Organisation year                                         \n",
        "3M Company   2010  1690000      4980000       186.782687  \n",
        "             2011  1950000      6250000       211.070210  \n",
        "             2012  2030000      6090000       203.651685  \n",
        "             2013  2230000      6770000       219.299666  \n",
        "             2014  2230000      6780000       213.066843  "
       ]
      }
     ],
     "prompt_number": 80
    },
    {
     "cell_type": "markdown",
     "metadata": {},
     "source": [
      "# compute annual changes in intensity "
     ]
    },
    {
     "cell_type": "code",
     "collapsed": false,
     "input": [
      "ghgfins = pd.read_pickle(\"../CDPdata/s12_ghgfins.pkl\")\n",
      "ghgfins.columns"
     ],
     "language": "python",
     "metadata": {},
     "outputs": [
      {
       "metadata": {},
       "output_type": "pyout",
       "prompt_number": 69,
       "text": [
        "Index([u'Revenues', u'COGS', u'Country', u'GICS Industry', u'scope1', u'scope2', u'1and2 total', u'1and2 intensity'], dtype='object')"
       ]
      }
     ],
     "prompt_number": 69
    },
    {
     "cell_type": "code",
     "collapsed": false,
     "input": [
      "# f[\"1and2 intensity\"][2014]\n",
      "f = ghgrevs.loc[\"DE0005557508\"]\n",
      "# ef = gm.percent_change(f,\"1and2 intensity\")\n",
      "# ef[[\"percent change 1and2 intensity\"]]"
     ],
     "language": "python",
     "metadata": {},
     "outputs": [],
     "prompt_number": 9
    },
    {
     "cell_type": "code",
     "collapsed": false,
     "input": [
      "g = gm.compute_percent_changes(ghgrevs, \"1and2 intensity\")"
     ],
     "language": "python",
     "metadata": {},
     "outputs": [
      {
       "output_type": "stream",
       "stream": "stderr",
       "text": [
        "ghgmosh.py:159: SettingWithCopyWarning: \n",
        "A value is trying to be set on a copy of a slice from a DataFrame.\n",
        "Try using .loc[row_indexer,col_indexer] = value instead\n",
        "\n",
        "See the the caveats in the documentation: http://pandas.pydata.org/pandas-docs/stable/indexing.html#indexing-view-versus-copy\n",
        "  f[newcolname] = 0\n",
        "/home/mirthbottle/anaconda/lib/python2.7/site-packages/pandas/core/indexing.py:415: SettingWithCopyWarning: \n",
        "A value is trying to be set on a copy of a slice from a DataFrame.\n",
        "Try using .loc[row_indexer,col_indexer] = value instead\n",
        "\n",
        "See the the caveats in the documentation: http://pandas.pydata.org/pandas-docs/stable/indexing.html#indexing-view-versus-copy\n",
        "  self.obj[item] = s\n"
       ]
      },
      {
       "output_type": "stream",
       "stream": "stdout",
       "text": [
        "CH0010645932\n",
        "CH0038388911"
       ]
      },
      {
       "output_type": "stream",
       "stream": "stdout",
       "text": [
        "\n",
        "DE0005552004"
       ]
      },
      {
       "output_type": "stream",
       "stream": "stdout",
       "text": [
        "\n",
        "DE0005557508"
       ]
      },
      {
       "output_type": "stream",
       "stream": "stdout",
       "text": [
        "\n",
        "DE0005937007"
       ]
      },
      {
       "output_type": "stream",
       "stream": "stdout",
       "text": [
        "\n",
        "DE0006047004"
       ]
      },
      {
       "output_type": "stream",
       "stream": "stdout",
       "text": [
        "\n",
        "DE0006070006"
       ]
      },
      {
       "output_type": "stream",
       "stream": "stdout",
       "text": [
        "\n",
        "DE0006483001"
       ]
      },
      {
       "output_type": "stream",
       "stream": "stdout",
       "text": [
        "\n",
        "DE0006599905"
       ]
      },
      {
       "output_type": "stream",
       "stream": "stdout",
       "text": [
        "\n",
        "DE000BASF111"
       ]
      },
      {
       "output_type": "stream",
       "stream": "stdout",
       "text": [
        "\n",
        "DK0010234467"
       ]
      },
      {
       "output_type": "stream",
       "stream": "stdout",
       "text": [
        "\n",
        "ES0173093115"
       ]
      },
      {
       "output_type": "stream",
       "stream": "stdout",
       "text": [
        "\n",
        "ES0178430E18"
       ]
      },
      {
       "output_type": "stream",
       "stream": "stdout",
       "text": [
        "\n",
        "FR0000120073"
       ]
      },
      {
       "output_type": "stream",
       "stream": "stdout",
       "text": [
        "\n",
        "FR0000121972"
       ]
      },
      {
       "output_type": "stream",
       "stream": "stdout",
       "text": [
        "\n",
        "FR0000125338"
       ]
      },
      {
       "output_type": "stream",
       "stream": "stdout",
       "text": [
        "\n",
        "FR0000125486"
       ]
      },
      {
       "output_type": "stream",
       "stream": "stdout",
       "text": [
        "\n",
        "FR0000131906"
       ]
      },
      {
       "output_type": "stream",
       "stream": "stdout",
       "text": [
        "\n",
        "GB0000961622"
       ]
      },
      {
       "output_type": "stream",
       "stream": "stdout",
       "text": [
        "\n",
        "GB0003318416"
       ]
      },
      {
       "output_type": "stream",
       "stream": "stdout",
       "text": [
        "\n",
        "GB0004544929"
       ]
      },
      {
       "output_type": "stream",
       "stream": "stdout",
       "text": [
        "\n",
        "GB0004915632"
       ]
      },
      {
       "output_type": "stream",
       "stream": "stdout",
       "text": [
        "\n",
        "GB0006731235"
       ]
      },
      {
       "output_type": "stream",
       "stream": "stdout",
       "text": [
        "\n",
        "GB0006776081"
       ]
      },
      {
       "output_type": "stream",
       "stream": "stdout",
       "text": [
        "\n",
        "GB0007188757"
       ]
      },
      {
       "output_type": "stream",
       "stream": "stdout",
       "text": [
        "\n",
        "GB0008847096"
       ]
      },
      {
       "output_type": "stream",
       "stream": "stdout",
       "text": [
        "\n",
        "GB00B033F229"
       ]
      },
      {
       "output_type": "stream",
       "stream": "stdout",
       "text": [
        "\n",
        "GB00B07KD360"
       ]
      },
      {
       "output_type": "stream",
       "stream": "stdout",
       "text": [
        "\n",
        "GB00B19NKB76"
       ]
      },
      {
       "output_type": "stream",
       "stream": "stdout",
       "text": [
        "\n",
        "GB00B1FH8J72"
       ]
      },
      {
       "output_type": "stream",
       "stream": "stdout",
       "text": [
        "\n",
        "GB00B1XZS820"
       ]
      },
      {
       "output_type": "stream",
       "stream": "stdout",
       "text": [
        "\n",
        "GB00B6YTLS95"
       ]
      },
      {
       "output_type": "stream",
       "stream": "stdout",
       "text": [
        "\n",
        "GB00BN33FD40"
       ]
      },
      {
       "output_type": "stream",
       "stream": "stdout",
       "text": [
        "\n",
        "INE012A01025"
       ]
      },
      {
       "output_type": "stream",
       "stream": "stdout",
       "text": [
        "\n",
        "IT0001207098"
       ]
      },
      {
       "output_type": "stream",
       "stream": "stdout",
       "text": [
        "\n",
        "IT0001465159"
       ]
      },
      {
       "output_type": "stream",
       "stream": "stdout",
       "text": [
        "\n",
        "LU0323134006"
       ]
      },
      {
       "output_type": "stream",
       "stream": "stdout",
       "text": [
        "\n",
        "NL0000226223"
       ]
      },
      {
       "output_type": "stream",
       "stream": "stdout",
       "text": [
        "\n",
        "NL0000888691"
       ]
      },
      {
       "output_type": "stream",
       "stream": "stdout",
       "text": [
        "\n",
        "NO0005806802"
       ]
      },
      {
       "output_type": "stream",
       "stream": "stdout",
       "text": [
        "\n",
        "SE0001174889"
       ]
      },
      {
       "output_type": "stream",
       "stream": "stdout",
       "text": [
        "\n",
        "ZAE000006284"
       ]
      },
      {
       "output_type": "stream",
       "stream": "stdout",
       "text": [
        "\n",
        "ZAE000011953"
       ]
      },
      {
       "output_type": "stream",
       "stream": "stdout",
       "text": [
        "\n",
        "ZAE000015228"
       ]
      },
      {
       "output_type": "stream",
       "stream": "stdout",
       "text": [
        "\n",
        "ZAE000018123"
       ]
      },
      {
       "output_type": "stream",
       "stream": "stdout",
       "text": [
        "\n",
        "ZAE000026480"
       ]
      },
      {
       "output_type": "stream",
       "stream": "stdout",
       "text": [
        "\n",
        "ZAE000042164"
       ]
      },
      {
       "output_type": "stream",
       "stream": "stdout",
       "text": [
        "\n",
        "ZAE000071676"
       ]
      },
      {
       "output_type": "stream",
       "stream": "stdout",
       "text": [
        "\n",
        "ZAE000073441"
       ]
      },
      {
       "output_type": "stream",
       "stream": "stdout",
       "text": [
        "\n",
        "ZAE000085346"
       ]
      },
      {
       "output_type": "stream",
       "stream": "stdout",
       "text": [
        "\n",
        "ZAE000132577"
       ]
      },
      {
       "output_type": "stream",
       "stream": "stdout",
       "text": [
        "\n",
        "ZAE000152617"
       ]
      },
      {
       "output_type": "stream",
       "stream": "stdout",
       "text": [
        "\n"
       ]
      },
      {
       "output_type": "stream",
       "stream": "stderr",
       "text": [
        "ghgmosh.py:148: SettingWithCopyWarning: \n",
        "A value is trying to be set on a copy of a slice from a DataFrame.\n",
        "Try using .loc[row_indexer,col_indexer] = value instead\n",
        "\n",
        "See the the caveats in the documentation: http://pandas.pydata.org/pandas-docs/stable/indexing.html#indexing-view-versus-copy\n",
        "  f[\"ISIN\"] = c\n"
       ]
      }
     ],
     "prompt_number": 4
    },
    {
     "cell_type": "code",
     "collapsed": false,
     "input": [
      "gabs = gm.compute_percent_changes(g,\"1and2 total\")\n",
      "gabs.head()"
     ],
     "language": "python",
     "metadata": {},
     "outputs": [
      {
       "html": [
        "<div style=\"max-height:1000px;max-width:1500px;overflow:auto;\">\n",
        "<table border=\"1\" class=\"dataframe\">\n",
        "  <thead>\n",
        "    <tr style=\"text-align: right;\">\n",
        "      <th></th>\n",
        "      <th></th>\n",
        "      <th>cogs</th>\n",
        "      <th>revt</th>\n",
        "      <th>Organisation</th>\n",
        "      <th>Scope 1</th>\n",
        "      <th>Scope 2</th>\n",
        "      <th>has Scope 1and2</th>\n",
        "      <th>1and2 total</th>\n",
        "      <th>1and2 intensity</th>\n",
        "      <th>percent change 1and2 intensity</th>\n",
        "      <th>percent change 1and2 total</th>\n",
        "    </tr>\n",
        "    <tr>\n",
        "      <th>ISIN</th>\n",
        "      <th>year</th>\n",
        "      <th></th>\n",
        "      <th></th>\n",
        "      <th></th>\n",
        "      <th></th>\n",
        "      <th></th>\n",
        "      <th></th>\n",
        "      <th></th>\n",
        "      <th></th>\n",
        "      <th></th>\n",
        "      <th></th>\n",
        "    </tr>\n",
        "  </thead>\n",
        "  <tbody>\n",
        "    <tr>\n",
        "      <th rowspan=\"5\" valign=\"top\">AN8068571086</th>\n",
        "      <th>2010</th>\n",
        "      <td> 18587</td>\n",
        "      <td> 27447</td>\n",
        "      <td> Schlumberger Limited</td>\n",
        "      <td> 1315000</td>\n",
        "      <td> 390000</td>\n",
        "      <td> 1</td>\n",
        "      <td> 1705000</td>\n",
        "      <td> 62.119722</td>\n",
        "      <td> 0.000000</td>\n",
        "      <td> 0.000000</td>\n",
        "    </tr>\n",
        "    <tr>\n",
        "      <th>2011</th>\n",
        "      <td> 28077</td>\n",
        "      <td> 39540</td>\n",
        "      <td> Schlumberger Limited</td>\n",
        "      <td> 1610000</td>\n",
        "      <td> 330000</td>\n",
        "      <td> 1</td>\n",
        "      <td> 1940000</td>\n",
        "      <td> 49.064239</td>\n",
        "      <td> 0.210166</td>\n",
        "      <td>-0.137830</td>\n",
        "    </tr>\n",
        "    <tr>\n",
        "      <th>2012</th>\n",
        "      <td> 29567</td>\n",
        "      <td> 42149</td>\n",
        "      <td> Schlumberger Limited</td>\n",
        "      <td> 1761333</td>\n",
        "      <td> 341824</td>\n",
        "      <td> 1</td>\n",
        "      <td> 2103157</td>\n",
        "      <td> 49.898147</td>\n",
        "      <td>-0.016996</td>\n",
        "      <td>-0.084102</td>\n",
        "    </tr>\n",
        "    <tr>\n",
        "      <th>2013</th>\n",
        "      <td> 31504</td>\n",
        "      <td> 45266</td>\n",
        "      <td> Schlumberger Limited</td>\n",
        "      <td> 2200000</td>\n",
        "      <td> 550000</td>\n",
        "      <td> 1</td>\n",
        "      <td> 2750000</td>\n",
        "      <td> 60.751999</td>\n",
        "      <td>-0.217520</td>\n",
        "      <td>-0.307558</td>\n",
        "    </tr>\n",
        "    <tr>\n",
        "      <th>2014</th>\n",
        "      <td> 33659</td>\n",
        "      <td> 48580</td>\n",
        "      <td> Schlumberger Limited</td>\n",
        "      <td> 1790000</td>\n",
        "      <td> 430000</td>\n",
        "      <td> 1</td>\n",
        "      <td> 2220000</td>\n",
        "      <td> 45.697818</td>\n",
        "      <td> 0.247797</td>\n",
        "      <td> 0.192727</td>\n",
        "    </tr>\n",
        "  </tbody>\n",
        "</table>\n",
        "</div>"
       ],
       "metadata": {},
       "output_type": "pyout",
       "prompt_number": 10,
       "text": [
        "                    cogs   revt          Organisation  Scope 1  Scope 2  \\\n",
        "ISIN         year                                                         \n",
        "AN8068571086 2010  18587  27447  Schlumberger Limited  1315000   390000   \n",
        "             2011  28077  39540  Schlumberger Limited  1610000   330000   \n",
        "             2012  29567  42149  Schlumberger Limited  1761333   341824   \n",
        "             2013  31504  45266  Schlumberger Limited  2200000   550000   \n",
        "             2014  33659  48580  Schlumberger Limited  1790000   430000   \n",
        "\n",
        "                   has Scope 1and2  1and2 total  1and2 intensity  \\\n",
        "ISIN         year                                                  \n",
        "AN8068571086 2010                1      1705000        62.119722   \n",
        "             2011                1      1940000        49.064239   \n",
        "             2012                1      2103157        49.898147   \n",
        "             2013                1      2750000        60.751999   \n",
        "             2014                1      2220000        45.697818   \n",
        "\n",
        "                   percent change 1and2 intensity  percent change 1and2 total  \n",
        "ISIN         year                                                              \n",
        "AN8068571086 2010                        0.000000                    0.000000  \n",
        "             2011                        0.210166                   -0.137830  \n",
        "             2012                       -0.016996                   -0.084102  \n",
        "             2013                       -0.217520                   -0.307558  \n",
        "             2014                        0.247797                    0.192727  "
       ]
      }
     ],
     "prompt_number": 10
    },
    {
     "cell_type": "code",
     "collapsed": false,
     "input": [
      "gabs.to_pickle(\"../CDPdata/ghgrevs_with_changes.pkl\")\n",
      "len(gabs.index.levels[0])\n",
      "# g[[\"percent change 1and2 intensity\"]].head()"
     ],
     "language": "python",
     "metadata": {},
     "outputs": [
      {
       "metadata": {},
       "output_type": "pyout",
       "prompt_number": 11,
       "text": [
        "268"
       ]
      }
     ],
     "prompt_number": 11
    },
    {
     "cell_type": "code",
     "collapsed": false,
     "input": [
      "gabs.columns"
     ],
     "language": "python",
     "metadata": {},
     "outputs": [
      {
       "metadata": {},
       "output_type": "pyout",
       "prompt_number": 12,
       "text": [
        "Index([u'cogs', u'revt', u'Organisation', u'Scope 1', u'Scope 2', u'has Scope 1and2', u'1and2 total', u'1and2 intensity', u'percent change 1and2 intensity', u'percent change 1and2 total'], dtype='object')"
       ]
      }
     ],
     "prompt_number": 12
    },
    {
     "cell_type": "code",
     "collapsed": false,
     "input": [],
     "language": "python",
     "metadata": {},
     "outputs": []
    }
   ],
   "metadata": {}
  }
 ]
}