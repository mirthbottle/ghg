{
 "metadata": {
  "name": "",
  "signature": "sha256:8fc17515314c4a5f15fb27b902617ec2d27f9910a8531f742c36dea0629ccfba"
 },
 "nbformat": 3,
 "nbformat_minor": 0,
 "worksheets": [
  {
   "cells": [
    {
     "cell_type": "code",
     "collapsed": false,
     "input": [
      "import pandas as pd\n",
      "import numpy as np\n",
      "import statsmodels.api as sm\n",
      "import statsmodels.formula.api as smf\n",
      "import targetsmosh as tm"
     ],
     "language": "python",
     "metadata": {},
     "outputs": [],
     "prompt_number": 64
    },
    {
     "cell_type": "code",
     "collapsed": false,
     "input": [
      "reload(tm)"
     ],
     "language": "python",
     "metadata": {},
     "outputs": [
      {
       "metadata": {},
       "output_type": "pyout",
       "prompt_number": 4,
       "text": [
        "<module 'targetsmosh' from 'targetsmosh.py'>"
       ]
      }
     ],
     "prompt_number": 4
    },
    {
     "cell_type": "code",
     "collapsed": false,
     "input": [
      "targetorgs = pd.read_pickle(\"../CDPdata/2010to2014targetorgs.pkl\")"
     ],
     "language": "python",
     "metadata": {},
     "outputs": [],
     "prompt_number": 3
    },
    {
     "cell_type": "code",
     "collapsed": false,
     "input": [
      "tos = tm.get_targetorgs(targetorgs)"
     ],
     "language": "python",
     "metadata": {},
     "outputs": [],
     "prompt_number": 23
    },
    {
     "cell_type": "code",
     "collapsed": false,
     "input": [
      "# wait, where are the american companies???\n",
      "# ugh, stupid compustat\n",
      "# tos[\"Country\"].value_counts()"
     ],
     "language": "python",
     "metadata": {},
     "outputs": [],
     "prompt_number": 95
    },
    {
     "cell_type": "code",
     "collapsed": false,
     "input": [
      "tos_year = {}\n",
      "for yr in range(2010, 2015):\n",
      "    tos_year[yr] = tos[tos['year'].isin([yr])]"
     ],
     "language": "python",
     "metadata": {},
     "outputs": [],
     "prompt_number": 50
    },
    {
     "cell_type": "code",
     "collapsed": true,
     "input": [
      "def getvars(p, colname):\n",
      "    p_s = p[colname]\n",
      "    v = p_s.var\n",
      "    p[\"var\"] = v.im_self\n",
      "    return p\n",
      "\n",
      "def getextremes(tos_year, year):\n",
      "    return tos_year[year][abs(tos_year[year][\"var\"])>1.5]"
     ],
     "language": "python",
     "metadata": {},
     "outputs": [],
     "prompt_number": 60
    },
    {
     "cell_type": "code",
     "collapsed": false,
     "input": [
      "tos_year[2011] = getvars(tos_year[2011], \"percent change 1and2 intensity\")"
     ],
     "language": "python",
     "metadata": {},
     "outputs": [],
     "prompt_number": 59
    },
    {
     "cell_type": "code",
     "collapsed": false,
     "input": [
      "# extremes = {}\n",
      "extremes[2011] = getextremes(tos_year, 2011)\n",
      "# tos_year[2013].head()\n",
      "extremes[2011]"
     ],
     "language": "python",
     "metadata": {},
     "outputs": [
      {
       "html": [
        "<div style=\"max-height:1000px;max-width:1500px;overflow:auto;\">\n",
        "<table border=\"1\" class=\"dataframe\">\n",
        "  <thead>\n",
        "    <tr style=\"text-align: right;\">\n",
        "      <th></th>\n",
        "      <th>year</th>\n",
        "      <th>Country</th>\n",
        "      <th>GICS Industry</th>\n",
        "      <th>has target</th>\n",
        "      <th>has absolute</th>\n",
        "      <th>has intensity</th>\n",
        "      <th>percent change 1and2 intensity</th>\n",
        "      <th>percent change 1and2 total</th>\n",
        "      <th>var</th>\n",
        "    </tr>\n",
        "    <tr>\n",
        "      <th>ISIN</th>\n",
        "      <th></th>\n",
        "      <th></th>\n",
        "      <th></th>\n",
        "      <th></th>\n",
        "      <th></th>\n",
        "      <th></th>\n",
        "      <th></th>\n",
        "      <th></th>\n",
        "      <th></th>\n",
        "    </tr>\n",
        "  </thead>\n",
        "  <tbody>\n",
        "    <tr>\n",
        "      <th>BRJBSSACNOR8</th>\n",
        "      <td> 2011</td>\n",
        "      <td>         Brazil</td>\n",
        "      <td>             Food Products</td>\n",
        "      <td> False</td>\n",
        "      <td> False</td>\n",
        "      <td> False</td>\n",
        "      <td>-2.619793</td>\n",
        "      <td>-3.062995</td>\n",
        "      <td>-2.619793</td>\n",
        "    </tr>\n",
        "    <tr>\n",
        "      <th>BRLIGTACNOR2</th>\n",
        "      <td> 2011</td>\n",
        "      <td>         Brazil</td>\n",
        "      <td>        Electric Utilities</td>\n",
        "      <td>  True</td>\n",
        "      <td>  True</td>\n",
        "      <td> False</td>\n",
        "      <td>-6.408451</td>\n",
        "      <td>-6.904960</td>\n",
        "      <td>-6.408451</td>\n",
        "    </tr>\n",
        "    <tr>\n",
        "      <th>GB00B1P6ZR11</th>\n",
        "      <td> 2011</td>\n",
        "      <td> United Kingdom</td>\n",
        "      <td> Internet &amp; Catalog Retail</td>\n",
        "      <td>  True</td>\n",
        "      <td>  True</td>\n",
        "      <td>  True</td>\n",
        "      <td>-2.879887</td>\n",
        "      <td>-3.065568</td>\n",
        "      <td>-2.879887</td>\n",
        "    </tr>\n",
        "    <tr>\n",
        "      <th>KR7012330007</th>\n",
        "      <td> 2011</td>\n",
        "      <td>    South Korea</td>\n",
        "      <td>           Auto Components</td>\n",
        "      <td>  True</td>\n",
        "      <td> False</td>\n",
        "      <td>  True</td>\n",
        "      <td>-2.143546</td>\n",
        "      <td>-2.732754</td>\n",
        "      <td>-2.143546</td>\n",
        "    </tr>\n",
        "  </tbody>\n",
        "</table>\n",
        "</div>"
       ],
       "metadata": {},
       "output_type": "pyout",
       "prompt_number": 61,
       "text": [
        "              year         Country              GICS Industry has target  \\\n",
        "ISIN                                                                       \n",
        "BRJBSSACNOR8  2011          Brazil              Food Products      False   \n",
        "BRLIGTACNOR2  2011          Brazil         Electric Utilities       True   \n",
        "GB00B1P6ZR11  2011  United Kingdom  Internet & Catalog Retail       True   \n",
        "KR7012330007  2011     South Korea            Auto Components       True   \n",
        "\n",
        "             has absolute has intensity  percent change 1and2 intensity  \\\n",
        "ISIN                                                                      \n",
        "BRJBSSACNOR8        False         False                       -2.619793   \n",
        "BRLIGTACNOR2         True         False                       -6.408451   \n",
        "GB00B1P6ZR11         True          True                       -2.879887   \n",
        "KR7012330007        False          True                       -2.143546   \n",
        "\n",
        "              percent change 1and2 total       var  \n",
        "ISIN                                                \n",
        "BRJBSSACNOR8                   -3.062995 -2.619793  \n",
        "BRLIGTACNOR2                   -6.904960 -6.408451  \n",
        "GB00B1P6ZR11                   -3.065568 -2.879887  \n",
        "KR7012330007                   -2.732754 -2.143546  "
       ]
      }
     ],
     "prompt_number": 61
    },
    {
     "cell_type": "code",
     "collapsed": false,
     "input": [
      "tos_year[2013] = tos_year[2013].rename(columns ={\"GICS Industry\": \"GICSIndustry\", \"has intensity\": \"hasintensity\",\n",
      "                                                 \"has target\": \"hastarget\", \"has absolute\": \"hasabsolute\",\n",
      "                                                 \"percent change 1and2 total\": \"pc1and2total\",\n",
      "                                                 \"percent change 1and2 intensity\":\"pc1and2intensity\"})"
     ],
     "language": "python",
     "metadata": {},
     "outputs": [],
     "prompt_number": 79
    },
    {
     "cell_type": "code",
     "collapsed": false,
     "input": [
      "result = smf.ols(formula=\"pc1and2intensity ~ Country * hasintensity\", data=tos_year[2013]).fit()"
     ],
     "language": "python",
     "metadata": {},
     "outputs": [],
     "prompt_number": 90
    },
    {
     "cell_type": "code",
     "collapsed": false,
     "input": [
      "print result.summary()"
     ],
     "language": "python",
     "metadata": {},
     "outputs": [
      {
       "output_type": "stream",
       "stream": "stdout",
       "text": [
        "                            OLS Regression Results                            \n",
        "==============================================================================\n",
        "Dep. Variable:       pc1and2intensity   R-squared:                       0.301\n",
        "Model:                            OLS   Adj. R-squared:                  0.144\n",
        "Method:                 Least Squares   F-statistic:                     1.917\n",
        "Date:                Wed, 11 Mar 2015   Prob (F-statistic):            0.00302\n",
        "Time:                        17:37:09   Log-Likelihood:                -89.803\n",
        "No. Observations:                 202   AIC:                             253.6\n",
        "Df Residuals:                     165   BIC:                             376.0\n",
        "Df Model:                          37                                         \n",
        "==================================================================================================================\n",
        "                                                     coef    std err          t      P>|t|      [95.0% Conf. Int.]\n",
        "------------------------------------------------------------------------------------------------------------------\n",
        "Intercept                                          0.0276      0.200      0.138      0.890        -0.366     0.422\n",
        "Country[T.Austria]                                 0.0227      0.451      0.050      0.960        -0.868     0.913\n",
        "Country[T.Belgium]                                 0.0372      0.439      0.085      0.933        -0.829     0.903\n",
        "Country[T.Brazil]                                 -1.0516      0.307     -3.424      0.001        -1.658    -0.445\n",
        "Country[T.China]                                  -0.0235      0.451     -0.052      0.958        -0.914     0.867\n",
        "Country[T.Denmark]                                 0.3609      0.341      1.059      0.291        -0.312     1.034\n",
        "Country[T.Finland]                                -0.1100      0.226     -0.488      0.626        -0.555     0.335\n",
        "Country[T.France]                                 -0.5673      0.439     -1.293      0.198        -1.433     0.299\n",
        "Country[T.Germany]                                -0.0437      0.265     -0.165      0.869        -0.567     0.480\n",
        "Country[T.Hong Kong]                              -0.0094      0.295     -0.032      0.975        -0.592     0.574\n",
        "Country[T.India]                                   0.2842      0.439      0.648      0.518        -0.582     1.150\n",
        "Country[T.Italy]                                  -0.0952      0.439     -0.217      0.828        -0.961     0.771\n",
        "Country[T.Japan]                                   0.0909      0.265      0.343      0.732        -0.433     0.615\n",
        "Country[T.Luxembourg]                             -0.0533      0.295     -0.180      0.857        -0.636     0.530\n",
        "Country[T.Netherlands]                            -1.2441      0.349     -3.568      0.000        -1.933    -0.556\n",
        "Country[T.Norway]                                 -0.0306      0.439     -0.070      0.944        -0.897     0.836\n",
        "Country[T.Portugal]                               -0.0789      0.295     -0.267      0.790        -0.662     0.504\n",
        "Country[T.South Africa]                            0.0664      0.235      0.283      0.777        -0.397     0.530\n",
        "Country[T.South Korea]                             0.0959      0.341      0.281      0.779        -0.577     0.769\n",
        "Country[T.Spain]                                   0.0090      0.223      0.041      0.968        -0.432     0.450\n",
        "Country[T.Sweden]                                 -0.0492      0.439     -0.112      0.911        -0.915     0.817\n",
        "Country[T.Switzerland]                            -0.1031      0.341     -0.302      0.763        -0.776     0.570\n",
        "Country[T.Taiwan]                                 -0.0948      0.295     -0.321      0.749        -0.678     0.488\n",
        "Country[T.United Kingdom]                          0.0645      0.224      0.289      0.773        -0.377     0.506\n",
        "hasintensity[T.True]                               0.0453      0.248      0.182      0.855        -0.445     0.535\n",
        "Country[T.Austria]:hasintensity[T.True]         8.483e-17   2.01e-16      0.423      0.673     -3.11e-16  4.81e-16\n",
        "Country[T.Belgium]:hasintensity[T.True]           -0.0216      0.544     -0.040      0.968        -1.096     1.053\n",
        "Country[T.Brazil]:hasintensity[T.True]          4.057e-17   1.27e-16      0.319      0.750     -2.11e-16  2.92e-16\n",
        "Country[T.China]:hasintensity[T.True]          -1.112e-16   1.76e-16     -0.632      0.528     -4.59e-16  2.36e-16\n",
        "Country[T.Denmark]:hasintensity[T.True]           -0.4790      0.469     -1.022      0.308        -1.404     0.446\n",
        "Country[T.Finland]:hasintensity[T.True]           -0.1100      0.226     -0.488      0.626        -0.555     0.335\n",
        "Country[T.France]:hasintensity[T.True]             0.0331      0.473      0.070      0.944        -0.901     0.967\n",
        "Country[T.Germany]:hasintensity[T.True]           -0.2587      0.320     -0.809      0.420        -0.890     0.373\n",
        "Country[T.Hong Kong]:hasintensity[T.True]         -0.0094      0.295     -0.032      0.975        -0.592     0.574\n",
        "Country[T.India]:hasintensity[T.True]             -0.4285      0.497     -0.862      0.390        -1.410     0.553\n",
        "Country[T.Italy]:hasintensity[T.True]             -0.0628      0.544     -0.116      0.908        -1.137     1.011\n",
        "Country[T.Japan]:hasintensity[T.True]             -0.1890      0.316     -0.598      0.551        -0.813     0.435\n",
        "Country[T.Luxembourg]:hasintensity[T.True]        -0.0533      0.295     -0.180      0.857        -0.636     0.530\n",
        "Country[T.Netherlands]:hasintensity[T.True]     7.904e-18   6.56e-17      0.121      0.904     -1.22e-16  1.37e-16\n",
        "Country[T.Norway]:hasintensity[T.True]            -0.3501      0.518     -0.675      0.500        -1.374     0.673\n",
        "Country[T.Portugal]:hasintensity[T.True]          -0.0789      0.295     -0.267      0.790        -0.662     0.504\n",
        "Country[T.South Africa]:hasintensity[T.True]      -0.0365      0.317     -0.115      0.908        -0.662     0.589\n",
        "Country[T.South Korea]:hasintensity[T.True]       -0.2623      0.398     -0.659      0.511        -1.048     0.523\n",
        "Country[T.Spain]:hasintensity[T.True]              0.0090      0.223      0.041      0.968        -0.432     0.450\n",
        "Country[T.Sweden]:hasintensity[T.True]             0.0035      0.482      0.007      0.994        -0.948     0.955\n",
        "Country[T.Switzerland]:hasintensity[T.True]       -0.0128      0.406     -0.031      0.975        -0.815     0.790\n",
        "Country[T.Taiwan]:hasintensity[T.True]            -0.0948      0.295     -0.321      0.749        -0.678     0.488\n",
        "Country[T.United Kingdom]:hasintensity[T.True]    -0.1031      0.277     -0.372      0.710        -0.651     0.444\n",
        "==============================================================================\n",
        "Omnibus:                       91.388   Durbin-Watson:                   1.695\n",
        "Prob(Omnibus):                  0.000   Jarque-Bera (JB):              434.638\n",
        "Skew:                          -1.725   Prob(JB):                     4.16e-95\n",
        "Kurtosis:                       9.304   Cond. No.                          nan\n",
        "==============================================================================\n",
        "\n",
        "Warnings:\n",
        "[1] The smallest eigenvalue is -2.61e-15. This might indicate that there are\n",
        "strong multicollinearity problems or that the design matrix is singular.\n"
       ]
      }
     ],
     "prompt_number": 91
    },
    {
     "cell_type": "markdown",
     "metadata": {},
     "source": [
      "## has intensity on intensity\n",
      "coeff = 0.069, t = 0.788\n",
      "## has target on intensity\n",
      "coeff = 0.0870, t = 0.763 \n",
      "\n",
      "# positive coefficients...\n"
     ]
    },
    {
     "cell_type": "code",
     "collapsed": false,
     "input": [],
     "language": "python",
     "metadata": {},
     "outputs": []
    }
   ],
   "metadata": {}
  }
 ]
}