{
 "metadata": {
  "name": "",
  "signature": "sha256:f6321ccf3149313626b7e48e0955cfff57c96fe8dda9ccff8ba5442886560170"
 },
 "nbformat": 3,
 "nbformat_minor": 0,
 "worksheets": [
  {
   "cells": [
    {
     "cell_type": "code",
     "collapsed": false,
     "input": [
      "import pandas as pd\n",
      "import numpy as np\n",
      "import statsmodels.api as sm\n",
      "import statsmodels.formula.api as smf\n",
      "import targetsmosh as tm\n",
      "import ghgmosh as gm"
     ],
     "language": "python",
     "metadata": {},
     "outputs": [],
     "prompt_number": 47
    },
    {
     "cell_type": "code",
     "collapsed": false,
     "input": [
      "reload(tm)"
     ],
     "language": "python",
     "metadata": {},
     "outputs": [
      {
       "metadata": {},
       "output_type": "pyout",
       "prompt_number": 109,
       "text": [
        "<module 'targetsmosh' from 'targetsmosh.py'>"
       ]
      }
     ],
     "prompt_number": 109
    },
    {
     "cell_type": "code",
     "collapsed": false,
     "input": [
      "targetorgs = pd.read_pickle(\"../CDPdata/2010to2014targetorgs.pkl\")"
     ],
     "language": "python",
     "metadata": {},
     "outputs": [],
     "prompt_number": 4
    },
    {
     "cell_type": "code",
     "collapsed": false,
     "input": [
      "tos.columns"
     ],
     "language": "python",
     "metadata": {},
     "outputs": [
      {
       "metadata": {},
       "output_type": "pyout",
       "prompt_number": 115,
       "text": [
        "Index([u'year', u'Country', u'GICS Sector', u'GICS Industry Group', u'GICSIndustry', u'cogs', u'revt', u'hastarget', u'hasabsolute', u'hasintensity', u'scope1', u'scope2', u'1and2total', u'1and2intensity', u'pc1and2intensity', u'pc1and2total'], dtype='object')"
       ]
      }
     ],
     "prompt_number": 115
    },
    {
     "cell_type": "code",
     "collapsed": false,
     "input": [
      "tos = tm.get_targetorgs(targetorgs)"
     ],
     "language": "python",
     "metadata": {},
     "outputs": [],
     "prompt_number": 5
    },
    {
     "cell_type": "code",
     "collapsed": false,
     "input": [
      "tos = tos.rename(columns ={\"GICS Industry\": \"GICSIndustry\", \"has intensity\": \"hasintensity\",\n",
      "                            \"has target\": \"hastarget\", \"has absolute\": \"hasabsolute\",\n",
      "                            \"Scope 1\": \"scope1\", \"Scope 2\": \"scope2\",\n",
      "                            \"1and2 total\": \"s1and2total\", \"1and2 intensity\": \"s1and2intensity\",\n",
      "                            \"percent change 1and2 total\": \"pc1and2total\",\n",
      "                            \"percent change 1and2 intensity\":\"pc1and2intensity\"})"
     ],
     "language": "python",
     "metadata": {},
     "outputs": [],
     "prompt_number": 6
    },
    {
     "cell_type": "code",
     "collapsed": false,
     "input": [
      "tos_year = {}\n",
      "extremes = {}\n",
      "for yr in range(2010, 2015):\n",
      "    tos_year[yr] = tos[tos['year'].isin([yr])]\n",
      "    tos_year[yr] = gm.drop_dups(tos_year[yr])\n",
      "    tos_year[yr] = sh.getvars(tos_year[yr], \"pc1and2intensity\")\n",
      "    extremes[yr] = sh.getextremes(tos_year[yr], \"varpc1and2intensity\")"
     ],
     "language": "python",
     "metadata": {},
     "outputs": [
      {
       "output_type": "stream",
       "stream": "stderr",
       "text": [
        "ghgmosh.py:131: SettingWithCopyWarning: \n",
        "A value is trying to be set on a copy of a slice from a DataFrame.\n",
        "Try using .loc[row_indexer,col_indexer] = value instead\n",
        "\n",
        "See the the caveats in the documentation: http://pandas.pydata.org/pandas-docs/stable/indexing.html#indexing-view-versus-copy\n",
        "  p[name] = p.index\n"
       ]
      }
     ],
     "prompt_number": 48
    },
    {
     "cell_type": "code",
     "collapsed": false,
     "input": [
      "tos = pd.concat([tos_year[2010], tos_year[2011], tos_year[2012], tos_year[2013], tos_year[2014]])"
     ],
     "language": "python",
     "metadata": {},
     "outputs": [],
     "prompt_number": 49
    },
    {
     "cell_type": "code",
     "collapsed": false,
     "input": [
      "tosvars = sh.getvars(tos, \"pc1and2intensity\")\n",
      "extremes_all = sh.getextremes(tosvars, \"varpc1and2intensity\")"
     ],
     "language": "python",
     "metadata": {},
     "outputs": [],
     "prompt_number": 50
    },
    {
     "cell_type": "code",
     "collapsed": false,
     "input": [
      "reload(sh)"
     ],
     "language": "python",
     "metadata": {},
     "outputs": [
      {
       "metadata": {},
       "output_type": "pyout",
       "prompt_number": 13,
       "text": [
        "<module 'statshelpers' from 'statshelpers.py'>"
       ]
      }
     ],
     "prompt_number": 13
    },
    {
     "cell_type": "code",
     "collapsed": true,
     "input": [
      "import statshelpers as sh"
     ],
     "language": "python",
     "metadata": {},
     "outputs": [],
     "prompt_number": 9
    },
    {
     "cell_type": "code",
     "collapsed": false,
     "input": [
      "extremes_all[\"Country\"].value_counts()\n",
      "# extremes_all.loc['FR0000120966']"
     ],
     "language": "python",
     "metadata": {},
     "outputs": [
      {
       "metadata": {},
       "output_type": "pyout",
       "prompt_number": 52,
       "text": [
        "United Kingdom    3\n",
        "Brazil            3\n",
        "South Africa      2\n",
        "USA               2\n",
        "Spain             1\n",
        "South Korea       1\n",
        "Japan             1\n",
        "France            1\n",
        "Germany           1\n",
        "Bermuda           1\n",
        "dtype: int64"
       ]
      }
     ],
     "prompt_number": 52
    },
    {
     "cell_type": "code",
     "collapsed": false,
     "input": [
      "orginfos.to_pickle(\"../CDPdata/orginfos.pkl\")\n",
      "# orginfos = pd.read_pickle(\"../CDPdata/orginfos.pkl\")"
     ],
     "language": "python",
     "metadata": {},
     "outputs": [],
     "prompt_number": 45
    },
    {
     "cell_type": "code",
     "collapsed": false,
     "input": [
      "orginfos.reset_index(inplace=True)\n",
      "orginfos.drop_duplicates(\"ISIN\", inplace=True)\n",
      "orginfos.set_index(\"ISIN\", inplace=True)\n",
      "orginfos.head()"
     ],
     "language": "python",
     "metadata": {},
     "outputs": [],
     "prompt_number": 40
    },
    {
     "cell_type": "code",
     "collapsed": false,
     "input": [
      "extremes = extremes_all.join(orginfos[[\"Organisation\"]], how=\"left\")"
     ],
     "language": "python",
     "metadata": {},
     "outputs": [],
     "prompt_number": 54
    },
    {
     "cell_type": "code",
     "collapsed": false,
     "input": [
      "extremes.sort(\"varpc1and2intensity\")[\"Organisation\"].tolist()"
     ],
     "language": "python",
     "metadata": {},
     "outputs": [
      {
       "metadata": {},
       "output_type": "pyout",
       "prompt_number": 60,
       "text": [
        "[u'Toyobo Co., Ltd.',\n",
        " u'Companhia de Concess\\xf5es Rodovi\\xe1rias - CCR',\n",
        " u'LIGHT SA',\n",
        " u'Pall Corporation',\n",
        " u'Nedbank Limited',\n",
        " u'Ingersoll-Rand Co. Ltd.',\n",
        " u'Rentokil Initial',\n",
        " u'Raytheon Company',\n",
        " u'N Brown Group Plc',\n",
        " u'JBS S/A',\n",
        " u'Hyundai Mobis',\n",
        " u'METRO AG',\n",
        " u'Bic',\n",
        " u'Rolls-Royce',\n",
        " u'Abertis Infraestructuras',\n",
        " u'Truworths International']"
       ]
      }
     ],
     "prompt_number": 60
    },
    {
     "cell_type": "code",
     "collapsed": false,
     "input": [
      "result = smf.ols(formula=\"pc1and2intensity ~ Country + hasintensity\", data=tos_year[2012]).fit()"
     ],
     "language": "python",
     "metadata": {},
     "outputs": [],
     "prompt_number": 142
    },
    {
     "cell_type": "code",
     "collapsed": false,
     "input": [
      "print result.summary()"
     ],
     "language": "python",
     "metadata": {},
     "outputs": [
      {
       "output_type": "stream",
       "stream": "stdout",
       "text": [
        "                            OLS Regression Results                            \n",
        "==============================================================================\n",
        "Dep. Variable:       pc1and2intensity   R-squared:                       0.036\n",
        "Model:                            OLS   Adj. R-squared:                 -0.059\n",
        "Method:                 Least Squares   F-statistic:                    0.3800\n",
        "Date:                Thu, 19 Mar 2015   Prob (F-statistic):              0.998\n",
        "Time:                        15:07:51   Log-Likelihood:                -1810.0\n",
        "No. Observations:                 290   AIC:                             3674.\n",
        "Df Residuals:                     263   BIC:                             3773.\n",
        "Df Model:                          26                                         \n",
        "=============================================================================================\n",
        "                                coef    std err          t      P>|t|      [95.0% Conf. Int.]\n",
        "---------------------------------------------------------------------------------------------\n",
        "Intercept                     4.7836     92.654      0.052      0.959      -177.655   187.223\n",
        "Country[T.Austria]            4.0203    160.051      0.025      0.980      -311.123   319.164\n",
        "Country[T.Belgium]            1.4773    119.166      0.012      0.990      -233.163   236.117\n",
        "Country[T.Bermuda]            1.1724    113.326      0.010      0.992      -221.969   224.313\n",
        "Country[T.Brazil]            -7.6149    119.423     -0.064      0.949      -242.763   227.533\n",
        "Country[T.Canada]            -0.0949     99.674     -0.001      0.999      -196.356   196.166\n",
        "Country[T.China]             -4.3897    160.051     -0.027      0.978      -319.533   310.754\n",
        "Country[T.Denmark]            1.3545    119.166      0.011      0.991      -233.286   235.995\n",
        "Country[T.Finland]            2.8699    106.700      0.027      0.979      -207.226   212.966\n",
        "Country[T.France]             2.8818     98.367      0.029      0.977      -190.805   196.568\n",
        "Country[T.Germany]            2.0083    100.391      0.020      0.984      -195.663   199.680\n",
        "Country[T.Hong Kong]         -4.7555    160.051     -0.030      0.976      -319.899   310.388\n",
        "Country[T.India]              2.5286    109.302      0.023      0.982      -212.689   217.746\n",
        "Country[T.Italy]             -0.6500    130.504     -0.005      0.996      -257.616   256.316\n",
        "Country[T.Japan]            -81.1403     95.841     -0.847      0.398      -269.853   107.573\n",
        "Country[T.Netherlands]       -4.8004    130.769     -0.037      0.971      -262.288   252.687\n",
        "Country[T.Norway]             1.0700    119.166      0.009      0.993      -233.570   235.710\n",
        "Country[T.Portugal]           4.4304    160.051      0.028      0.978      -310.713   319.574\n",
        "Country[T.South Africa]      -2.1478    100.391     -0.021      0.983      -199.819   195.524\n",
        "Country[T.South Korea]        3.5763    101.307      0.035      0.972      -195.899   203.052\n",
        "Country[T.Spain]             -0.9985    106.556     -0.009      0.993      -210.810   208.813\n",
        "Country[T.Sweden]             1.5892    101.143      0.016      0.987      -197.564   200.742\n",
        "Country[T.Switzerland]        0.5476    104.643      0.005      0.996      -205.497   206.592\n",
        "Country[T.Taiwan]             4.3480    160.051      0.027      0.978      -310.796   319.492\n",
        "Country[T.USA]               -0.0356     93.139     -0.000      1.000      -183.429   183.358\n",
        "Country[T.United Kingdom]    -0.0444     94.748     -0.000      1.000      -186.606   186.517\n",
        "hasintensity[T.True]         -9.2841     16.636     -0.558      0.577       -42.041    23.473\n",
        "==============================================================================\n",
        "Omnibus:                      649.726   Durbin-Watson:                   2.079\n",
        "Prob(Omnibus):                  0.000   Jarque-Bera (JB):           857515.925\n",
        "Skew:                         -16.000   Prob(JB):                         0.00\n",
        "Kurtosis:                     267.467   Cond. No.                         78.5\n",
        "==============================================================================\n"
       ]
      }
     ],
     "prompt_number": 143
    },
    {
     "cell_type": "markdown",
     "metadata": {},
     "source": [
      "## has intensity on intensity\n",
      "coeff = 0.069, t = 0.788\n",
      "## has target on intensity\n",
      "coeff = 0.0870, t = 0.763 \n",
      "\n",
      "# positive coefficients...\n"
     ]
    },
    {
     "cell_type": "code",
     "collapsed": false,
     "input": [],
     "language": "python",
     "metadata": {},
     "outputs": []
    },
    {
     "cell_type": "markdown",
     "metadata": {},
     "source": [
      "# cluster"
     ]
    },
    {
     "cell_type": "code",
     "collapsed": false,
     "input": [
      "from sklearn.cluster import DBSCAN\n",
      "from sklearn import metrics\n",
      "from sklearn.datasets.samples_generator import make_blobs\n",
      "from sklearn.preprocessing import StandardScaler"
     ],
     "language": "python",
     "metadata": {},
     "outputs": [],
     "prompt_number": 97
    },
    {
     "cell_type": "code",
     "collapsed": false,
     "input": [
      "# Generate sample data\n",
      "centers = [[1, 1], [-1, -1], [1, -1]]\n",
      "X, labels_true = make_blobs(n_samples=750, centers=centers, cluster_std=0.4,\n",
      "                            random_state=0)\n",
      "\n",
      "X = StandardScaler().fit_transform(X)"
     ],
     "language": "python",
     "metadata": {},
     "outputs": [],
     "prompt_number": 98
    },
    {
     "cell_type": "code",
     "collapsed": false,
     "input": [
      "tos2012countries = pd.get_dummies(tos_year[2012][\"Country\"])"
     ],
     "language": "python",
     "metadata": {},
     "outputs": [],
     "prompt_number": 163
    },
    {
     "cell_type": "code",
     "collapsed": false,
     "input": [
      "X = tos_year[2012][['hasintensity', 'pc1and2intensity']].fillna(0).values"
     ],
     "language": "python",
     "metadata": {},
     "outputs": [],
     "prompt_number": 151
    },
    {
     "cell_type": "code",
     "collapsed": false,
     "input": [
      "# Compute DBSCAN\n",
      "db = DBSCAN(eps=0.3, min_samples=10).fit(X)\n",
      "core_samples_mask = np.zeros_like(db.labels_, dtype=bool)\n",
      "core_samples_mask[db.core_sample_indices_] = True\n",
      "labels = db.labels_\n",
      "\n",
      "# Number of clusters in labels, ignoring noise if present.\n",
      "n_clusters_ = len(set(labels)) - (1 if -1 in labels else 0)"
     ],
     "language": "python",
     "metadata": {},
     "outputs": [],
     "prompt_number": 152
    },
    {
     "cell_type": "code",
     "collapsed": false,
     "input": [
      "# Plot result\n",
      "import matplotlib.pyplot as plt"
     ],
     "language": "python",
     "metadata": {},
     "outputs": [],
     "prompt_number": 101
    },
    {
     "cell_type": "code",
     "collapsed": false,
     "input": [
      "# Black removed and is used for noise instead.\n",
      "unique_labels = set(labels)\n",
      "colors = plt.cm.Spectral(np.linspace(0, 1, len(unique_labels)))\n",
      "for k, col in zip(unique_labels, colors):\n",
      "    if k == -1:\n",
      "        # Black used for noise.\n",
      "        col = 'k'\n",
      "\n",
      "    class_member_mask = (labels == k)\n",
      "\n",
      "    xy = X[class_member_mask & core_samples_mask]\n",
      "    plt.plot(xy[:, 0], xy[:, 1], 'o', markerfacecolor=col,\n",
      "             markeredgecolor='k', markersize=14)\n",
      "\n",
      "    xy = X[class_member_mask & ~core_samples_mask]\n",
      "    plt.plot(xy[:, 0], xy[:, 1], 'o', markerfacecolor=col,\n",
      "             markeredgecolor='k', markersize=6)"
     ],
     "language": "python",
     "metadata": {},
     "outputs": [],
     "prompt_number": 153
    },
    {
     "cell_type": "code",
     "collapsed": false,
     "input": [
      "plt.show()"
     ],
     "language": "python",
     "metadata": {},
     "outputs": [],
     "prompt_number": 154
    },
    {
     "cell_type": "code",
     "collapsed": false,
     "input": [],
     "language": "python",
     "metadata": {},
     "outputs": []
    }
   ],
   "metadata": {}
  }
 ]
}