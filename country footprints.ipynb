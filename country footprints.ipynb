{
 "metadata": {
  "name": "",
  "signature": "sha256:25ff431d78e2ad0fdc144256605d77f9241b4dd5d80bcacbb96ed71ea892e254"
 },
 "nbformat": 3,
 "nbformat_minor": 0,
 "worksheets": [
  {
   "cells": [
    {
     "cell_type": "markdown",
     "metadata": {},
     "source": [
      "# data source\n",
      "# CAIT 2.0 UNFCCC Annex I emissions\n",
      "http://www.wri.org/resources/data-sets/unfccc-annex-i-ghg-emissions-0\n",
      "\n",
      "# CAIT 2.0 Country GHG Emissions.csv\n",
      "###http://cait2.wri.org/docs/CAIT2.0_CountryGHG_Methods.pdf\n",
      "####,,Emissions Totals,,Emissions by Gas,,,,Emissions by Sector,,,,,,Energy Emissions by Sub-Sector,,,,,"
     ]
    },
    {
     "cell_type": "code",
     "collapsed": false,
     "input": [
      "import csv"
     ],
     "language": "python",
     "metadata": {},
     "outputs": [],
     "prompt_number": 1
    },
    {
     "cell_type": "code",
     "collapsed": false,
     "input": [
      "%matplotlib inline\n",
      "import matplotlib.pyplot as plt\n",
      "import numpy as np\n",
      "import matplotlib.mlab as mlab\n",
      "import prettyplotlib as ppl\n",
      "import pandas as pd"
     ],
     "language": "python",
     "metadata": {},
     "outputs": [],
     "prompt_number": 12
    },
    {
     "cell_type": "code",
     "collapsed": false,
     "input": [
      "dict_reader = csv.DictReader(open('CAIT 2.0 UNFCCC Annex I GHG Emissions - csv.csv'))\n",
      "country_annex_year = []\n",
      "for row in dict_reader:\n",
      "    keys = row.keys()\n",
      "    clean_row = {}\n",
      "    for key in keys:\n",
      "        clean_row[key] = row[key].strip()\n",
      "    country_annex_year.append(clean_row)"
     ],
     "language": "python",
     "metadata": {},
     "outputs": [],
     "prompt_number": 10
    },
    {
     "cell_type": "code",
     "collapsed": false,
     "input": [
      "dict_reader = csv.DictReader(open('CAIT 2.0 Country GHG Emissions.csv'))\n",
      "country_year = []\n",
      "for row in dict_reader:\n",
      "    keys = row.keys()\n",
      "    clean_row = {}\n",
      "    for key in keys:\n",
      "        clean_row[key] = row[key].strip()\n",
      "    country_year.append(clean_row)"
     ],
     "language": "python",
     "metadata": {},
     "outputs": [],
     "prompt_number": 36
    },
    {
     "cell_type": "code",
     "collapsed": false,
     "input": [
      "row.keys()\n",
      "float(country_year[0]['Fugitive Emissions (MtCO2e)'])"
     ],
     "language": "python",
     "metadata": {},
     "outputs": [
      {
       "metadata": {},
       "output_type": "pyout",
       "prompt_number": 50,
       "text": [
        "1.255569903"
       ]
      }
     ],
     "prompt_number": 50
    },
    {
     "cell_type": "code",
     "collapsed": false,
     "input": [
      "# cy = country year\n",
      "cy = pd.DataFrame(country_year)"
     ],
     "language": "python",
     "metadata": {},
     "outputs": [],
     "prompt_number": 38
    },
    {
     "cell_type": "code",
     "collapsed": false,
     "input": [
      "cy.keys()"
     ],
     "language": "python",
     "metadata": {},
     "outputs": [
      {
       "metadata": {},
       "output_type": "pyout",
       "prompt_number": 58,
       "text": [
        "Index([u'Agriculture (MtCO2e)', u'Bunker Fuels (MtCO2)', u'Country', u'Electricity/Heat (MtCO2)', u'Energy (MtCO2e)', u'Fugitive Emissions (MtCO2e)', u'Industrial Processes (MtCO2e)', u'LUCF (MtCO2)', u'Manufacturing/Construction (MtCO2)', u'Other Fuel Combustion (MtCO2e)', u'Total CH4 (MtCO2e)', u'Total CO? Excluding Land-Use Change and Forestry (MtCO2)', u'Total F-Gas (MtCO2e)', u'Total GHG Emissions Excluding Land-Use Change and Forestry (MtCO2e)', u'Total GHG Emissions Including Land-Use Change and Forestry (MtCO2e)', u'Total N2O (MtCO2e)', u'Transportation (MtCO2)', u'Waste (MtCO2e)', u'Year'], dtype='object')"
       ]
      }
     ],
     "prompt_number": 58
    },
    {
     "cell_type": "code",
     "collapsed": false,
     "input": [
      "cy = cy.replace('', '0')"
     ],
     "language": "python",
     "metadata": {},
     "outputs": [],
     "prompt_number": 55
    },
    {
     "cell_type": "code",
     "collapsed": false,
     "input": [
      "for key in cy.keys():\n",
      "    if key != 'Country':\n",
      "        cy[key] = cy[key].apply(float)"
     ],
     "language": "python",
     "metadata": {},
     "outputs": [],
     "prompt_number": 57
    },
    {
     "cell_type": "code",
     "collapsed": false,
     "input": [
      "e2011 = cy[cy['Year'] == 2011]"
     ],
     "language": "python",
     "metadata": {},
     "outputs": [],
     "prompt_number": 72
    },
    {
     "cell_type": "code",
     "collapsed": false,
     "input": [
      "len(e2011['Country'])"
     ],
     "language": "python",
     "metadata": {},
     "outputs": [
      {
       "metadata": {},
       "output_type": "pyout",
       "prompt_number": 73,
       "text": [
        "189"
       ]
      }
     ],
     "prompt_number": 73
    },
    {
     "cell_type": "code",
     "collapsed": false,
     "input": [
      "cy[:1]\n",
      "e2011[:1]"
     ],
     "language": "python",
     "metadata": {},
     "outputs": [
      {
       "html": [
        "<div style=\"max-height:1000px;max-width:1500px;overflow:auto;\">\n",
        "<table border=\"1\" class=\"dataframe\">\n",
        "  <thead>\n",
        "    <tr style=\"text-align: right;\">\n",
        "      <th></th>\n",
        "      <th>Agriculture (MtCO2e)</th>\n",
        "      <th>Bunker Fuels (MtCO2)</th>\n",
        "      <th>Country</th>\n",
        "      <th>Electricity/Heat (MtCO2)</th>\n",
        "      <th>Energy (MtCO2e)</th>\n",
        "      <th>Fugitive Emissions (MtCO2e)</th>\n",
        "      <th>Industrial Processes (MtCO2e)</th>\n",
        "      <th>LUCF (MtCO2)</th>\n",
        "      <th>Manufacturing/Construction (MtCO2)</th>\n",
        "      <th>Other Fuel Combustion (MtCO2e)</th>\n",
        "      <th>Total CH4 (MtCO2e)</th>\n",
        "      <th>Total CO? Excluding Land-Use Change and Forestry (MtCO2)</th>\n",
        "      <th>Total F-Gas (MtCO2e)</th>\n",
        "      <th>Total GHG Emissions Excluding Land-Use Change and Forestry (MtCO2e)</th>\n",
        "      <th>Total GHG Emissions Including Land-Use Change and Forestry (MtCO2e)</th>\n",
        "      <th>Total N2O (MtCO2e)</th>\n",
        "      <th>Transportation (MtCO2)</th>\n",
        "      <th>Waste (MtCO2e)</th>\n",
        "      <th>Year</th>\n",
        "    </tr>\n",
        "  </thead>\n",
        "  <tbody>\n",
        "    <tr>\n",
        "      <th>21</th>\n",
        "      <td> 10.649049</td>\n",
        "      <td> 0</td>\n",
        "      <td> Afghanistan</td>\n",
        "      <td> 0</td>\n",
        "      <td> 0</td>\n",
        "      <td> 0.018588</td>\n",
        "      <td> 0</td>\n",
        "      <td> 0</td>\n",
        "      <td> 0</td>\n",
        "      <td> 0</td>\n",
        "      <td> 14.918806</td>\n",
        "      <td> 6.5892</td>\n",
        "      <td> 0.250075</td>\n",
        "      <td> 25.314</td>\n",
        "      <td> 25.314</td>\n",
        "      <td> 3.555945</td>\n",
        "      <td> 0</td>\n",
        "      <td> 7.807114</td>\n",
        "      <td> 2011</td>\n",
        "    </tr>\n",
        "  </tbody>\n",
        "</table>\n",
        "<p>1 rows \u00d7 19 columns</p>\n",
        "</div>"
       ],
       "metadata": {},
       "output_type": "pyout",
       "prompt_number": 70,
       "text": [
        "    Agriculture (MtCO2e)  Bunker Fuels (MtCO2)      Country  \\\n",
        "21             10.649049                     0  Afghanistan   \n",
        "\n",
        "    Electricity/Heat (MtCO2)  Energy (MtCO2e)  Fugitive Emissions (MtCO2e)  \\\n",
        "21                         0                0                     0.018588   \n",
        "\n",
        "    Industrial Processes (MtCO2e)  LUCF (MtCO2)  \\\n",
        "21                              0             0   \n",
        "\n",
        "    Manufacturing/Construction (MtCO2)  Other Fuel Combustion (MtCO2e)  \\\n",
        "21                                   0                               0   \n",
        "\n",
        "    Total CH4 (MtCO2e)  \\\n",
        "21           14.918806   \n",
        "\n",
        "    Total CO? Excluding Land-Use Change and Forestry (MtCO2)  \\\n",
        "21                                             6.5892          \n",
        "\n",
        "    Total F-Gas (MtCO2e)  \\\n",
        "21              0.250075   \n",
        "\n",
        "    Total GHG Emissions Excluding Land-Use Change and Forestry (MtCO2e)  \\\n",
        "21                                             25.314                     \n",
        "\n",
        "    Total GHG Emissions Including Land-Use Change and Forestry (MtCO2e)  \\\n",
        "21                                             25.314                     \n",
        "\n",
        "    Total N2O (MtCO2e)  Transportation (MtCO2)  Waste (MtCO2e)  Year  \n",
        "21            3.555945                       0        7.807114  2011  \n",
        "\n",
        "[1 rows x 19 columns]"
       ]
      }
     ],
     "prompt_number": 70
    },
    {
     "cell_type": "markdown",
     "metadata": {},
     "source": [
      "# now try to make a pie chart with country emissions totals from 2011\n",
      "\n",
      "### including land use change"
     ]
    },
    {
     "cell_type": "code",
     "collapsed": false,
     "input": [
      "e2011 = e2011.sort('Total GHG Emissions Including Land-Use Change and Forestry (MtCO2e)', ascending = 0)\n",
      "e2011mini = e2011[['Total GHG Emissions Including Land-Use Change and Forestry (MtCO2e)','Country']]\n",
      "# get rid of World total \n",
      "# also get rid of EU15 and EU28\n",
      "pieces = [e2011mini[1:3],e2011mini[5:]]\n",
      "e2011totals = pd.concat(pieces)"
     ],
     "language": "python",
     "metadata": {},
     "outputs": [],
     "prompt_number": 187
    },
    {
     "cell_type": "code",
     "collapsed": false,
     "input": [
      "ts = e2011totals['Total GHG Emissions Including Land-Use Change and Forestry (MtCO2e)']\n",
      "# top 10 countries get called out.\n",
      "# group everyone else in Other\n",
      "other = ts.values[10:].sum()\n",
      "topten = ts.values[0:9]\n",
      "plt.pie(np.insert(topten, 0, other), labels = np.insert(e2011totals[0:9]['Country'].values, 0, 'Other'))\n",
      "plt.show()"
     ],
     "language": "python",
     "metadata": {},
     "outputs": [
      {
       "metadata": {},
       "output_type": "display_data",
       "png": "[encoded data removed]",
       "text": [
        "<matplotlib.figure.Figure at 0x7f5a86636990>"
       ]
      },
      {
       "metadata": {},
       "output_type": "pyout",
       "prompt_number": 186,
       "text": [
        "array([ 10260.3155,   6135.0273,   2358.0384,   2216.5927,   2052.9103,\n",
        "         1419.0984,   1170.283 ,    847.0848,    805.9671])"
       ]
      }
     ],
     "prompt_number": 186
    },
    {
     "cell_type": "markdown",
     "metadata": {},
     "source": [
      "### excluding land use change"
     ]
    },
    {
     "cell_type": "code",
     "collapsed": false,
     "input": [
      "e2011 = e2011.sort('Total GHG Emissions Excluding Land-Use Change and Forestry (MtCO2e)', ascending = 0)\n",
      "e2011mini = e2011[['Total GHG Emissions Excluding Land-Use Change and Forestry (MtCO2e)','Country']]\n",
      "# get rid of World total \n",
      "# also get rid of EU15 and EU28\n",
      "pieces = [e2011mini[1:3],e2011mini[5:]]\n",
      "e2011totals = pd.concat(pieces)"
     ],
     "language": "python",
     "metadata": {},
     "outputs": [],
     "prompt_number": 189
    },
    {
     "cell_type": "code",
     "collapsed": false,
     "input": [
      "ts = e2011totals['Total GHG Emissions Excluding Land-Use Change and Forestry (MtCO2e)']\n",
      "# top 10 countries get called out.\n",
      "# group everyone else in Other\n",
      "other = ts.values[10:].sum()\n",
      "topten = ts.values[0:9]\n",
      "plt.pie(np.insert(topten, 0, other), labels = np.insert(e2011totals[0:9]['Country'].values, 0, 'Other'))\n",
      "plt.show()"
     ],
     "language": "python",
     "metadata": {},
     "outputs": [
      {
       "metadata": {},
       "output_type": "display_data",
       "png": "[encoded data removed]",
       "text": [
        "<matplotlib.figure.Figure at 0x7f5a864056d0>"
       ]
      }
     ],
     "prompt_number": 190
    },
    {
     "cell_type": "code",
     "collapsed": false,
     "input": [
      "other"
     ],
     "language": "python",
     "metadata": {},
     "outputs": [
      {
       "metadata": {},
       "output_type": "pyout",
       "prompt_number": 241,
       "text": [
        "16094.787699999992"
       ]
      }
     ],
     "prompt_number": 241
    },
    {
     "cell_type": "code",
     "collapsed": false,
     "input": [
      "e2011mini[0:10]"
     ],
     "language": "python",
     "metadata": {},
     "outputs": [
      {
       "html": [
        "<div style=\"max-height:1000px;max-width:1500px;overflow:auto;\">\n",
        "<table border=\"1\" class=\"dataframe\">\n",
        "  <thead>\n",
        "    <tr style=\"text-align: right;\">\n",
        "      <th></th>\n",
        "      <th>Total GHG Emissions Excluding Land-Use Change and Forestry (MtCO2e)</th>\n",
        "      <th>Country</th>\n",
        "    </tr>\n",
        "  </thead>\n",
        "  <tbody>\n",
        "    <tr>\n",
        "      <th>4091</th>\n",
        "      <td> 43816.7343</td>\n",
        "      <td>                    World</td>\n",
        "    </tr>\n",
        "    <tr>\n",
        "      <th>769 </th>\n",
        "      <td> 10552.6054</td>\n",
        "      <td>                    China</td>\n",
        "    </tr>\n",
        "    <tr>\n",
        "      <th>3959</th>\n",
        "      <td>  6550.0981</td>\n",
        "      <td> United States of America</td>\n",
        "    </tr>\n",
        "    <tr>\n",
        "      <th>1297</th>\n",
        "      <td>  4540.9445</td>\n",
        "      <td>      European Union (28)</td>\n",
        "    </tr>\n",
        "    <tr>\n",
        "      <th>1275</th>\n",
        "      <td>  3611.0495</td>\n",
        "      <td>      European Union (15)</td>\n",
        "    </tr>\n",
        "    <tr>\n",
        "      <th>1715</th>\n",
        "      <td>  2486.1713</td>\n",
        "      <td>                    India</td>\n",
        "    </tr>\n",
        "    <tr>\n",
        "      <th>3101</th>\n",
        "      <td>  2374.3143</td>\n",
        "      <td>       Russian Federation</td>\n",
        "    </tr>\n",
        "    <tr>\n",
        "      <th>1891</th>\n",
        "      <td>  1307.4082</td>\n",
        "      <td>                    Japan</td>\n",
        "    </tr>\n",
        "    <tr>\n",
        "      <th>505 </th>\n",
        "      <td>  1131.1022</td>\n",
        "      <td>                   Brazil</td>\n",
        "    </tr>\n",
        "    <tr>\n",
        "      <th>1451</th>\n",
        "      <td>   882.9341</td>\n",
        "      <td>                  Germany</td>\n",
        "    </tr>\n",
        "  </tbody>\n",
        "</table>\n",
        "<p>10 rows \u00d7 2 columns</p>\n",
        "</div>"
       ],
       "metadata": {},
       "output_type": "pyout",
       "prompt_number": 198,
       "text": [
        "      Total GHG Emissions Excluding Land-Use Change and Forestry (MtCO2e)  \\\n",
        "4091                                         43816.7343                     \n",
        "769                                          10552.6054                     \n",
        "3959                                          6550.0981                     \n",
        "1297                                          4540.9445                     \n",
        "1275                                          3611.0495                     \n",
        "1715                                          2486.1713                     \n",
        "3101                                          2374.3143                     \n",
        "1891                                          1307.4082                     \n",
        "505                                           1131.1022                     \n",
        "1451                                           882.9341                     \n",
        "\n",
        "                       Country  \n",
        "4091                     World  \n",
        "769                      China  \n",
        "3959  United States of America  \n",
        "1297       European Union (28)  \n",
        "1275       European Union (15)  \n",
        "1715                     India  \n",
        "3101        Russian Federation  \n",
        "1891                     Japan  \n",
        "505                     Brazil  \n",
        "1451                   Germany  \n",
        "\n",
        "[10 rows x 2 columns]"
       ]
      }
     ],
     "prompt_number": 198
    },
    {
     "cell_type": "code",
     "collapsed": false,
     "input": [
      "ts.values.sum()"
     ],
     "language": "python",
     "metadata": {},
     "outputs": [
      {
       "metadata": {},
       "output_type": "pyout",
       "prompt_number": 200,
       "text": [
        "43645.731600000014"
       ]
      }
     ],
     "prompt_number": 200
    },
    {
     "cell_type": "code",
     "collapsed": false,
     "input": [
      "topten"
     ],
     "language": "python",
     "metadata": {},
     "outputs": [
      {
       "metadata": {},
       "output_type": "pyout",
       "prompt_number": 154,
       "text": [
        "array([ 10260.3155,   6135.0273,   4263.1506,   3446.0188,   2358.0384,\n",
        "         2216.5927,   2052.9103,   1419.0984,   1170.283 ])"
       ]
      }
     ],
     "prompt_number": 154
    },
    {
     "cell_type": "markdown",
     "metadata": {},
     "source": [
      "# break up into sectors"
     ]
    },
    {
     "cell_type": "code",
     "collapsed": false,
     "input": [
      "# USAtotal emissions excluding LUC = 6550.0981\n",
      "energy_sectors = ['Electricity/Heat (MtCO2)','Manufacturing/Construction (MtCO2)', 'Transportation (MtCO2)',\n",
      "                  'Fugitive Emissions (MtCO2e)', 'Other Fuel Combustion (MtCO2e)']\n",
      "sectors = ['Energy (MtCO2e)', 'Industrial Processes (MtCO2e)',\n",
      "            'Agriculture (MtCO2e)',\n",
      "            'Waste (MtCO2e)', 'Bunker Fuels (MtCO2)']\n",
      "USA2011 = e2011[2:3]\n",
      "USA2011"
     ],
     "language": "python",
     "metadata": {},
     "outputs": [
      {
       "html": [
        "<div style=\"max-height:1000px;max-width:1500px;overflow:auto;\">\n",
        "<table border=\"1\" class=\"dataframe\">\n",
        "  <thead>\n",
        "    <tr style=\"text-align: right;\">\n",
        "      <th></th>\n",
        "      <th>Agriculture (MtCO2e)</th>\n",
        "      <th>Bunker Fuels (MtCO2)</th>\n",
        "      <th>Country</th>\n",
        "      <th>Electricity/Heat (MtCO2)</th>\n",
        "      <th>Energy (MtCO2e)</th>\n",
        "      <th>Fugitive Emissions (MtCO2e)</th>\n",
        "      <th>Industrial Processes (MtCO2e)</th>\n",
        "      <th>LUCF (MtCO2)</th>\n",
        "      <th>Manufacturing/Construction (MtCO2)</th>\n",
        "      <th>Other Fuel Combustion (MtCO2e)</th>\n",
        "      <th>Total CH4 (MtCO2e)</th>\n",
        "      <th>Total CO? Excluding Land-Use Change and Forestry (MtCO2)</th>\n",
        "      <th>Total F-Gas (MtCO2e)</th>\n",
        "      <th>Total GHG Emissions Excluding Land-Use Change and Forestry (MtCO2e)</th>\n",
        "      <th>Total GHG Emissions Including Land-Use Change and Forestry (MtCO2e)</th>\n",
        "      <th>Total N2O (MtCO2e)</th>\n",
        "      <th>Transportation (MtCO2)</th>\n",
        "      <th>Waste (MtCO2e)</th>\n",
        "      <th>Year</th>\n",
        "    </tr>\n",
        "  </thead>\n",
        "  <tbody>\n",
        "    <tr>\n",
        "      <th>3959</th>\n",
        "      <td> 472.282729</td>\n",
        "      <td> 148.18</td>\n",
        "      <td> United States of America</td>\n",
        "      <td> 2478.03</td>\n",
        "      <td> 5670.781257</td>\n",
        "      <td> 329.55169</td>\n",
        "      <td> 243.930401</td>\n",
        "      <td>-415.07089</td>\n",
        "      <td> 597.86</td>\n",
        "      <td> 627.229568</td>\n",
        "      <td> 686.068747</td>\n",
        "      <td> 5333.0553</td>\n",
        "      <td> 175.121032</td>\n",
        "      <td> 6550.0981</td>\n",
        "      <td> 6135.0273</td>\n",
        "      <td> 355.853041</td>\n",
        "      <td> 1638.11</td>\n",
        "      <td> 163.093757</td>\n",
        "      <td> 2011</td>\n",
        "    </tr>\n",
        "  </tbody>\n",
        "</table>\n",
        "<p>1 rows \u00d7 19 columns</p>\n",
        "</div>"
       ],
       "metadata": {},
       "output_type": "pyout",
       "prompt_number": 237,
       "text": [
        "      Agriculture (MtCO2e)  Bunker Fuels (MtCO2)                   Country  \\\n",
        "3959            472.282729                148.18  United States of America   \n",
        "\n",
        "      Electricity/Heat (MtCO2)  Energy (MtCO2e)  Fugitive Emissions (MtCO2e)  \\\n",
        "3959                   2478.03      5670.781257                    329.55169   \n",
        "\n",
        "      Industrial Processes (MtCO2e)  LUCF (MtCO2)  \\\n",
        "3959                     243.930401    -415.07089   \n",
        "\n",
        "      Manufacturing/Construction (MtCO2)  Other Fuel Combustion (MtCO2e)  \\\n",
        "3959                              597.86                      627.229568   \n",
        "\n",
        "      Total CH4 (MtCO2e)  \\\n",
        "3959          686.068747   \n",
        "\n",
        "      Total CO? Excluding Land-Use Change and Forestry (MtCO2)  \\\n",
        "3959                                          5333.0553          \n",
        "\n",
        "      Total F-Gas (MtCO2e)  \\\n",
        "3959            175.121032   \n",
        "\n",
        "      Total GHG Emissions Excluding Land-Use Change and Forestry (MtCO2e)  \\\n",
        "3959                                          6550.0981                     \n",
        "\n",
        "      Total GHG Emissions Including Land-Use Change and Forestry (MtCO2e)  \\\n",
        "3959                                          6135.0273                     \n",
        "\n",
        "      Total N2O (MtCO2e)  Transportation (MtCO2)  Waste (MtCO2e)  Year  \n",
        "3959          355.853041                 1638.11      163.093757  2011  \n",
        "\n",
        "[1 rows x 19 columns]"
       ]
      }
     ],
     "prompt_number": 237
    },
    {
     "cell_type": "code",
     "collapsed": false,
     "input": [
      "e2011[2:3][energy_sectors]"
     ],
     "language": "python",
     "metadata": {},
     "outputs": [
      {
       "html": [
        "<div style=\"max-height:1000px;max-width:1500px;overflow:auto;\">\n",
        "<table border=\"1\" class=\"dataframe\">\n",
        "  <thead>\n",
        "    <tr style=\"text-align: right;\">\n",
        "      <th></th>\n",
        "      <th>Electricity/Heat (MtCO2)</th>\n",
        "      <th>Manufacturing/Construction (MtCO2)</th>\n",
        "      <th>Transportation (MtCO2)</th>\n",
        "      <th>Fugitive Emissions (MtCO2e)</th>\n",
        "      <th>Other Fuel Combustion (MtCO2e)</th>\n",
        "    </tr>\n",
        "  </thead>\n",
        "  <tbody>\n",
        "    <tr>\n",
        "      <th>3959</th>\n",
        "      <td> 2478.03</td>\n",
        "      <td> 597.86</td>\n",
        "      <td> 1638.11</td>\n",
        "      <td> 329.55169</td>\n",
        "      <td> 627.229568</td>\n",
        "    </tr>\n",
        "  </tbody>\n",
        "</table>\n",
        "<p>1 rows \u00d7 5 columns</p>\n",
        "</div>"
       ],
       "metadata": {},
       "output_type": "pyout",
       "prompt_number": 244,
       "text": [
        "      Electricity/Heat (MtCO2)  Manufacturing/Construction (MtCO2)  \\\n",
        "3959                   2478.03                              597.86   \n",
        "\n",
        "      Transportation (MtCO2)  Fugitive Emissions (MtCO2e)  \\\n",
        "3959                 1638.11                    329.55169   \n",
        "\n",
        "      Other Fuel Combustion (MtCO2e)  \n",
        "3959                      627.229568  \n",
        "\n",
        "[1 rows x 5 columns]"
       ]
      }
     ],
     "prompt_number": 244
    },
    {
     "cell_type": "code",
     "collapsed": false,
     "input": [
      "print USA2011[energy_sectors].values.sum()\n",
      "print USA2011['Energy (MtCO2e)'].values\n",
      "print USA2011[sectors].values.sum()\n",
      "print 6550.0981"
     ],
     "language": "python",
     "metadata": {},
     "outputs": [
      {
       "output_type": "stream",
       "stream": "stdout",
       "text": [
        "5670.7812573\n",
        "[ 5670.781257]\n",
        "6698.2681442\n",
        "6550.0981\n"
       ]
      }
     ],
     "prompt_number": 240
    },
    {
     "cell_type": "markdown",
     "metadata": {},
     "source": [
      "#### question...\n",
      "## 1. Electricity/Heat emissions are those emissions from producing electricity or heat.  Does manufacturing also use electricity, though?\n",
      "##  I guess electricity or heat used in manufacturing that is purchased is already counted in electricity/heat"
     ]
    },
    {
     "cell_type": "code",
     "collapsed": false,
     "input": [],
     "language": "python",
     "metadata": {},
     "outputs": []
    }
   ],
   "metadata": {}
  }
 ]
}