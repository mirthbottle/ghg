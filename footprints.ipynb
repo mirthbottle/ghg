{
 "metadata": {
  "name": ""
 },
 "nbformat": 3,
 "nbformat_minor": 0,
 "worksheets": [
  {
   "cells": [
    {
     "cell_type": "code",
     "collapsed": false,
     "input": [
      "import csv"
     ],
     "language": "python",
     "metadata": {},
     "outputs": [],
     "prompt_number": 1
    },
    {
     "cell_type": "code",
     "collapsed": false,
     "input": [
      "def get_g500_data(file):\n",
      "    dict_reader = csv.DictReader(open(file))\n",
      "    companies = []\n",
      "    for row in dict_reader:\n",
      "        keys = row.keys()\n",
      "        clean_row = {}\n",
      "        for key in keys:\n",
      "            clean_row[key] = row[key].strip()\n",
      "        companies.append(clean_row)\n",
      "    return companies"
     ],
     "language": "python",
     "metadata": {},
     "outputs": [],
     "prompt_number": 174
    },
    {
     "cell_type": "code",
     "collapsed": false,
     "input": [
      "def retrieve_record(cs, c_name):\n",
      "    return (item for item in cs if item[\"Company\"] == c_name).next()"
     ],
     "language": "python",
     "metadata": {},
     "outputs": [],
     "prompt_number": 5
    },
    {
     "cell_type": "code",
     "collapsed": false,
     "input": [
      "def filter_by_sector(cs, sector):\n",
      "    companies = []\n",
      "    for item in cs:\n",
      "        if item['Sector'] == sector:\n",
      "            companies.append(item)\n",
      "    return companies"
     ],
     "language": "python",
     "metadata": {},
     "outputs": [],
     "prompt_number": 6
    },
    {
     "cell_type": "code",
     "collapsed": false,
     "input": [
      "def filter_has_all_scopes(cs):\n",
      "    companies = []\n",
      "    no_scopes = []\n",
      "    for item in cs:\n",
      "        try:\n",
      "            float(item['Scope 1'])\n",
      "            float(item['Scope 2'])\n",
      "            float(item['Scope 3'])\n",
      "            companies.append(item)\n",
      "        except ValueError:\n",
      "            no_scopes.append(item)\n",
      "    return companies"
     ],
     "language": "python",
     "metadata": {},
     "outputs": [],
     "prompt_number": 16
    },
    {
     "cell_type": "code",
     "collapsed": false,
     "input": [
      "companies = get_g500_data('G500 Appendix update 2011.csv')"
     ],
     "language": "python",
     "metadata": {},
     "outputs": [],
     "prompt_number": 175
    },
    {
     "cell_type": "code",
     "collapsed": false,
     "input": [
      "part_scopes = get_g500_data('part_scopes.csv')"
     ],
     "language": "python",
     "metadata": {},
     "outputs": [],
     "prompt_number": 204
    },
    {
     "cell_type": "code",
     "collapsed": false,
     "input": [
      "all_scopes = filter_has_all_scopes(companies)"
     ],
     "language": "python",
     "metadata": {},
     "outputs": [],
     "prompt_number": 17
    },
    {
     "cell_type": "code",
     "collapsed": false,
     "input": [
      "len(all_scopes)"
     ],
     "language": "python",
     "metadata": {},
     "outputs": [
      {
       "metadata": {},
       "output_type": "pyout",
       "prompt_number": 192,
       "text": [
        "264"
       ]
      }
     ],
     "prompt_number": 192
    },
    {
     "cell_type": "code",
     "collapsed": false,
     "input": [
      "part_scopes[3]['Company']\n",
      "part_scopes[3]['newfield'] = 'uwlkejf'\n",
      "part_scopes[3]"
     ],
     "language": "python",
     "metadata": {},
     "outputs": [
      {
       "metadata": {},
       "output_type": "pyout",
       "prompt_number": 211,
       "text": [
        "{'': '',\n",
        " '2010 Response status': 'AQ',\n",
        " '2011 Response status': 'AQ',\n",
        " 'Carbon disclosure score': '89',\n",
        " 'Carbon performance band': 'B',\n",
        " 'Company': 'Novo Nordisk',\n",
        " 'Non-Public': '',\n",
        " 'Scope 1': '47562',\n",
        " 'Scope 2': '131900',\n",
        " 'Scope 3': '272700',\n",
        " 'Scope 3 source type': 'TI Wa Tr EC TSP Ld Oth',\n",
        " 'Sector': 'Health Care',\n",
        " 'Total Emissions1': '179462',\n",
        " 'newfield': 'uwlkejf'}"
       ]
      }
     ],
     "prompt_number": 211
    },
    {
     "cell_type": "code",
     "collapsed": false,
     "input": [
      "with open('all_scopes.csv', 'wb') as f:\n",
      "    writer = csv.writer(f)\n",
      "    entry = all_scopes[0]\n",
      "    writer.writerow(entry.keys())\n",
      "    for row in all_scopes:\n",
      "        writer.writerow(row.values())"
     ],
     "language": "python",
     "metadata": {},
     "outputs": [],
     "prompt_number": 172
    },
    {
     "cell_type": "markdown",
     "metadata": {},
     "source": [
      "how does scope 3 change rankings?  need revenue data to normalize emissions.  scrape from yahoo finance"
     ]
    },
    {
     "cell_type": "code",
     "collapsed": false,
     "input": [
      "from selenium import webdriver"
     ],
     "language": "python",
     "metadata": {},
     "outputs": [],
     "prompt_number": 64
    },
    {
     "cell_type": "markdown",
     "metadata": {},
     "source": [
      "        get stock symbol - still need to make it handle exceptions"
     ]
    },
    {
     "cell_type": "code",
     "collapsed": false,
     "input": [
      "def get_symbol(name, browser):\n",
      "    browser.get('http://finance.yahoo.com/')\n",
      "    search = browser.find_element_by_class_name('yucs-search-input')\n",
      "    search.send_keys(name)\n",
      "    browser.find_element_by_id('yucs-sprop_button').click()\n",
      "    symbol = browser.title.split(':')[0]\n",
      "    if len(symbol) <= 5:\n",
      "        return symbol\n",
      "    else:\n",
      "        return 'no symbol for ' + name"
     ],
     "language": "python",
     "metadata": {},
     "outputs": [],
     "prompt_number": 197
    },
    {
     "cell_type": "code",
     "collapsed": false,
     "input": [
      "get_symbol(all_scopes[2]['Company'], browser)"
     ],
     "language": "python",
     "metadata": {},
     "outputs": [
      {
       "metadata": {},
       "output_type": "pyout",
       "prompt_number": 120,
       "text": [
        "u'ACN'"
       ]
      }
     ],
     "prompt_number": 120
    },
    {
     "cell_type": "code",
     "collapsed": false,
     "input": [
      "browser = webdriver.Firefox()"
     ],
     "language": "python",
     "metadata": {},
     "outputs": [],
     "prompt_number": 208
    },
    {
     "cell_type": "code",
     "collapsed": false,
     "input": [
      "browser.get('http://finance.yahoo.com/')"
     ],
     "language": "python",
     "metadata": {},
     "outputs": [],
     "prompt_number": 209
    },
    {
     "cell_type": "code",
     "collapsed": false,
     "input": [
      "search = browser.find_element_by_class_name('yucs-search-input')"
     ],
     "language": "python",
     "metadata": {},
     "outputs": [],
     "prompt_number": 108
    },
    {
     "cell_type": "code",
     "collapsed": false,
     "input": [
      "search.send_keys('google')"
     ],
     "language": "python",
     "metadata": {},
     "outputs": [],
     "prompt_number": 109
    },
    {
     "cell_type": "code",
     "collapsed": false,
     "input": [
      "finance_submit = browser.find_element_by_id('yucs-sprop_button')\n",
      "finance_submit.click()"
     ],
     "language": "python",
     "metadata": {},
     "outputs": [],
     "prompt_number": 98
    },
    {
     "cell_type": "code",
     "collapsed": false,
     "input": [
      "t = browser.title\n",
      "t.split(':')[0]"
     ],
     "language": "python",
     "metadata": {},
     "outputs": [
      {
       "metadata": {},
       "output_type": "pyout",
       "prompt_number": 181,
       "text": [
        "3"
       ]
      }
     ],
     "prompt_number": 181
    },
    {
     "cell_type": "code",
     "collapsed": false,
     "input": [
      "# symbols = []\n",
      "for c in part_scopes:\n",
      "    symbols.append(get_symbol(c['Company'], browser))\n",
      "symbols"
     ],
     "language": "python",
     "metadata": {},
     "outputs": [
      {
       "metadata": {},
       "output_type": "pyout",
       "prompt_number": 210,
       "text": [
        "[u'ABB',\n",
        " u'ABT',\n",
        " u'ACN',\n",
        " u'ACE',\n",
        " u'APD',\n",
        " u'AGN',\n",
        " 'no symbol for Allianz',\n",
        " 'no symbol for Allstate',\n",
        " u'MO',\n",
        " u'ABEV',\n",
        " u'AXP',\n",
        " u'AMT',\n",
        " u'AMGN',\n",
        " 'no symbol for Anglo American',\n",
        " 'no symbol for Anglo Platinum',\n",
        " u'BUD',\n",
        " 'no symbol for Antofagasta',\n",
        " 'no symbol for Assicurazioni Generali Spa',\n",
        " 'no symbol for Astellas Pharma',\n",
        " u'AZN',\n",
        " u'T',\n",
        " u'ATLC',\n",
        " 'no symbol for Australia and New Zealand Banking Group',\n",
        " u'AV',\n",
        " 'no symbol for AXA Group',\n",
        " u'BHI',\n",
        " u'BBD',\n",
        " 'no symbol for Banco do Brasil',\n",
        " u'SAN',\n",
        " u'BSBR',\n",
        " 'no symbol for Bank of America',\n",
        " u'BMO',\n",
        " u'BNS',\n",
        " 'no symbol for Barclays',\n",
        " 'no symbol for BASF',\n",
        " u'BAX',\n",
        " 'no symbol for Bayer',\n",
        " u'BBVA',\n",
        " u'BCE',\n",
        " 'no symbol for BG Group',\n",
        " 'no symbol for BHP Billiton',\n",
        " 'no symbol for BM&F Bovespa',\n",
        " 'no symbol for BMW',\n",
        " 'no symbol for BNP Paribas',\n",
        " 'no symbol for BNY Mellon',\n",
        " u'BA',\n",
        " u'BP',\n",
        " u'BMY',\n",
        " u'BTI',\n",
        " 'no symbol for BT Group',\n",
        " 'no symbol for CIBC',\n",
        " u'CNI',\n",
        " 'no symbol for Carnival',\n",
        " 'no symbol for Carrefour',\n",
        " u'CAT',\n",
        " u'CVE',\n",
        " 'no symbol for Centrica',\n",
        " u'CVX',\n",
        " u'CHT',\n",
        " 'no symbol for Cia. Siderurgica Nacional - CSN',\n",
        " u'CSCO',\n",
        " u'C-PE',\n",
        " 'no symbol for CLP Holdings',\n",
        " 'no symbol for Coca-Cola Company',\n",
        " u'CTSH',\n",
        " u'CL',\n",
        " 'no symbol for Commonwealth Bank of Australia',\n",
        " u'COP',\n",
        " 'no symbol for Credit Agricole',\n",
        " 'no symbol for Credit Suisse',\n",
        " u'CSL',\n",
        " u'CSX',\n",
        " 'no symbol for CVS Caremark',\n",
        " 'no symbol for Daimler',\n",
        " 'no symbol for Danone',\n",
        " 'no symbol for Danske Bank',\n",
        " u'DE',\n",
        " 'no symbol for Dell',\n",
        " u'DB',\n",
        " 'no symbol for Deutsche Post',\n",
        " 'no symbol for Deutsche Telekom',\n",
        " u'DVN',\n",
        " u'DEO',\n",
        " 'no symbol for DnB NOR',\n",
        " 'no symbol for Dow Chemical',\n",
        " 'no symbol for E.I. du Pont de Nemours and Company',\n",
        " 'no symbol for E.ON AG',\n",
        " u'EBAY',\n",
        " 'no symbol for Electricite de France (EDF)',\n",
        " u'LLY',\n",
        " u'EMC',\n",
        " 'no symbol for Enbridge',\n",
        " u'ECA',\n",
        " 'no symbol for Endesa',\n",
        " 'no symbol for ENEL',\n",
        " u'ENI',\n",
        " u'ERIC',\n",
        " u'EXC',\n",
        " u'XOM',\n",
        " u'FEDEX',\n",
        " 'no symbol for Fiat',\n",
        " 'no symbol for Firstrand',\n",
        " 'no symbol for Fortum Oyj',\n",
        " u'BEN',\n",
        " u'FCX',\n",
        " 'no symbol for FujiFilm Holdings',\n",
        " 'no symbol for GDF Suez',\n",
        " u'GIS',\n",
        " u'GILD',\n",
        " u'GSK',\n",
        " u'GS',\n",
        " u'GOOG',\n",
        " 'no symbol for H&M',\n",
        " u'HES',\n",
        " u'HPQ',\n",
        " u'HIT',\n",
        " 'no symbol for Holcim',\n",
        " 'no symbol for Home Depot',\n",
        " u'HMC',\n",
        " 'no symbol for HSBC Holdings',\n",
        " 'no symbol for Hyundai Motor',\n",
        " 'no symbol for Iberdrola',\n",
        " u'IBN',\n",
        " 'no symbol for Impala Platinum Holdings',\n",
        " 'no symbol for Inditex',\n",
        " 'no symbol for ING Group',\n",
        " u'INPEX',\n",
        " u'INTC',\n",
        " u'IBM',\n",
        " 'no symbol for Intesa Sanpaolo S.p.A',\n",
        " 'no symbol for Israel Chemicals',\n",
        " u'ITUB',\n",
        " 'no symbol for Itausa Investimentos Itau S.A.',\n",
        " u'ITC',\n",
        " u'JNJ',\n",
        " u'JCI',\n",
        " 'no symbol for JPMorgan Chase',\n",
        " 'no symbol for KB Financial Group',\n",
        " u'K',\n",
        " u'KMB',\n",
        " u'KSS',\n",
        " 'no symbol for Komatsu',\n",
        " 'no symbol for Koninklijke KPN NV',\n",
        " u'KRFT',\n",
        " 'no symbol for Kumba Iron Ore',\n",
        " 'no symbol for Lafarge',\n",
        " 'no symbol for Larsen & Toubro',\n",
        " 'no symbol for Linde',\n",
        " u'LYG',\n",
        " u'LMT',\n",
        " 'no symbol for LOreal',\n",
        " 'no symbol for LVMH',\n",
        " u'MRK',\n",
        " 'no symbol for Metro',\n",
        " u'MSFT',\n",
        " u'MTU',\n",
        " 'no symbol for Mitsubishi Electric',\n",
        " u'MTU',\n",
        " u'MFG',\n",
        " 'no symbol for Morgan Stanley',\n",
        " u'MOS',\n",
        " 'no symbol for Motorola3',\n",
        " 'no symbol for MTN Group',\n",
        " 'no symbol for Munich Re',\n",
        " 'no symbol for National Australia Bank',\n",
        " u'NGG',\n",
        " 'no symbol for NATIXIS',\n",
        " 'no symbol for Nestle',\n",
        " 'no symbol for Newcrest Mining',\n",
        " u'NEM',\n",
        " 'no symbol for News Corporation',\n",
        " u'NKE',\n",
        " u'NSANY',\n",
        " 'no symbol for Nokia Group',\n",
        " u'NMR',\n",
        " 'no symbol for Nordea Bank',\n",
        " u'NOC',\n",
        " u'NVS',\n",
        " u'NVO',\n",
        " u'PC',\n",
        " u'PEP',\n",
        " u'PZE',\n",
        " u'PFE',\n",
        " u'PCG',\n",
        " u'PM',\n",
        " 'no symbol for Philips Electronics',\n",
        " 'no symbol for PNC Financial Services',\n",
        " u'PKX',\n",
        " u'PPR',\n",
        " u'PX',\n",
        " u'PBIP',\n",
        " u'PRU',\n",
        " 'no symbol for PTT Exploration & Production',\n",
        " u'PEG',\n",
        " 'no symbol for QBE Insurance Group',\n",
        " 'no symbol for Reckitt Benckiser',\n",
        " 'no symbol for Repsol YPF',\n",
        " 'no symbol for Rio Tinto',\n",
        " 'no symbol for Roche Holding',\n",
        " u'RCI',\n",
        " 'no symbol for Rolls-Royce',\n",
        " u'RY',\n",
        " 'no symbol for Royal Bank of Scotland Group',\n",
        " u'RDS-B',\n",
        " 'no symbol for RWE',\n",
        " 'no symbol for SABMiller',\n",
        " 'no symbol for Saint-Gobain',\n",
        " 'no symbol for Samsung Electronics',\n",
        " u'SAP',\n",
        " u'SSL',\n",
        " u'SLB',\n",
        " 'no symbol for Schneider Electric',\n",
        " 'no symbol for Seven & I Holding',\n",
        " u'SI',\n",
        " 'no symbol for Simon Property Group',\n",
        " 'no symbol for Societe Generale',\n",
        " u'SNE',\n",
        " 'no symbol for Standard Bank Group',\n",
        " 'no symbol for Standard Chartered',\n",
        " u'STT',\n",
        " u'STO',\n",
        " u'SU',\n",
        " 'no symbol for Svenska Handelsbanken',\n",
        " 'no symbol for Swiss Re',\n",
        " 'no symbol for Swisscom',\n",
        " 'no symbol for Syngenta International',\n",
        " 'no symbol for T.GARANTI BANKASI',\n",
        " u'TSM',\n",
        " 'no symbol for Takeda Pharmaceutical',\n",
        " u'TGT',\n",
        " u'TCK',\n",
        " u'TI',\n",
        " u'VIV',\n",
        " 'no symbol for Telenor Group',\n",
        " 'no symbol for TeliaSonera',\n",
        " 'no symbol for Telstra Corporation',\n",
        " u'TESO',\n",
        " 'no symbol for Time Warner',\n",
        " 'no symbol for TJX Companies',\n",
        " 'no symbol for Tokio Marine Holdings',\n",
        " u'TD',\n",
        " 'no symbol for Toshiba',\n",
        " u'TSS',\n",
        " u'TM',\n",
        " u'RIG',\n",
        " 'no symbol for U.S. BanCorp',\n",
        " u'UBS',\n",
        " 'no symbol for Unibail-Rodamco',\n",
        " 'no symbol for Unicredit Group',\n",
        " u'UTX',\n",
        " u'UPS',\n",
        " u'VALE',\n",
        " 'no symbol for Vinci',\n",
        " 'no symbol for Vivendi Universal',\n",
        " u'VOD',\n",
        " 'no symbol for Volkswagen',\n",
        " 'no symbol for Wal-Mart de Mexico',\n",
        " u'WMT',\n",
        " u'WLP',\n",
        " u'WFC',\n",
        " 'no symbol for Wesfarmers',\n",
        " 'no symbol for Westfield Group',\n",
        " u'WBK',\n",
        " 'no symbol for Woolworths']"
       ]
      }
     ],
     "prompt_number": 210
    },
    {
     "cell_type": "code",
     "collapsed": false,
     "input": [
      "# add symbol to all_scopes\n",
      "for s in symbols:"
     ],
     "language": "python",
     "metadata": {},
     "outputs": [],
     "prompt_number": 210
    },
    {
     "cell_type": "markdown",
     "metadata": {},
     "source": [
      "        get 2011 revenue"
     ]
    },
    {
     "cell_type": "code",
     "collapsed": false,
     "input": [
      "import re\n",
      "m = re.search('\\d{1,}','e234123sdf')\n",
      "m.group(0)"
     ],
     "language": "python",
     "metadata": {},
     "outputs": []
    },
    {
     "cell_type": "code",
     "collapsed": false,
     "input": [
      "is_link = browser.find_element_by_link_text('Income Statement')\n",
      "is_link.click()"
     ],
     "language": "python",
     "metadata": {},
     "outputs": [],
     "prompt_number": 87
    },
    {
     "cell_type": "code",
     "collapsed": false,
     "input": [
      "page_source = browser.page_source\n",
      "x = page_source.split('Total Revenue')[1].split('Cost of Revenue')[0]"
     ],
     "language": "python",
     "metadata": {},
     "outputs": [
      {
       "metadata": {},
       "output_type": "pyout",
       "prompt_number": 92,
       "text": [
        "u'\\n                            </strong>\\n                        </td><td align=\"right\">\\n                                <strong>\\n                            59,825,000\\xa0\\xa0\\n                                </strong>\\n                            </td><td align=\"right\">\\n                                <strong>\\n                            50,175,000\\xa0\\xa0\\n                                </strong>\\n                            </td><td align=\"right\">\\n                                <strong>\\n                            37,905,000\\xa0\\xa0\\n                                </strong>\\n                            </td></tr><tr><td colspan=\"2\">'"
       ]
      }
     ],
     "prompt_number": 92
    },
    {
     "cell_type": "code",
     "collapsed": false,
     "input": [
      "renevues = x.split('</strong>')"
     ],
     "language": "python",
     "metadata": {},
     "outputs": [],
     "prompt_number": 122
    },
    {
     "cell_type": "code",
     "collapsed": false,
     "input": [
      "r = renevues[len(renevues)-2]\n",
      "r = r.replace(',','')\n",
      "revenue = re.search('\\d{1,}',r)\n",
      "revenue.group(0)"
     ],
     "language": "python",
     "metadata": {},
     "outputs": [
      {
       "metadata": {},
       "output_type": "pyout",
       "prompt_number": 159,
       "text": [
        "u'37905000'"
       ]
      }
     ],
     "prompt_number": 159
    },
    {
     "cell_type": "code",
     "collapsed": false,
     "input": [],
     "language": "python",
     "metadata": {},
     "outputs": [],
     "prompt_number": 159
    },
    {
     "cell_type": "code",
     "collapsed": false,
     "input": [],
     "language": "python",
     "metadata": {},
     "outputs": []
    }
   ],
   "metadata": {}
  }
 ]
}