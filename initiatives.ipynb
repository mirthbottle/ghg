{
 "metadata": {
  "name": "",
  "signature": "sha256:ce9d50526c311242cc480833e3b095216901d5406e737b0af2a8f08129bcbfad"
 },
 "nbformat": 3,
 "nbformat_minor": 0,
 "worksheets": [
  {
   "cells": [
    {
     "cell_type": "code",
     "collapsed": false,
     "input": [
      "import pandas as pd"
     ],
     "language": "python",
     "metadata": {},
     "outputs": [],
     "prompt_number": 1
    },
    {
     "cell_type": "code",
     "collapsed": false,
     "input": [
      "p = pd.read_pickle(\"../CDPdata/sheet18_2014.pkl\")\n",
      "initiatives = p[p.columns[14:15]]"
     ],
     "language": "python",
     "metadata": {},
     "outputs": [],
     "prompt_number": 8
    },
    {
     "cell_type": "code",
     "collapsed": false,
     "input": [
      "initiatives.rename(columns={p.columns[14]:\"itype\"}, inplace=True)"
     ],
     "language": "python",
     "metadata": {},
     "outputs": [],
     "prompt_number": 9
    },
    {
     "cell_type": "code",
     "collapsed": false,
     "input": [
      "initiatives.itype.value_counts()"
     ],
     "language": "python",
     "metadata": {},
     "outputs": [
      {
       "metadata": {},
       "output_type": "pyout",
       "prompt_number": 11,
       "text": [
        "Energy efficiency: Building services    1974\n",
        "Energy efficiency: Processes            1909\n",
        "Low carbon energy installation           558\n",
        "Behavioral change                        533\n",
        "Energy efficiency: Building fabric       476\n",
        "Process emissions reductions             468\n",
        "Transportation: fleet                    464\n",
        "Other                                    382\n",
        "Transportation: use                      329\n",
        "Low carbon energy purchase               287\n",
        "Product design                           187\n",
        "Fugitive emissions reductions            110\n",
        "dtype: int64"
       ]
      }
     ],
     "prompt_number": 11
    },
    {
     "cell_type": "code",
     "collapsed": false,
     "input": [],
     "language": "python",
     "metadata": {},
     "outputs": []
    }
   ],
   "metadata": {}
  }
 ]
}