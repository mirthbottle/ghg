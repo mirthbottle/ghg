{
 "metadata": {
  "name": "",
  "signature": "sha256:7f98ce5c565310e7151d14d6afdec3bf17ff66d75ca1827eed2bf78d5130927f"
 },
 "nbformat": 3,
 "nbformat_minor": 0,
 "worksheets": [
  {
   "cells": [
    {
     "cell_type": "code",
     "collapsed": false,
     "input": [
      "import pandas as pd\n",
      "import numpy as np\n",
      "import json"
     ],
     "language": "python",
     "metadata": {},
     "outputs": [],
     "prompt_number": 1
    },
    {
     "cell_type": "code",
     "collapsed": false,
     "input": [
      "xls = pd.ExcelFile('../CDPdata/Investor CDP 2010_Public Data.xlsx')"
     ],
     "language": "python",
     "metadata": {},
     "outputs": [],
     "prompt_number": 664
    },
    {
     "cell_type": "code",
     "collapsed": false,
     "input": [
      "sheet_names = pd.Series(xls.sheet_names)"
     ],
     "language": "python",
     "metadata": {},
     "outputs": [],
     "prompt_number": 679
    },
    {
     "cell_type": "code",
     "collapsed": false,
     "input": [
      "sheet_names[35:41]"
     ],
     "language": "python",
     "metadata": {},
     "outputs": [
      {
       "metadata": {},
       "output_type": "pyout",
       "prompt_number": 683,
       "text": [
        "35            12.4\n",
        "36            12.5\n",
        "37            12.6\n",
        "38           12.10\n",
        "39           12.12\n",
        "40    Emissions 13\n",
        "dtype: object"
       ]
      }
     ],
     "prompt_number": 683
    },
    {
     "cell_type": "code",
     "collapsed": false,
     "input": [
      "p = xls.parse(33)"
     ],
     "language": "python",
     "metadata": {},
     "outputs": [],
     "prompt_number": 684
    },
    {
     "cell_type": "code",
     "collapsed": false,
     "input": [
      "# pickle some data?\n",
      "p.to_pickle('../CDPdata/sheet40_2010.pkl')"
     ],
     "language": "python",
     "metadata": {},
     "outputs": [],
     "prompt_number": 669
    },
    {
     "cell_type": "code",
     "collapsed": false,
     "input": [
      "p = pd.read_pickle('../CDPdata/sheet35_2014.pkl')"
     ],
     "language": "python",
     "metadata": {},
     "outputs": [],
     "prompt_number": 763
    },
    {
     "cell_type": "code",
     "collapsed": false,
     "input": [
      "pcols = p.columns.values\n",
      "p[pcols[15:25]].head()"
     ],
     "language": "python",
     "metadata": {},
     "outputs": [
      {
       "html": [
        "<div style=\"max-height:1000px;max-width:1500px;overflow:auto;\">\n",
        "<table border=\"1\" class=\"dataframe\">\n",
        "  <thead>\n",
        "    <tr style=\"text-align: right;\">\n",
        "      <th></th>\n",
        "      <th>14.1. Evaluation status</th>\n",
        "      <th>14.1. \n",
        "metric tonnes CO2e</th>\n",
        "      <th>14.1. \n",
        "Methodology</th>\n",
        "      <th>14.1. Percentage of emissions calculated using primary data</th>\n",
        "      <th>14.1. Explanation</th>\n",
        "    </tr>\n",
        "  </thead>\n",
        "  <tbody>\n",
        "    <tr>\n",
        "      <th>0</th>\n",
        "      <td> NaN</td>\n",
        "      <td>NaN</td>\n",
        "      <td> NaN</td>\n",
        "      <td>NaN</td>\n",
        "      <td> NaN</td>\n",
        "    </tr>\n",
        "    <tr>\n",
        "      <th>1</th>\n",
        "      <td> NaN</td>\n",
        "      <td>NaN</td>\n",
        "      <td> NaN</td>\n",
        "      <td>NaN</td>\n",
        "      <td> NaN</td>\n",
        "    </tr>\n",
        "    <tr>\n",
        "      <th>2</th>\n",
        "      <td> NaN</td>\n",
        "      <td>NaN</td>\n",
        "      <td> NaN</td>\n",
        "      <td>NaN</td>\n",
        "      <td> NaN</td>\n",
        "    </tr>\n",
        "    <tr>\n",
        "      <th>3</th>\n",
        "      <td> NaN</td>\n",
        "      <td>NaN</td>\n",
        "      <td> NaN</td>\n",
        "      <td>NaN</td>\n",
        "      <td> NaN</td>\n",
        "    </tr>\n",
        "    <tr>\n",
        "      <th>4</th>\n",
        "      <td> NaN</td>\n",
        "      <td>NaN</td>\n",
        "      <td> NaN</td>\n",
        "      <td>NaN</td>\n",
        "      <td> NaN</td>\n",
        "    </tr>\n",
        "  </tbody>\n",
        "</table>\n",
        "</div>"
       ],
       "metadata": {},
       "output_type": "pyout",
       "prompt_number": 509,
       "text": [
        "  14.1. Evaluation status  14.1. \\nmetric tonnes CO2e 14.1. \\nMethodology  \\\n",
        "0                     NaN                         NaN                 NaN   \n",
        "1                     NaN                         NaN                 NaN   \n",
        "2                     NaN                         NaN                 NaN   \n",
        "3                     NaN                         NaN                 NaN   \n",
        "4                     NaN                         NaN                 NaN   \n",
        "\n",
        "   14.1. Percentage of emissions calculated using primary data  \\\n",
        "0                                                NaN             \n",
        "1                                                NaN             \n",
        "2                                                NaN             \n",
        "3                                                NaN             \n",
        "4                                                NaN             \n",
        "\n",
        "  14.1. Explanation  \n",
        "0               NaN  \n",
        "1               NaN  \n",
        "2               NaN  \n",
        "3               NaN  \n",
        "4               NaN  "
       ]
      }
     ],
     "prompt_number": 509
    },
    {
     "cell_type": "markdown",
     "metadata": {},
     "source": [
      "##get emissions data"
     ]
    },
    {
     "cell_type": "code",
     "collapsed": false,
     "input": [
      "import ghgmosh as gm"
     ],
     "language": "python",
     "metadata": {},
     "outputs": [],
     "prompt_number": 504
    },
    {
     "cell_type": "code",
     "collapsed": false,
     "input": [
      "reload(gm)"
     ],
     "language": "python",
     "metadata": {},
     "outputs": [
      {
       "metadata": {},
       "output_type": "pyout",
       "prompt_number": 803,
       "text": [
        "<module 'ghgmosh' from 'ghgmosh.py'>"
       ]
      }
     ],
     "prompt_number": 803
    },
    {
     "cell_type": "markdown",
     "metadata": {},
     "source": [
      "### get scope1 and scope2 totals by country and sector"
     ]
    },
    {
     "cell_type": "code",
     "collapsed": false,
     "input": [
      "pscope1 = gm.get_scope1or2(p, 1, 2010)\n",
      "# scope1totals = gm.get_totals(pscope1, \"Country\", \"GICS Sector\", 20)"
     ],
     "language": "python",
     "metadata": {},
     "outputs": [],
     "prompt_number": 689
    },
    {
     "cell_type": "code",
     "collapsed": false,
     "input": [
      "pscope2 = pscope2[1:]\n",
      "# pscope2.head()"
     ],
     "language": "python",
     "metadata": {},
     "outputs": [],
     "prompt_number": 440
    },
    {
     "cell_type": "code",
     "collapsed": false,
     "input": [
      "# get scope2 totals by country and sector\n",
      "pscope2 = gm.get_scope1or2(p, 2, 2010)\n",
      "# scope2totals = gm.get_totals(pscope2, \"Country\", \"GICS Sector\", 20)"
     ],
     "language": "python",
     "metadata": {},
     "outputs": [],
     "prompt_number": 670
    },
    {
     "cell_type": "code",
     "collapsed": false,
     "input": [
      "# pickle some data\n",
      "scope1totals.to_pickle('mydata/2014scope1totals.pkl')\n",
      "scope2totals.to_pickle('mydata/2014scope2totals.pkl')"
     ],
     "language": "python",
     "metadata": {},
     "outputs": [],
     "prompt_number": 108
    },
    {
     "cell_type": "code",
     "collapsed": false,
     "input": [
      "scope1total = pd.read_pickle('mydata/2013scope1totals.pkl')\n",
      "scope2total = pd.read_pickle('mydata/2013scope2totals.pkl')"
     ],
     "language": "python",
     "metadata": {},
     "outputs": [],
     "prompt_number": 176
    },
    {
     "cell_type": "code",
     "collapsed": true,
     "input": [
      "scope2total.head()"
     ],
     "language": "python",
     "metadata": {},
     "outputs": [
      {
       "html": [
        "<div style=\"max-height:1000px;max-width:1500px;overflow:auto;\">\n",
        "<table border=\"1\" class=\"dataframe\">\n",
        "  <thead>\n",
        "    <tr style=\"text-align: right;\">\n",
        "      <th></th>\n",
        "      <th></th>\n",
        "      <th>Scope 2</th>\n",
        "    </tr>\n",
        "    <tr>\n",
        "      <th>Country</th>\n",
        "      <th>GICS Sector</th>\n",
        "      <th></th>\n",
        "    </tr>\n",
        "  </thead>\n",
        "  <tbody>\n",
        "    <tr>\n",
        "      <th rowspan=\"5\" valign=\"top\">Australia</th>\n",
        "      <th>Consumer Discretionary</th>\n",
        "      <td> 0.294324</td>\n",
        "    </tr>\n",
        "    <tr>\n",
        "      <th>Consumer Staples</th>\n",
        "      <td> 5.398313</td>\n",
        "    </tr>\n",
        "    <tr>\n",
        "      <th>Energy</th>\n",
        "      <td> 0.596422</td>\n",
        "    </tr>\n",
        "    <tr>\n",
        "      <th>Financials</th>\n",
        "      <td> 2.022157</td>\n",
        "    </tr>\n",
        "    <tr>\n",
        "      <th>Health Care</th>\n",
        "      <td> 0.148036</td>\n",
        "    </tr>\n",
        "  </tbody>\n",
        "</table>\n",
        "</div>"
       ],
       "metadata": {},
       "output_type": "pyout",
       "prompt_number": 539,
       "text": [
        "                                   Scope 2\n",
        "Country   GICS Sector                     \n",
        "Australia Consumer Discretionary  0.294324\n",
        "          Consumer Staples        5.398313\n",
        "          Energy                  0.596422\n",
        "          Financials              2.022157\n",
        "          Health Care             0.148036"
       ]
      }
     ],
     "prompt_number": 539
    },
    {
     "cell_type": "code",
     "collapsed": true,
     "input": [
      "s1data = gm.write_json(scope1total, \"scope1countrysector.json\")\n",
      "s2data = gm.write_json(scope2total, \"scope2countrysector.json\")"
     ],
     "language": "python",
     "metadata": {},
     "outputs": [],
     "prompt_number": 560
    },
    {
     "cell_type": "markdown",
     "metadata": {},
     "source": [
      "### get scope3 emissions"
     ]
    },
    {
     "cell_type": "code",
     "collapsed": false,
     "input": [
      "p2 = xls.parse(49)"
     ],
     "language": "python",
     "metadata": {},
     "outputs": [],
     "prompt_number": 671
    },
    {
     "cell_type": "code",
     "collapsed": false,
     "input": [
      "p2.to_pickle('../CDPdata/sheet49_2010.pkl')"
     ],
     "language": "python",
     "metadata": {},
     "outputs": [],
     "prompt_number": 672
    },
    {
     "cell_type": "code",
     "collapsed": false,
     "input": [
      "pscope3 = gm.get_scope3(p2, 2010)"
     ],
     "language": "python",
     "metadata": {},
     "outputs": [],
     "prompt_number": 673
    },
    {
     "cell_type": "code",
     "collapsed": false,
     "input": [
      "pscopes = gm.combine_scopes(pscope1, pscope2, pscope3)"
     ],
     "language": "python",
     "metadata": {},
     "outputs": [],
     "prompt_number": 711
    },
    {
     "cell_type": "code",
     "collapsed": false,
     "input": [
      "# 2010 data\n",
      "# pscope1= pscope1.rename(columns={\"Scope 2\":\"Scope 1\"})\n",
      "pscopes.head()\n",
      "len(pscopes)"
     ],
     "language": "python",
     "metadata": {},
     "outputs": [
      {
       "metadata": {},
       "output_type": "pyout",
       "prompt_number": 695,
       "text": [
        "1492"
       ]
      }
     ],
     "prompt_number": 695
    },
    {
     "cell_type": "code",
     "collapsed": false,
     "input": [
      "# pickle\n",
      "pscopes.to_pickle('../CDPdata/2010hasscopes.pkl')"
     ],
     "language": "python",
     "metadata": {},
     "outputs": [],
     "prompt_number": 696
    },
    {
     "cell_type": "markdown",
     "metadata": {},
     "source": [
      "## combine scopes per company"
     ]
    },
    {
     "cell_type": "code",
     "collapsed": false,
     "input": [
      "# scopes2014 = pd.read_pickle('../CDPdata/2014hasscopes.pkl')\n",
      "# scopes2013 = pd.read_pickle('../CDPdata/2013hasscopes.pkl')\n",
      "# scopes2012 = pd.read_pickle('../CDPdata/2012hasscopes.pkl')\n",
      "scopes2010 = pscopes"
     ],
     "language": "python",
     "metadata": {},
     "outputs": [],
     "prompt_number": 713
    },
    {
     "cell_type": "code",
     "collapsed": false,
     "input": [
      "scopes2010 = gm.add_yearindex(scopes2010, 2010)\n",
      "scopes2010.head()"
     ],
     "language": "python",
     "metadata": {},
     "outputs": [
      {
       "html": [
        "<div style=\"max-height:1000px;max-width:1500px;overflow:auto;\">\n",
        "<table border=\"1\" class=\"dataframe\">\n",
        "  <thead>\n",
        "    <tr style=\"text-align: right;\">\n",
        "      <th></th>\n",
        "      <th></th>\n",
        "      <th>Discloser ID</th>\n",
        "      <th>Country</th>\n",
        "      <th>GICS Sector</th>\n",
        "      <th>GICS Industry Group</th>\n",
        "      <th>GICS Industry</th>\n",
        "      <th>has Scope 1</th>\n",
        "      <th>has Scope 2</th>\n",
        "      <th>has Scope 3</th>\n",
        "    </tr>\n",
        "    <tr>\n",
        "      <th>Organisation</th>\n",
        "      <th>year</th>\n",
        "      <th></th>\n",
        "      <th></th>\n",
        "      <th></th>\n",
        "      <th></th>\n",
        "      <th></th>\n",
        "      <th></th>\n",
        "      <th></th>\n",
        "      <th></th>\n",
        "    </tr>\n",
        "  </thead>\n",
        "  <tbody>\n",
        "    <tr>\n",
        "      <th>3M Company</th>\n",
        "      <th>2010</th>\n",
        "      <td> df6e508b-e21b-df11-b692-0017a47708d8</td>\n",
        "      <td>         USA</td>\n",
        "      <td> Industrials</td>\n",
        "      <td>  Capital Goods</td>\n",
        "      <td> Industrial Conglomerates</td>\n",
        "      <td> True</td>\n",
        "      <td> True</td>\n",
        "      <td> False</td>\n",
        "    </tr>\n",
        "    <tr>\n",
        "      <th>A&amp;H Sportswear Co, Inc.</th>\n",
        "      <th>2010</th>\n",
        "      <td> c4d18ebf-1e26-df11-aa19-0017a47708d8</td>\n",
        "      <td>         USA</td>\n",
        "      <td>         NaN</td>\n",
        "      <td>            NaN</td>\n",
        "      <td>                      NaN</td>\n",
        "      <td> True</td>\n",
        "      <td> True</td>\n",
        "      <td> False</td>\n",
        "    </tr>\n",
        "    <tr>\n",
        "      <th>A.P. Moller - Maersk</th>\n",
        "      <th>2010</th>\n",
        "      <td> 0b6c508b-e21b-df11-b692-0017a47708d8</td>\n",
        "      <td>     Denmark</td>\n",
        "      <td> Industrials</td>\n",
        "      <td> Transportation</td>\n",
        "      <td>                   Marine</td>\n",
        "      <td> True</td>\n",
        "      <td> True</td>\n",
        "      <td> False</td>\n",
        "    </tr>\n",
        "    <tr>\n",
        "      <th>A2A</th>\n",
        "      <th>2010</th>\n",
        "      <td> ef67508b-e21b-df11-b692-0017a47708d8</td>\n",
        "      <td>       Italy</td>\n",
        "      <td>   Utilities</td>\n",
        "      <td>      Utilities</td>\n",
        "      <td>          Multi-Utilities</td>\n",
        "      <td> True</td>\n",
        "      <td> True</td>\n",
        "      <td> False</td>\n",
        "    </tr>\n",
        "    <tr>\n",
        "      <th>ABB</th>\n",
        "      <th>2010</th>\n",
        "      <td> c3245885-e21b-df11-b692-0017a47708d8</td>\n",
        "      <td> Switzerland</td>\n",
        "      <td> Industrials</td>\n",
        "      <td>  Capital Goods</td>\n",
        "      <td>                Machinery</td>\n",
        "      <td> True</td>\n",
        "      <td> True</td>\n",
        "      <td> False</td>\n",
        "    </tr>\n",
        "  </tbody>\n",
        "</table>\n",
        "</div>"
       ],
       "metadata": {},
       "output_type": "pyout",
       "prompt_number": 719,
       "text": [
        "                                                      Discloser ID  \\\n",
        "Organisation            year                                         \n",
        "3M Company              2010  df6e508b-e21b-df11-b692-0017a47708d8   \n",
        "A&H Sportswear Co, Inc. 2010  c4d18ebf-1e26-df11-aa19-0017a47708d8   \n",
        "A.P. Moller - Maersk    2010  0b6c508b-e21b-df11-b692-0017a47708d8   \n",
        "A2A                     2010  ef67508b-e21b-df11-b692-0017a47708d8   \n",
        "ABB                     2010  c3245885-e21b-df11-b692-0017a47708d8   \n",
        "\n",
        "                                  Country  GICS Sector GICS Industry Group  \\\n",
        "Organisation            year                                                 \n",
        "3M Company              2010          USA  Industrials       Capital Goods   \n",
        "A&H Sportswear Co, Inc. 2010          USA          NaN                 NaN   \n",
        "A.P. Moller - Maersk    2010      Denmark  Industrials      Transportation   \n",
        "A2A                     2010        Italy    Utilities           Utilities   \n",
        "ABB                     2010  Switzerland  Industrials       Capital Goods   \n",
        "\n",
        "                                         GICS Industry has Scope 1  \\\n",
        "Organisation            year                                         \n",
        "3M Company              2010  Industrial Conglomerates        True   \n",
        "A&H Sportswear Co, Inc. 2010                       NaN        True   \n",
        "A.P. Moller - Maersk    2010                    Marine        True   \n",
        "A2A                     2010           Multi-Utilities        True   \n",
        "ABB                     2010                 Machinery        True   \n",
        "\n",
        "                             has Scope 2 has Scope 3  \n",
        "Organisation            year                          \n",
        "3M Company              2010        True       False  \n",
        "A&H Sportswear Co, Inc. 2010        True       False  \n",
        "A.P. Moller - Maersk    2010        True       False  \n",
        "A2A                     2010        True       False  \n",
        "ABB                     2010        True       False  "
       ]
      }
     ],
     "prompt_number": 719
    },
    {
     "cell_type": "code",
     "collapsed": false,
     "input": [
      "scopes = pd.concat([scopes2014, scopes2013, scopes2012, scopes2011, scopes2010])\n",
      "scopes.sort_index(inplace=True)"
     ],
     "language": "python",
     "metadata": {},
     "outputs": [],
     "prompt_number": 737
    },
    {
     "cell_type": "code",
     "collapsed": true,
     "input": [
      "scopes[110:120]\n",
      "scopes2013[60:80]\n",
      "scopes.head()"
     ],
     "language": "python",
     "metadata": {},
     "outputs": [
      {
       "html": [
        "<div style=\"max-height:1000px;max-width:1500px;overflow:auto;\">\n",
        "<table border=\"1\" class=\"dataframe\">\n",
        "  <thead>\n",
        "    <tr style=\"text-align: right;\">\n",
        "      <th></th>\n",
        "      <th></th>\n",
        "      <th>Country</th>\n",
        "      <th>Discloser ID</th>\n",
        "      <th>GICS Industry</th>\n",
        "      <th>GICS Industry Group</th>\n",
        "      <th>GICS Sector</th>\n",
        "      <th>GICS Sub-Industry</th>\n",
        "      <th>has Scope 1</th>\n",
        "      <th>has Scope 2</th>\n",
        "      <th>has Scope 3</th>\n",
        "    </tr>\n",
        "    <tr>\n",
        "      <th>Organisation</th>\n",
        "      <th>year</th>\n",
        "      <th></th>\n",
        "      <th></th>\n",
        "      <th></th>\n",
        "      <th></th>\n",
        "      <th></th>\n",
        "      <th></th>\n",
        "      <th></th>\n",
        "      <th></th>\n",
        "      <th></th>\n",
        "    </tr>\n",
        "  </thead>\n",
        "  <tbody>\n",
        "    <tr>\n",
        "      <th rowspan=\"4\" valign=\"top\">3M Company</th>\n",
        "      <th>2010</th>\n",
        "      <td>            USA</td>\n",
        "      <td> df6e508b-e21b-df11-b692-0017a47708d8</td>\n",
        "      <td> Industrial Conglomerates</td>\n",
        "      <td>          Capital Goods</td>\n",
        "      <td> Industrials</td>\n",
        "      <td>                      NaN</td>\n",
        "      <td> True</td>\n",
        "      <td> True</td>\n",
        "      <td> False</td>\n",
        "    </tr>\n",
        "    <tr>\n",
        "      <th>2011</th>\n",
        "      <td>            USA</td>\n",
        "      <td> b4f71b05-18e0-df11-a2b8-0017a47708d8</td>\n",
        "      <td> Industrial Conglomerates</td>\n",
        "      <td>          Capital Goods</td>\n",
        "      <td> Industrials</td>\n",
        "      <td>                      NaN</td>\n",
        "      <td> True</td>\n",
        "      <td> True</td>\n",
        "      <td> False</td>\n",
        "    </tr>\n",
        "    <tr>\n",
        "      <th>2012</th>\n",
        "      <td>            USA</td>\n",
        "      <td> 301f9bc7-e8fe-e011-871c-0017a47708d8</td>\n",
        "      <td> Industrial Conglomerates</td>\n",
        "      <td>          Capital Goods</td>\n",
        "      <td> Industrials</td>\n",
        "      <td>                      NaN</td>\n",
        "      <td> True</td>\n",
        "      <td> True</td>\n",
        "      <td> False</td>\n",
        "    </tr>\n",
        "    <tr>\n",
        "      <th>2014</th>\n",
        "      <td>            USA</td>\n",
        "      <td>                                  NaN</td>\n",
        "      <td> Industrial Conglomerates</td>\n",
        "      <td>          Capital Goods</td>\n",
        "      <td> Industrials</td>\n",
        "      <td> Industrial Conglomerates</td>\n",
        "      <td> True</td>\n",
        "      <td> True</td>\n",
        "      <td>  True</td>\n",
        "    </tr>\n",
        "    <tr>\n",
        "      <th>3i Group</th>\n",
        "      <th>2011</th>\n",
        "      <td> United Kingdom</td>\n",
        "      <td> 9ff71b05-18e0-df11-a2b8-0017a47708d8</td>\n",
        "      <td>          Capital Markets</td>\n",
        "      <td> Diversified Financials</td>\n",
        "      <td>       Banks</td>\n",
        "      <td>                      NaN</td>\n",
        "      <td> True</td>\n",
        "      <td> True</td>\n",
        "      <td>  True</td>\n",
        "    </tr>\n",
        "  </tbody>\n",
        "</table>\n",
        "</div>"
       ],
       "metadata": {},
       "output_type": "pyout",
       "prompt_number": 739,
       "text": [
        "                          Country                          Discloser ID  \\\n",
        "Organisation year                                                         \n",
        "3M Company   2010             USA  df6e508b-e21b-df11-b692-0017a47708d8   \n",
        "             2011             USA  b4f71b05-18e0-df11-a2b8-0017a47708d8   \n",
        "             2012             USA  301f9bc7-e8fe-e011-871c-0017a47708d8   \n",
        "             2014             USA                                   NaN   \n",
        "3i Group     2011  United Kingdom  9ff71b05-18e0-df11-a2b8-0017a47708d8   \n",
        "\n",
        "                              GICS Industry     GICS Industry Group  \\\n",
        "Organisation year                                                     \n",
        "3M Company   2010  Industrial Conglomerates           Capital Goods   \n",
        "             2011  Industrial Conglomerates           Capital Goods   \n",
        "             2012  Industrial Conglomerates           Capital Goods   \n",
        "             2014  Industrial Conglomerates           Capital Goods   \n",
        "3i Group     2011           Capital Markets  Diversified Financials   \n",
        "\n",
        "                   GICS Sector         GICS Sub-Industry has Scope 1  \\\n",
        "Organisation year                                                      \n",
        "3M Company   2010  Industrials                       NaN        True   \n",
        "             2011  Industrials                       NaN        True   \n",
        "             2012  Industrials                       NaN        True   \n",
        "             2014  Industrials  Industrial Conglomerates        True   \n",
        "3i Group     2011        Banks                       NaN        True   \n",
        "\n",
        "                  has Scope 2 has Scope 3  \n",
        "Organisation year                          \n",
        "3M Company   2010        True       False  \n",
        "             2011        True       False  \n",
        "             2012        True       False  \n",
        "             2014        True        True  \n",
        "3i Group     2011        True        True  "
       ]
      }
     ],
     "prompt_number": 739
    },
    {
     "cell_type": "code",
     "collapsed": false,
     "input": [
      "scopes1and2 = scopes[scopes['has Scope 1'] & scopes['has Scope 2']]\n",
      "s12counts = scopes1and2.groupby(level=\"Organisation\").sum()"
     ],
     "language": "python",
     "metadata": {},
     "outputs": [],
     "prompt_number": 759
    },
    {
     "cell_type": "code",
     "collapsed": false,
     "input": [
      "# select company names that have all 5 years\n",
      "s12companies = s12counts[s12counts[\"has Scope 1\"] == 5].index\n",
      "scopes125yrs = scopes1and2.loc[s12companies.tolist()]\n",
      "scopes125yrs.to_pickle(\"../CDPdata/2010to2014hasscopes12.pkl\")"
     ],
     "language": "python",
     "metadata": {},
     "outputs": [],
     "prompt_number": 784
    },
    {
     "cell_type": "code",
     "collapsed": false,
     "input": [
      "len(s12companies)"
     ],
     "language": "python",
     "metadata": {},
     "outputs": [
      {
       "metadata": {},
       "output_type": "pyout",
       "prompt_number": 785,
       "text": [
        "399"
       ]
      }
     ],
     "prompt_number": 785
    },
    {
     "cell_type": "markdown",
     "metadata": {},
     "source": [
      "# get scope1 and scope2 totals\n"
     ]
    },
    {
     "cell_type": "code",
     "collapsed": false,
     "input": [
      "# 2014 data first\n",
      "pscope1 = gm.get_scope1or2(p, 1, 2014)\n",
      "scope1_2014 = pscope1.groupby(level=0).sum()"
     ],
     "language": "python",
     "metadata": {},
     "outputs": [],
     "prompt_number": 804
    },
    {
     "cell_type": "code",
     "collapsed": false,
     "input": [
      "scope1_2014.to_pickle(\"../CDPdata/2014scope1.pkl\")\n",
      "scope12_2014=scope1_2014.loc[s12companies.tolist()]"
     ],
     "language": "python",
     "metadata": {},
     "outputs": [],
     "prompt_number": 805
    },
    {
     "cell_type": "code",
     "collapsed": false,
     "input": [
      "pscope2 = gm.get_scope1or2(p,2,2014)\n",
      "scope2_2014 = pscope2.groupby(level=0).sum()\n",
      "scope2_2014.to_pickle(\"../CDPdata/2014scope2.pkl\")\n",
      "temp = scope2_2014.loc[s12companies.tolist()]\n",
      "scope12_2014 = scope12_2014.join(temp, how=\"outer\")"
     ],
     "language": "python",
     "metadata": {},
     "outputs": [],
     "prompt_number": 806
    },
    {
     "cell_type": "code",
     "collapsed": false,
     "input": [
      "# scope12_2014=scope12_2014[scope12_2014[\"Scope 2\"].notnull()]\n",
      "scope12_2014.head()"
     ],
     "language": "python",
     "metadata": {},
     "outputs": [
      {
       "html": [
        "<div style=\"max-height:1000px;max-width:1500px;overflow:auto;\">\n",
        "<table border=\"1\" class=\"dataframe\">\n",
        "  <thead>\n",
        "    <tr style=\"text-align: right;\">\n",
        "      <th></th>\n",
        "      <th>Scope 1</th>\n",
        "      <th>Scope 2</th>\n",
        "    </tr>\n",
        "  </thead>\n",
        "  <tbody>\n",
        "    <tr>\n",
        "      <th>ACC</th>\n",
        "      <td> 15146444</td>\n",
        "      <td> 511476</td>\n",
        "    </tr>\n",
        "    <tr>\n",
        "      <th>ACEA SpA</th>\n",
        "      <td>   228600</td>\n",
        "      <td> 233000</td>\n",
        "    </tr>\n",
        "    <tr>\n",
        "      <th>AECI Ltd Ord</th>\n",
        "      <td>   329822</td>\n",
        "      <td> 209557</td>\n",
        "    </tr>\n",
        "    <tr>\n",
        "      <th>AFLAC Incorporated</th>\n",
        "      <td>     3133</td>\n",
        "      <td>  17791</td>\n",
        "    </tr>\n",
        "    <tr>\n",
        "      <th>AMG Advanced Metallurgical Group NV</th>\n",
        "      <td>   183326</td>\n",
        "      <td> 396784</td>\n",
        "    </tr>\n",
        "  </tbody>\n",
        "</table>\n",
        "</div>"
       ],
       "metadata": {},
       "output_type": "pyout",
       "prompt_number": 813,
       "text": [
        "                                      Scope 1  Scope 2\n",
        "ACC                                  15146444   511476\n",
        "ACEA SpA                               228600   233000\n",
        "AECI Ltd Ord                           329822   209557\n",
        "AFLAC Incorporated                       3133    17791\n",
        "AMG Advanced Metallurgical Group NV    183326   396784"
       ]
      }
     ],
     "prompt_number": 813
    },
    {
     "cell_type": "code",
     "collapsed": false,
     "input": [
      "# groupby industry and country and find largest groups"
     ],
     "language": "python",
     "metadata": {},
     "outputs": []
    },
    {
     "cell_type": "markdown",
     "metadata": {},
     "source": [
      "## assessing targets"
     ]
    },
    {
     "cell_type": "code",
     "collapsed": false,
     "input": [
      "import targetsmosh as tm"
     ],
     "language": "python",
     "metadata": {},
     "outputs": [],
     "prompt_number": 121
    },
    {
     "cell_type": "code",
     "collapsed": false,
     "input": [
      "reload(tm)"
     ],
     "language": "python",
     "metadata": {},
     "outputs": [
      {
       "metadata": {},
       "output_type": "pyout",
       "prompt_number": 576,
       "text": [
        "<module 'targetsmosh' from 'targetsmosh.py'>"
       ]
      }
     ],
     "prompt_number": 576
    },
    {
     "cell_type": "code",
     "collapsed": false,
     "input": [
      "vcounts2013 = tm.get_vcounts(p, 2013)"
     ],
     "language": "python",
     "metadata": {},
     "outputs": [],
     "prompt_number": 577
    },
    {
     "cell_type": "code",
     "collapsed": false,
     "input": [
      "vcounts2013"
     ],
     "language": "python",
     "metadata": {},
     "outputs": [
      {
       "metadata": {},
       "output_type": "pyout",
       "prompt_number": 578,
       "text": [
        "Intensity target                  530\n",
        "No                                462\n",
        "Absolute target                   440\n",
        "Absolute and intensity targets    314\n",
        "dtype: int64"
       ]
      }
     ],
     "prompt_number": 578
    },
    {
     "cell_type": "code",
     "collapsed": false,
     "input": [
      "tm.summary(vcounts2014, p)"
     ],
     "language": "python",
     "metadata": {},
     "outputs": [
      {
       "metadata": {},
       "output_type": "pyout",
       "prompt_number": 580,
       "text": [
        "{'absolute': 798, 'intensity': 923, 'neg': 413, 'total': 1784}"
       ]
      }
     ],
     "prompt_number": 580
    },
    {
     "cell_type": "code",
     "collapsed": false,
     "input": [
      "tm.summary(vcounts2013, p)"
     ],
     "language": "python",
     "metadata": {},
     "outputs": [
      {
       "metadata": {},
       "output_type": "pyout",
       "prompt_number": 579,
       "text": [
        "{'absolute': 790, 'intensity': 880, 'neg': 500, 'total': 1784}"
       ]
      }
     ],
     "prompt_number": 579
    },
    {
     "cell_type": "code",
     "collapsed": false,
     "input": [
      "vcounts2014 = vcounts"
     ],
     "language": "python",
     "metadata": {},
     "outputs": [],
     "prompt_number": 570
    },
    {
     "cell_type": "code",
     "collapsed": false,
     "input": [],
     "language": "python",
     "metadata": {},
     "outputs": []
    }
   ],
   "metadata": {}
  }
 ]
}