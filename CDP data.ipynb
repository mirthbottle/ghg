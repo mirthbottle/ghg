{
 "metadata": {
  "name": "",
  "signature": "sha256:b0614d02ef99c1c1cbdf86fdc70c7c864582e27efce3b31f1155ba6342ac1fdc"
 },
 "nbformat": 3,
 "nbformat_minor": 0,
 "worksheets": [
  {
   "cells": [
    {
     "cell_type": "code",
     "collapsed": false,
     "input": [
      "import pandas as pd\n",
      "import numpy as np\n",
      "import json"
     ],
     "language": "python",
     "metadata": {},
     "outputs": [],
     "prompt_number": 1
    },
    {
     "cell_type": "code",
     "collapsed": false,
     "input": [
      "xls = pd.ExcelFile('../CDPdata/Investor CDP 2014_Public Data.xlsx')"
     ],
     "language": "python",
     "metadata": {},
     "outputs": [],
     "prompt_number": 2
    },
    {
     "cell_type": "code",
     "collapsed": false,
     "input": [
      "sheet_names = pd.Series(xls.sheet_names)"
     ],
     "language": "python",
     "metadata": {},
     "outputs": [],
     "prompt_number": 4
    },
    {
     "cell_type": "code",
     "collapsed": false,
     "input": [
      "sheet_names[30:40]"
     ],
     "language": "python",
     "metadata": {},
     "outputs": [
      {
       "metadata": {},
       "output_type": "pyout",
       "prompt_number": 5,
       "text": [
        "30    CC7. Emissions Methodology\n",
        "31                         CC7.1\n",
        "32                         CC7.2\n",
        "33                         CC7.3\n",
        "34                         CC7.4\n",
        "35           CC8. Emissions Data\n",
        "36                        CC8.4a\n",
        "37                         CC8.5\n",
        "38                        CC8.6a\n",
        "39                        CC8.6b\n",
        "dtype: object"
       ]
      }
     ],
     "prompt_number": 5
    },
    {
     "cell_type": "code",
     "collapsed": false,
     "input": [
      "p = xls.parse(43)"
     ],
     "language": "python",
     "metadata": {},
     "outputs": [],
     "prompt_number": 3
    },
    {
     "cell_type": "code",
     "collapsed": false,
     "input": [
      "# pickle some data?\n",
      "p.to_pickle('../CDPdata/sheet43_2014.pkl')"
     ],
     "language": "python",
     "metadata": {},
     "outputs": [],
     "prompt_number": 5
    },
    {
     "cell_type": "code",
     "collapsed": false,
     "input": [
      "p = pd.read_pickle('../CDPdata/sheet43_2014.pkl')"
     ],
     "language": "python",
     "metadata": {},
     "outputs": [],
     "prompt_number": 3
    },
    {
     "cell_type": "code",
     "collapsed": false,
     "input": [
      "pcols = p.columns.values\n",
      "p[pcols[14:25]].head()"
     ],
     "language": "python",
     "metadata": {},
     "outputs": [
      {
       "html": [
        "<div style=\"max-height:1000px;max-width:1500px;overflow:auto;\">\n",
        "<table border=\"1\" class=\"dataframe\">\n",
        "  <thead>\n",
        "    <tr style=\"text-align: right;\">\n",
        "      <th></th>\n",
        "      <th>Reporting Period\n",
        "From</th>\n",
        "      <th>Reporting Period\n",
        "To</th>\n",
        "      <th>CC9.1a. Please break down your total gross global Scope 1 emissions by country/region\n",
        "\n",
        "CC9.1a. Country/Region</th>\n",
        "      <th>CC9.1a. Scope 1 metric tonnes CO2e \u00a0</th>\n",
        "    </tr>\n",
        "  </thead>\n",
        "  <tbody>\n",
        "    <tr>\n",
        "      <th>0</th>\n",
        "      <td> 1 Jan 2013</td>\n",
        "      <td> 31 Dec 2013</td>\n",
        "      <td>              Argentina</td>\n",
        "      <td>  34591</td>\n",
        "    </tr>\n",
        "    <tr>\n",
        "      <th>1</th>\n",
        "      <td> 1 Jan 2013</td>\n",
        "      <td> 31 Dec 2013</td>\n",
        "      <td>                Belgium</td>\n",
        "      <td>  25267</td>\n",
        "    </tr>\n",
        "    <tr>\n",
        "      <th>2</th>\n",
        "      <td> 1 Jan 2013</td>\n",
        "      <td> 31 Dec 2013</td>\n",
        "      <td> Bosnia and Herzegovina</td>\n",
        "      <td>    268</td>\n",
        "    </tr>\n",
        "    <tr>\n",
        "      <th>3</th>\n",
        "      <td> 1 Jan 2013</td>\n",
        "      <td> 31 Dec 2013</td>\n",
        "      <td>                 Brazil</td>\n",
        "      <td>  80239</td>\n",
        "    </tr>\n",
        "    <tr>\n",
        "      <th>4</th>\n",
        "      <td> 1 Jan 2013</td>\n",
        "      <td> 31 Dec 2013</td>\n",
        "      <td>                  China</td>\n",
        "      <td> 422748</td>\n",
        "    </tr>\n",
        "  </tbody>\n",
        "</table>\n",
        "</div>"
       ],
       "metadata": {},
       "output_type": "pyout",
       "prompt_number": 4,
       "text": [
        "  Reporting Period\\nFrom Reporting Period\\nTo  \\\n",
        "0             1 Jan 2013          31 Dec 2013   \n",
        "1             1 Jan 2013          31 Dec 2013   \n",
        "2             1 Jan 2013          31 Dec 2013   \n",
        "3             1 Jan 2013          31 Dec 2013   \n",
        "4             1 Jan 2013          31 Dec 2013   \n",
        "\n",
        "  CC9.1a. Please break down your total gross global Scope 1 emissions by country/region\\n\\nCC9.1a. Country/Region  \\\n",
        "0                                          Argentina                                                                \n",
        "1                                            Belgium                                                                \n",
        "2                             Bosnia and Herzegovina                                                                \n",
        "3                                             Brazil                                                                \n",
        "4                                              China                                                                \n",
        "\n",
        "   CC9.1a. Scope 1 metric tonnes CO2e \u00a0  \n",
        "0                                 34591  \n",
        "1                                 25267  \n",
        "2                                   268  \n",
        "3                                 80239  \n",
        "4                                422748  "
       ]
      }
     ],
     "prompt_number": 4
    },
    {
     "cell_type": "code",
     "collapsed": false,
     "input": [
      "# Emissions are not relevant, No emissions from this source, Emissions excluded due to a recent acquisition \n",
      "p[pcols[16]].value_counts()\n",
      "# excuses_s12 = p[[\"Organisation\"]+pcols[17:19].tolist()]"
     ],
     "language": "python",
     "metadata": {},
     "outputs": [],
     "prompt_number": 7
    },
    {
     "cell_type": "code",
     "collapsed": false,
     "input": [
      "excuses_s12.to_pickle(\"../CDPdata/excuses_s12.pkl\")"
     ],
     "language": "python",
     "metadata": {},
     "outputs": [],
     "prompt_number": 20
    },
    {
     "cell_type": "markdown",
     "metadata": {},
     "source": [
      "##get emissions data"
     ]
    },
    {
     "cell_type": "code",
     "collapsed": false,
     "input": [
      "import ghgmosh as gm"
     ],
     "language": "python",
     "metadata": {},
     "outputs": [],
     "prompt_number": 4
    },
    {
     "cell_type": "code",
     "collapsed": false,
     "input": [
      "reload(gm)"
     ],
     "language": "python",
     "metadata": {},
     "outputs": [
      {
       "metadata": {},
       "output_type": "pyout",
       "prompt_number": 803,
       "text": [
        "<module 'ghgmosh' from 'ghgmosh.py'>"
       ]
      }
     ],
     "prompt_number": 803
    },
    {
     "cell_type": "markdown",
     "metadata": {},
     "source": [
      "### get scope1 and scope2 totals by country and sector"
     ]
    },
    {
     "cell_type": "code",
     "collapsed": false,
     "input": [
      "pscope1 = gm.get_scope1or2(p, 1, 2010)\n",
      "# scope1totals = gm.get_totals(pscope1, \"Country\", \"GICS Sector\", 20)"
     ],
     "language": "python",
     "metadata": {},
     "outputs": [],
     "prompt_number": 689
    },
    {
     "cell_type": "code",
     "collapsed": false,
     "input": [
      "pscope2 = pscope2[1:]\n",
      "# pscope2.head()"
     ],
     "language": "python",
     "metadata": {},
     "outputs": [],
     "prompt_number": 440
    },
    {
     "cell_type": "code",
     "collapsed": false,
     "input": [
      "# get scope2 totals by country and sector\n",
      "pscope2 = gm.get_scope1or2(p, 2, 2010)\n",
      "# scope2totals = gm.get_totals(pscope2, \"Country\", \"GICS Sector\", 20)"
     ],
     "language": "python",
     "metadata": {},
     "outputs": [],
     "prompt_number": 670
    },
    {
     "cell_type": "code",
     "collapsed": false,
     "input": [
      "# pickle some data\n",
      "scope1totals.to_pickle('mydata/2014scope1totals.pkl')\n",
      "scope2totals.to_pickle('mydata/2014scope2totals.pkl')"
     ],
     "language": "python",
     "metadata": {},
     "outputs": [],
     "prompt_number": 108
    },
    {
     "cell_type": "code",
     "collapsed": false,
     "input": [
      "scope1total = pd.read_pickle('mydata/2013scope1totals.pkl')\n",
      "scope2total = pd.read_pickle('mydata/2013scope2totals.pkl')"
     ],
     "language": "python",
     "metadata": {},
     "outputs": [],
     "prompt_number": 176
    },
    {
     "cell_type": "code",
     "collapsed": true,
     "input": [
      "scope2total.head()"
     ],
     "language": "python",
     "metadata": {},
     "outputs": [
      {
       "html": [
        "<div style=\"max-height:1000px;max-width:1500px;overflow:auto;\">\n",
        "<table border=\"1\" class=\"dataframe\">\n",
        "  <thead>\n",
        "    <tr style=\"text-align: right;\">\n",
        "      <th></th>\n",
        "      <th></th>\n",
        "      <th>Scope 2</th>\n",
        "    </tr>\n",
        "    <tr>\n",
        "      <th>Country</th>\n",
        "      <th>GICS Sector</th>\n",
        "      <th></th>\n",
        "    </tr>\n",
        "  </thead>\n",
        "  <tbody>\n",
        "    <tr>\n",
        "      <th rowspan=\"5\" valign=\"top\">Australia</th>\n",
        "      <th>Consumer Discretionary</th>\n",
        "      <td> 0.294324</td>\n",
        "    </tr>\n",
        "    <tr>\n",
        "      <th>Consumer Staples</th>\n",
        "      <td> 5.398313</td>\n",
        "    </tr>\n",
        "    <tr>\n",
        "      <th>Energy</th>\n",
        "      <td> 0.596422</td>\n",
        "    </tr>\n",
        "    <tr>\n",
        "      <th>Financials</th>\n",
        "      <td> 2.022157</td>\n",
        "    </tr>\n",
        "    <tr>\n",
        "      <th>Health Care</th>\n",
        "      <td> 0.148036</td>\n",
        "    </tr>\n",
        "  </tbody>\n",
        "</table>\n",
        "</div>"
       ],
       "metadata": {},
       "output_type": "pyout",
       "prompt_number": 539,
       "text": [
        "                                   Scope 2\n",
        "Country   GICS Sector                     \n",
        "Australia Consumer Discretionary  0.294324\n",
        "          Consumer Staples        5.398313\n",
        "          Energy                  0.596422\n",
        "          Financials              2.022157\n",
        "          Health Care             0.148036"
       ]
      }
     ],
     "prompt_number": 539
    },
    {
     "cell_type": "code",
     "collapsed": true,
     "input": [
      "s1data = gm.write_json(scope1total, \"scope1countrysector.json\")\n",
      "s2data = gm.write_json(scope2total, \"scope2countrysector.json\")"
     ],
     "language": "python",
     "metadata": {},
     "outputs": [],
     "prompt_number": 560
    },
    {
     "cell_type": "markdown",
     "metadata": {},
     "source": [
      "### get scope3 emissions"
     ]
    },
    {
     "cell_type": "code",
     "collapsed": false,
     "input": [
      "p2 = xls.parse(49)"
     ],
     "language": "python",
     "metadata": {},
     "outputs": [],
     "prompt_number": 671
    },
    {
     "cell_type": "code",
     "collapsed": false,
     "input": [
      "# p2.to_pickle('../CDPdata/sheet49_2010.pkl')\n",
      "p2 = pd.read_pickle(\"../CDPdata/sheet68_2014.pkl\")"
     ],
     "language": "python",
     "metadata": {},
     "outputs": [],
     "prompt_number": 3
    },
    {
     "cell_type": "code",
     "collapsed": false,
     "input": [
      "catgroups = p2.groupby([p2.columns[gm.scopecols[2014][3][\"cat\"]],'GICS Sector'])\n",
      "cats = catgroups.groups.keys()\n",
      "# catgroups.head()"
     ],
     "language": "python",
     "metadata": {},
     "outputs": [],
     "prompt_number": 30
    },
    {
     "cell_type": "code",
     "collapsed": false,
     "input": [
      "cg_sums = catgroups.sum()\n",
      "cg_sums.reset_index(inplace=True)\n",
      "cg_sums = cg_sums.rename( columns = { cg_sums.columns[0]: \"Scope3Cat\", \"GICS Sector\": \"Sector\",\n",
      "                                    cg_sums.columns[4]: \"CO2eTons\" } )\n",
      "cg_sums = cg_sums[[\"Scope3Cat\", \"Sector\", \"CO2eTons\"]]"
     ],
     "language": "python",
     "metadata": {},
     "outputs": [],
     "prompt_number": 50
    },
    {
     "cell_type": "code",
     "collapsed": false,
     "input": [
      "categories = list(set(cg_sums.Scope3Cat.values.tolist()))\n",
      "sectors = list(set(cg_sums.Sector.values.tolist()))\n",
      "# categories\n",
      "cgs = cg_sums.set_index(['Scope3Cat', 'Sector'])"
     ],
     "language": "python",
     "metadata": {},
     "outputs": [],
     "prompt_number": 87
    },
    {
     "cell_type": "code",
     "collapsed": false,
     "input": [
      "from collections import OrderedDict\n",
      "\n",
      "from bokeh.charts import Donut\n",
      "from bokeh.plotting import show, output_file\n",
      "bk.output_notebook()"
     ],
     "language": "python",
     "metadata": {},
     "outputs": [],
     "prompt_number": 55
    },
    {
     "cell_type": "code",
     "collapsed": false,
     "input": [
      "sectorsScope3 = OrderedDict()\n",
      "for s in sectors:\n",
      "    sectorsScope3[s]  = []\n",
      "    for c in categories:\n",
      "         sectorsScope3[s].append(cgs.loc[c,s][\"CO2eTons\"])"
     ],
     "language": "python",
     "metadata": {},
     "outputs": [],
     "prompt_number": 89
    },
    {
     "cell_type": "code",
     "collapsed": false,
     "input": [
      "donut = Donut(sectorsScope3, categories, filename=\"Scope3CatsSectors.html\")\n",
      "donut.show()"
     ],
     "language": "python",
     "metadata": {},
     "outputs": [
      {
       "output_type": "stream",
       "stream": "stdout",
       "text": [
        "Wrote donut.html\n"
       ]
      }
     ],
     "prompt_number": 94
    },
    {
     "cell_type": "code",
     "collapsed": false,
     "input": [
      "pscope3 = gm.get_scope3(p2, 2010)"
     ],
     "language": "python",
     "metadata": {},
     "outputs": [],
     "prompt_number": 673
    }
   ],
   "metadata": {}
  }
 ]
}