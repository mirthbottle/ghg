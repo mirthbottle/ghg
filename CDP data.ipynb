{
 "metadata": {
  "name": "",
  "signature": "sha256:5821b1fa2b4608f901b0474c5ddaf3a69965396caa74bf64e7aaaa90a7842f22"
 },
 "nbformat": 3,
 "nbformat_minor": 0,
 "worksheets": [
  {
   "cells": [
    {
     "cell_type": "code",
     "collapsed": false,
     "input": [
      "import pandas as pd\n",
      "import numpy as np\n",
      "import json"
     ],
     "language": "python",
     "metadata": {},
     "outputs": [],
     "prompt_number": 2
    },
    {
     "cell_type": "code",
     "collapsed": false,
     "input": [
      "xls = pd.ExcelFile('../CDPdata/Investor CDP 2014_Public Data.xlsx')"
     ],
     "language": "python",
     "metadata": {},
     "outputs": [],
     "prompt_number": 3
    },
    {
     "cell_type": "code",
     "collapsed": false,
     "input": [
      "sheet_names = pd.Series(xls.sheet_names)"
     ],
     "language": "python",
     "metadata": {},
     "outputs": [],
     "prompt_number": 3
    },
    {
     "cell_type": "code",
     "collapsed": false,
     "input": [
      "sheet_names[40:50]"
     ],
     "language": "python",
     "metadata": {},
     "outputs": [
      {
       "metadata": {},
       "output_type": "pyout",
       "prompt_number": 6,
       "text": [
        "40                          CC8.7a\n",
        "41                           CC8.8\n",
        "42     CC9. S1 Emissions Breakdown\n",
        "43                          CC9.1a\n",
        "44                          CC9.2a\n",
        "45                          CC9.2b\n",
        "46                          CC9.2c\n",
        "47                          CC9.2d\n",
        "48                          CC9.2e\n",
        "49    CC10. S2 Emissions Breakdown\n",
        "dtype: object"
       ]
      }
     ],
     "prompt_number": 6
    },
    {
     "cell_type": "code",
     "collapsed": false,
     "input": [
      "p = xls.parse(18)"
     ],
     "language": "python",
     "metadata": {},
     "outputs": [],
     "prompt_number": 4
    },
    {
     "cell_type": "code",
     "collapsed": false,
     "input": [
      "# pickle some data?\n",
      "p.to_pickle('../CDPdata/sheet18_2014.pkl')"
     ],
     "language": "python",
     "metadata": {},
     "outputs": [],
     "prompt_number": 8
    },
    {
     "cell_type": "code",
     "collapsed": false,
     "input": [
      "p = pd.read_pickle('../CDPdata/sheet12_2014.pkl')"
     ],
     "language": "python",
     "metadata": {},
     "outputs": [],
     "prompt_number": 3
    },
    {
     "cell_type": "code",
     "collapsed": false,
     "input": [
      "pcols = p.columns.values\n",
      "p[pcols[14:15]].head()"
     ],
     "language": "python",
     "metadata": {},
     "outputs": [
      {
       "html": [
        "<div style=\"max-height:1000px;max-width:1500px;overflow:auto;\">\n",
        "<table border=\"1\" class=\"dataframe\">\n",
        "  <thead>\n",
        "    <tr style=\"text-align: right;\">\n",
        "      <th></th>\n",
        "      <th>CC3.3b. For those initiatives implemented in the reporting year, please provide details in the table below\n",
        "\n",
        "CC3.3b. Activity type \u00a0</th>\n",
        "    </tr>\n",
        "  </thead>\n",
        "  <tbody>\n",
        "    <tr>\n",
        "      <th>0</th>\n",
        "      <td>                       Product design</td>\n",
        "    </tr>\n",
        "    <tr>\n",
        "      <th>1</th>\n",
        "      <td> Energy efficiency: Building services</td>\n",
        "    </tr>\n",
        "    <tr>\n",
        "      <th>2</th>\n",
        "      <td>   Energy efficiency: Building fabric</td>\n",
        "    </tr>\n",
        "    <tr>\n",
        "      <th>3</th>\n",
        "      <td>         Energy efficiency: Processes</td>\n",
        "    </tr>\n",
        "    <tr>\n",
        "      <th>4</th>\n",
        "      <td>       Low carbon energy installation</td>\n",
        "    </tr>\n",
        "  </tbody>\n",
        "</table>\n",
        "</div>"
       ],
       "metadata": {},
       "output_type": "pyout",
       "prompt_number": 7,
       "text": [
        "  CC3.3b. For those initiatives implemented in the reporting year, please provide details in the table below\\n\\nCC3.3b. Activity type \u00a0\n",
        "0                                     Product design                                                                                   \n",
        "1               Energy efficiency: Building services                                                                                   \n",
        "2                 Energy efficiency: Building fabric                                                                                   \n",
        "3                       Energy efficiency: Processes                                                                                   \n",
        "4                     Low carbon energy installation                                                                                   "
       ]
      }
     ],
     "prompt_number": 7
    },
    {
     "cell_type": "markdown",
     "metadata": {},
     "source": [
      "##get emissions data"
     ]
    },
    {
     "cell_type": "code",
     "collapsed": false,
     "input": [
      "import ghgmosh as gm"
     ],
     "language": "python",
     "metadata": {},
     "outputs": [],
     "prompt_number": 4
    },
    {
     "cell_type": "code",
     "collapsed": false,
     "input": [
      "reload(gm)"
     ],
     "language": "python",
     "metadata": {},
     "outputs": [
      {
       "metadata": {},
       "output_type": "pyout",
       "prompt_number": 803,
       "text": [
        "<module 'ghgmosh' from 'ghgmosh.py'>"
       ]
      }
     ],
     "prompt_number": 803
    },
    {
     "cell_type": "markdown",
     "metadata": {},
     "source": [
      "### get scope1 and scope2 totals by country and sector"
     ]
    },
    {
     "cell_type": "code",
     "collapsed": false,
     "input": [
      "pscope1 = gm.get_scope1or2(p, 1, 2010)\n",
      "# scope1totals = gm.get_totals(pscope1, \"Country\", \"GICS Sector\", 20)"
     ],
     "language": "python",
     "metadata": {},
     "outputs": [],
     "prompt_number": 689
    },
    {
     "cell_type": "code",
     "collapsed": false,
     "input": [
      "pscope2 = pscope2[1:]\n",
      "# pscope2.head()"
     ],
     "language": "python",
     "metadata": {},
     "outputs": [],
     "prompt_number": 440
    },
    {
     "cell_type": "code",
     "collapsed": false,
     "input": [
      "# get scope2 totals by country and sector\n",
      "pscope2 = gm.get_scope1or2(p, 2, 2010)\n",
      "# scope2totals = gm.get_totals(pscope2, \"Country\", \"GICS Sector\", 20)"
     ],
     "language": "python",
     "metadata": {},
     "outputs": [],
     "prompt_number": 670
    },
    {
     "cell_type": "code",
     "collapsed": false,
     "input": [
      "# pickle some data\n",
      "scope1totals.to_pickle('mydata/2014scope1totals.pkl')\n",
      "scope2totals.to_pickle('mydata/2014scope2totals.pkl')"
     ],
     "language": "python",
     "metadata": {},
     "outputs": [],
     "prompt_number": 108
    },
    {
     "cell_type": "code",
     "collapsed": false,
     "input": [
      "scope1total = pd.read_pickle('mydata/2013scope1totals.pkl')\n",
      "scope2total = pd.read_pickle('mydata/2013scope2totals.pkl')"
     ],
     "language": "python",
     "metadata": {},
     "outputs": [],
     "prompt_number": 176
    },
    {
     "cell_type": "code",
     "collapsed": true,
     "input": [
      "scope2total.head()"
     ],
     "language": "python",
     "metadata": {},
     "outputs": [
      {
       "html": [
        "<div style=\"max-height:1000px;max-width:1500px;overflow:auto;\">\n",
        "<table border=\"1\" class=\"dataframe\">\n",
        "  <thead>\n",
        "    <tr style=\"text-align: right;\">\n",
        "      <th></th>\n",
        "      <th></th>\n",
        "      <th>Scope 2</th>\n",
        "    </tr>\n",
        "    <tr>\n",
        "      <th>Country</th>\n",
        "      <th>GICS Sector</th>\n",
        "      <th></th>\n",
        "    </tr>\n",
        "  </thead>\n",
        "  <tbody>\n",
        "    <tr>\n",
        "      <th rowspan=\"5\" valign=\"top\">Australia</th>\n",
        "      <th>Consumer Discretionary</th>\n",
        "      <td> 0.294324</td>\n",
        "    </tr>\n",
        "    <tr>\n",
        "      <th>Consumer Staples</th>\n",
        "      <td> 5.398313</td>\n",
        "    </tr>\n",
        "    <tr>\n",
        "      <th>Energy</th>\n",
        "      <td> 0.596422</td>\n",
        "    </tr>\n",
        "    <tr>\n",
        "      <th>Financials</th>\n",
        "      <td> 2.022157</td>\n",
        "    </tr>\n",
        "    <tr>\n",
        "      <th>Health Care</th>\n",
        "      <td> 0.148036</td>\n",
        "    </tr>\n",
        "  </tbody>\n",
        "</table>\n",
        "</div>"
       ],
       "metadata": {},
       "output_type": "pyout",
       "prompt_number": 539,
       "text": [
        "                                   Scope 2\n",
        "Country   GICS Sector                     \n",
        "Australia Consumer Discretionary  0.294324\n",
        "          Consumer Staples        5.398313\n",
        "          Energy                  0.596422\n",
        "          Financials              2.022157\n",
        "          Health Care             0.148036"
       ]
      }
     ],
     "prompt_number": 539
    },
    {
     "cell_type": "code",
     "collapsed": true,
     "input": [
      "s1data = gm.write_json(scope1total, \"scope1countrysector.json\")\n",
      "s2data = gm.write_json(scope2total, \"scope2countrysector.json\")"
     ],
     "language": "python",
     "metadata": {},
     "outputs": [],
     "prompt_number": 560
    },
    {
     "cell_type": "markdown",
     "metadata": {},
     "source": [
      "### get scope3 emissions"
     ]
    },
    {
     "cell_type": "code",
     "collapsed": false,
     "input": [
      "p2 = xls.parse(49)"
     ],
     "language": "python",
     "metadata": {},
     "outputs": [],
     "prompt_number": 671
    },
    {
     "cell_type": "code",
     "collapsed": false,
     "input": [
      "# p2.to_pickle('../CDPdata/sheet49_2010.pkl')\n",
      "p2 = pd.read_pickle(\"../CDPdata/sheet68_2014.pkl\")"
     ],
     "language": "python",
     "metadata": {},
     "outputs": [],
     "prompt_number": 3
    },
    {
     "cell_type": "code",
     "collapsed": false,
     "input": [
      "catgroups = p2.groupby([p2.columns[gm.scopecols[2014][3][\"cat\"]],'GICS Sector'])\n",
      "cats = catgroups.groups.keys()\n",
      "# catgroups.head()"
     ],
     "language": "python",
     "metadata": {},
     "outputs": [],
     "prompt_number": 30
    },
    {
     "cell_type": "code",
     "collapsed": false,
     "input": [
      "cg_sums = catgroups.sum()\n",
      "cg_sums.reset_index(inplace=True)\n",
      "cg_sums = cg_sums.rename( columns = { cg_sums.columns[0]: \"Scope3Cat\", \"GICS Sector\": \"Sector\",\n",
      "                                    cg_sums.columns[4]: \"CO2eTons\" } )\n",
      "cg_sums = cg_sums[[\"Scope3Cat\", \"Sector\", \"CO2eTons\"]]"
     ],
     "language": "python",
     "metadata": {},
     "outputs": [],
     "prompt_number": 50
    },
    {
     "cell_type": "code",
     "collapsed": false,
     "input": [
      "categories = list(set(cg_sums.Scope3Cat.values.tolist()))\n",
      "sectors = list(set(cg_sums.Sector.values.tolist()))\n",
      "# categories\n",
      "cgs = cg_sums.set_index(['Scope3Cat', 'Sector'])"
     ],
     "language": "python",
     "metadata": {},
     "outputs": [],
     "prompt_number": 87
    },
    {
     "cell_type": "code",
     "collapsed": false,
     "input": [
      "from collections import OrderedDict\n",
      "\n",
      "from bokeh.charts import Donut\n",
      "from bokeh.plotting import show, output_file\n",
      "bk.output_notebook()"
     ],
     "language": "python",
     "metadata": {},
     "outputs": [],
     "prompt_number": 55
    },
    {
     "cell_type": "code",
     "collapsed": false,
     "input": [
      "sectorsScope3 = OrderedDict()\n",
      "for s in sectors:\n",
      "    sectorsScope3[s]  = []\n",
      "    for c in categories:\n",
      "         sectorsScope3[s].append(cgs.loc[c,s][\"CO2eTons\"])"
     ],
     "language": "python",
     "metadata": {},
     "outputs": [],
     "prompt_number": 89
    },
    {
     "cell_type": "code",
     "collapsed": false,
     "input": [
      "donut = Donut(sectorsScope3, categories, filename=\"Scope3CatsSectors.html\")\n",
      "donut.show()"
     ],
     "language": "python",
     "metadata": {},
     "outputs": [
      {
       "output_type": "stream",
       "stream": "stdout",
       "text": [
        "Wrote donut.html\n"
       ]
      }
     ],
     "prompt_number": 94
    },
    {
     "cell_type": "code",
     "collapsed": false,
     "input": [
      "pscope3 = gm.get_scope3(p2, 2010)"
     ],
     "language": "python",
     "metadata": {},
     "outputs": [],
     "prompt_number": 673
    },
    {
     "cell_type": "code",
     "collapsed": false,
     "input": [
      "pscopes = gm.combine_scopes(pscope1, pscope2, pscope3)"
     ],
     "language": "python",
     "metadata": {},
     "outputs": [],
     "prompt_number": 711
    },
    {
     "cell_type": "code",
     "collapsed": false,
     "input": [
      "# pickle\n",
      "pscopes.to_pickle('../CDPdata/2010hasscopes.pkl')\n",
      "# 2010 data\n",
      "# pscope1= pscope1.rename(columns={\"Scope 2\":\"Scope 1\"})\n",
      "pscopes.head()\n",
      "len(pscopes)"
     ],
     "language": "python",
     "metadata": {},
     "outputs": [
      {
       "metadata": {},
       "output_type": "pyout",
       "prompt_number": 695,
       "text": [
        "1492"
       ]
      }
     ],
     "prompt_number": 695
    }
   ],
   "metadata": {}
  }
 ]
}