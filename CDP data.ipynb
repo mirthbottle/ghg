{
 "metadata": {
  "name": "",
  "signature": "sha256:78756f45099093a465d5eb0b78174102b471068ded03cd911fa8c0a091b7542c"
 },
 "nbformat": 3,
 "nbformat_minor": 0,
 "worksheets": [
  {
   "cells": [
    {
     "cell_type": "code",
     "collapsed": false,
     "input": [
      "import pandas as pd\n",
      "import numpy as np\n",
      "import json"
     ],
     "language": "python",
     "metadata": {},
     "outputs": [],
     "prompt_number": 2
    },
    {
     "cell_type": "code",
     "collapsed": false,
     "input": [
      "xls = pd.ExcelFile('../CDPdata/Investor CDP 2012_Public Data.xlsx')"
     ],
     "language": "python",
     "metadata": {},
     "outputs": [],
     "prompt_number": 868
    },
    {
     "cell_type": "code",
     "collapsed": false,
     "input": [
      "sheet_names = pd.Series(xls.sheet_names)"
     ],
     "language": "python",
     "metadata": {},
     "outputs": [],
     "prompt_number": 828
    },
    {
     "cell_type": "code",
     "collapsed": false,
     "input": [
      "sheet_names[33:40]"
     ],
     "language": "python",
     "metadata": {},
     "outputs": [
      {
       "metadata": {},
       "output_type": "pyout",
       "prompt_number": 829,
       "text": [
        "33       8\n",
        "34    8.4a\n",
        "35     8.5\n",
        "36    8.6b\n",
        "37    8.6c\n",
        "38    8.7b\n",
        "39       9\n",
        "dtype: object"
       ]
      }
     ],
     "prompt_number": 829
    },
    {
     "cell_type": "code",
     "collapsed": false,
     "input": [
      "p = xls.parse(32)"
     ],
     "language": "python",
     "metadata": {},
     "outputs": [],
     "prompt_number": 869
    },
    {
     "cell_type": "code",
     "collapsed": false,
     "input": [
      "# pickle some data?\n",
      "# p.to_pickle('../CDPdata/sheet33_2012.pkl')"
     ],
     "language": "python",
     "metadata": {},
     "outputs": [],
     "prompt_number": 870
    },
    {
     "cell_type": "code",
     "collapsed": false,
     "input": [
      "p = pd.read_pickle('../CDPdata/sheet12_2014.pkl')"
     ],
     "language": "python",
     "metadata": {},
     "outputs": [],
     "prompt_number": 3
    },
    {
     "cell_type": "code",
     "collapsed": false,
     "input": [
      "pcols = p.columns.values\n",
      "p[pcols[10:15]].head()"
     ],
     "language": "python",
     "metadata": {},
     "outputs": [
      {
       "html": [
        "<div style=\"max-height:1000px;max-width:1500px;overflow:auto;\">\n",
        "<table border=\"1\" class=\"dataframe\">\n",
        "  <thead>\n",
        "    <tr style=\"text-align: right;\">\n",
        "      <th></th>\n",
        "      <th>Complexity</th>\n",
        "      <th>Ticker</th>\n",
        "      <th>ISIN</th>\n",
        "      <th>Complexity.1</th>\n",
        "      <th>CC3.1. Did you have an emissions reduction target that was active (ongoing or reached completion) in the reporting year?</th>\n",
        "    </tr>\n",
        "  </thead>\n",
        "  <tbody>\n",
        "    <tr>\n",
        "      <th>0</th>\n",
        "      <td> Full</td>\n",
        "      <td>    VOW3 GR</td>\n",
        "      <td> DE0007664039</td>\n",
        "      <td> Full</td>\n",
        "      <td> Absolute and intensity targets</td>\n",
        "    </tr>\n",
        "    <tr>\n",
        "      <th>1</th>\n",
        "      <td> Full</td>\n",
        "      <td>    VONN SW</td>\n",
        "      <td> CH0012335540</td>\n",
        "      <td> Full</td>\n",
        "      <td>               Intensity target</td>\n",
        "    </tr>\n",
        "    <tr>\n",
        "      <th>2</th>\n",
        "      <td> Full</td>\n",
        "      <td>     VPK NA</td>\n",
        "      <td> NL0009432491</td>\n",
        "      <td> Full</td>\n",
        "      <td> Absolute and intensity targets</td>\n",
        "    </tr>\n",
        "    <tr>\n",
        "      <th>3</th>\n",
        "      <td> Full</td>\n",
        "      <td>     VPB SW</td>\n",
        "      <td> LI0010737216</td>\n",
        "      <td> Full</td>\n",
        "      <td>                             No</td>\n",
        "    </tr>\n",
        "    <tr>\n",
        "      <th>4</th>\n",
        "      <td> Full</td>\n",
        "      <td> 553556Z US</td>\n",
        "      <td>          NaN</td>\n",
        "      <td> Full</td>\n",
        "      <td>                             No</td>\n",
        "    </tr>\n",
        "  </tbody>\n",
        "</table>\n",
        "</div>"
       ],
       "metadata": {},
       "output_type": "pyout",
       "prompt_number": 5,
       "text": [
        "  Complexity      Ticker          ISIN Complexity.1  \\\n",
        "0       Full     VOW3 GR  DE0007664039         Full   \n",
        "1       Full     VONN SW  CH0012335540         Full   \n",
        "2       Full      VPK NA  NL0009432491         Full   \n",
        "3       Full      VPB SW  LI0010737216         Full   \n",
        "4       Full  553556Z US           NaN         Full   \n",
        "\n",
        "  CC3.1. Did you have an emissions reduction target that was active (ongoing or reached completion) in the reporting year?  \n",
        "0                     Absolute and intensity targets                                                                        \n",
        "1                                   Intensity target                                                                        \n",
        "2                     Absolute and intensity targets                                                                        \n",
        "3                                                 No                                                                        \n",
        "4                                                 No                                                                        "
       ]
      }
     ],
     "prompt_number": 5
    },
    {
     "cell_type": "markdown",
     "metadata": {},
     "source": [
      "##get emissions data"
     ]
    },
    {
     "cell_type": "code",
     "collapsed": false,
     "input": [
      "import ghgmosh as gm"
     ],
     "language": "python",
     "metadata": {},
     "outputs": [],
     "prompt_number": 504
    },
    {
     "cell_type": "code",
     "collapsed": false,
     "input": [
      "reload(gm)"
     ],
     "language": "python",
     "metadata": {},
     "outputs": [
      {
       "metadata": {},
       "output_type": "pyout",
       "prompt_number": 803,
       "text": [
        "<module 'ghgmosh' from 'ghgmosh.py'>"
       ]
      }
     ],
     "prompt_number": 803
    },
    {
     "cell_type": "markdown",
     "metadata": {},
     "source": [
      "### get scope1 and scope2 totals by country and sector"
     ]
    },
    {
     "cell_type": "code",
     "collapsed": false,
     "input": [
      "pscope1 = gm.get_scope1or2(p, 1, 2010)\n",
      "# scope1totals = gm.get_totals(pscope1, \"Country\", \"GICS Sector\", 20)"
     ],
     "language": "python",
     "metadata": {},
     "outputs": [],
     "prompt_number": 689
    },
    {
     "cell_type": "code",
     "collapsed": false,
     "input": [
      "pscope2 = pscope2[1:]\n",
      "# pscope2.head()"
     ],
     "language": "python",
     "metadata": {},
     "outputs": [],
     "prompt_number": 440
    },
    {
     "cell_type": "code",
     "collapsed": false,
     "input": [
      "# get scope2 totals by country and sector\n",
      "pscope2 = gm.get_scope1or2(p, 2, 2010)\n",
      "# scope2totals = gm.get_totals(pscope2, \"Country\", \"GICS Sector\", 20)"
     ],
     "language": "python",
     "metadata": {},
     "outputs": [],
     "prompt_number": 670
    },
    {
     "cell_type": "code",
     "collapsed": false,
     "input": [
      "# pickle some data\n",
      "scope1totals.to_pickle('mydata/2014scope1totals.pkl')\n",
      "scope2totals.to_pickle('mydata/2014scope2totals.pkl')"
     ],
     "language": "python",
     "metadata": {},
     "outputs": [],
     "prompt_number": 108
    },
    {
     "cell_type": "code",
     "collapsed": false,
     "input": [
      "scope1total = pd.read_pickle('mydata/2013scope1totals.pkl')\n",
      "scope2total = pd.read_pickle('mydata/2013scope2totals.pkl')"
     ],
     "language": "python",
     "metadata": {},
     "outputs": [],
     "prompt_number": 176
    },
    {
     "cell_type": "code",
     "collapsed": true,
     "input": [
      "scope2total.head()"
     ],
     "language": "python",
     "metadata": {},
     "outputs": [
      {
       "html": [
        "<div style=\"max-height:1000px;max-width:1500px;overflow:auto;\">\n",
        "<table border=\"1\" class=\"dataframe\">\n",
        "  <thead>\n",
        "    <tr style=\"text-align: right;\">\n",
        "      <th></th>\n",
        "      <th></th>\n",
        "      <th>Scope 2</th>\n",
        "    </tr>\n",
        "    <tr>\n",
        "      <th>Country</th>\n",
        "      <th>GICS Sector</th>\n",
        "      <th></th>\n",
        "    </tr>\n",
        "  </thead>\n",
        "  <tbody>\n",
        "    <tr>\n",
        "      <th rowspan=\"5\" valign=\"top\">Australia</th>\n",
        "      <th>Consumer Discretionary</th>\n",
        "      <td> 0.294324</td>\n",
        "    </tr>\n",
        "    <tr>\n",
        "      <th>Consumer Staples</th>\n",
        "      <td> 5.398313</td>\n",
        "    </tr>\n",
        "    <tr>\n",
        "      <th>Energy</th>\n",
        "      <td> 0.596422</td>\n",
        "    </tr>\n",
        "    <tr>\n",
        "      <th>Financials</th>\n",
        "      <td> 2.022157</td>\n",
        "    </tr>\n",
        "    <tr>\n",
        "      <th>Health Care</th>\n",
        "      <td> 0.148036</td>\n",
        "    </tr>\n",
        "  </tbody>\n",
        "</table>\n",
        "</div>"
       ],
       "metadata": {},
       "output_type": "pyout",
       "prompt_number": 539,
       "text": [
        "                                   Scope 2\n",
        "Country   GICS Sector                     \n",
        "Australia Consumer Discretionary  0.294324\n",
        "          Consumer Staples        5.398313\n",
        "          Energy                  0.596422\n",
        "          Financials              2.022157\n",
        "          Health Care             0.148036"
       ]
      }
     ],
     "prompt_number": 539
    },
    {
     "cell_type": "code",
     "collapsed": true,
     "input": [
      "s1data = gm.write_json(scope1total, \"scope1countrysector.json\")\n",
      "s2data = gm.write_json(scope2total, \"scope2countrysector.json\")"
     ],
     "language": "python",
     "metadata": {},
     "outputs": [],
     "prompt_number": 560
    },
    {
     "cell_type": "markdown",
     "metadata": {},
     "source": [
      "### get scope3 emissions"
     ]
    },
    {
     "cell_type": "code",
     "collapsed": false,
     "input": [
      "p2 = xls.parse(49)"
     ],
     "language": "python",
     "metadata": {},
     "outputs": [],
     "prompt_number": 671
    },
    {
     "cell_type": "code",
     "collapsed": false,
     "input": [
      "p2.to_pickle('../CDPdata/sheet49_2010.pkl')"
     ],
     "language": "python",
     "metadata": {},
     "outputs": [],
     "prompt_number": 672
    },
    {
     "cell_type": "code",
     "collapsed": false,
     "input": [
      "pscope3 = gm.get_scope3(p2, 2010)"
     ],
     "language": "python",
     "metadata": {},
     "outputs": [],
     "prompt_number": 673
    },
    {
     "cell_type": "code",
     "collapsed": false,
     "input": [
      "pscopes = gm.combine_scopes(pscope1, pscope2, pscope3)"
     ],
     "language": "python",
     "metadata": {},
     "outputs": [],
     "prompt_number": 711
    },
    {
     "cell_type": "code",
     "collapsed": false,
     "input": [
      "# 2010 data\n",
      "# pscope1= pscope1.rename(columns={\"Scope 2\":\"Scope 1\"})\n",
      "pscopes.head()\n",
      "len(pscopes)"
     ],
     "language": "python",
     "metadata": {},
     "outputs": [
      {
       "metadata": {},
       "output_type": "pyout",
       "prompt_number": 695,
       "text": [
        "1492"
       ]
      }
     ],
     "prompt_number": 695
    },
    {
     "cell_type": "code",
     "collapsed": false,
     "input": [
      "# pickle\n",
      "pscopes.to_pickle('../CDPdata/2010hasscopes.pkl')"
     ],
     "language": "python",
     "metadata": {},
     "outputs": [],
     "prompt_number": 696
    },
    {
     "cell_type": "markdown",
     "metadata": {},
     "source": [
      "## combine scopes per company"
     ]
    },
    {
     "cell_type": "code",
     "collapsed": false,
     "input": [
      "# scopes2014 = pd.read_pickle('../CDPdata/2014hasscopes.pkl')\n",
      "# scopes2013 = pd.read_pickle('../CDPdata/2013hasscopes.pkl')\n",
      "# scopes2012 = pd.read_pickle('../CDPdata/2012hasscopes.pkl')\n",
      "scopes2010 = pscopes"
     ],
     "language": "python",
     "metadata": {},
     "outputs": [],
     "prompt_number": 713
    },
    {
     "cell_type": "code",
     "collapsed": false,
     "input": [
      "scopes2010 = gm.add_yearindex(scopes2010, 2010)\n",
      "scopes2010.head()"
     ],
     "language": "python",
     "metadata": {},
     "outputs": [
      {
       "html": [
        "<div style=\"max-height:1000px;max-width:1500px;overflow:auto;\">\n",
        "<table border=\"1\" class=\"dataframe\">\n",
        "  <thead>\n",
        "    <tr style=\"text-align: right;\">\n",
        "      <th></th>\n",
        "      <th></th>\n",
        "      <th>Discloser ID</th>\n",
        "      <th>Country</th>\n",
        "      <th>GICS Sector</th>\n",
        "      <th>GICS Industry Group</th>\n",
        "      <th>GICS Industry</th>\n",
        "      <th>has Scope 1</th>\n",
        "      <th>has Scope 2</th>\n",
        "      <th>has Scope 3</th>\n",
        "    </tr>\n",
        "    <tr>\n",
        "      <th>Organisation</th>\n",
        "      <th>year</th>\n",
        "      <th></th>\n",
        "      <th></th>\n",
        "      <th></th>\n",
        "      <th></th>\n",
        "      <th></th>\n",
        "      <th></th>\n",
        "      <th></th>\n",
        "      <th></th>\n",
        "    </tr>\n",
        "  </thead>\n",
        "  <tbody>\n",
        "    <tr>\n",
        "      <th>3M Company</th>\n",
        "      <th>2010</th>\n",
        "      <td> df6e508b-e21b-df11-b692-0017a47708d8</td>\n",
        "      <td>         USA</td>\n",
        "      <td> Industrials</td>\n",
        "      <td>  Capital Goods</td>\n",
        "      <td> Industrial Conglomerates</td>\n",
        "      <td> True</td>\n",
        "      <td> True</td>\n",
        "      <td> False</td>\n",
        "    </tr>\n",
        "    <tr>\n",
        "      <th>A&amp;H Sportswear Co, Inc.</th>\n",
        "      <th>2010</th>\n",
        "      <td> c4d18ebf-1e26-df11-aa19-0017a47708d8</td>\n",
        "      <td>         USA</td>\n",
        "      <td>         NaN</td>\n",
        "      <td>            NaN</td>\n",
        "      <td>                      NaN</td>\n",
        "      <td> True</td>\n",
        "      <td> True</td>\n",
        "      <td> False</td>\n",
        "    </tr>\n",
        "    <tr>\n",
        "      <th>A.P. Moller - Maersk</th>\n",
        "      <th>2010</th>\n",
        "      <td> 0b6c508b-e21b-df11-b692-0017a47708d8</td>\n",
        "      <td>     Denmark</td>\n",
        "      <td> Industrials</td>\n",
        "      <td> Transportation</td>\n",
        "      <td>                   Marine</td>\n",
        "      <td> True</td>\n",
        "      <td> True</td>\n",
        "      <td> False</td>\n",
        "    </tr>\n",
        "    <tr>\n",
        "      <th>A2A</th>\n",
        "      <th>2010</th>\n",
        "      <td> ef67508b-e21b-df11-b692-0017a47708d8</td>\n",
        "      <td>       Italy</td>\n",
        "      <td>   Utilities</td>\n",
        "      <td>      Utilities</td>\n",
        "      <td>          Multi-Utilities</td>\n",
        "      <td> True</td>\n",
        "      <td> True</td>\n",
        "      <td> False</td>\n",
        "    </tr>\n",
        "    <tr>\n",
        "      <th>ABB</th>\n",
        "      <th>2010</th>\n",
        "      <td> c3245885-e21b-df11-b692-0017a47708d8</td>\n",
        "      <td> Switzerland</td>\n",
        "      <td> Industrials</td>\n",
        "      <td>  Capital Goods</td>\n",
        "      <td>                Machinery</td>\n",
        "      <td> True</td>\n",
        "      <td> True</td>\n",
        "      <td> False</td>\n",
        "    </tr>\n",
        "  </tbody>\n",
        "</table>\n",
        "</div>"
       ],
       "metadata": {},
       "output_type": "pyout",
       "prompt_number": 719,
       "text": [
        "                                                      Discloser ID  \\\n",
        "Organisation            year                                         \n",
        "3M Company              2010  df6e508b-e21b-df11-b692-0017a47708d8   \n",
        "A&H Sportswear Co, Inc. 2010  c4d18ebf-1e26-df11-aa19-0017a47708d8   \n",
        "A.P. Moller - Maersk    2010  0b6c508b-e21b-df11-b692-0017a47708d8   \n",
        "A2A                     2010  ef67508b-e21b-df11-b692-0017a47708d8   \n",
        "ABB                     2010  c3245885-e21b-df11-b692-0017a47708d8   \n",
        "\n",
        "                                  Country  GICS Sector GICS Industry Group  \\\n",
        "Organisation            year                                                 \n",
        "3M Company              2010          USA  Industrials       Capital Goods   \n",
        "A&H Sportswear Co, Inc. 2010          USA          NaN                 NaN   \n",
        "A.P. Moller - Maersk    2010      Denmark  Industrials      Transportation   \n",
        "A2A                     2010        Italy    Utilities           Utilities   \n",
        "ABB                     2010  Switzerland  Industrials       Capital Goods   \n",
        "\n",
        "                                         GICS Industry has Scope 1  \\\n",
        "Organisation            year                                         \n",
        "3M Company              2010  Industrial Conglomerates        True   \n",
        "A&H Sportswear Co, Inc. 2010                       NaN        True   \n",
        "A.P. Moller - Maersk    2010                    Marine        True   \n",
        "A2A                     2010           Multi-Utilities        True   \n",
        "ABB                     2010                 Machinery        True   \n",
        "\n",
        "                             has Scope 2 has Scope 3  \n",
        "Organisation            year                          \n",
        "3M Company              2010        True       False  \n",
        "A&H Sportswear Co, Inc. 2010        True       False  \n",
        "A.P. Moller - Maersk    2010        True       False  \n",
        "A2A                     2010        True       False  \n",
        "ABB                     2010        True       False  "
       ]
      }
     ],
     "prompt_number": 719
    },
    {
     "cell_type": "code",
     "collapsed": false,
     "input": [
      "scopes = pd.concat([scopes2014, scopes2013, scopes2012, scopes2011, scopes2010])\n",
      "scopes.sort_index(inplace=True)"
     ],
     "language": "python",
     "metadata": {},
     "outputs": [],
     "prompt_number": 737
    },
    {
     "cell_type": "code",
     "collapsed": true,
     "input": [
      "scopes[110:120]\n",
      "scopes2013[60:80]\n",
      "scopes.head()"
     ],
     "language": "python",
     "metadata": {},
     "outputs": [
      {
       "html": [
        "<div style=\"max-height:1000px;max-width:1500px;overflow:auto;\">\n",
        "<table border=\"1\" class=\"dataframe\">\n",
        "  <thead>\n",
        "    <tr style=\"text-align: right;\">\n",
        "      <th></th>\n",
        "      <th></th>\n",
        "      <th>Country</th>\n",
        "      <th>Discloser ID</th>\n",
        "      <th>GICS Industry</th>\n",
        "      <th>GICS Industry Group</th>\n",
        "      <th>GICS Sector</th>\n",
        "      <th>GICS Sub-Industry</th>\n",
        "      <th>has Scope 1</th>\n",
        "      <th>has Scope 2</th>\n",
        "      <th>has Scope 3</th>\n",
        "    </tr>\n",
        "    <tr>\n",
        "      <th>Organisation</th>\n",
        "      <th>year</th>\n",
        "      <th></th>\n",
        "      <th></th>\n",
        "      <th></th>\n",
        "      <th></th>\n",
        "      <th></th>\n",
        "      <th></th>\n",
        "      <th></th>\n",
        "      <th></th>\n",
        "      <th></th>\n",
        "    </tr>\n",
        "  </thead>\n",
        "  <tbody>\n",
        "    <tr>\n",
        "      <th rowspan=\"4\" valign=\"top\">3M Company</th>\n",
        "      <th>2010</th>\n",
        "      <td>            USA</td>\n",
        "      <td> df6e508b-e21b-df11-b692-0017a47708d8</td>\n",
        "      <td> Industrial Conglomerates</td>\n",
        "      <td>          Capital Goods</td>\n",
        "      <td> Industrials</td>\n",
        "      <td>                      NaN</td>\n",
        "      <td> True</td>\n",
        "      <td> True</td>\n",
        "      <td> False</td>\n",
        "    </tr>\n",
        "    <tr>\n",
        "      <th>2011</th>\n",
        "      <td>            USA</td>\n",
        "      <td> b4f71b05-18e0-df11-a2b8-0017a47708d8</td>\n",
        "      <td> Industrial Conglomerates</td>\n",
        "      <td>          Capital Goods</td>\n",
        "      <td> Industrials</td>\n",
        "      <td>                      NaN</td>\n",
        "      <td> True</td>\n",
        "      <td> True</td>\n",
        "      <td> False</td>\n",
        "    </tr>\n",
        "    <tr>\n",
        "      <th>2012</th>\n",
        "      <td>            USA</td>\n",
        "      <td> 301f9bc7-e8fe-e011-871c-0017a47708d8</td>\n",
        "      <td> Industrial Conglomerates</td>\n",
        "      <td>          Capital Goods</td>\n",
        "      <td> Industrials</td>\n",
        "      <td>                      NaN</td>\n",
        "      <td> True</td>\n",
        "      <td> True</td>\n",
        "      <td> False</td>\n",
        "    </tr>\n",
        "    <tr>\n",
        "      <th>2014</th>\n",
        "      <td>            USA</td>\n",
        "      <td>                                  NaN</td>\n",
        "      <td> Industrial Conglomerates</td>\n",
        "      <td>          Capital Goods</td>\n",
        "      <td> Industrials</td>\n",
        "      <td> Industrial Conglomerates</td>\n",
        "      <td> True</td>\n",
        "      <td> True</td>\n",
        "      <td>  True</td>\n",
        "    </tr>\n",
        "    <tr>\n",
        "      <th>3i Group</th>\n",
        "      <th>2011</th>\n",
        "      <td> United Kingdom</td>\n",
        "      <td> 9ff71b05-18e0-df11-a2b8-0017a47708d8</td>\n",
        "      <td>          Capital Markets</td>\n",
        "      <td> Diversified Financials</td>\n",
        "      <td>       Banks</td>\n",
        "      <td>                      NaN</td>\n",
        "      <td> True</td>\n",
        "      <td> True</td>\n",
        "      <td>  True</td>\n",
        "    </tr>\n",
        "  </tbody>\n",
        "</table>\n",
        "</div>"
       ],
       "metadata": {},
       "output_type": "pyout",
       "prompt_number": 739,
       "text": [
        "                          Country                          Discloser ID  \\\n",
        "Organisation year                                                         \n",
        "3M Company   2010             USA  df6e508b-e21b-df11-b692-0017a47708d8   \n",
        "             2011             USA  b4f71b05-18e0-df11-a2b8-0017a47708d8   \n",
        "             2012             USA  301f9bc7-e8fe-e011-871c-0017a47708d8   \n",
        "             2014             USA                                   NaN   \n",
        "3i Group     2011  United Kingdom  9ff71b05-18e0-df11-a2b8-0017a47708d8   \n",
        "\n",
        "                              GICS Industry     GICS Industry Group  \\\n",
        "Organisation year                                                     \n",
        "3M Company   2010  Industrial Conglomerates           Capital Goods   \n",
        "             2011  Industrial Conglomerates           Capital Goods   \n",
        "             2012  Industrial Conglomerates           Capital Goods   \n",
        "             2014  Industrial Conglomerates           Capital Goods   \n",
        "3i Group     2011           Capital Markets  Diversified Financials   \n",
        "\n",
        "                   GICS Sector         GICS Sub-Industry has Scope 1  \\\n",
        "Organisation year                                                      \n",
        "3M Company   2010  Industrials                       NaN        True   \n",
        "             2011  Industrials                       NaN        True   \n",
        "             2012  Industrials                       NaN        True   \n",
        "             2014  Industrials  Industrial Conglomerates        True   \n",
        "3i Group     2011        Banks                       NaN        True   \n",
        "\n",
        "                  has Scope 2 has Scope 3  \n",
        "Organisation year                          \n",
        "3M Company   2010        True       False  \n",
        "             2011        True       False  \n",
        "             2012        True       False  \n",
        "             2014        True        True  \n",
        "3i Group     2011        True        True  "
       ]
      }
     ],
     "prompt_number": 739
    },
    {
     "cell_type": "code",
     "collapsed": false,
     "input": [
      "scopes1and2 = scopes[scopes['has Scope 1'] & scopes['has Scope 2']]\n",
      "s12counts = scopes1and2.groupby(level=\"Organisation\").sum()"
     ],
     "language": "python",
     "metadata": {},
     "outputs": [],
     "prompt_number": 759
    },
    {
     "cell_type": "code",
     "collapsed": false,
     "input": [
      "# select company names that have all 5 years\n",
      "s12companies = s12counts[s12counts[\"has Scope 1\"] == 5].index\n",
      "scopes125yrs = scopes1and2.loc[s12companies.tolist()]\n",
      "scopes125yrs.to_pickle(\"../CDPdata/2010to2014hasscopes12.pkl\")"
     ],
     "language": "python",
     "metadata": {},
     "outputs": [],
     "prompt_number": 784
    },
    {
     "cell_type": "code",
     "collapsed": false,
     "input": [
      "len(s12companies)"
     ],
     "language": "python",
     "metadata": {},
     "outputs": [
      {
       "metadata": {},
       "output_type": "pyout",
       "prompt_number": 926,
       "text": [
        "361"
       ]
      }
     ],
     "prompt_number": 926
    },
    {
     "cell_type": "markdown",
     "metadata": {},
     "source": [
      "# get scope1 and scope2 totals"
     ]
    },
    {
     "cell_type": "code",
     "collapsed": false,
     "input": [
      "# 2010 data\n",
      "pscope1 = gm.get_scope1or2(p, 1, 2010)\n",
      "scope1 = pscope1.groupby(level=0).sum()"
     ],
     "language": "python",
     "metadata": {},
     "outputs": [],
     "prompt_number": 882
    },
    {
     "cell_type": "code",
     "collapsed": false,
     "input": [
      "scope1.to_pickle(\"../CDPdata/2010scope1.pkl\")\n",
      "scope12 = scope1.loc[s12companies.tolist()]"
     ],
     "language": "python",
     "metadata": {},
     "outputs": [],
     "prompt_number": 883
    },
    {
     "cell_type": "code",
     "collapsed": false,
     "input": [
      "pscope2 = gm.get_scope1or2(p,2,2010)\n",
      "scope2 = pscope2.groupby(level=0).sum()\n",
      "scope2.to_pickle(\"../CDPdata/2010scope2.pkl\")\n",
      "temp = scope2.loc[s12companies.tolist()]\n",
      "scope12 = scope12.join(temp, how=\"outer\")"
     ],
     "language": "python",
     "metadata": {},
     "outputs": [],
     "prompt_number": 885
    },
    {
     "cell_type": "code",
     "collapsed": false,
     "input": [
      "scope12=scope12[scope12[\"Scope 1\"].notnull()]\n",
      "len(scope12)\n",
      "scope12.to_pickle(\"../CDPdata/2010scope12.pkl\")"
     ],
     "language": "python",
     "metadata": {},
     "outputs": [],
     "prompt_number": 891
    },
    {
     "cell_type": "code",
     "collapsed": false,
     "input": [
      "scopes12 = gm.add_yearindex(scope12_2010, 2010)\n",
      "scopes12.head()"
     ],
     "language": "python",
     "metadata": {},
     "outputs": [
      {
       "html": [
        "<div style=\"max-height:1000px;max-width:1500px;overflow:auto;\">\n",
        "<table border=\"1\" class=\"dataframe\">\n",
        "  <thead>\n",
        "    <tr style=\"text-align: right;\">\n",
        "      <th></th>\n",
        "      <th></th>\n",
        "      <th>Scope 1</th>\n",
        "      <th>Scope 2</th>\n",
        "    </tr>\n",
        "    <tr>\n",
        "      <th></th>\n",
        "      <th>year</th>\n",
        "      <th></th>\n",
        "      <th></th>\n",
        "    </tr>\n",
        "  </thead>\n",
        "  <tbody>\n",
        "    <tr>\n",
        "      <th>ACC</th>\n",
        "      <th>2010</th>\n",
        "      <td> 11888436</td>\n",
        "      <td> 493000</td>\n",
        "    </tr>\n",
        "    <tr>\n",
        "      <th>ACEA SpA</th>\n",
        "      <th>2010</th>\n",
        "      <td>  1480644</td>\n",
        "      <td> 361000</td>\n",
        "    </tr>\n",
        "    <tr>\n",
        "      <th>AECI Ltd Ord</th>\n",
        "      <th>2010</th>\n",
        "      <td>   299114</td>\n",
        "      <td> 176980</td>\n",
        "    </tr>\n",
        "    <tr>\n",
        "      <th>AFLAC Incorporated</th>\n",
        "      <th>2010</th>\n",
        "      <td>     3857</td>\n",
        "      <td>  23826</td>\n",
        "    </tr>\n",
        "    <tr>\n",
        "      <th>AMG Advanced Metallurgical Group NV</th>\n",
        "      <th>2010</th>\n",
        "      <td>    33942</td>\n",
        "      <td>  74746</td>\n",
        "    </tr>\n",
        "  </tbody>\n",
        "</table>\n",
        "</div>"
       ],
       "metadata": {},
       "output_type": "pyout",
       "prompt_number": 900,
       "text": [
        "                                           Scope 1  Scope 2\n",
        "                                    year                   \n",
        "ACC                                 2010  11888436   493000\n",
        "ACEA SpA                            2010   1480644   361000\n",
        "AECI Ltd Ord                        2010    299114   176980\n",
        "AFLAC Incorporated                  2010      3857    23826\n",
        "AMG Advanced Metallurgical Group NV 2010     33942    74746"
       ]
      }
     ],
     "prompt_number": 900
    },
    {
     "cell_type": "code",
     "collapsed": false,
     "input": [
      "scope12_2014 = pd.read_pickle(\"../CDPdata/2014scope12.pkl\")\n",
      "temp = gm.add_yearindex(scope12_2014, 2014)\n",
      "temp.head()"
     ],
     "language": "python",
     "metadata": {},
     "outputs": [
      {
       "html": [
        "<div style=\"max-height:1000px;max-width:1500px;overflow:auto;\">\n",
        "<table border=\"1\" class=\"dataframe\">\n",
        "  <thead>\n",
        "    <tr style=\"text-align: right;\">\n",
        "      <th></th>\n",
        "      <th></th>\n",
        "      <th>Scope 1</th>\n",
        "      <th>Scope 2</th>\n",
        "    </tr>\n",
        "    <tr>\n",
        "      <th></th>\n",
        "      <th>year</th>\n",
        "      <th></th>\n",
        "      <th></th>\n",
        "    </tr>\n",
        "  </thead>\n",
        "  <tbody>\n",
        "    <tr>\n",
        "      <th>ACC</th>\n",
        "      <th>2014</th>\n",
        "      <td> 15146444</td>\n",
        "      <td> 511476</td>\n",
        "    </tr>\n",
        "    <tr>\n",
        "      <th>ACEA SpA</th>\n",
        "      <th>2014</th>\n",
        "      <td>   228600</td>\n",
        "      <td> 233000</td>\n",
        "    </tr>\n",
        "    <tr>\n",
        "      <th>AECI Ltd Ord</th>\n",
        "      <th>2014</th>\n",
        "      <td>   329822</td>\n",
        "      <td> 209557</td>\n",
        "    </tr>\n",
        "    <tr>\n",
        "      <th>AFLAC Incorporated</th>\n",
        "      <th>2014</th>\n",
        "      <td>     3133</td>\n",
        "      <td>  17791</td>\n",
        "    </tr>\n",
        "    <tr>\n",
        "      <th>AMG Advanced Metallurgical Group NV</th>\n",
        "      <th>2014</th>\n",
        "      <td>   183326</td>\n",
        "      <td> 396784</td>\n",
        "    </tr>\n",
        "  </tbody>\n",
        "</table>\n",
        "</div>"
       ],
       "metadata": {},
       "output_type": "pyout",
       "prompt_number": 908,
       "text": [
        "                                           Scope 1  Scope 2\n",
        "                                    year                   \n",
        "ACC                                 2014  15146444   511476\n",
        "ACEA SpA                            2014    228600   233000\n",
        "AECI Ltd Ord                        2014    329822   209557\n",
        "AFLAC Incorporated                  2014      3133    17791\n",
        "AMG Advanced Metallurgical Group NV 2014    183326   396784"
       ]
      }
     ],
     "prompt_number": 908
    },
    {
     "cell_type": "code",
     "collapsed": false,
     "input": [
      "# scopes12 = pd.concat([scopes12, temp])\n",
      "scopes12.sort_index(inplace=True)\n",
      "scopes12.head()"
     ],
     "language": "python",
     "metadata": {},
     "outputs": [
      {
       "html": [
        "<div style=\"max-height:1000px;max-width:1500px;overflow:auto;\">\n",
        "<table border=\"1\" class=\"dataframe\">\n",
        "  <thead>\n",
        "    <tr style=\"text-align: right;\">\n",
        "      <th></th>\n",
        "      <th></th>\n",
        "      <th>Scope 1</th>\n",
        "      <th>Scope 2</th>\n",
        "      <th>has Scope 1and2</th>\n",
        "    </tr>\n",
        "    <tr>\n",
        "      <th></th>\n",
        "      <th>year</th>\n",
        "      <th></th>\n",
        "      <th></th>\n",
        "      <th></th>\n",
        "    </tr>\n",
        "  </thead>\n",
        "  <tbody>\n",
        "    <tr>\n",
        "      <th rowspan=\"5\" valign=\"top\">ACC</th>\n",
        "      <th>2010</th>\n",
        "      <td> 11888436.00</td>\n",
        "      <td> 493000</td>\n",
        "      <td> 1</td>\n",
        "    </tr>\n",
        "    <tr>\n",
        "      <th>2011</th>\n",
        "      <td> 13717736.46</td>\n",
        "      <td> 473744</td>\n",
        "      <td> 1</td>\n",
        "    </tr>\n",
        "    <tr>\n",
        "      <th>2012</th>\n",
        "      <td> 15809662.00</td>\n",
        "      <td> 625162</td>\n",
        "      <td> 1</td>\n",
        "    </tr>\n",
        "    <tr>\n",
        "      <th>2013</th>\n",
        "      <td> 15383520.00</td>\n",
        "      <td> 565856</td>\n",
        "      <td> 1</td>\n",
        "    </tr>\n",
        "    <tr>\n",
        "      <th>2014</th>\n",
        "      <td> 15146444.00</td>\n",
        "      <td> 511476</td>\n",
        "      <td> 1</td>\n",
        "    </tr>\n",
        "  </tbody>\n",
        "</table>\n",
        "</div>"
       ],
       "metadata": {},
       "output_type": "pyout",
       "prompt_number": 948,
       "text": [
        "              Scope 1  Scope 2  has Scope 1and2\n",
        "    year                                       \n",
        "ACC 2010  11888436.00   493000                1\n",
        "    2011  13717736.46   473744                1\n",
        "    2012  15809662.00   625162                1\n",
        "    2013  15383520.00   565856                1\n",
        "    2014  15146444.00   511476                1"
       ]
      }
     ],
     "prompt_number": 948
    },
    {
     "cell_type": "code",
     "collapsed": false,
     "input": [
      "scopes12=scopes12[scopes12[\"Scope 2\"].notnull()]\n",
      "len(scopes12)"
     ],
     "language": "python",
     "metadata": {},
     "outputs": [
      {
       "metadata": {},
       "output_type": "pyout",
       "prompt_number": 914,
       "text": [
        "1922"
       ]
      }
     ],
     "prompt_number": 914
    },
    {
     "cell_type": "code",
     "collapsed": false,
     "input": [
      "# scopes12['has Scope 1and2'] = 1\n",
      "# scopes12.head()\n",
      "# s12counts = scopes12.groupby(level=0).sum()\n",
      "# s12counts.head()\n",
      "# s12companies = s12counts[s12counts[\"has Scope 1and2\"] == 5].index\n",
      "# len(s12companies)*5\n",
      "# scopes12 = scopes12.loc[s12companies.tolist()]\n",
      "scopes12.to_pickle(\"../CDPdata/2010to2014scopes12.pkl\")\n",
      "len(scopes12)"
     ],
     "language": "python",
     "metadata": {},
     "outputs": [
      {
       "metadata": {},
       "output_type": "pyout",
       "prompt_number": 953,
       "text": [
        "1805"
       ]
      }
     ],
     "prompt_number": 953
    },
    {
     "cell_type": "code",
     "collapsed": false,
     "input": [
      "ind = scopes12.index.levels[0].tolist()\n",
      "sc = s12companies.tolist()\n",
      "len(ind)"
     ],
     "language": "python",
     "metadata": {},
     "outputs": [
      {
       "metadata": {},
       "output_type": "pyout",
       "prompt_number": 949,
       "text": [
        "399"
       ]
      }
     ],
     "prompt_number": 949
    },
    {
     "cell_type": "code",
     "collapsed": false,
     "input": [
      "# set(ind) - set(sc)\n",
      "# s = scopes12.reset_index()\n",
      "# s = s.rename(columns={\"level_0\":\"Organisation\"})\n",
      "s.head()\n",
      "scopes12 = s\n",
      "# s = s.set_index([\"Organisation\",\"year\"])\n",
      "# len(s.index.levels[0].tolist())"
     ],
     "language": "python",
     "metadata": {},
     "outputs": [],
     "prompt_number": 952
    },
    {
     "cell_type": "code",
     "collapsed": false,
     "input": [
      "# groupby industry and country and find largest groups"
     ],
     "language": "python",
     "metadata": {},
     "outputs": []
    }
   ],
   "metadata": {}
  }
 ]
}