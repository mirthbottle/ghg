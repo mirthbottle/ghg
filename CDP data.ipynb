{
 "metadata": {
  "name": "",
  "signature": "sha256:6fa6e58d4d6a093b43a5fc5bd8b2836881a9aba93db40a5370e772841e00d198"
 },
 "nbformat": 3,
 "nbformat_minor": 0,
 "worksheets": [
  {
   "cells": [
    {
     "cell_type": "code",
     "collapsed": false,
     "input": [
      "import pandas as pd\n",
      "import numpy as np\n",
      "import json"
     ],
     "language": "python",
     "metadata": {},
     "outputs": [],
     "prompt_number": 1
    },
    {
     "cell_type": "code",
     "collapsed": false,
     "input": [
      "xls = pd.ExcelFile('../CDPdata/Investor CDP 2013_Public Data.xlsx')"
     ],
     "language": "python",
     "metadata": {},
     "outputs": [],
     "prompt_number": 3
    },
    {
     "cell_type": "code",
     "collapsed": false,
     "input": [
      "sheet_names = pd.Series(xls.sheet_names)"
     ],
     "language": "python",
     "metadata": {},
     "outputs": [],
     "prompt_number": 4
    },
    {
     "cell_type": "code",
     "collapsed": false,
     "input": [
      "sheet_names[30:40]"
     ],
     "language": "python",
     "metadata": {},
     "outputs": [
      {
       "metadata": {},
       "output_type": "pyout",
       "prompt_number": 90,
       "text": [
        "30     7.2\n",
        "31     7.3\n",
        "32     7.4\n",
        "33       8\n",
        "34    8.4a\n",
        "35     8.5\n",
        "36    8.6b\n",
        "37    8.6c\n",
        "38    8.7b\n",
        "39       9\n",
        "dtype: object"
       ]
      }
     ],
     "prompt_number": 90
    },
    {
     "cell_type": "code",
     "collapsed": false,
     "input": [
      "p = xls.parse(33)"
     ],
     "language": "python",
     "metadata": {},
     "outputs": [],
     "prompt_number": 94
    },
    {
     "cell_type": "code",
     "collapsed": false,
     "input": [
      "# pickle some data?\n",
      "p.to_pickle('../CDPdata/sheet10_2013.pkl')"
     ],
     "language": "python",
     "metadata": {},
     "outputs": [],
     "prompt_number": 569
    },
    {
     "cell_type": "code",
     "collapsed": false,
     "input": [
      "pscope1and2 = pd.read_pickle('../CDPdata/sheet35_2014.pkl')"
     ],
     "language": "python",
     "metadata": {},
     "outputs": [],
     "prompt_number": 278
    },
    {
     "cell_type": "code",
     "collapsed": false,
     "input": [
      "pcols = p.columns.values\n",
      "p[pcols[17:19]][0:3]"
     ],
     "language": "python",
     "metadata": {},
     "outputs": [
      {
       "html": [
        "<div style=\"max-height:1000px;max-width:1500px;overflow:auto;\">\n",
        "<table border=\"1\" class=\"dataframe\">\n",
        "  <thead>\n",
        "    <tr style=\"text-align: right;\">\n",
        "      <th></th>\n",
        "      <th>8.2. \n",
        "Please provide your gross global Scope 1 emissions figures in metric tonnes CO2e</th>\n",
        "      <th>8.3. \n",
        "Please provide your gross global Scope 2 emissions figures in metric tonnes CO2e</th>\n",
        "    </tr>\n",
        "  </thead>\n",
        "  <tbody>\n",
        "    <tr>\n",
        "      <th>0</th>\n",
        "      <td> 994837</td>\n",
        "      <td>   6689</td>\n",
        "    </tr>\n",
        "    <tr>\n",
        "      <th>1</th>\n",
        "      <td>   9383</td>\n",
        "      <td> 224615</td>\n",
        "    </tr>\n",
        "    <tr>\n",
        "      <th>2</th>\n",
        "      <td>  12912</td>\n",
        "      <td>  39791</td>\n",
        "    </tr>\n",
        "  </tbody>\n",
        "</table>\n",
        "</div>"
       ],
       "metadata": {},
       "output_type": "pyout",
       "prompt_number": 102,
       "text": [
        "   8.2. \\nPlease provide your gross global Scope 1 emissions figures in metric tonnes CO2e  \\\n",
        "0                                             994837                                         \n",
        "1                                               9383                                         \n",
        "2                                              12912                                         \n",
        "\n",
        "   8.3. \\nPlease provide your gross global Scope 2 emissions figures in metric tonnes CO2e  \n",
        "0                                               6689                                        \n",
        "1                                             224615                                        \n",
        "2                                              39791                                        "
       ]
      }
     ],
     "prompt_number": 102
    },
    {
     "cell_type": "markdown",
     "metadata": {},
     "source": [
      "##get emissions data"
     ]
    },
    {
     "cell_type": "code",
     "collapsed": false,
     "input": [
      "import ghgmosh as gm"
     ],
     "language": "python",
     "metadata": {},
     "outputs": [],
     "prompt_number": 34
    },
    {
     "cell_type": "code",
     "collapsed": false,
     "input": [
      "reload(gm)"
     ],
     "language": "python",
     "metadata": {},
     "outputs": [
      {
       "metadata": {},
       "output_type": "pyout",
       "prompt_number": 272,
       "text": [
        "<module 'ghgmosh' from 'ghgmosh.py'>"
       ]
      }
     ],
     "prompt_number": 272
    },
    {
     "cell_type": "code",
     "collapsed": false,
     "input": [
      "p = pd.read_pickle('../CDPdata/sheet35_2014.pkl')"
     ],
     "language": "python",
     "metadata": {},
     "outputs": [],
     "prompt_number": 534
    },
    {
     "cell_type": "markdown",
     "metadata": {},
     "source": [
      "### get scope1 and scope2 totals by country and sector"
     ]
    },
    {
     "cell_type": "code",
     "collapsed": false,
     "input": [
      "pscope1 = gm.get_scope1or2(p, 1)\n",
      "# scope1totals = gm.get_totals(pscope1, \"Country\", \"GICS Sector\", 20)"
     ],
     "language": "python",
     "metadata": {},
     "outputs": [],
     "prompt_number": 207
    },
    {
     "cell_type": "code",
     "collapsed": true,
     "input": [
      "scope1totals.describe()"
     ],
     "language": "python",
     "metadata": {},
     "outputs": [
      {
       "html": [
        "<div style=\"max-height:1000px;max-width:1500px;overflow:auto;\">\n",
        "<table border=\"1\" class=\"dataframe\">\n",
        "  <thead>\n",
        "    <tr style=\"text-align: right;\">\n",
        "      <th></th>\n",
        "      <th>Scope 1</th>\n",
        "    </tr>\n",
        "  </thead>\n",
        "  <tbody>\n",
        "    <tr>\n",
        "      <th>count</th>\n",
        "      <td> 178.000000</td>\n",
        "    </tr>\n",
        "    <tr>\n",
        "      <th>mean</th>\n",
        "      <td>  30.173451</td>\n",
        "    </tr>\n",
        "    <tr>\n",
        "      <th>std</th>\n",
        "      <td>  74.041606</td>\n",
        "    </tr>\n",
        "    <tr>\n",
        "      <th>min</th>\n",
        "      <td>   0.000000</td>\n",
        "    </tr>\n",
        "    <tr>\n",
        "      <th>25%</th>\n",
        "      <td>   0.168351</td>\n",
        "    </tr>\n",
        "    <tr>\n",
        "      <th>50%</th>\n",
        "      <td>   1.740830</td>\n",
        "    </tr>\n",
        "    <tr>\n",
        "      <th>75%</th>\n",
        "      <td>  27.145024</td>\n",
        "    </tr>\n",
        "    <tr>\n",
        "      <th>max</th>\n",
        "      <td> 727.012704</td>\n",
        "    </tr>\n",
        "  </tbody>\n",
        "</table>\n",
        "</div>"
       ],
       "metadata": {},
       "output_type": "pyout",
       "prompt_number": 536,
       "text": [
        "          Scope 1\n",
        "count  178.000000\n",
        "mean    30.173451\n",
        "std     74.041606\n",
        "min      0.000000\n",
        "25%      0.168351\n",
        "50%      1.740830\n",
        "75%     27.145024\n",
        "max    727.012704"
       ]
      }
     ],
     "prompt_number": 536
    },
    {
     "cell_type": "code",
     "collapsed": false,
     "input": [
      "# get scope2 totals by country and sector\n",
      "pscope2 = gm.get_scope1or2(p, 2)\n",
      "# scope2totals = gm.get_totals(pscope2, \"Country\", \"GICS Sector\", 20)"
     ],
     "language": "python",
     "metadata": {},
     "outputs": [],
     "prompt_number": 208
    },
    {
     "cell_type": "code",
     "collapsed": false,
     "input": [
      "# pickle some data\n",
      "scope1totals.to_pickle('mydata/2014scope1totals.pkl')\n",
      "scope2totals.to_pickle('mydata/2014scope2totals.pkl')"
     ],
     "language": "python",
     "metadata": {},
     "outputs": [],
     "prompt_number": 108
    },
    {
     "cell_type": "code",
     "collapsed": false,
     "input": [
      "scope1total = pd.read_pickle('mydata/2013scope1totals.pkl')\n",
      "scope2total = pd.read_pickle('mydata/2013scope2totals.pkl')"
     ],
     "language": "python",
     "metadata": {},
     "outputs": [],
     "prompt_number": 176
    },
    {
     "cell_type": "code",
     "collapsed": true,
     "input": [
      "scope2total.head()"
     ],
     "language": "python",
     "metadata": {},
     "outputs": [
      {
       "html": [
        "<div style=\"max-height:1000px;max-width:1500px;overflow:auto;\">\n",
        "<table border=\"1\" class=\"dataframe\">\n",
        "  <thead>\n",
        "    <tr style=\"text-align: right;\">\n",
        "      <th></th>\n",
        "      <th></th>\n",
        "      <th>Scope 2</th>\n",
        "    </tr>\n",
        "    <tr>\n",
        "      <th>Country</th>\n",
        "      <th>GICS Sector</th>\n",
        "      <th></th>\n",
        "    </tr>\n",
        "  </thead>\n",
        "  <tbody>\n",
        "    <tr>\n",
        "      <th rowspan=\"5\" valign=\"top\">Australia</th>\n",
        "      <th>Consumer Discretionary</th>\n",
        "      <td> 0.294324</td>\n",
        "    </tr>\n",
        "    <tr>\n",
        "      <th>Consumer Staples</th>\n",
        "      <td> 5.398313</td>\n",
        "    </tr>\n",
        "    <tr>\n",
        "      <th>Energy</th>\n",
        "      <td> 0.596422</td>\n",
        "    </tr>\n",
        "    <tr>\n",
        "      <th>Financials</th>\n",
        "      <td> 2.022157</td>\n",
        "    </tr>\n",
        "    <tr>\n",
        "      <th>Health Care</th>\n",
        "      <td> 0.148036</td>\n",
        "    </tr>\n",
        "  </tbody>\n",
        "</table>\n",
        "</div>"
       ],
       "metadata": {},
       "output_type": "pyout",
       "prompt_number": 539,
       "text": [
        "                                   Scope 2\n",
        "Country   GICS Sector                     \n",
        "Australia Consumer Discretionary  0.294324\n",
        "          Consumer Staples        5.398313\n",
        "          Energy                  0.596422\n",
        "          Financials              2.022157\n",
        "          Health Care             0.148036"
       ]
      }
     ],
     "prompt_number": 539
    },
    {
     "cell_type": "code",
     "collapsed": true,
     "input": [
      "s1data = gm.write_json(scope1total, \"scope1countrysector.json\")\n",
      "s2data = gm.write_json(scope2total, \"scope2countrysector.json\")"
     ],
     "language": "python",
     "metadata": {},
     "outputs": [],
     "prompt_number": 560
    },
    {
     "cell_type": "markdown",
     "metadata": {},
     "source": [
      "### get scope3 emissions"
     ]
    },
    {
     "cell_type": "code",
     "collapsed": false,
     "input": [
      "p = xls.parse(65)"
     ],
     "language": "python",
     "metadata": {},
     "outputs": [
      {
       "html": [
        "<div style=\"max-height:1000px;max-width:1500px;overflow:auto;\">\n",
        "<table border=\"1\" class=\"dataframe\">\n",
        "  <thead>\n",
        "    <tr style=\"text-align: right;\">\n",
        "      <th></th>\n",
        "      <th>Organisation</th>\n",
        "      <th>Account No</th>\n",
        "      <th>Country</th>\n",
        "      <th>GICS Sector</th>\n",
        "      <th>GICS Industry Group</th>\n",
        "      <th>GICS Industry</th>\n",
        "      <th>GICS Sub-Industry</th>\n",
        "      <th>Access</th>\n",
        "      <th>Primary Expansion</th>\n",
        "      <th>Secondary Expansions</th>\n",
        "      <th>Complexity</th>\n",
        "      <th>Ticker</th>\n",
        "      <th>ISIN</th>\n",
        "      <th>Complexity.1</th>\n",
        "      <th>14.1. \n",
        "Please account for your organization\u2019s Scope 3 emissions, disclosing and explaining any exclusions\n",
        "\n",
        "14.1. \n",
        "Sources of Scope 3 emissions</th>\n",
        "      <th>14.1. Evaluation status</th>\n",
        "      <th>14.1. \n",
        "metric tonnes CO2e</th>\n",
        "      <th>14.1. \n",
        "Methodology</th>\n",
        "      <th>14.1. Percentage of emissions calculated using primary data</th>\n",
        "      <th>14.1. Explanation</th>\n",
        "    </tr>\n",
        "  </thead>\n",
        "  <tbody>\n",
        "    <tr>\n",
        "      <th>0</th>\n",
        "      <td> CASELLA</td>\n",
        "      <td> 2840</td>\n",
        "      <td> USA</td>\n",
        "      <td> Industrials</td>\n",
        "      <td> Commercial &amp; Professional Services</td>\n",
        "      <td> Commercial Services &amp; Supplies</td>\n",
        "      <td> Environmental &amp; Facilities Services</td>\n",
        "      <td> Public</td>\n",
        "      <td>NaN</td>\n",
        "      <td> Other responding corporations,</td>\n",
        "      <td> Full</td>\n",
        "      <td> CWST US</td>\n",
        "      <td> US1474481041</td>\n",
        "      <td> Full</td>\n",
        "      <td>                      Purchased goods and services</td>\n",
        "      <td> NaN</td>\n",
        "      <td>NaN</td>\n",
        "      <td> NaN</td>\n",
        "      <td>NaN</td>\n",
        "      <td> NaN</td>\n",
        "    </tr>\n",
        "    <tr>\n",
        "      <th>1</th>\n",
        "      <td> CASELLA</td>\n",
        "      <td> 2840</td>\n",
        "      <td> USA</td>\n",
        "      <td> Industrials</td>\n",
        "      <td> Commercial &amp; Professional Services</td>\n",
        "      <td> Commercial Services &amp; Supplies</td>\n",
        "      <td> Environmental &amp; Facilities Services</td>\n",
        "      <td> Public</td>\n",
        "      <td>NaN</td>\n",
        "      <td> Other responding corporations,</td>\n",
        "      <td> Full</td>\n",
        "      <td> CWST US</td>\n",
        "      <td> US1474481041</td>\n",
        "      <td> Full</td>\n",
        "      <td>                                     Capital goods</td>\n",
        "      <td> NaN</td>\n",
        "      <td>NaN</td>\n",
        "      <td> NaN</td>\n",
        "      <td>NaN</td>\n",
        "      <td> NaN</td>\n",
        "    </tr>\n",
        "    <tr>\n",
        "      <th>2</th>\n",
        "      <td> CASELLA</td>\n",
        "      <td> 2840</td>\n",
        "      <td> USA</td>\n",
        "      <td> Industrials</td>\n",
        "      <td> Commercial &amp; Professional Services</td>\n",
        "      <td> Commercial Services &amp; Supplies</td>\n",
        "      <td> Environmental &amp; Facilities Services</td>\n",
        "      <td> Public</td>\n",
        "      <td>NaN</td>\n",
        "      <td> Other responding corporations,</td>\n",
        "      <td> Full</td>\n",
        "      <td> CWST US</td>\n",
        "      <td> US1474481041</td>\n",
        "      <td> Full</td>\n",
        "      <td> Fuel-and-energy-related activities (not includ...</td>\n",
        "      <td> NaN</td>\n",
        "      <td>NaN</td>\n",
        "      <td> NaN</td>\n",
        "      <td>NaN</td>\n",
        "      <td> NaN</td>\n",
        "    </tr>\n",
        "    <tr>\n",
        "      <th>3</th>\n",
        "      <td> CASELLA</td>\n",
        "      <td> 2840</td>\n",
        "      <td> USA</td>\n",
        "      <td> Industrials</td>\n",
        "      <td> Commercial &amp; Professional Services</td>\n",
        "      <td> Commercial Services &amp; Supplies</td>\n",
        "      <td> Environmental &amp; Facilities Services</td>\n",
        "      <td> Public</td>\n",
        "      <td>NaN</td>\n",
        "      <td> Other responding corporations,</td>\n",
        "      <td> Full</td>\n",
        "      <td> CWST US</td>\n",
        "      <td> US1474481041</td>\n",
        "      <td> Full</td>\n",
        "      <td>          Upstream transportation and distribution</td>\n",
        "      <td> NaN</td>\n",
        "      <td>NaN</td>\n",
        "      <td> NaN</td>\n",
        "      <td>NaN</td>\n",
        "      <td> NaN</td>\n",
        "    </tr>\n",
        "    <tr>\n",
        "      <th>4</th>\n",
        "      <td> CASELLA</td>\n",
        "      <td> 2840</td>\n",
        "      <td> USA</td>\n",
        "      <td> Industrials</td>\n",
        "      <td> Commercial &amp; Professional Services</td>\n",
        "      <td> Commercial Services &amp; Supplies</td>\n",
        "      <td> Environmental &amp; Facilities Services</td>\n",
        "      <td> Public</td>\n",
        "      <td>NaN</td>\n",
        "      <td> Other responding corporations,</td>\n",
        "      <td> Full</td>\n",
        "      <td> CWST US</td>\n",
        "      <td> US1474481041</td>\n",
        "      <td> Full</td>\n",
        "      <td>                     Waste generated in operations</td>\n",
        "      <td> NaN</td>\n",
        "      <td>NaN</td>\n",
        "      <td> NaN</td>\n",
        "      <td>NaN</td>\n",
        "      <td> NaN</td>\n",
        "    </tr>\n",
        "  </tbody>\n",
        "</table>\n",
        "</div>"
       ],
       "metadata": {},
       "output_type": "pyout",
       "prompt_number": 18,
       "text": [
        "  Organisation  Account No Country  GICS Sector  \\\n",
        "0      CASELLA        2840     USA  Industrials   \n",
        "1      CASELLA        2840     USA  Industrials   \n",
        "2      CASELLA        2840     USA  Industrials   \n",
        "3      CASELLA        2840     USA  Industrials   \n",
        "4      CASELLA        2840     USA  Industrials   \n",
        "\n",
        "                  GICS Industry Group                   GICS Industry  \\\n",
        "0  Commercial & Professional Services  Commercial Services & Supplies   \n",
        "1  Commercial & Professional Services  Commercial Services & Supplies   \n",
        "2  Commercial & Professional Services  Commercial Services & Supplies   \n",
        "3  Commercial & Professional Services  Commercial Services & Supplies   \n",
        "4  Commercial & Professional Services  Commercial Services & Supplies   \n",
        "\n",
        "                     GICS Sub-Industry  Access  Primary Expansion  \\\n",
        "0  Environmental & Facilities Services  Public                NaN   \n",
        "1  Environmental & Facilities Services  Public                NaN   \n",
        "2  Environmental & Facilities Services  Public                NaN   \n",
        "3  Environmental & Facilities Services  Public                NaN   \n",
        "4  Environmental & Facilities Services  Public                NaN   \n",
        "\n",
        "             Secondary Expansions Complexity   Ticker          ISIN  \\\n",
        "0  Other responding corporations,       Full  CWST US  US1474481041   \n",
        "1  Other responding corporations,       Full  CWST US  US1474481041   \n",
        "2  Other responding corporations,       Full  CWST US  US1474481041   \n",
        "3  Other responding corporations,       Full  CWST US  US1474481041   \n",
        "4  Other responding corporations,       Full  CWST US  US1474481041   \n",
        "\n",
        "  Complexity.1  \\\n",
        "0         Full   \n",
        "1         Full   \n",
        "2         Full   \n",
        "3         Full   \n",
        "4         Full   \n",
        "\n",
        "  14.1. \\nPlease account for your organization\u2019s Scope 3 emissions, disclosing and explaining any exclusions\\n\\n14.1. \\nSources of Scope 3 emissions  \\\n",
        "0                       Purchased goods and services                                                                                                   \n",
        "1                                      Capital goods                                                                                                   \n",
        "2  Fuel-and-energy-related activities (not includ...                                                                                                   \n",
        "3           Upstream transportation and distribution                                                                                                   \n",
        "4                      Waste generated in operations                                                                                                   \n",
        "\n",
        "  14.1. Evaluation status  14.1. \\nmetric tonnes CO2e 14.1. \\nMethodology  \\\n",
        "0                     NaN                         NaN                 NaN   \n",
        "1                     NaN                         NaN                 NaN   \n",
        "2                     NaN                         NaN                 NaN   \n",
        "3                     NaN                         NaN                 NaN   \n",
        "4                     NaN                         NaN                 NaN   \n",
        "\n",
        "   14.1. Percentage of emissions calculated using primary data  \\\n",
        "0                                                NaN             \n",
        "1                                                NaN             \n",
        "2                                                NaN             \n",
        "3                                                NaN             \n",
        "4                                                NaN             \n",
        "\n",
        "  14.1. Explanation  \n",
        "0               NaN  \n",
        "1               NaN  \n",
        "2               NaN  \n",
        "3               NaN  \n",
        "4               NaN  "
       ]
      }
     ],
     "prompt_number": 18
    },
    {
     "cell_type": "code",
     "collapsed": false,
     "input": [
      "pscope3 = gm.get_scope3(p)"
     ],
     "language": "python",
     "metadata": {},
     "outputs": [],
     "prompt_number": 273
    },
    {
     "cell_type": "code",
     "collapsed": false,
     "input": [
      "pscopes = gm.combine_scopes(pscope1, pscope2, pscope3)"
     ],
     "language": "python",
     "metadata": {},
     "outputs": [],
     "prompt_number": 274
    },
    {
     "cell_type": "code",
     "collapsed": false,
     "input": [
      "# 2013 data\n",
      "pscopes.head()"
     ],
     "language": "python",
     "metadata": {},
     "outputs": [
      {
       "html": [
        "<div style=\"max-height:1000px;max-width:1500px;overflow:auto;\">\n",
        "<table border=\"1\" class=\"dataframe\">\n",
        "  <thead>\n",
        "    <tr style=\"text-align: right;\">\n",
        "      <th></th>\n",
        "      <th>Country</th>\n",
        "      <th>GICS Sector</th>\n",
        "      <th>GICS Industry Group</th>\n",
        "      <th>GICS Industry</th>\n",
        "      <th>GICS Sub-Industry</th>\n",
        "      <th>Reporting Period\n",
        "From</th>\n",
        "      <th>Reporting Period\n",
        "To</th>\n",
        "      <th>8.1. \n",
        "Please select the boundary you are using for your Scope 1 and 2 greenhouse gas inventory</th>\n",
        "      <th>has Scope 1</th>\n",
        "      <th>has Scope 2</th>\n",
        "      <th>has Scope 3</th>\n",
        "    </tr>\n",
        "    <tr>\n",
        "      <th>Organisation</th>\n",
        "      <th></th>\n",
        "      <th></th>\n",
        "      <th></th>\n",
        "      <th></th>\n",
        "      <th></th>\n",
        "      <th></th>\n",
        "      <th></th>\n",
        "      <th></th>\n",
        "      <th></th>\n",
        "      <th></th>\n",
        "      <th></th>\n",
        "    </tr>\n",
        "  </thead>\n",
        "  <tbody>\n",
        "    <tr>\n",
        "      <th>ACCIONA S.A.</th>\n",
        "      <td>        Spain</td>\n",
        "      <td>            Industrials</td>\n",
        "      <td> Commercial &amp; Professional Services</td>\n",
        "      <td>               Commercial Services &amp; Supplies</td>\n",
        "      <td>                 Diversified Support Services</td>\n",
        "      <td> 1 Jan 2012</td>\n",
        "      <td> 31 Dec 2012</td>\n",
        "      <td>                            Financial control</td>\n",
        "      <td> True</td>\n",
        "      <td> True</td>\n",
        "      <td> True</td>\n",
        "    </tr>\n",
        "    <tr>\n",
        "      <th>AECI Ltd Ord</th>\n",
        "      <td> South Africa</td>\n",
        "      <td>              Materials</td>\n",
        "      <td>                          Materials</td>\n",
        "      <td>                                    Chemicals</td>\n",
        "      <td>                          Specialty Chemicals</td>\n",
        "      <td> 1 Jan 2012</td>\n",
        "      <td> 31 Dec 2012</td>\n",
        "      <td>                            Financial control</td>\n",
        "      <td> True</td>\n",
        "      <td> True</td>\n",
        "      <td> True</td>\n",
        "    </tr>\n",
        "    <tr>\n",
        "      <th>AFP Integra</th>\n",
        "      <td>         Peru</td>\n",
        "      <td>             Financials</td>\n",
        "      <td>             Diversified Financials</td>\n",
        "      <td>               Diversified Financial Services</td>\n",
        "      <td>         Other Diversified Financial Services</td>\n",
        "      <td> 1 Jan 2012</td>\n",
        "      <td> 31 Dec 2012</td>\n",
        "      <td> Other: operational limits and organizational</td>\n",
        "      <td> True</td>\n",
        "      <td> True</td>\n",
        "      <td> True</td>\n",
        "    </tr>\n",
        "    <tr>\n",
        "      <th>AKENERJ\u0130 ELEKTR\u0130K \u00dcRET\u0130M A.\u015e.</th>\n",
        "      <td>       Turkey</td>\n",
        "      <td>              Utilities</td>\n",
        "      <td>                          Utilities</td>\n",
        "      <td> Independent Power Producers &amp; Energy Traders</td>\n",
        "      <td> Independent Power Producers &amp; Energy Traders</td>\n",
        "      <td> 1 Jan 2012</td>\n",
        "      <td> 31 Dec 2012</td>\n",
        "      <td>                          Operational control</td>\n",
        "      <td> True</td>\n",
        "      <td> True</td>\n",
        "      <td> True</td>\n",
        "    </tr>\n",
        "    <tr>\n",
        "      <th>Accenture</th>\n",
        "      <td>      Ireland</td>\n",
        "      <td> Information Technology</td>\n",
        "      <td>                Software &amp; Services</td>\n",
        "      <td>                                  IT Services</td>\n",
        "      <td>               IT Consulting &amp; Other Services</td>\n",
        "      <td> 1 Sep 2011</td>\n",
        "      <td> 31 Aug 2012</td>\n",
        "      <td>                          Operational control</td>\n",
        "      <td> True</td>\n",
        "      <td> True</td>\n",
        "      <td> True</td>\n",
        "    </tr>\n",
        "  </tbody>\n",
        "</table>\n",
        "</div>"
       ],
       "metadata": {},
       "output_type": "pyout",
       "prompt_number": 283,
       "text": [
        "                                    Country             GICS Sector  \\\n",
        "Organisation                                                          \n",
        "ACCIONA S.A.                          Spain             Industrials   \n",
        "AECI Ltd Ord                   South Africa               Materials   \n",
        "AFP Integra                            Peru              Financials   \n",
        "AKENERJ\u0130 ELEKTR\u0130K \u00dcRET\u0130M A.\u015e.        Turkey               Utilities   \n",
        "Accenture                           Ireland  Information Technology   \n",
        "\n",
        "                                              GICS Industry Group  \\\n",
        "Organisation                                                        \n",
        "ACCIONA S.A.                   Commercial & Professional Services   \n",
        "AECI Ltd Ord                                            Materials   \n",
        "AFP Integra                                Diversified Financials   \n",
        "AKENERJ\u0130 ELEKTR\u0130K \u00dcRET\u0130M A.\u015e.                           Utilities   \n",
        "Accenture                                     Software & Services   \n",
        "\n",
        "                                                              GICS Industry  \\\n",
        "Organisation                                                                  \n",
        "ACCIONA S.A.                                 Commercial Services & Supplies   \n",
        "AECI Ltd Ord                                                      Chemicals   \n",
        "AFP Integra                                  Diversified Financial Services   \n",
        "AKENERJ\u0130 ELEKTR\u0130K \u00dcRET\u0130M A.\u015e.  Independent Power Producers & Energy Traders   \n",
        "Accenture                                                       IT Services   \n",
        "\n",
        "                                                          GICS Sub-Industry  \\\n",
        "Organisation                                                                  \n",
        "ACCIONA S.A.                                   Diversified Support Services   \n",
        "AECI Ltd Ord                                            Specialty Chemicals   \n",
        "AFP Integra                            Other Diversified Financial Services   \n",
        "AKENERJ\u0130 ELEKTR\u0130K \u00dcRET\u0130M A.\u015e.  Independent Power Producers & Energy Traders   \n",
        "Accenture                                    IT Consulting & Other Services   \n",
        "\n",
        "                              Reporting Period\\nFrom Reporting Period\\nTo  \\\n",
        "Organisation                                                                \n",
        "ACCIONA S.A.                              1 Jan 2012          31 Dec 2012   \n",
        "AECI Ltd Ord                              1 Jan 2012          31 Dec 2012   \n",
        "AFP Integra                               1 Jan 2012          31 Dec 2012   \n",
        "AKENERJ\u0130 ELEKTR\u0130K \u00dcRET\u0130M A.\u015e.             1 Jan 2012          31 Dec 2012   \n",
        "Accenture                                 1 Sep 2011          31 Aug 2012   \n",
        "\n",
        "                              8.1. \\nPlease select the boundary you are using for your Scope 1 and 2 greenhouse gas inventory  \\\n",
        "Organisation                                                                                                                    \n",
        "ACCIONA S.A.                                                   Financial control                                                \n",
        "AECI Ltd Ord                                                   Financial control                                                \n",
        "AFP Integra                         Other: operational limits and organizational                                                \n",
        "AKENERJ\u0130 ELEKTR\u0130K \u00dcRET\u0130M A.\u015e.                                Operational control                                                \n",
        "Accenture                                                    Operational control                                                \n",
        "\n",
        "                              has Scope 1 has Scope 2 has Scope 3  \n",
        "Organisation                                                       \n",
        "ACCIONA S.A.                         True        True        True  \n",
        "AECI Ltd Ord                         True        True        True  \n",
        "AFP Integra                          True        True        True  \n",
        "AKENERJ\u0130 ELEKTR\u0130K \u00dcRET\u0130M A.\u015e.        True        True        True  \n",
        "Accenture                            True        True        True  "
       ]
      }
     ],
     "prompt_number": 283
    },
    {
     "cell_type": "code",
     "collapsed": false,
     "input": [
      "# pickle\n",
      "pscopes.to_pickle('../CDPdata/2013hasscopes.pkl')\n",
      "# ps = pd.read_pickle('../CDPdata/2013hasscopes.pkl')"
     ],
     "language": "python",
     "metadata": {},
     "outputs": [],
     "prompt_number": 282
    },
    {
     "cell_type": "heading",
     "level": 3,
     "metadata": {},
     "source": [
      "## assessing targets"
     ]
    },
    {
     "cell_type": "code",
     "collapsed": false,
     "input": [
      "import targetsmosh as tm"
     ],
     "language": "python",
     "metadata": {},
     "outputs": [],
     "prompt_number": 121
    },
    {
     "cell_type": "code",
     "collapsed": false,
     "input": [
      "reload(tm)"
     ],
     "language": "python",
     "metadata": {},
     "outputs": [
      {
       "metadata": {},
       "output_type": "pyout",
       "prompt_number": 576,
       "text": [
        "<module 'targetsmosh' from 'targetsmosh.py'>"
       ]
      }
     ],
     "prompt_number": 576
    },
    {
     "cell_type": "code",
     "collapsed": false,
     "input": [
      "vcounts2013 = tm.get_vcounts(p, 2013)"
     ],
     "language": "python",
     "metadata": {},
     "outputs": [],
     "prompt_number": 577
    },
    {
     "cell_type": "code",
     "collapsed": false,
     "input": [
      "vcounts2013"
     ],
     "language": "python",
     "metadata": {},
     "outputs": [
      {
       "metadata": {},
       "output_type": "pyout",
       "prompt_number": 578,
       "text": [
        "Intensity target                  530\n",
        "No                                462\n",
        "Absolute target                   440\n",
        "Absolute and intensity targets    314\n",
        "dtype: int64"
       ]
      }
     ],
     "prompt_number": 578
    },
    {
     "cell_type": "code",
     "collapsed": false,
     "input": [
      "tm.summary(vcounts2014, p)"
     ],
     "language": "python",
     "metadata": {},
     "outputs": [
      {
       "metadata": {},
       "output_type": "pyout",
       "prompt_number": 580,
       "text": [
        "{'absolute': 798, 'intensity': 923, 'neg': 413, 'total': 1784}"
       ]
      }
     ],
     "prompt_number": 580
    },
    {
     "cell_type": "code",
     "collapsed": false,
     "input": [
      "tm.summary(vcounts2013, p)"
     ],
     "language": "python",
     "metadata": {},
     "outputs": [
      {
       "metadata": {},
       "output_type": "pyout",
       "prompt_number": 579,
       "text": [
        "{'absolute': 790, 'intensity': 880, 'neg': 500, 'total': 1784}"
       ]
      }
     ],
     "prompt_number": 579
    },
    {
     "cell_type": "code",
     "collapsed": false,
     "input": [
      "vcounts2014 = vcounts"
     ],
     "language": "python",
     "metadata": {},
     "outputs": [],
     "prompt_number": 570
    },
    {
     "cell_type": "code",
     "collapsed": false,
     "input": [],
     "language": "python",
     "metadata": {},
     "outputs": []
    }
   ],
   "metadata": {}
  }
 ]
}