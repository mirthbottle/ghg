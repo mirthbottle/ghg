{
 "metadata": {
  "name": "",
  "signature": "sha256:a625d51bae465138389d6f1c0587a0281d7107b308679094c6eaa649fa51b607"
 },
 "nbformat": 3,
 "nbformat_minor": 0,
 "worksheets": [
  {
   "cells": [
    {
     "cell_type": "code",
     "collapsed": false,
     "input": [
      "import pandas as pd\n",
      "import numpy as np\n",
      "import json"
     ],
     "language": "python",
     "metadata": {},
     "outputs": [],
     "prompt_number": 511
    },
    {
     "cell_type": "code",
     "collapsed": false,
     "input": [
      "xls = pd.ExcelFile('../CDPdata/Investor CDP 2014_Public Data.xlsx')"
     ],
     "language": "python",
     "metadata": {},
     "outputs": [],
     "prompt_number": 2
    },
    {
     "cell_type": "code",
     "collapsed": false,
     "input": [
      "sheet_names = xls.sheet_names"
     ],
     "language": "python",
     "metadata": {},
     "outputs": [],
     "prompt_number": 9
    },
    {
     "cell_type": "code",
     "collapsed": false,
     "input": [
      "for i in range(len(sheet_names)):\n",
      "    print str(i) + \", \" + sheet_names[i] + '\\n'"
     ],
     "language": "python",
     "metadata": {},
     "outputs": [
      {
       "output_type": "stream",
       "stream": "stdout",
       "text": [
        "0, Criteria\n",
        "\n",
        "1, Summary\n",
        "\n",
        "2, CC0. Introduction\n",
        "\n",
        "3, CC0.2\n",
        "\n",
        "4, CC0.3\n",
        "\n",
        "5, CC1. Governance\n",
        "\n",
        "6, CC1.2a\n",
        "\n",
        "7, CC2. Strategy\n",
        "\n",
        "8, CC2.1a\n",
        "\n",
        "9, CC2.1d\n",
        "\n",
        "10, CC2.3a\n",
        "\n",
        "11, CC2.3c\n",
        "\n",
        "12, CC3. Targets & Initiatives\n",
        "\n",
        "13, CC3.1a\n",
        "\n",
        "14, CC3.1b\n",
        "\n",
        "15, CC3.1c\n",
        "\n",
        "16, CC3.1d\n",
        "\n",
        "17, CC3.3a\n",
        "\n",
        "18, CC3.3b\n",
        "\n",
        "19, CC3.3c\n",
        "\n",
        "20, CC4. Communication\n",
        "\n",
        "21, CC4.1\n",
        "\n",
        "22, CC5. Climate Change Risks\n",
        "\n",
        "23, CC5.1a\n",
        "\n",
        "24, CC5.1b\n",
        "\n",
        "25, CC5.1c\n",
        "\n",
        "26, CC6. Climate Change Opps\n",
        "\n",
        "27, CC6.1a\n",
        "\n",
        "28, CC6.1b\n",
        "\n",
        "29, CC6.1c\n",
        "\n",
        "30, CC7. Emissions Methodology\n",
        "\n",
        "31, CC7.1\n",
        "\n",
        "32, CC7.2\n",
        "\n",
        "33, CC7.3\n",
        "\n",
        "34, CC7.4\n",
        "\n",
        "35, CC8. Emissions Data\n",
        "\n",
        "36, CC8.4a\n",
        "\n",
        "37, CC8.5\n",
        "\n",
        "38, CC8.6a\n",
        "\n",
        "39, CC8.6b\n",
        "\n",
        "40, CC8.7a\n",
        "\n",
        "41, CC8.8\n",
        "\n",
        "42, CC9. S1 Emissions Breakdown\n",
        "\n",
        "43, CC9.1a\n",
        "\n",
        "44, CC9.2a\n",
        "\n",
        "45, CC9.2b\n",
        "\n",
        "46, CC9.2c\n",
        "\n",
        "47, CC9.2d\n",
        "\n",
        "48, CC9.2e\n",
        "\n",
        "49, CC10. S2 Emissions Breakdown\n",
        "\n",
        "50, CC10.1a\n",
        "\n",
        "51, CC10.2a\n",
        "\n",
        "52, CC10.2b\n",
        "\n",
        "53, CC10.2c\n",
        "\n",
        "54, CC10.2d\n",
        "\n",
        "55, CC11. Energy\n",
        "\n",
        "56, CC11.2\n",
        "\n",
        "57, CC11.3\n",
        "\n",
        "58, CC11.4\n",
        "\n",
        "59, CC12. Emissions Performance\n",
        "\n",
        "60, CC12.1a\n",
        "\n",
        "61, CC12.2\n",
        "\n",
        "62, CC12.3\n",
        "\n",
        "63, CC12.4\n",
        "\n",
        "64, CC13. Emissions Trading\n",
        "\n",
        "65, CC13.1a\n",
        "\n",
        "66, CC13.2a\n",
        "\n",
        "67, CC14. Scope 3 Emissions\n",
        "\n",
        "68, CC14.1\n",
        "\n",
        "69, CC14.2a\n",
        "\n",
        "70, CC14.3a\n",
        "\n",
        "71, CC14.4b\n",
        "\n",
        "72, CC14.4c\n",
        "\n",
        "73, CC15. Sign Off\n",
        "\n",
        "74, CC15.1\n",
        "\n",
        "75, OG0. Reference information\n",
        "\n",
        "76, OG0.1\n",
        "\n",
        "77, OG0.2\n",
        "\n",
        "78, OG0.3\n",
        "\n",
        "79, OG1. Production & reserves\n",
        "\n",
        "80, OG1.2\n",
        "\n",
        "81, OG1.3\n",
        "\n",
        "82, OG1.5\n",
        "\n",
        "83, OG2. Emissions by VC segment\n",
        "\n",
        "84, OG2.1\n",
        "\n",
        "85, OG2.3\n",
        "\n",
        "86, OG2.4\n",
        "\n",
        "87, OG3. S1 emissions by category\n",
        "\n",
        "88, OG3.1\n",
        "\n",
        "89, OG3.3\n",
        "\n",
        "90, OG4. Transfers & sequestration\n",
        "\n",
        "91, OG4.2\n",
        "\n",
        "92, OG4.4\n",
        "\n",
        "93, OG4.7\n",
        "\n",
        "94, OG4.8\n",
        "\n",
        "95, OG5. Sales & intensity\n",
        "\n",
        "96, OG5.1\n",
        "\n",
        "97, OG5.2\n",
        "\n",
        "98, OG6. Development strategy\n",
        "\n",
        "99, OG6.1\n",
        "\n",
        "100, OG6.2\n",
        "\n",
        "101, OG6.3\n",
        "\n",
        "102, OG7. Methane\n",
        "\n",
        "103, OG7.1\n",
        "\n",
        "104, OG7.5a\n",
        "\n",
        "105, OG7.5c\n",
        "\n",
        "106, OG8. Methane\n",
        "\n",
        "107, OG8.1a\n",
        "\n",
        "108, OG8.2a\n",
        "\n",
        "109, OG8.3a\n",
        "\n",
        "110, OG8.4a\n",
        "\n",
        "111, EU0. Reference Dates\n",
        "\n",
        "112, EU0.1\n",
        "\n",
        "113, EU1. Global Totals by Year\n",
        "\n",
        "114, EU1.1\n",
        "\n",
        "115, EU2. Country Profiles\n",
        "\n",
        "116, EU2.1a\n",
        "\n",
        "117, EU2.1b\n",
        "\n",
        "118, EU2.1c\n",
        "\n",
        "119, EU2.1d\n",
        "\n",
        "120, EU2.1e\n",
        "\n",
        "121, EU2.1f\n",
        "\n",
        "122, EU2.1g\n",
        "\n",
        "123, EU2.1h\n",
        "\n",
        "124, EU2.1i\n",
        "\n",
        "125, EU2.1j\n",
        "\n",
        "126, EU2.1k\n",
        "\n",
        "127, EU2.1l\n",
        "\n",
        "128, EU3. Renewable Electricity\n",
        "\n",
        "129, EU3.1a\n",
        "\n",
        "130, EU4. Renewable Electricity\n",
        "\n",
        "131, EU4.1\n",
        "\n",
        "132, EU4.2\n",
        "\n",
        "133, EU4.3\n",
        "\n",
        "134, AU0. Reference Dates\n",
        "\n",
        "135, AU0.1\n",
        "\n",
        "136, AU1. Sales Volumes\n",
        "\n",
        "137, AU1.1a\n",
        "\n",
        "138, AU1.1b\n",
        "\n",
        "139, AU1.1c\n",
        "\n",
        "140, AU1.1d\n",
        "\n",
        "141, AU1.1e\n",
        "\n",
        "142, AU1.2a\n",
        "\n",
        "143, AU1.2b\n",
        "\n",
        "144, AU1.2c\n",
        "\n",
        "145, AU1.3a\n",
        "\n",
        "146, AU2. Emissions\n",
        "\n",
        "147, AU2.3a\n",
        "\n",
        "148, AU2.3b\n",
        "\n",
        "149, AU2.3c\n",
        "\n",
        "150, AU2.3d\n",
        "\n",
        "151, AU2.3e\n",
        "\n",
        "152, AU2.4a\n",
        "\n",
        "153, AU2.4b\n",
        "\n",
        "154, AU2.4c\n",
        "\n",
        "155, AU3. Clean Technologies\n",
        "\n",
        "156, AU3.1a\n",
        "\n",
        "157, AU3.1b\n",
        "\n",
        "158, AU3.1c\n",
        "\n",
        "159, AU3.1d\n",
        "\n",
        "160, AU3.1e\n",
        "\n",
        "161, AU3.1f\n",
        "\n",
        "162, AU3.1gi\n",
        "\n",
        "163, AU3.1gii\n",
        "\n",
        "164, AU3.1giii\n",
        "\n",
        "165, AU3.1giv\n",
        "\n",
        "166, AU3.1gv\n",
        "\n",
        "167, AU3.1gvi\n",
        "\n",
        "168, ICT1\n",
        "\n",
        "169, ICT1.2\n",
        "\n",
        "170, ICT1.3\n",
        "\n",
        "171, ICT1.4a\n",
        "\n",
        "172, ICT1.4b\n",
        "\n",
        "173, ICT1.4c\n",
        "\n",
        "174, ICT1.7\n",
        "\n",
        "175, ICT1.8a\n",
        "\n",
        "176, ICT2\n",
        "\n",
        "177, ICT2.2\n",
        "\n",
        "178, ICT2.3\n",
        "\n",
        "179, ICT3\n",
        "\n",
        "180, ICT3.2\n",
        "\n",
        "181, ICT3.3\n",
        "\n",
        "182, ICT3.4\n",
        "\n",
        "183, ICT4\n",
        "\n",
        "184, ICT4.2\n",
        "\n",
        "185, ICT4.3\n",
        "\n",
        "186, ICT5\n",
        "\n",
        "187, ICT5.2\n",
        "\n",
        "188, ICT5.3\n",
        "\n",
        "189, ICT5.4\n",
        "\n",
        "190, ICT6\n",
        "\n",
        "191, ICT6.2\n",
        "\n",
        "192, ICT6.3\n",
        "\n",
        "193, ICT6.4\n",
        "\n",
        "194, FBT1. Agriculture\n",
        "\n",
        "195, FBT1.3a\n",
        "\n",
        "196, FBT1.4a\n",
        "\n",
        "197, FBT1.4b\n",
        "\n",
        "198, FBT1.6a\n",
        "\n",
        "199, FBT1.6b\n",
        "\n",
        "200, FBT2. Processing\n",
        "\n",
        "201, FBT2.3a\n",
        "\n",
        "202, FBT3. Distribution\n",
        "\n",
        "203, FBT3.3a\n",
        "\n",
        "204, FBT4. Consumption\n",
        "\n"
       ]
      }
     ],
     "prompt_number": 16
    },
    {
     "cell_type": "code",
     "collapsed": false,
     "input": [
      "p = xls.parse(35)"
     ],
     "language": "python",
     "metadata": {},
     "outputs": [],
     "prompt_number": 276
    },
    {
     "cell_type": "code",
     "collapsed": false,
     "input": [
      "# pickle some data?\n",
      "p.to_pickle('../CDPdata/sheet35_2014.pkl')"
     ],
     "language": "python",
     "metadata": {},
     "outputs": [],
     "prompt_number": 277
    },
    {
     "cell_type": "code",
     "collapsed": false,
     "input": [
      "pscope1and2 = pd.read_pickle('../CDPdata/sheet35_2014.pkl')"
     ],
     "language": "python",
     "metadata": {},
     "outputs": [],
     "prompt_number": 278
    },
    {
     "cell_type": "code",
     "collapsed": false,
     "input": [
      "pcols = p.columns.values\n",
      "pcols"
     ],
     "language": "python",
     "metadata": {},
     "outputs": [
      {
       "metadata": {},
       "output_type": "pyout",
       "prompt_number": 299,
       "text": [
        "array([u'Organisation', u'Account No', u'Country', u'GICS Sector',\n",
        "       u'GICS Industry Group', u'GICS Industry', u'GICS Sub-Industry',\n",
        "       u'Access', u'Primary Expansion', u'Secondary Expansions',\n",
        "       u'Complexity', u'Ticker', u'ISIN', u'Complexity.1',\n",
        "       u'Reporting Period\\nFrom', u'Reporting Period\\nTo',\n",
        "       u'CC8.1. Please select the boundary you are using for your Scope 1 and 2 greenhouse gas inventory',\n",
        "       u'CC8.2. Please provide your gross global Scope 1 emissions figures in metric tonnes CO2e',\n",
        "       u'CC8.3. Please provide your gross global Scope 2 emissions figures in metric tonnes CO2e \\xa0',\n",
        "       u'CC8.4. Are there are any sources (e.g. facilities, specific GHGs, activities, geographies, etc.) of Scope 1 and Scope 2 emissions that are within your selected reporting boundary which are not included in your disclosure?',\n",
        "       u'Table question - see worksheet \"CC8.4a\"',\n",
        "       u'Table question - see worksheet \"CC8.5\"',\n",
        "       u'CC8.6. Please indicate the verification/assurance status that applies to your reported Scope 1 emissions',\n",
        "       u'Table question - see worksheet \"CC8.6a\"',\n",
        "       u'Table question - see worksheet \"CC8.6b\"',\n",
        "       u'CC8.7. Please indicate the verification/assurance status that applies to your reported Scope 2 emissions',\n",
        "       u'Table question - see worksheet \"CC8.7a\"',\n",
        "       u'Table question - see worksheet \"CC8.8\"',\n",
        "       u'CC8.9. Are carbon dioxide emissions from biologically sequestered carbon relevant to your organization?',\n",
        "       u'CC8.9a. Please provide the emissions from biologically sequestered carbon relevant to\\xa0your organization\\xa0in metric tonnes CO2',\n",
        "       u'Further Information', u'Attachments', 'Unnamed: 32',\n",
        "       'Unnamed: 33', 'Unnamed: 34', 'Unnamed: 35', 'Unnamed: 36',\n",
        "       'Unnamed: 37', 'Unnamed: 38', 'Unnamed: 39'], dtype=object)"
       ]
      }
     ],
     "prompt_number": 299
    },
    {
     "cell_type": "markdown",
     "metadata": {},
     "source": [
      "##get emissions data"
     ]
    },
    {
     "cell_type": "code",
     "collapsed": false,
     "input": [
      "import ghgmosh as gm"
     ],
     "language": "python",
     "metadata": {},
     "outputs": [],
     "prompt_number": 423
    },
    {
     "cell_type": "code",
     "collapsed": false,
     "input": [
      "reload(gm)"
     ],
     "language": "python",
     "metadata": {},
     "outputs": [
      {
       "metadata": {},
       "output_type": "pyout",
       "prompt_number": 559,
       "text": [
        "<module 'ghgmosh' from 'ghgmosh.py'>"
       ]
      }
     ],
     "prompt_number": 559
    },
    {
     "cell_type": "code",
     "collapsed": false,
     "input": [
      "p = pd.read_pickle('../CDPdata/sheet35_2014.pkl')"
     ],
     "language": "python",
     "metadata": {},
     "outputs": [],
     "prompt_number": 534
    },
    {
     "cell_type": "code",
     "collapsed": false,
     "input": [
      "# get scope1 totals by country and sector\n",
      "pscope1 = gm.get_scope1or2(p, 1)\n",
      "scope1totals = gm.get_totals(pscope1, \"Country\", \"GICS Sector\", 20)"
     ],
     "language": "python",
     "metadata": {},
     "outputs": [
      {
       "output_type": "stream",
       "stream": "stderr",
       "text": [
        "ghgmosh.py:51: SettingWithCopyWarning: A value is trying to be set on a copy of a slice from a DataFrame.\n",
        "Try using .loc[row_index,col_indexer] = value instead\n",
        "  pother[index1] = \"Other\"\n"
       ]
      }
     ],
     "prompt_number": 535
    },
    {
     "cell_type": "code",
     "collapsed": true,
     "input": [
      "scope1totals.describe()"
     ],
     "language": "python",
     "metadata": {},
     "outputs": [
      {
       "html": [
        "<div style=\"max-height:1000px;max-width:1500px;overflow:auto;\">\n",
        "<table border=\"1\" class=\"dataframe\">\n",
        "  <thead>\n",
        "    <tr style=\"text-align: right;\">\n",
        "      <th></th>\n",
        "      <th>Scope 1</th>\n",
        "    </tr>\n",
        "  </thead>\n",
        "  <tbody>\n",
        "    <tr>\n",
        "      <th>count</th>\n",
        "      <td> 178.000000</td>\n",
        "    </tr>\n",
        "    <tr>\n",
        "      <th>mean</th>\n",
        "      <td>  30.173451</td>\n",
        "    </tr>\n",
        "    <tr>\n",
        "      <th>std</th>\n",
        "      <td>  74.041606</td>\n",
        "    </tr>\n",
        "    <tr>\n",
        "      <th>min</th>\n",
        "      <td>   0.000000</td>\n",
        "    </tr>\n",
        "    <tr>\n",
        "      <th>25%</th>\n",
        "      <td>   0.168351</td>\n",
        "    </tr>\n",
        "    <tr>\n",
        "      <th>50%</th>\n",
        "      <td>   1.740830</td>\n",
        "    </tr>\n",
        "    <tr>\n",
        "      <th>75%</th>\n",
        "      <td>  27.145024</td>\n",
        "    </tr>\n",
        "    <tr>\n",
        "      <th>max</th>\n",
        "      <td> 727.012704</td>\n",
        "    </tr>\n",
        "  </tbody>\n",
        "</table>\n",
        "</div>"
       ],
       "metadata": {},
       "output_type": "pyout",
       "prompt_number": 536,
       "text": [
        "          Scope 1\n",
        "count  178.000000\n",
        "mean    30.173451\n",
        "std     74.041606\n",
        "min      0.000000\n",
        "25%      0.168351\n",
        "50%      1.740830\n",
        "75%     27.145024\n",
        "max    727.012704"
       ]
      }
     ],
     "prompt_number": 536
    },
    {
     "cell_type": "code",
     "collapsed": false,
     "input": [
      "# get scope2 totals by country and sector\n",
      "pscope2 = gm.get_scope1or2(p, 2)\n",
      "scope2totals = gm.get_totals(pscope2, \"Country\", \"GICS Sector\", 20)"
     ],
     "language": "python",
     "metadata": {},
     "outputs": [],
     "prompt_number": 537
    },
    {
     "cell_type": "code",
     "collapsed": false,
     "input": [
      "# pickle some data\n",
      "scope1totals.to_pickle('mydata/scope1totals.pkl')\n",
      "scope2totals.to_pickle('mydata/scope2totals.pkl')"
     ],
     "language": "python",
     "metadata": {},
     "outputs": [],
     "prompt_number": 538
    },
    {
     "cell_type": "code",
     "collapsed": false,
     "input": [
      "scope1total = pd.read_pickle('mydata/scope1totals.pkl')\n",
      "scope2total = pd.read_pickle('mydata/scope2totals.pkl')"
     ],
     "language": "python",
     "metadata": {},
     "outputs": [],
     "prompt_number": 525
    },
    {
     "cell_type": "code",
     "collapsed": true,
     "input": [
      "scope2total.head()"
     ],
     "language": "python",
     "metadata": {},
     "outputs": [
      {
       "html": [
        "<div style=\"max-height:1000px;max-width:1500px;overflow:auto;\">\n",
        "<table border=\"1\" class=\"dataframe\">\n",
        "  <thead>\n",
        "    <tr style=\"text-align: right;\">\n",
        "      <th></th>\n",
        "      <th></th>\n",
        "      <th>Scope 2</th>\n",
        "    </tr>\n",
        "    <tr>\n",
        "      <th>Country</th>\n",
        "      <th>GICS Sector</th>\n",
        "      <th></th>\n",
        "    </tr>\n",
        "  </thead>\n",
        "  <tbody>\n",
        "    <tr>\n",
        "      <th rowspan=\"5\" valign=\"top\">Australia</th>\n",
        "      <th>Consumer Discretionary</th>\n",
        "      <td> 0.294324</td>\n",
        "    </tr>\n",
        "    <tr>\n",
        "      <th>Consumer Staples</th>\n",
        "      <td> 5.398313</td>\n",
        "    </tr>\n",
        "    <tr>\n",
        "      <th>Energy</th>\n",
        "      <td> 0.596422</td>\n",
        "    </tr>\n",
        "    <tr>\n",
        "      <th>Financials</th>\n",
        "      <td> 2.022157</td>\n",
        "    </tr>\n",
        "    <tr>\n",
        "      <th>Health Care</th>\n",
        "      <td> 0.148036</td>\n",
        "    </tr>\n",
        "  </tbody>\n",
        "</table>\n",
        "</div>"
       ],
       "metadata": {},
       "output_type": "pyout",
       "prompt_number": 539,
       "text": [
        "                                   Scope 2\n",
        "Country   GICS Sector                     \n",
        "Australia Consumer Discretionary  0.294324\n",
        "          Consumer Staples        5.398313\n",
        "          Energy                  0.596422\n",
        "          Financials              2.022157\n",
        "          Health Care             0.148036"
       ]
      }
     ],
     "prompt_number": 539
    },
    {
     "cell_type": "code",
     "collapsed": true,
     "input": [
      "s1data = gm.write_json(scope1total, \"scope1countrysector.json\")\n",
      "s2data = gm.write_json(scope2total, \"scope2countrysector.json\")"
     ],
     "language": "python",
     "metadata": {},
     "outputs": [],
     "prompt_number": 560
    },
    {
     "cell_type": "code",
     "collapsed": false,
     "input": [
      "round(29.203677,3)"
     ],
     "language": "python",
     "metadata": {},
     "outputs": [
      {
       "metadata": {},
       "output_type": "pyout",
       "prompt_number": 549,
       "text": [
        "29.204"
       ]
      }
     ],
     "prompt_number": 549
    },
    {
     "cell_type": "code",
     "collapsed": false,
     "input": [
      "# explore another sheet\n",
      "p2 = xls.parse(68)\n",
      "pcols2 = p2.columns.values\n",
      "pcols2"
     ],
     "language": "python",
     "metadata": {},
     "outputs": [
      {
       "metadata": {},
       "output_type": "pyout",
       "prompt_number": 191,
       "text": [
        "array([u'Organisation', u'Account No', u'Country', u'GICS Sector',\n",
        "       u'GICS Industry Group', u'GICS Industry', u'GICS Sub-Industry',\n",
        "       u'Access', u'Primary Expansion', u'Secondary Expansions',\n",
        "       u'Complexity', u'Ticker', u'ISIN', u'Complexity.1',\n",
        "       u'CC14.1. Please account for your organization\\u2019s Scope 3 emissions, disclosing and explaining any exclusions\\n\\nCC14.1. Sources of Scope 3 emissions',\n",
        "       u'CC14.1. Evaluation status', u'CC14.1. metric tonnes CO2e',\n",
        "       u'CC14.1. Emissions calculation methodology',\n",
        "       u'CC14.1. Percentage of emissions calculated using primary data',\n",
        "       u'CC14.1. Explanation'], dtype=object)"
       ]
      }
     ],
     "prompt_number": 191
    },
    {
     "cell_type": "code",
     "collapsed": false,
     "input": [
      "p2[pcols2[14]][0:5]"
     ],
     "language": "python",
     "metadata": {},
     "outputs": [
      {
       "metadata": {},
       "output_type": "pyout",
       "prompt_number": 196,
       "text": [
        "0                         Purchased goods and services\n",
        "1                                        Capital goods\n",
        "2    Fuel-and-energy-related activities (not includ...\n",
        "3             Upstream transportation and distribution\n",
        "4                        Waste generated in operations\n",
        "Name: CC14.1. Please account for your organization\u2019s Scope 3 emissions, disclosing and explaining any exclusions\\n\\nCC14.1. Sources of Scope 3 emissions, dtype: object"
       ]
      }
     ],
     "prompt_number": 196
    },
    {
     "cell_type": "markdown",
     "metadata": {},
     "source": [
      "## assessing targets"
     ]
    },
    {
     "cell_type": "code",
     "collapsed": false,
     "input": [
      "import targetsmosh as tm"
     ],
     "language": "python",
     "metadata": {},
     "outputs": [],
     "prompt_number": 121
    },
    {
     "cell_type": "code",
     "collapsed": false,
     "input": [
      "vcounts = tm.get_vcounts(p)"
     ],
     "language": "python",
     "metadata": {},
     "outputs": [],
     "prompt_number": 116
    },
    {
     "cell_type": "code",
     "collapsed": false,
     "input": [
      "vcounts"
     ],
     "language": "python",
     "metadata": {},
     "outputs": [
      {
       "metadata": {},
       "output_type": "pyout",
       "prompt_number": 117,
       "text": [
        "Intensity target                  573\n",
        "Absolute target                   448\n",
        "No                                405\n",
        "Absolute and intensity targets    350\n",
        "dtype: int64"
       ]
      }
     ],
     "prompt_number": 117
    },
    {
     "cell_type": "code",
     "collapsed": false,
     "input": [
      "tm.summary(vcounts, p)"
     ],
     "language": "python",
     "metadata": {},
     "outputs": [
      {
       "metadata": {},
       "output_type": "pyout",
       "prompt_number": 127,
       "text": [
        "{'absolute': 798, 'intensity': 923, 'neg': 454, 'total': 1825}"
       ]
      }
     ],
     "prompt_number": 127
    },
    {
     "cell_type": "code",
     "collapsed": false,
     "input": [],
     "language": "python",
     "metadata": {},
     "outputs": [
      {
       "metadata": {},
       "output_type": "pyout",
       "prompt_number": 126,
       "text": [
        "<module 'targetsmosh' from 'targetsmosh.py'>"
       ]
      }
     ],
     "prompt_number": 126
    },
    {
     "cell_type": "code",
     "collapsed": false,
     "input": [],
     "language": "python",
     "metadata": {},
     "outputs": [],
     "prompt_number": 100
    },
    {
     "cell_type": "code",
     "collapsed": false,
     "input": [],
     "language": "python",
     "metadata": {},
     "outputs": []
    }
   ],
   "metadata": {}
  }
 ]
}