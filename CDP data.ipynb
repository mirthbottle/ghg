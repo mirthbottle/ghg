{
 "metadata": {
  "name": "",
  "signature": "sha256:82a7bb3f4772f4ef82f20d541576c8d6beb20d8af900082fdbff90ede22c6140"
 },
 "nbformat": 3,
 "nbformat_minor": 0,
 "worksheets": [
  {
   "cells": [
    {
     "cell_type": "code",
     "collapsed": false,
     "input": [
      "import pandas as pd\n",
      "import numpy as np\n",
      "import json"
     ],
     "language": "python",
     "metadata": {},
     "outputs": [],
     "prompt_number": 1
    },
    {
     "cell_type": "code",
     "collapsed": false,
     "input": [
      "xls = pd.ExcelFile('../CDPdata/Investor CDP 2009_Public Data.xlsx')"
     ],
     "language": "python",
     "metadata": {},
     "outputs": [],
     "prompt_number": 416
    },
    {
     "cell_type": "code",
     "collapsed": false,
     "input": [
      "sheet_names = pd.Series(xls.sheet_names)"
     ],
     "language": "python",
     "metadata": {},
     "outputs": [],
     "prompt_number": 417
    },
    {
     "cell_type": "code",
     "collapsed": false,
     "input": [
      "sheet_names[0:20]"
     ],
     "language": "python",
     "metadata": {},
     "outputs": [
      {
       "metadata": {},
       "output_type": "pyout",
       "prompt_number": 419,
       "text": [
        "0       Search Criteria\n",
        "1      Section 1 R & O \n",
        "2     Section 2 GHG Ems\n",
        "3                  10.2\n",
        "4                  10.3\n",
        "5                  10.4\n",
        "6                  11.2\n",
        "7                  11.3\n",
        "8                  11.4\n",
        "9                20.2.1\n",
        "10               20.4.1\n",
        "11       Section 3 Perf\n",
        "12                23.11\n",
        "13                23.12\n",
        "14                23.13\n",
        "15                23.14\n",
        "16     Section 4 Govern\n",
        "17                   EU\n",
        "18                 EU 1\n",
        "19                 EU 2\n",
        "dtype: object"
       ]
      }
     ],
     "prompt_number": 419
    },
    {
     "cell_type": "code",
     "collapsed": false,
     "input": [
      "p = xls.parse(2)"
     ],
     "language": "python",
     "metadata": {},
     "outputs": [],
     "prompt_number": 425
    },
    {
     "cell_type": "code",
     "collapsed": false,
     "input": [
      "# pickle some data?\n",
      "p.to_pickle('../CDPdata/sheet32_2012.pkl')"
     ],
     "language": "python",
     "metadata": {},
     "outputs": [],
     "prompt_number": 304
    },
    {
     "cell_type": "code",
     "collapsed": false,
     "input": [
      "pscope1and2 = pd.read_pickle('../CDPdata/sheet35_2014.pkl')"
     ],
     "language": "python",
     "metadata": {},
     "outputs": [],
     "prompt_number": 278
    },
    {
     "cell_type": "code",
     "collapsed": false,
     "input": [
      "pcols = p.columns.values\n",
      "p[pcols[15:25]].head()"
     ],
     "language": "python",
     "metadata": {},
     "outputs": [
      {
       "html": [
        "<div style=\"max-height:1000px;max-width:1500px;overflow:auto;\">\n",
        "<table border=\"1\" class=\"dataframe\">\n",
        "  <thead>\n",
        "    <tr style=\"text-align: right;\">\n",
        "      <th></th>\n",
        "      <th>Unnamed: 15</th>\n",
        "      <th>8. Reporting Boundary: (CDP6 Q2(a)(i)) </th>\n",
        "      <th>Unnamed: 17</th>\n",
        "      <th>8.2. Please state whether any parts of your business or sources of GHG emissions are excluded from your reporting boundary.</th>\n",
        "      <th>9. Methodology: (CDP6 Q2(a)(iii)) </th>\n",
        "      <th>Select methodologies:</th>\n",
        "      <th>9.2 Details of any assumptions made.</th>\n",
        "      <th>9.3 The names of and links to any calculation tools used.</th>\n",
        "      <th>Select calculation tools:</th>\n",
        "      <th>9.4 The global warming potentials you have applied and their origin.</th>\n",
        "    </tr>\n",
        "  </thead>\n",
        "  <tbody>\n",
        "    <tr>\n",
        "      <th>0</th>\n",
        "      <td> More information</td>\n",
        "      <td> 8.1. Please indicate the category that describ...</td>\n",
        "      <td> NaN</td>\n",
        "      <td>                                               NaN</td>\n",
        "      <td> 9.1. Please describe the process used by your ...</td>\n",
        "      <td>                                               NaN</td>\n",
        "      <td>                                               NaN</td>\n",
        "      <td>                                               NaN</td>\n",
        "      <td>                                               NaN</td>\n",
        "      <td>                                               NaN</td>\n",
        "    </tr>\n",
        "    <tr>\n",
        "      <th>1</th>\n",
        "      <td>              NaN</td>\n",
        "      <td> Companies over which operational control is ex...</td>\n",
        "      <td> NaN</td>\n",
        "      <td>                                               NaN</td>\n",
        "      <td> GHG Protocol\\r\\n3M has developed and maintains...</td>\n",
        "      <td> Our methodologies are included in our referenc...</td>\n",
        "      <td> We use best engineering practices and/or publi...</td>\n",
        "      <td> 3M\u2019s GHG inventory is developed using the GHG ...</td>\n",
        "      <td>                                               NaN</td>\n",
        "      <td> Global warming potentials published in the 200...</td>\n",
        "    </tr>\n",
        "    <tr>\n",
        "      <th>2</th>\n",
        "      <td>              NaN</td>\n",
        "      <td> Companies over which operational control is ex...</td>\n",
        "      <td> NaN</td>\n",
        "      <td> The organisational boundary of the report has ...</td>\n",
        "      <td> We use the GHG Protocol and report Scope 1 and...</td>\n",
        "      <td> The Greenhouse Gas Protocol: A Corporate Accou...</td>\n",
        "      <td> We started reporting on health, safety and env...</td>\n",
        "      <td> We use the GHG protocol tools as a basis for c...</td>\n",
        "      <td> GHG Protocol - CO2 emissions from transport or...</td>\n",
        "      <td> GWPs used are IPCC 2007, Fourth Assessment Rep...</td>\n",
        "    </tr>\n",
        "    <tr>\n",
        "      <th>3</th>\n",
        "      <td>              NaN</td>\n",
        "      <td> Companies over which financial control is exer...</td>\n",
        "      <td> NaN</td>\n",
        "      <td> In our reporting boundary are considered all c...</td>\n",
        "      <td> To calculate Scope 1 and Scope 2 GHG emissions...</td>\n",
        "      <td>                                       ISO 14064-1</td>\n",
        "      <td> To calculate GHG emissions associeted with the...</td>\n",
        "      <td> Where applicable we have used European Guideli...</td>\n",
        "      <td>         We have used European Guidelines 589/2007</td>\n",
        "      <td>                We have used the GWP given by IPCC</td>\n",
        "    </tr>\n",
        "    <tr>\n",
        "      <th>4</th>\n",
        "      <td>              NaN</td>\n",
        "      <td> Companies over which financial control is exer...</td>\n",
        "      <td> NaN</td>\n",
        "      <td> No part of the business or sources of GHG emis...</td>\n",
        "      <td> ABB uses computerized data reporting questionn...</td>\n",
        "      <td> The Greenhouse Gas Protocol: A Corporate Accou...</td>\n",
        "      <td> The data relating to environmental performance...</td>\n",
        "      <td> The WBCSD/WRI Greenhouse Gas Protocol (Scope I...</td>\n",
        "      <td> ABB uses the following efficiency conversion f...</td>\n",
        "      <td>           22200 for Sulphur Hexaflouride, SF6\\r\\n</td>\n",
        "    </tr>\n",
        "  </tbody>\n",
        "</table>\n",
        "</div>"
       ],
       "metadata": {},
       "output_type": "pyout",
       "prompt_number": 444,
       "text": [
        "        Unnamed: 15            8. Reporting Boundary: (CDP6 Q2(a)(i))   \\\n",
        "0  More information  8.1. Please indicate the category that describ...   \n",
        "1               NaN  Companies over which operational control is ex...   \n",
        "2               NaN  Companies over which operational control is ex...   \n",
        "3               NaN  Companies over which financial control is exer...   \n",
        "4               NaN  Companies over which financial control is exer...   \n",
        "\n",
        "  Unnamed: 17  \\\n",
        "0         NaN   \n",
        "1         NaN   \n",
        "2         NaN   \n",
        "3         NaN   \n",
        "4         NaN   \n",
        "\n",
        "  8.2. Please state whether any parts of your business or sources of GHG emissions are excluded from your reporting boundary.  \\\n",
        "0                                                NaN                                                                            \n",
        "1                                                NaN                                                                            \n",
        "2  The organisational boundary of the report has ...                                                                            \n",
        "3  In our reporting boundary are considered all c...                                                                            \n",
        "4  No part of the business or sources of GHG emis...                                                                            \n",
        "\n",
        "                  9. Methodology: (CDP6 Q2(a)(iii))   \\\n",
        "0  9.1. Please describe the process used by your ...   \n",
        "1  GHG Protocol\\r\\n3M has developed and maintains...   \n",
        "2  We use the GHG Protocol and report Scope 1 and...   \n",
        "3  To calculate Scope 1 and Scope 2 GHG emissions...   \n",
        "4  ABB uses computerized data reporting questionn...   \n",
        "\n",
        "                               Select methodologies:  \\\n",
        "0                                                NaN   \n",
        "1  Our methodologies are included in our referenc...   \n",
        "2  The Greenhouse Gas Protocol: A Corporate Accou...   \n",
        "3                                        ISO 14064-1   \n",
        "4  The Greenhouse Gas Protocol: A Corporate Accou...   \n",
        "\n",
        "                9.2 Details of any assumptions made.  \\\n",
        "0                                                NaN   \n",
        "1  We use best engineering practices and/or publi...   \n",
        "2  We started reporting on health, safety and env...   \n",
        "3  To calculate GHG emissions associeted with the...   \n",
        "4  The data relating to environmental performance...   \n",
        "\n",
        "  9.3 The names of and links to any calculation tools used.  \\\n",
        "0                                                NaN          \n",
        "1  3M\u2019s GHG inventory is developed using the GHG ...          \n",
        "2  We use the GHG protocol tools as a basis for c...          \n",
        "3  Where applicable we have used European Guideli...          \n",
        "4  The WBCSD/WRI Greenhouse Gas Protocol (Scope I...          \n",
        "\n",
        "                           Select calculation tools:  \\\n",
        "0                                                NaN   \n",
        "1                                                NaN   \n",
        "2  GHG Protocol - CO2 emissions from transport or...   \n",
        "3          We have used European Guidelines 589/2007   \n",
        "4  ABB uses the following efficiency conversion f...   \n",
        "\n",
        "  9.4 The global warming potentials you have applied and their origin.  \n",
        "0                                                NaN                    \n",
        "1  Global warming potentials published in the 200...                    \n",
        "2  GWPs used are IPCC 2007, Fourth Assessment Rep...                    \n",
        "3                 We have used the GWP given by IPCC                    \n",
        "4            22200 for Sulphur Hexaflouride, SF6\\r\\n                    "
       ]
      }
     ],
     "prompt_number": 444
    },
    {
     "cell_type": "markdown",
     "metadata": {},
     "source": [
      "##get emissions data"
     ]
    },
    {
     "cell_type": "code",
     "collapsed": false,
     "input": [
      "import ghgmosh as gm"
     ],
     "language": "python",
     "metadata": {},
     "outputs": [],
     "prompt_number": 34
    },
    {
     "cell_type": "code",
     "collapsed": false,
     "input": [
      "reload(gm)"
     ],
     "language": "python",
     "metadata": {},
     "outputs": [
      {
       "metadata": {},
       "output_type": "pyout",
       "prompt_number": 450,
       "text": [
        "<module 'ghgmosh' from 'ghgmosh.py'>"
       ]
      }
     ],
     "prompt_number": 450
    },
    {
     "cell_type": "code",
     "collapsed": false,
     "input": [
      "p = pd.read_pickle('../CDPdata/sheet35_2014.pkl')"
     ],
     "language": "python",
     "metadata": {},
     "outputs": [],
     "prompt_number": 534
    },
    {
     "cell_type": "markdown",
     "metadata": {},
     "source": [
      "### get scope1 and scope2 totals by country and sector"
     ]
    },
    {
     "cell_type": "code",
     "collapsed": false,
     "input": [
      "pscope1 = gm.get_scope1or2(p, 1, 2009)\n",
      "# scope1totals = gm.get_totals(pscope1, \"Country\", \"GICS Sector\", 20)"
     ],
     "language": "python",
     "metadata": {},
     "outputs": [],
     "prompt_number": 434
    },
    {
     "cell_type": "code",
     "collapsed": false,
     "input": [
      "pscope2 = pscope2[1:]\n",
      "# pscope2.head()"
     ],
     "language": "python",
     "metadata": {},
     "outputs": [],
     "prompt_number": 440
    },
    {
     "cell_type": "code",
     "collapsed": false,
     "input": [
      "# get scope2 totals by country and sector\n",
      "pscope2 = gm.get_scope1or2(p, 2, 2009)\n",
      "# scope2totals = gm.get_totals(pscope2, \"Country\", \"GICS Sector\", 20)"
     ],
     "language": "python",
     "metadata": {},
     "outputs": [],
     "prompt_number": 438
    },
    {
     "cell_type": "code",
     "collapsed": false,
     "input": [
      "# pickle some data\n",
      "scope1totals.to_pickle('mydata/2014scope1totals.pkl')\n",
      "scope2totals.to_pickle('mydata/2014scope2totals.pkl')"
     ],
     "language": "python",
     "metadata": {},
     "outputs": [],
     "prompt_number": 108
    },
    {
     "cell_type": "code",
     "collapsed": false,
     "input": [
      "scope1total = pd.read_pickle('mydata/2013scope1totals.pkl')\n",
      "scope2total = pd.read_pickle('mydata/2013scope2totals.pkl')"
     ],
     "language": "python",
     "metadata": {},
     "outputs": [],
     "prompt_number": 176
    },
    {
     "cell_type": "code",
     "collapsed": true,
     "input": [
      "scope2total.head()"
     ],
     "language": "python",
     "metadata": {},
     "outputs": [
      {
       "html": [
        "<div style=\"max-height:1000px;max-width:1500px;overflow:auto;\">\n",
        "<table border=\"1\" class=\"dataframe\">\n",
        "  <thead>\n",
        "    <tr style=\"text-align: right;\">\n",
        "      <th></th>\n",
        "      <th></th>\n",
        "      <th>Scope 2</th>\n",
        "    </tr>\n",
        "    <tr>\n",
        "      <th>Country</th>\n",
        "      <th>GICS Sector</th>\n",
        "      <th></th>\n",
        "    </tr>\n",
        "  </thead>\n",
        "  <tbody>\n",
        "    <tr>\n",
        "      <th rowspan=\"5\" valign=\"top\">Australia</th>\n",
        "      <th>Consumer Discretionary</th>\n",
        "      <td> 0.294324</td>\n",
        "    </tr>\n",
        "    <tr>\n",
        "      <th>Consumer Staples</th>\n",
        "      <td> 5.398313</td>\n",
        "    </tr>\n",
        "    <tr>\n",
        "      <th>Energy</th>\n",
        "      <td> 0.596422</td>\n",
        "    </tr>\n",
        "    <tr>\n",
        "      <th>Financials</th>\n",
        "      <td> 2.022157</td>\n",
        "    </tr>\n",
        "    <tr>\n",
        "      <th>Health Care</th>\n",
        "      <td> 0.148036</td>\n",
        "    </tr>\n",
        "  </tbody>\n",
        "</table>\n",
        "</div>"
       ],
       "metadata": {},
       "output_type": "pyout",
       "prompt_number": 539,
       "text": [
        "                                   Scope 2\n",
        "Country   GICS Sector                     \n",
        "Australia Consumer Discretionary  0.294324\n",
        "          Consumer Staples        5.398313\n",
        "          Energy                  0.596422\n",
        "          Financials              2.022157\n",
        "          Health Care             0.148036"
       ]
      }
     ],
     "prompt_number": 539
    },
    {
     "cell_type": "code",
     "collapsed": true,
     "input": [
      "s1data = gm.write_json(scope1total, \"scope1countrysector.json\")\n",
      "s2data = gm.write_json(scope2total, \"scope2countrysector.json\")"
     ],
     "language": "python",
     "metadata": {},
     "outputs": [],
     "prompt_number": 560
    },
    {
     "cell_type": "markdown",
     "metadata": {},
     "source": [
      "### get scope3 emissions"
     ]
    },
    {
     "cell_type": "code",
     "collapsed": false,
     "input": [
      "p = xls.parse(68)"
     ],
     "language": "python",
     "metadata": {},
     "outputs": [],
     "prompt_number": 290
    },
    {
     "cell_type": "code",
     "collapsed": false,
     "input": [
      "pscope3 = gm.get_scope3(p, 2010)"
     ],
     "language": "python",
     "metadata": {},
     "outputs": [],
     "prompt_number": 408
    },
    {
     "cell_type": "code",
     "collapsed": false,
     "input": [
      "pscopes = gm.combine_scopes(pscope1, pscope2)"
     ],
     "language": "python",
     "metadata": {},
     "outputs": [],
     "prompt_number": 451
    },
    {
     "cell_type": "code",
     "collapsed": false,
     "input": [
      "# 2009 data\n",
      "pscopes.head()"
     ],
     "language": "python",
     "metadata": {},
     "outputs": [
      {
       "html": [
        "<div style=\"max-height:1000px;max-width:1500px;overflow:auto;\">\n",
        "<table border=\"1\" class=\"dataframe\">\n",
        "  <thead>\n",
        "    <tr style=\"text-align: right;\">\n",
        "      <th></th>\n",
        "      <th>Sub Sector</th>\n",
        "      <th>Industry Group</th>\n",
        "      <th>Parent Sector</th>\n",
        "      <th>Reporting Historical Data</th>\n",
        "      <th>Access</th>\n",
        "      <th>has Scope 1</th>\n",
        "      <th>has Scope 2</th>\n",
        "    </tr>\n",
        "    <tr>\n",
        "      <th>Company name</th>\n",
        "      <th></th>\n",
        "      <th></th>\n",
        "      <th></th>\n",
        "      <th></th>\n",
        "      <th></th>\n",
        "      <th></th>\n",
        "      <th></th>\n",
        "    </tr>\n",
        "  </thead>\n",
        "  <tbody>\n",
        "    <tr>\n",
        "      <th>3M Company</th>\n",
        "      <td>            Industrial Conglomerates</td>\n",
        "      <td>                     Capital Goods</td>\n",
        "      <td>            Industrials</td>\n",
        "      <td> No</td>\n",
        "      <td> Public</td>\n",
        "      <td> True</td>\n",
        "      <td> True</td>\n",
        "    </tr>\n",
        "    <tr>\n",
        "      <th>A.P. Moller - Maersk</th>\n",
        "      <td>                      Transportation</td>\n",
        "      <td>                    Transportation</td>\n",
        "      <td>            Industrials</td>\n",
        "      <td> No</td>\n",
        "      <td> Public</td>\n",
        "      <td> True</td>\n",
        "      <td> True</td>\n",
        "    </tr>\n",
        "    <tr>\n",
        "      <th>A2A</th>\n",
        "      <td> Multi-Utilities &amp; Unregulated Power</td>\n",
        "      <td>                         Utilities</td>\n",
        "      <td>              Utilities</td>\n",
        "      <td> No</td>\n",
        "      <td> Public</td>\n",
        "      <td> True</td>\n",
        "      <td> True</td>\n",
        "    </tr>\n",
        "    <tr>\n",
        "      <th>ABB</th>\n",
        "      <td>                Electrical Equipment</td>\n",
        "      <td> Technology Hardware and Equipment</td>\n",
        "      <td> Information Technology</td>\n",
        "      <td> No</td>\n",
        "      <td> Public</td>\n",
        "      <td> True</td>\n",
        "      <td> True</td>\n",
        "    </tr>\n",
        "    <tr>\n",
        "      <th>Abertis Infraestructuras</th>\n",
        "      <td>      Commercial Services &amp; Supplies</td>\n",
        "      <td>  Commercial Services and Supplies</td>\n",
        "      <td>            Industrials</td>\n",
        "      <td> No</td>\n",
        "      <td> Public</td>\n",
        "      <td> True</td>\n",
        "      <td> True</td>\n",
        "    </tr>\n",
        "  </tbody>\n",
        "</table>\n",
        "</div>"
       ],
       "metadata": {},
       "output_type": "pyout",
       "prompt_number": 452,
       "text": [
        "                                                   Sub Sector  \\\n",
        "Company name                                                    \n",
        "3M Company                           Industrial Conglomerates   \n",
        "A.P. Moller - Maersk                           Transportation   \n",
        "A2A                       Multi-Utilities & Unregulated Power   \n",
        "ABB                                      Electrical Equipment   \n",
        "Abertis Infraestructuras       Commercial Services & Supplies   \n",
        "\n",
        "                                             Industry Group  \\\n",
        "Company name                                                  \n",
        "3M Company                                    Capital Goods   \n",
        "A.P. Moller - Maersk                         Transportation   \n",
        "A2A                                               Utilities   \n",
        "ABB                       Technology Hardware and Equipment   \n",
        "Abertis Infraestructuras   Commercial Services and Supplies   \n",
        "\n",
        "                                   Parent Sector Reporting Historical Data  \\\n",
        "Company name                                                                 \n",
        "3M Company                           Industrials                        No   \n",
        "A.P. Moller - Maersk                 Industrials                        No   \n",
        "A2A                                    Utilities                        No   \n",
        "ABB                       Information Technology                        No   \n",
        "Abertis Infraestructuras             Industrials                        No   \n",
        "\n",
        "                          Access has Scope 1 has Scope 2  \n",
        "Company name                                              \n",
        "3M Company                Public        True        True  \n",
        "A.P. Moller - Maersk      Public        True        True  \n",
        "A2A                       Public        True        True  \n",
        "ABB                       Public        True        True  \n",
        "Abertis Infraestructuras  Public        True        True  "
       ]
      }
     ],
     "prompt_number": 452
    },
    {
     "cell_type": "code",
     "collapsed": false,
     "input": [
      "# pickle\n",
      "pscopes.to_pickle('../CDPdata/2009hasscopes12.pkl')\n",
      "# ps = pd.read_pickle('../CDPdata/2013hasscopes.pkl')"
     ],
     "language": "python",
     "metadata": {},
     "outputs": [],
     "prompt_number": 453
    },
    {
     "cell_type": "heading",
     "level": 3,
     "metadata": {},
     "source": [
      "## assessing targets"
     ]
    },
    {
     "cell_type": "code",
     "collapsed": false,
     "input": [
      "import targetsmosh as tm"
     ],
     "language": "python",
     "metadata": {},
     "outputs": [],
     "prompt_number": 121
    },
    {
     "cell_type": "code",
     "collapsed": false,
     "input": [
      "reload(tm)"
     ],
     "language": "python",
     "metadata": {},
     "outputs": [
      {
       "metadata": {},
       "output_type": "pyout",
       "prompt_number": 576,
       "text": [
        "<module 'targetsmosh' from 'targetsmosh.py'>"
       ]
      }
     ],
     "prompt_number": 576
    },
    {
     "cell_type": "code",
     "collapsed": false,
     "input": [
      "vcounts2013 = tm.get_vcounts(p, 2013)"
     ],
     "language": "python",
     "metadata": {},
     "outputs": [],
     "prompt_number": 577
    },
    {
     "cell_type": "code",
     "collapsed": false,
     "input": [
      "vcounts2013"
     ],
     "language": "python",
     "metadata": {},
     "outputs": [
      {
       "metadata": {},
       "output_type": "pyout",
       "prompt_number": 578,
       "text": [
        "Intensity target                  530\n",
        "No                                462\n",
        "Absolute target                   440\n",
        "Absolute and intensity targets    314\n",
        "dtype: int64"
       ]
      }
     ],
     "prompt_number": 578
    },
    {
     "cell_type": "code",
     "collapsed": false,
     "input": [
      "tm.summary(vcounts2014, p)"
     ],
     "language": "python",
     "metadata": {},
     "outputs": [
      {
       "metadata": {},
       "output_type": "pyout",
       "prompt_number": 580,
       "text": [
        "{'absolute': 798, 'intensity': 923, 'neg': 413, 'total': 1784}"
       ]
      }
     ],
     "prompt_number": 580
    },
    {
     "cell_type": "code",
     "collapsed": false,
     "input": [
      "tm.summary(vcounts2013, p)"
     ],
     "language": "python",
     "metadata": {},
     "outputs": [
      {
       "metadata": {},
       "output_type": "pyout",
       "prompt_number": 579,
       "text": [
        "{'absolute': 790, 'intensity': 880, 'neg': 500, 'total': 1784}"
       ]
      }
     ],
     "prompt_number": 579
    },
    {
     "cell_type": "code",
     "collapsed": false,
     "input": [
      "vcounts2014 = vcounts"
     ],
     "language": "python",
     "metadata": {},
     "outputs": [],
     "prompt_number": 570
    },
    {
     "cell_type": "code",
     "collapsed": false,
     "input": [],
     "language": "python",
     "metadata": {},
     "outputs": []
    }
   ],
   "metadata": {}
  }
 ]
}