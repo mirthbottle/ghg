{
 "metadata": {
  "name": "",
  "signature": "sha256:785ffffb4966e710e1185352eca71940d2402d8c8684930a18caf76092788670"
 },
 "nbformat": 3,
 "nbformat_minor": 0,
 "worksheets": [
  {
   "cells": [
    {
     "cell_type": "code",
     "collapsed": false,
     "input": [
      "import pandas as pd\n",
      "import numpy as np\n",
      "import json"
     ],
     "language": "python",
     "metadata": {},
     "outputs": [],
     "prompt_number": 2
    },
    {
     "cell_type": "code",
     "collapsed": false,
     "input": [
      "xls = pd.ExcelFile('../CDPdata/Investor CDP 2014_Public Data.xlsx')"
     ],
     "language": "python",
     "metadata": {},
     "outputs": [],
     "prompt_number": 3
    },
    {
     "cell_type": "code",
     "collapsed": false,
     "input": [
      "sheet_names = pd.Series(xls.sheet_names)"
     ],
     "language": "python",
     "metadata": {},
     "outputs": [],
     "prompt_number": 3
    },
    {
     "cell_type": "code",
     "collapsed": false,
     "input": [
      "sheet_names[40:50]"
     ],
     "language": "python",
     "metadata": {},
     "outputs": [
      {
       "metadata": {},
       "output_type": "pyout",
       "prompt_number": 6,
       "text": [
        "40                          CC8.7a\n",
        "41                           CC8.8\n",
        "42     CC9. S1 Emissions Breakdown\n",
        "43                          CC9.1a\n",
        "44                          CC9.2a\n",
        "45                          CC9.2b\n",
        "46                          CC9.2c\n",
        "47                          CC9.2d\n",
        "48                          CC9.2e\n",
        "49    CC10. S2 Emissions Breakdown\n",
        "dtype: object"
       ]
      }
     ],
     "prompt_number": 6
    },
    {
     "cell_type": "code",
     "collapsed": false,
     "input": [
      "p = xls.parse(18)"
     ],
     "language": "python",
     "metadata": {},
     "outputs": [],
     "prompt_number": 4
    },
    {
     "cell_type": "code",
     "collapsed": false,
     "input": [
      "# pickle some data?\n",
      "p.to_pickle('../CDPdata/sheet18_2014.pkl')"
     ],
     "language": "python",
     "metadata": {},
     "outputs": [],
     "prompt_number": 8
    },
    {
     "cell_type": "code",
     "collapsed": false,
     "input": [
      "p = pd.read_pickle('../CDPdata/sheet12_2014.pkl')"
     ],
     "language": "python",
     "metadata": {},
     "outputs": [],
     "prompt_number": 3
    },
    {
     "cell_type": "code",
     "collapsed": false,
     "input": [
      "pcols = p.columns.values\n",
      "p[pcols[14:15]].head()"
     ],
     "language": "python",
     "metadata": {},
     "outputs": [
      {
       "html": [
        "<div style=\"max-height:1000px;max-width:1500px;overflow:auto;\">\n",
        "<table border=\"1\" class=\"dataframe\">\n",
        "  <thead>\n",
        "    <tr style=\"text-align: right;\">\n",
        "      <th></th>\n",
        "      <th>CC3.3b. For those initiatives implemented in the reporting year, please provide details in the table below\n",
        "\n",
        "CC3.3b. Activity type \u00a0</th>\n",
        "    </tr>\n",
        "  </thead>\n",
        "  <tbody>\n",
        "    <tr>\n",
        "      <th>0</th>\n",
        "      <td>                       Product design</td>\n",
        "    </tr>\n",
        "    <tr>\n",
        "      <th>1</th>\n",
        "      <td> Energy efficiency: Building services</td>\n",
        "    </tr>\n",
        "    <tr>\n",
        "      <th>2</th>\n",
        "      <td>   Energy efficiency: Building fabric</td>\n",
        "    </tr>\n",
        "    <tr>\n",
        "      <th>3</th>\n",
        "      <td>         Energy efficiency: Processes</td>\n",
        "    </tr>\n",
        "    <tr>\n",
        "      <th>4</th>\n",
        "      <td>       Low carbon energy installation</td>\n",
        "    </tr>\n",
        "  </tbody>\n",
        "</table>\n",
        "</div>"
       ],
       "metadata": {},
       "output_type": "pyout",
       "prompt_number": 7,
       "text": [
        "  CC3.3b. For those initiatives implemented in the reporting year, please provide details in the table below\\n\\nCC3.3b. Activity type \u00a0\n",
        "0                                     Product design                                                                                   \n",
        "1               Energy efficiency: Building services                                                                                   \n",
        "2                 Energy efficiency: Building fabric                                                                                   \n",
        "3                       Energy efficiency: Processes                                                                                   \n",
        "4                     Low carbon energy installation                                                                                   "
       ]
      }
     ],
     "prompt_number": 7
    },
    {
     "cell_type": "markdown",
     "metadata": {},
     "source": [
      "##get emissions data"
     ]
    },
    {
     "cell_type": "code",
     "collapsed": false,
     "input": [
      "import ghgmosh as gm"
     ],
     "language": "python",
     "metadata": {},
     "outputs": [],
     "prompt_number": 4
    },
    {
     "cell_type": "code",
     "collapsed": false,
     "input": [
      "reload(gm)"
     ],
     "language": "python",
     "metadata": {},
     "outputs": [
      {
       "metadata": {},
       "output_type": "pyout",
       "prompt_number": 803,
       "text": [
        "<module 'ghgmosh' from 'ghgmosh.py'>"
       ]
      }
     ],
     "prompt_number": 803
    },
    {
     "cell_type": "markdown",
     "metadata": {},
     "source": [
      "### get scope1 and scope2 totals by country and sector"
     ]
    },
    {
     "cell_type": "code",
     "collapsed": false,
     "input": [
      "pscope1 = gm.get_scope1or2(p, 1, 2010)\n",
      "# scope1totals = gm.get_totals(pscope1, \"Country\", \"GICS Sector\", 20)"
     ],
     "language": "python",
     "metadata": {},
     "outputs": [],
     "prompt_number": 689
    },
    {
     "cell_type": "code",
     "collapsed": false,
     "input": [
      "pscope2 = pscope2[1:]\n",
      "# pscope2.head()"
     ],
     "language": "python",
     "metadata": {},
     "outputs": [],
     "prompt_number": 440
    },
    {
     "cell_type": "code",
     "collapsed": false,
     "input": [
      "# get scope2 totals by country and sector\n",
      "pscope2 = gm.get_scope1or2(p, 2, 2010)\n",
      "# scope2totals = gm.get_totals(pscope2, \"Country\", \"GICS Sector\", 20)"
     ],
     "language": "python",
     "metadata": {},
     "outputs": [],
     "prompt_number": 670
    },
    {
     "cell_type": "code",
     "collapsed": false,
     "input": [
      "# pickle some data\n",
      "scope1totals.to_pickle('mydata/2014scope1totals.pkl')\n",
      "scope2totals.to_pickle('mydata/2014scope2totals.pkl')"
     ],
     "language": "python",
     "metadata": {},
     "outputs": [],
     "prompt_number": 108
    },
    {
     "cell_type": "code",
     "collapsed": false,
     "input": [
      "scope1total = pd.read_pickle('mydata/2013scope1totals.pkl')\n",
      "scope2total = pd.read_pickle('mydata/2013scope2totals.pkl')"
     ],
     "language": "python",
     "metadata": {},
     "outputs": [],
     "prompt_number": 176
    },
    {
     "cell_type": "code",
     "collapsed": true,
     "input": [
      "scope2total.head()"
     ],
     "language": "python",
     "metadata": {},
     "outputs": [
      {
       "html": [
        "<div style=\"max-height:1000px;max-width:1500px;overflow:auto;\">\n",
        "<table border=\"1\" class=\"dataframe\">\n",
        "  <thead>\n",
        "    <tr style=\"text-align: right;\">\n",
        "      <th></th>\n",
        "      <th></th>\n",
        "      <th>Scope 2</th>\n",
        "    </tr>\n",
        "    <tr>\n",
        "      <th>Country</th>\n",
        "      <th>GICS Sector</th>\n",
        "      <th></th>\n",
        "    </tr>\n",
        "  </thead>\n",
        "  <tbody>\n",
        "    <tr>\n",
        "      <th rowspan=\"5\" valign=\"top\">Australia</th>\n",
        "      <th>Consumer Discretionary</th>\n",
        "      <td> 0.294324</td>\n",
        "    </tr>\n",
        "    <tr>\n",
        "      <th>Consumer Staples</th>\n",
        "      <td> 5.398313</td>\n",
        "    </tr>\n",
        "    <tr>\n",
        "      <th>Energy</th>\n",
        "      <td> 0.596422</td>\n",
        "    </tr>\n",
        "    <tr>\n",
        "      <th>Financials</th>\n",
        "      <td> 2.022157</td>\n",
        "    </tr>\n",
        "    <tr>\n",
        "      <th>Health Care</th>\n",
        "      <td> 0.148036</td>\n",
        "    </tr>\n",
        "  </tbody>\n",
        "</table>\n",
        "</div>"
       ],
       "metadata": {},
       "output_type": "pyout",
       "prompt_number": 539,
       "text": [
        "                                   Scope 2\n",
        "Country   GICS Sector                     \n",
        "Australia Consumer Discretionary  0.294324\n",
        "          Consumer Staples        5.398313\n",
        "          Energy                  0.596422\n",
        "          Financials              2.022157\n",
        "          Health Care             0.148036"
       ]
      }
     ],
     "prompt_number": 539
    },
    {
     "cell_type": "code",
     "collapsed": true,
     "input": [
      "s1data = gm.write_json(scope1total, \"scope1countrysector.json\")\n",
      "s2data = gm.write_json(scope2total, \"scope2countrysector.json\")"
     ],
     "language": "python",
     "metadata": {},
     "outputs": [],
     "prompt_number": 560
    },
    {
     "cell_type": "markdown",
     "metadata": {},
     "source": [
      "### get scope3 emissions"
     ]
    },
    {
     "cell_type": "code",
     "collapsed": false,
     "input": [
      "p2 = xls.parse(49)"
     ],
     "language": "python",
     "metadata": {},
     "outputs": [],
     "prompt_number": 671
    },
    {
     "cell_type": "code",
     "collapsed": false,
     "input": [
      "# p2.to_pickle('../CDPdata/sheet49_2010.pkl')\n",
      "p2 = pd.read_pickle(\"../CDPdata/sheet68_2014.pkl\")"
     ],
     "language": "python",
     "metadata": {},
     "outputs": [],
     "prompt_number": 3
    },
    {
     "cell_type": "code",
     "collapsed": false,
     "input": [
      "catgroups = p2.groupby([p2.columns[gm.scopecols[2014][3][\"cat\"]],'GICS Sector'])\n",
      "cats = catgroups.groups.keys()\n",
      "# catgroups.head()"
     ],
     "language": "python",
     "metadata": {},
     "outputs": [],
     "prompt_number": 30
    },
    {
     "cell_type": "code",
     "collapsed": false,
     "input": [
      "cg_sums = catgroups.sum()\n",
      "cg_sums.reset_index(inplace=True)\n",
      "cg_sums = cg_sums.rename( columns = { cg_sums.columns[0]: \"Scope3Cat\", \"GICS Sector\": \"Sector\",\n",
      "                                    cg_sums.columns[4]: \"CO2eTons\" } )\n",
      "cg_sums = cg_sums[[\"Scope3Cat\", \"Sector\", \"CO2eTons\"]]"
     ],
     "language": "python",
     "metadata": {},
     "outputs": [],
     "prompt_number": 50
    },
    {
     "cell_type": "code",
     "collapsed": false,
     "input": [
      "categories = list(set(cg_sums.Scope3Cat.values.tolist()))\n",
      "sectors = list(set(cg_sums.Sector.values.tolist()))\n",
      "# categories\n",
      "cgs = cg_sums.set_index(['Scope3Cat', 'Sector'])"
     ],
     "language": "python",
     "metadata": {},
     "outputs": [],
     "prompt_number": 87
    },
    {
     "cell_type": "code",
     "collapsed": false,
     "input": [
      "from collections import OrderedDict\n",
      "\n",
      "from bokeh.charts import Donut\n",
      "from bokeh.plotting import show, output_file\n",
      "bk.output_notebook()"
     ],
     "language": "python",
     "metadata": {},
     "outputs": [],
     "prompt_number": 55
    },
    {
     "cell_type": "code",
     "collapsed": false,
     "input": [
      "sectorsScope3 = OrderedDict()\n",
      "for s in sectors:\n",
      "    sectorsScope3[s]  = []\n",
      "    for c in categories:\n",
      "         sectorsScope3[s].append(cgs.loc[c,s][\"CO2eTons\"])"
     ],
     "language": "python",
     "metadata": {},
     "outputs": [],
     "prompt_number": 89
    },
    {
     "cell_type": "code",
     "collapsed": false,
     "input": [
      "gm.write_json(cgs,'scope3catsectors.json')"
     ],
     "language": "python",
     "metadata": {},
     "outputs": [
      {
       "metadata": {},
       "output_type": "pyout",
       "prompt_number": 96,
       "text": [
        "{'children': [{'children': [{'name': 'Consumer Discretionary',\n",
        "     'size': 5655489.12},\n",
        "    {'name': 'Consumer Staples', 'size': 2285677.43},\n",
        "    {'name': 'Energy', 'size': 3183074.52},\n",
        "    {'name': 'Financials', 'size': 4016121.76},\n",
        "    {'name': 'Health Care', 'size': 3024071.13},\n",
        "    {'name': 'Industrials', 'size': 6141315.09},\n",
        "    {'name': 'Information Technology', 'size': 7919391.19},\n",
        "    {'name': 'Materials', 'size': 2677607.7},\n",
        "    {'name': 'Telecommunication Services', 'size': 1151060.35},\n",
        "    {'name': 'Utilities', 'size': 789028.0}],\n",
        "   'name': 'Business travel',\n",
        "   'size': 36842836.29},\n",
        "  {'children': [{'name': 'Consumer Discretionary', 'size': 20863624.64},\n",
        "    {'name': 'Consumer Staples', 'size': 7582006.21},\n",
        "    {'name': 'Energy', 'size': 382852.0},\n",
        "    {'name': 'Financials', 'size': 3657649.39},\n",
        "    {'name': 'Health Care', 'size': 4081149.33},\n",
        "    {'name': 'Industrials', 'size': 23733250.01},\n",
        "    {'name': 'Information Technology', 'size': 4738684.0},\n",
        "    {'name': 'Materials', 'size': 10951564.78},\n",
        "    {'name': 'Telecommunication Services', 'size': 23349739.0},\n",
        "    {'name': 'Utilities', 'size': 4075474.5}],\n",
        "   'name': 'Capital goods',\n",
        "   'size': 103415993.86},\n",
        "  {'children': [{'name': 'Consumer Discretionary', 'size': 5337893.67},\n",
        "    {'name': 'Consumer Staples', 'size': 4343407.61},\n",
        "    {'name': 'Energy', 'size': 295767.8},\n",
        "    {'name': 'Financials', 'size': 2535742.84},\n",
        "    {'name': 'Health Care', 'size': 8491.0},\n",
        "    {'name': 'Industrials', 'size': 14861970.12},\n",
        "    {'name': 'Information Technology', 'size': 282778.26},\n",
        "    {'name': 'Materials', 'size': 4766668.0},\n",
        "    {'name': 'Telecommunication Services', 'size': 522440.0},\n",
        "    {'name': 'Utilities', 'size': 29692.7}],\n",
        "   'name': 'Downstream leased assets',\n",
        "   'size': 32984852.0},\n",
        "  {'children': [{'name': 'Consumer Discretionary', 'size': 9198911.85},\n",
        "    {'name': 'Consumer Staples', 'size': 33418402.81},\n",
        "    {'name': 'Energy', 'size': 17820415.77},\n",
        "    {'name': 'Financials', 'size': 1617278.59},\n",
        "    {'name': 'Health Care', 'size': 4645302.0},\n",
        "    {'name': 'Industrials', 'size': 8373883.62},\n",
        "    {'name': 'Information Technology', 'size': 13575320.48},\n",
        "    {'name': 'Materials', 'size': 439931049.83},\n",
        "    {'name': 'Telecommunication Services', 'size': 53716.3},\n",
        "    {'name': 'Utilities', 'size': 28770047.3}],\n",
        "   'name': 'Downstream transportation and distribution',\n",
        "   'size': 557404328.55},\n",
        "  {'children': [{'name': 'Consumer Discretionary', 'size': 4408123.73},\n",
        "    {'name': 'Consumer Staples', 'size': 1755989.16},\n",
        "    {'name': 'Energy', 'size': 401153.53},\n",
        "    {'name': 'Financials', 'size': 2836416.05},\n",
        "    {'name': 'Health Care', 'size': 1793645.02},\n",
        "    {'name': 'Industrials', 'size': 5429402.44},\n",
        "    {'name': 'Information Technology', 'size': 2955444.57},\n",
        "    {'name': 'Materials', 'size': 2013642.36},\n",
        "    {'name': 'Telecommunication Services', 'size': 990509.71},\n",
        "    {'name': 'Utilities', 'size': 929700.82}],\n",
        "   'name': 'Employee commuting',\n",
        "   'size': 23514027.39},\n",
        "  {'children': [{'name': 'Consumer Discretionary', 'size': 32514814.61},\n",
        "    {'name': 'Consumer Staples', 'size': 10349544.34},\n",
        "    {'name': 'Energy', 'size': 25600000.0},\n",
        "    {'name': 'Financials', 'size': 2248436.67},\n",
        "    {'name': 'Health Care', 'size': 15634562.0},\n",
        "    {'name': 'Industrials', 'size': 8715503.6},\n",
        "    {'name': 'Information Technology', 'size': 2559560.38},\n",
        "    {'name': 'Materials', 'size': 70929722.5},\n",
        "    {'name': 'Telecommunication Services', 'size': 48649.0},\n",
        "    {'name': 'Utilities', 'size': 150.0}],\n",
        "   'name': 'End of life treatment of sold products',\n",
        "   'size': 168600943.1},\n",
        "  {'children': [{'name': 'Consumer Discretionary', 'size': 23449107.08},\n",
        "    {'name': 'Consumer Staples', 'size': 5582149.0},\n",
        "    {'name': 'Energy', 'size': 2412602.0},\n",
        "    {'name': 'Financials', 'size': 489727.5},\n",
        "    {'name': 'Health Care', 'size': 9985.0},\n",
        "    {'name': 'Industrials', 'size': 62841.0},\n",
        "    {'name': 'Information Technology', 'size': 1034.0},\n",
        "    {'name': 'Materials', 'size': 12453.0},\n",
        "    {'name': 'Telecommunication Services', 'size': 353872.09},\n",
        "    {'name': 'Utilities', 'size': 4113.0}],\n",
        "   'name': 'Franchises',\n",
        "   'size': 32377883.67},\n",
        "  {'children': [{'name': 'Consumer Discretionary', 'size': 7827722.37},\n",
        "    {'name': 'Consumer Staples', 'size': 29096342.37},\n",
        "    {'name': 'Energy', 'size': 10240866.1},\n",
        "    {'name': 'Financials', 'size': 2725341.59},\n",
        "    {'name': 'Health Care', 'size': 5017094.0},\n",
        "    {'name': 'Industrials', 'size': 68489114.41},\n",
        "    {'name': 'Information Technology', 'size': 848863537.82},\n",
        "    {'name': 'Materials', 'size': 81441290.55},\n",
        "    {'name': 'Telecommunication Services', 'size': 1736550.21},\n",
        "    {'name': 'Utilities', 'size': 678806181.03}],\n",
        "   'name': 'Fuel-and-energy-related activities (not included in Scope 1 or 2)',\n",
        "   'size': 1734244040.45},\n",
        "  {'children': [{'name': 'Consumer Discretionary', 'size': 4783946.91},\n",
        "    {'name': 'Consumer Staples', 'size': 10281443.0},\n",
        "    {'name': 'Energy', 'size': 5174085.0},\n",
        "    {'name': 'Financials', 'size': 52559850.65},\n",
        "    {'name': 'Health Care', 'size': 19950.0},\n",
        "    {'name': 'Industrials', 'size': 151386339.81},\n",
        "    {'name': 'Information Technology', 'size': 823834.1},\n",
        "    {'name': 'Materials', 'size': 39192665.25},\n",
        "    {'name': 'Telecommunication Services', 'size': 2872930.0},\n",
        "    {'name': 'Utilities', 'size': 217339518.0}],\n",
        "   'name': 'Investments',\n",
        "   'size': 484434562.72},\n",
        "  {'children': [{'name': 'Consumer Discretionary', 'size': 51567.65},\n",
        "    {'name': 'Consumer Staples', 'size': 4130392.93},\n",
        "    {'name': 'Energy', 'size': 600200.0},\n",
        "    {'name': 'Financials', 'size': 5863324.11},\n",
        "    {'name': 'Health Care', 'size': 0.0},\n",
        "    {'name': 'Industrials', 'size': 3408536.52},\n",
        "    {'name': 'Information Technology', 'size': 2371178.85},\n",
        "    {'name': 'Materials', 'size': 29521.0},\n",
        "    {'name': 'Telecommunication Services', 'size': 112918.0},\n",
        "    {'name': 'Utilities', 'size': 277853.5}],\n",
        "   'name': 'Other (downstream)',\n",
        "   'size': 16845492.56},\n",
        "  {'children': [{'name': 'Consumer Discretionary', 'size': 478086.0},\n",
        "    {'name': 'Consumer Staples', 'size': 14996305.03},\n",
        "    {'name': 'Energy', 'size': 1978.0},\n",
        "    {'name': 'Financials', 'size': 22329.38},\n",
        "    {'name': 'Health Care', 'size': 110040.03},\n",
        "    {'name': 'Industrials', 'size': 2895506.05},\n",
        "    {'name': 'Information Technology', 'size': 3455427.4},\n",
        "    {'name': 'Materials', 'size': 47587.54},\n",
        "    {'name': 'Telecommunication Services', 'size': 77008.0},\n",
        "    {'name': 'Utilities', 'size': 6198152.0}],\n",
        "   'name': 'Other (upstream)',\n",
        "   'size': 28282419.43},\n",
        "  {'children': [{'name': 'Consumer Discretionary', 'size': 4376619.7},\n",
        "    {'name': 'Consumer Staples', 'size': 124634.79},\n",
        "    {'name': 'Energy', 'size': 152965232.38},\n",
        "    {'name': 'Financials', 'size': 2443.24},\n",
        "    {'name': 'Health Care', 'size': 23476.0},\n",
        "    {'name': 'Industrials', 'size': 5045403.16},\n",
        "    {'name': 'Information Technology', 'size': 826532.0},\n",
        "    {'name': 'Materials', 'size': 927282558.58},\n",
        "    {'name': 'Telecommunication Services', 'size': 0.0},\n",
        "    {'name': 'Utilities', 'size': 5761428.0}],\n",
        "   'name': 'Processing of sold products',\n",
        "   'size': 1096408327.85},\n",
        "  {'children': [{'name': 'Consumer Discretionary', 'size': 361149088.88},\n",
        "    {'name': 'Consumer Staples', 'size': 332066686.55},\n",
        "    {'name': 'Energy', 'size': 45304717.0},\n",
        "    {'name': 'Financials', 'size': 15236953.11},\n",
        "    {'name': 'Health Care', 'size': 35095386.19},\n",
        "    {'name': 'Industrials', 'size': 218023549.87},\n",
        "    {'name': 'Information Technology', 'size': 104477246.42},\n",
        "    {'name': 'Materials', 'size': 674499727.51},\n",
        "    {'name': 'Telecommunication Services', 'size': 25459347.18},\n",
        "    {'name': 'Utilities', 'size': 306351463.83}],\n",
        "   'name': 'Purchased goods and services',\n",
        "   'size': 2117664166.54},\n",
        "  {'children': [{'name': 'Consumer Discretionary', 'size': 310112.98},\n",
        "    {'name': 'Consumer Staples', 'size': 433166.0},\n",
        "    {'name': 'Energy', 'size': 540795.0},\n",
        "    {'name': 'Financials', 'size': 332760.63},\n",
        "    {'name': 'Health Care', 'size': 288554.16},\n",
        "    {'name': 'Industrials', 'size': 348477.11},\n",
        "    {'name': 'Information Technology', 'size': 310823.63},\n",
        "    {'name': 'Materials', 'size': 456320.14},\n",
        "    {'name': 'Telecommunication Services', 'size': 419401.31},\n",
        "    {'name': 'Utilities', 'size': 690937.0}],\n",
        "   'name': 'Upstream leased assets',\n",
        "   'size': 4131347.96},\n",
        "  {'children': [{'name': 'Consumer Discretionary', 'size': 25463964.65},\n",
        "    {'name': 'Consumer Staples', 'size': 20431542.86},\n",
        "    {'name': 'Energy', 'size': 9858988.27},\n",
        "    {'name': 'Financials', 'size': 1023134.41},\n",
        "    {'name': 'Health Care', 'size': 1956360.08},\n",
        "    {'name': 'Industrials', 'size': 54537980.85},\n",
        "    {'name': 'Information Technology', 'size': 8423231.57},\n",
        "    {'name': 'Materials', 'size': 335233284.62},\n",
        "    {'name': 'Telecommunication Services', 'size': 1315213.49},\n",
        "    {'name': 'Utilities', 'size': 87298739.23}],\n",
        "   'name': 'Upstream transportation and distribution',\n",
        "   'size': 545542440.03},\n",
        "  {'children': [{'name': 'Consumer Discretionary', 'size': 23145262946.83},\n",
        "    {'name': 'Consumer Staples', 'size': 133491555.04},\n",
        "    {'name': 'Energy', 'size': 4327695650.41},\n",
        "    {'name': 'Financials', 'size': 7711473.67},\n",
        "    {'name': 'Health Care', 'size': 13142278.0},\n",
        "    {'name': 'Industrials', 'size': 2078994471.68},\n",
        "    {'name': 'Information Technology', 'size': 502021010.89},\n",
        "    {'name': 'Materials', 'size': 952530083.01},\n",
        "    {'name': 'Telecommunication Services', 'size': 23883113.02},\n",
        "    {'name': 'Utilities', 'size': 723572941.94}],\n",
        "   'name': 'Use of sold products',\n",
        "   'size': 31908305524.49},\n",
        "  {'children': [{'name': 'Consumer Discretionary', 'size': 7915799.62},\n",
        "    {'name': 'Consumer Staples', 'size': 4515873.49},\n",
        "    {'name': 'Energy', 'size': 724382.21},\n",
        "    {'name': 'Financials', 'size': 738100.72},\n",
        "    {'name': 'Health Care', 'size': 1945457.85},\n",
        "    {'name': 'Industrials', 'size': 3704069.97},\n",
        "    {'name': 'Information Technology', 'size': 1622384.06},\n",
        "    {'name': 'Materials', 'size': 5418346.16},\n",
        "    {'name': 'Telecommunication Services', 'size': 149380.83},\n",
        "    {'name': 'Utilities', 'size': 789850.77}],\n",
        "   'name': 'Waste generated in operations',\n",
        "   'size': 27523645.68}],\n",
        " 'name': 'CO2eTons'}"
       ]
      }
     ],
     "prompt_number": 96
    },
    {
     "cell_type": "code",
     "collapsed": false,
     "input": [
      "donut = Donut(sectorsScope3, categories, filename=\"Scope3CatsSectors.html\")\n",
      "donut.show()"
     ],
     "language": "python",
     "metadata": {},
     "outputs": [
      {
       "output_type": "stream",
       "stream": "stdout",
       "text": [
        "Wrote donut.html\n"
       ]
      }
     ],
     "prompt_number": 94
    },
    {
     "cell_type": "code",
     "collapsed": false,
     "input": [
      "pscope3 = gm.get_scope3(p2, 2010)"
     ],
     "language": "python",
     "metadata": {},
     "outputs": [],
     "prompt_number": 673
    },
    {
     "cell_type": "code",
     "collapsed": false,
     "input": [
      "pscopes = gm.combine_scopes(pscope1, pscope2, pscope3)"
     ],
     "language": "python",
     "metadata": {},
     "outputs": [],
     "prompt_number": 711
    },
    {
     "cell_type": "code",
     "collapsed": false,
     "input": [
      "# pickle\n",
      "pscopes.to_pickle('../CDPdata/2010hasscopes.pkl')\n",
      "# 2010 data\n",
      "# pscope1= pscope1.rename(columns={\"Scope 2\":\"Scope 1\"})\n",
      "pscopes.head()\n",
      "len(pscopes)"
     ],
     "language": "python",
     "metadata": {},
     "outputs": [
      {
       "metadata": {},
       "output_type": "pyout",
       "prompt_number": 695,
       "text": [
        "1492"
       ]
      }
     ],
     "prompt_number": 695
    },
    {
     "cell_type": "markdown",
     "metadata": {},
     "source": [
      "## combine scopes per company"
     ]
    },
    {
     "cell_type": "code",
     "collapsed": false,
     "input": [
      "# scopes2014 = pd.read_pickle('../CDPdata/2014hasscopes.pkl')\n",
      "# scopes2013 = pd.read_pickle('../CDPdata/2013hasscopes.pkl')\n",
      "# scopes2012 = pd.read_pickle('../CDPdata/2012hasscopes.pkl')\n",
      "scopes2010 = pscopes"
     ],
     "language": "python",
     "metadata": {},
     "outputs": [],
     "prompt_number": 713
    },
    {
     "cell_type": "code",
     "collapsed": false,
     "input": [
      "scopes2010 = gm.add_yearindex(scopes2010, 2010)\n",
      "scopes2010.head()"
     ],
     "language": "python",
     "metadata": {},
     "outputs": [
      {
       "html": [
        "<div style=\"max-height:1000px;max-width:1500px;overflow:auto;\">\n",
        "<table border=\"1\" class=\"dataframe\">\n",
        "  <thead>\n",
        "    <tr style=\"text-align: right;\">\n",
        "      <th></th>\n",
        "      <th></th>\n",
        "      <th>Discloser ID</th>\n",
        "      <th>Country</th>\n",
        "      <th>GICS Sector</th>\n",
        "      <th>GICS Industry Group</th>\n",
        "      <th>GICS Industry</th>\n",
        "      <th>has Scope 1</th>\n",
        "      <th>has Scope 2</th>\n",
        "      <th>has Scope 3</th>\n",
        "    </tr>\n",
        "    <tr>\n",
        "      <th>Organisation</th>\n",
        "      <th>year</th>\n",
        "      <th></th>\n",
        "      <th></th>\n",
        "      <th></th>\n",
        "      <th></th>\n",
        "      <th></th>\n",
        "      <th></th>\n",
        "      <th></th>\n",
        "      <th></th>\n",
        "    </tr>\n",
        "  </thead>\n",
        "  <tbody>\n",
        "    <tr>\n",
        "      <th>3M Company</th>\n",
        "      <th>2010</th>\n",
        "      <td> df6e508b-e21b-df11-b692-0017a47708d8</td>\n",
        "      <td>         USA</td>\n",
        "      <td> Industrials</td>\n",
        "      <td>  Capital Goods</td>\n",
        "      <td> Industrial Conglomerates</td>\n",
        "      <td> True</td>\n",
        "      <td> True</td>\n",
        "      <td> False</td>\n",
        "    </tr>\n",
        "    <tr>\n",
        "      <th>A&amp;H Sportswear Co, Inc.</th>\n",
        "      <th>2010</th>\n",
        "      <td> c4d18ebf-1e26-df11-aa19-0017a47708d8</td>\n",
        "      <td>         USA</td>\n",
        "      <td>         NaN</td>\n",
        "      <td>            NaN</td>\n",
        "      <td>                      NaN</td>\n",
        "      <td> True</td>\n",
        "      <td> True</td>\n",
        "      <td> False</td>\n",
        "    </tr>\n",
        "    <tr>\n",
        "      <th>A.P. Moller - Maersk</th>\n",
        "      <th>2010</th>\n",
        "      <td> 0b6c508b-e21b-df11-b692-0017a47708d8</td>\n",
        "      <td>     Denmark</td>\n",
        "      <td> Industrials</td>\n",
        "      <td> Transportation</td>\n",
        "      <td>                   Marine</td>\n",
        "      <td> True</td>\n",
        "      <td> True</td>\n",
        "      <td> False</td>\n",
        "    </tr>\n",
        "    <tr>\n",
        "      <th>A2A</th>\n",
        "      <th>2010</th>\n",
        "      <td> ef67508b-e21b-df11-b692-0017a47708d8</td>\n",
        "      <td>       Italy</td>\n",
        "      <td>   Utilities</td>\n",
        "      <td>      Utilities</td>\n",
        "      <td>          Multi-Utilities</td>\n",
        "      <td> True</td>\n",
        "      <td> True</td>\n",
        "      <td> False</td>\n",
        "    </tr>\n",
        "    <tr>\n",
        "      <th>ABB</th>\n",
        "      <th>2010</th>\n",
        "      <td> c3245885-e21b-df11-b692-0017a47708d8</td>\n",
        "      <td> Switzerland</td>\n",
        "      <td> Industrials</td>\n",
        "      <td>  Capital Goods</td>\n",
        "      <td>                Machinery</td>\n",
        "      <td> True</td>\n",
        "      <td> True</td>\n",
        "      <td> False</td>\n",
        "    </tr>\n",
        "  </tbody>\n",
        "</table>\n",
        "</div>"
       ],
       "metadata": {},
       "output_type": "pyout",
       "prompt_number": 719,
       "text": [
        "                                                      Discloser ID  \\\n",
        "Organisation            year                                         \n",
        "3M Company              2010  df6e508b-e21b-df11-b692-0017a47708d8   \n",
        "A&H Sportswear Co, Inc. 2010  c4d18ebf-1e26-df11-aa19-0017a47708d8   \n",
        "A.P. Moller - Maersk    2010  0b6c508b-e21b-df11-b692-0017a47708d8   \n",
        "A2A                     2010  ef67508b-e21b-df11-b692-0017a47708d8   \n",
        "ABB                     2010  c3245885-e21b-df11-b692-0017a47708d8   \n",
        "\n",
        "                                  Country  GICS Sector GICS Industry Group  \\\n",
        "Organisation            year                                                 \n",
        "3M Company              2010          USA  Industrials       Capital Goods   \n",
        "A&H Sportswear Co, Inc. 2010          USA          NaN                 NaN   \n",
        "A.P. Moller - Maersk    2010      Denmark  Industrials      Transportation   \n",
        "A2A                     2010        Italy    Utilities           Utilities   \n",
        "ABB                     2010  Switzerland  Industrials       Capital Goods   \n",
        "\n",
        "                                         GICS Industry has Scope 1  \\\n",
        "Organisation            year                                         \n",
        "3M Company              2010  Industrial Conglomerates        True   \n",
        "A&H Sportswear Co, Inc. 2010                       NaN        True   \n",
        "A.P. Moller - Maersk    2010                    Marine        True   \n",
        "A2A                     2010           Multi-Utilities        True   \n",
        "ABB                     2010                 Machinery        True   \n",
        "\n",
        "                             has Scope 2 has Scope 3  \n",
        "Organisation            year                          \n",
        "3M Company              2010        True       False  \n",
        "A&H Sportswear Co, Inc. 2010        True       False  \n",
        "A.P. Moller - Maersk    2010        True       False  \n",
        "A2A                     2010        True       False  \n",
        "ABB                     2010        True       False  "
       ]
      }
     ],
     "prompt_number": 719
    },
    {
     "cell_type": "code",
     "collapsed": false,
     "input": [
      "scopes = pd.concat([scopes2014, scopes2013, scopes2012, scopes2011, scopes2010])\n",
      "scopes.sort_index(inplace=True)"
     ],
     "language": "python",
     "metadata": {},
     "outputs": [],
     "prompt_number": 737
    },
    {
     "cell_type": "code",
     "collapsed": true,
     "input": [
      "scopes[110:120]\n",
      "scopes2013[60:80]\n",
      "scopes.head()"
     ],
     "language": "python",
     "metadata": {},
     "outputs": [
      {
       "html": [
        "<div style=\"max-height:1000px;max-width:1500px;overflow:auto;\">\n",
        "<table border=\"1\" class=\"dataframe\">\n",
        "  <thead>\n",
        "    <tr style=\"text-align: right;\">\n",
        "      <th></th>\n",
        "      <th></th>\n",
        "      <th>Country</th>\n",
        "      <th>Discloser ID</th>\n",
        "      <th>GICS Industry</th>\n",
        "      <th>GICS Industry Group</th>\n",
        "      <th>GICS Sector</th>\n",
        "      <th>GICS Sub-Industry</th>\n",
        "      <th>has Scope 1</th>\n",
        "      <th>has Scope 2</th>\n",
        "      <th>has Scope 3</th>\n",
        "    </tr>\n",
        "    <tr>\n",
        "      <th>Organisation</th>\n",
        "      <th>year</th>\n",
        "      <th></th>\n",
        "      <th></th>\n",
        "      <th></th>\n",
        "      <th></th>\n",
        "      <th></th>\n",
        "      <th></th>\n",
        "      <th></th>\n",
        "      <th></th>\n",
        "      <th></th>\n",
        "    </tr>\n",
        "  </thead>\n",
        "  <tbody>\n",
        "    <tr>\n",
        "      <th rowspan=\"4\" valign=\"top\">3M Company</th>\n",
        "      <th>2010</th>\n",
        "      <td>            USA</td>\n",
        "      <td> df6e508b-e21b-df11-b692-0017a47708d8</td>\n",
        "      <td> Industrial Conglomerates</td>\n",
        "      <td>          Capital Goods</td>\n",
        "      <td> Industrials</td>\n",
        "      <td>                      NaN</td>\n",
        "      <td> True</td>\n",
        "      <td> True</td>\n",
        "      <td> False</td>\n",
        "    </tr>\n",
        "    <tr>\n",
        "      <th>2011</th>\n",
        "      <td>            USA</td>\n",
        "      <td> b4f71b05-18e0-df11-a2b8-0017a47708d8</td>\n",
        "      <td> Industrial Conglomerates</td>\n",
        "      <td>          Capital Goods</td>\n",
        "      <td> Industrials</td>\n",
        "      <td>                      NaN</td>\n",
        "      <td> True</td>\n",
        "      <td> True</td>\n",
        "      <td> False</td>\n",
        "    </tr>\n",
        "    <tr>\n",
        "      <th>2012</th>\n",
        "      <td>            USA</td>\n",
        "      <td> 301f9bc7-e8fe-e011-871c-0017a47708d8</td>\n",
        "      <td> Industrial Conglomerates</td>\n",
        "      <td>          Capital Goods</td>\n",
        "      <td> Industrials</td>\n",
        "      <td>                      NaN</td>\n",
        "      <td> True</td>\n",
        "      <td> True</td>\n",
        "      <td> False</td>\n",
        "    </tr>\n",
        "    <tr>\n",
        "      <th>2014</th>\n",
        "      <td>            USA</td>\n",
        "      <td>                                  NaN</td>\n",
        "      <td> Industrial Conglomerates</td>\n",
        "      <td>          Capital Goods</td>\n",
        "      <td> Industrials</td>\n",
        "      <td> Industrial Conglomerates</td>\n",
        "      <td> True</td>\n",
        "      <td> True</td>\n",
        "      <td>  True</td>\n",
        "    </tr>\n",
        "    <tr>\n",
        "      <th>3i Group</th>\n",
        "      <th>2011</th>\n",
        "      <td> United Kingdom</td>\n",
        "      <td> 9ff71b05-18e0-df11-a2b8-0017a47708d8</td>\n",
        "      <td>          Capital Markets</td>\n",
        "      <td> Diversified Financials</td>\n",
        "      <td>       Banks</td>\n",
        "      <td>                      NaN</td>\n",
        "      <td> True</td>\n",
        "      <td> True</td>\n",
        "      <td>  True</td>\n",
        "    </tr>\n",
        "  </tbody>\n",
        "</table>\n",
        "</div>"
       ],
       "metadata": {},
       "output_type": "pyout",
       "prompt_number": 739,
       "text": [
        "                          Country                          Discloser ID  \\\n",
        "Organisation year                                                         \n",
        "3M Company   2010             USA  df6e508b-e21b-df11-b692-0017a47708d8   \n",
        "             2011             USA  b4f71b05-18e0-df11-a2b8-0017a47708d8   \n",
        "             2012             USA  301f9bc7-e8fe-e011-871c-0017a47708d8   \n",
        "             2014             USA                                   NaN   \n",
        "3i Group     2011  United Kingdom  9ff71b05-18e0-df11-a2b8-0017a47708d8   \n",
        "\n",
        "                              GICS Industry     GICS Industry Group  \\\n",
        "Organisation year                                                     \n",
        "3M Company   2010  Industrial Conglomerates           Capital Goods   \n",
        "             2011  Industrial Conglomerates           Capital Goods   \n",
        "             2012  Industrial Conglomerates           Capital Goods   \n",
        "             2014  Industrial Conglomerates           Capital Goods   \n",
        "3i Group     2011           Capital Markets  Diversified Financials   \n",
        "\n",
        "                   GICS Sector         GICS Sub-Industry has Scope 1  \\\n",
        "Organisation year                                                      \n",
        "3M Company   2010  Industrials                       NaN        True   \n",
        "             2011  Industrials                       NaN        True   \n",
        "             2012  Industrials                       NaN        True   \n",
        "             2014  Industrials  Industrial Conglomerates        True   \n",
        "3i Group     2011        Banks                       NaN        True   \n",
        "\n",
        "                  has Scope 2 has Scope 3  \n",
        "Organisation year                          \n",
        "3M Company   2010        True       False  \n",
        "             2011        True       False  \n",
        "             2012        True       False  \n",
        "             2014        True        True  \n",
        "3i Group     2011        True        True  "
       ]
      }
     ],
     "prompt_number": 739
    },
    {
     "cell_type": "code",
     "collapsed": false,
     "input": [
      "scopes1and2 = scopes[scopes['has Scope 1'] & scopes['has Scope 2']]\n",
      "s12counts = scopes1and2.groupby(level=\"Organisation\").sum()"
     ],
     "language": "python",
     "metadata": {},
     "outputs": [],
     "prompt_number": 759
    },
    {
     "cell_type": "code",
     "collapsed": false,
     "input": [
      "# select company names that have all 5 years\n",
      "s12companies = s12counts[s12counts[\"has Scope 1\"] == 5].index\n",
      "scopes125yrs = scopes1and2.loc[s12companies.tolist()]\n",
      "scopes125yrs.to_pickle(\"../CDPdata/2010to2014hasscopes12.pkl\")"
     ],
     "language": "python",
     "metadata": {},
     "outputs": [],
     "prompt_number": 784
    },
    {
     "cell_type": "code",
     "collapsed": false,
     "input": [
      "len(s12companies)"
     ],
     "language": "python",
     "metadata": {},
     "outputs": [
      {
       "metadata": {},
       "output_type": "pyout",
       "prompt_number": 926,
       "text": [
        "361"
       ]
      }
     ],
     "prompt_number": 926
    },
    {
     "cell_type": "markdown",
     "metadata": {},
     "source": [
      "# get scope1 and scope2 totals"
     ]
    },
    {
     "cell_type": "code",
     "collapsed": false,
     "input": [
      "# 2010 data\n",
      "pscope1 = gm.get_scope1or2(p, 1, 2010)\n",
      "scope1 = pscope1.groupby(level=0).sum()"
     ],
     "language": "python",
     "metadata": {},
     "outputs": [],
     "prompt_number": 882
    },
    {
     "cell_type": "code",
     "collapsed": false,
     "input": [
      "scope1.to_pickle(\"../CDPdata/2010scope1.pkl\")\n",
      "scope12 = scope1.loc[s12companies.tolist()]"
     ],
     "language": "python",
     "metadata": {},
     "outputs": [],
     "prompt_number": 883
    },
    {
     "cell_type": "code",
     "collapsed": false,
     "input": [
      "pscope2 = gm.get_scope1or2(p,2,2010)\n",
      "scope2 = pscope2.groupby(level=0).sum()\n",
      "scope2.to_pickle(\"../CDPdata/2010scope2.pkl\")\n",
      "temp = scope2.loc[s12companies.tolist()]\n",
      "scope12 = scope12.join(temp, how=\"outer\")"
     ],
     "language": "python",
     "metadata": {},
     "outputs": [],
     "prompt_number": 885
    },
    {
     "cell_type": "code",
     "collapsed": false,
     "input": [
      "scope12=scope12[scope12[\"Scope 1\"].notnull()]\n",
      "len(scope12)\n",
      "scope12.to_pickle(\"../CDPdata/2010scope12.pkl\")"
     ],
     "language": "python",
     "metadata": {},
     "outputs": [],
     "prompt_number": 891
    },
    {
     "cell_type": "code",
     "collapsed": false,
     "input": [
      "scopes12 = gm.add_yearindex(scope12_2010, 2010)\n",
      "scopes12.head()"
     ],
     "language": "python",
     "metadata": {},
     "outputs": [
      {
       "html": [
        "<div style=\"max-height:1000px;max-width:1500px;overflow:auto;\">\n",
        "<table border=\"1\" class=\"dataframe\">\n",
        "  <thead>\n",
        "    <tr style=\"text-align: right;\">\n",
        "      <th></th>\n",
        "      <th></th>\n",
        "      <th>Scope 1</th>\n",
        "      <th>Scope 2</th>\n",
        "    </tr>\n",
        "    <tr>\n",
        "      <th></th>\n",
        "      <th>year</th>\n",
        "      <th></th>\n",
        "      <th></th>\n",
        "    </tr>\n",
        "  </thead>\n",
        "  <tbody>\n",
        "    <tr>\n",
        "      <th>ACC</th>\n",
        "      <th>2010</th>\n",
        "      <td> 11888436</td>\n",
        "      <td> 493000</td>\n",
        "    </tr>\n",
        "    <tr>\n",
        "      <th>ACEA SpA</th>\n",
        "      <th>2010</th>\n",
        "      <td>  1480644</td>\n",
        "      <td> 361000</td>\n",
        "    </tr>\n",
        "    <tr>\n",
        "      <th>AECI Ltd Ord</th>\n",
        "      <th>2010</th>\n",
        "      <td>   299114</td>\n",
        "      <td> 176980</td>\n",
        "    </tr>\n",
        "    <tr>\n",
        "      <th>AFLAC Incorporated</th>\n",
        "      <th>2010</th>\n",
        "      <td>     3857</td>\n",
        "      <td>  23826</td>\n",
        "    </tr>\n",
        "    <tr>\n",
        "      <th>AMG Advanced Metallurgical Group NV</th>\n",
        "      <th>2010</th>\n",
        "      <td>    33942</td>\n",
        "      <td>  74746</td>\n",
        "    </tr>\n",
        "  </tbody>\n",
        "</table>\n",
        "</div>"
       ],
       "metadata": {},
       "output_type": "pyout",
       "prompt_number": 900,
       "text": [
        "                                           Scope 1  Scope 2\n",
        "                                    year                   \n",
        "ACC                                 2010  11888436   493000\n",
        "ACEA SpA                            2010   1480644   361000\n",
        "AECI Ltd Ord                        2010    299114   176980\n",
        "AFLAC Incorporated                  2010      3857    23826\n",
        "AMG Advanced Metallurgical Group NV 2010     33942    74746"
       ]
      }
     ],
     "prompt_number": 900
    },
    {
     "cell_type": "code",
     "collapsed": false,
     "input": [
      "scope12_2014 = pd.read_pickle(\"../CDPdata/2014scope12.pkl\")\n",
      "temp = gm.add_yearindex(scope12_2014, 2014)\n",
      "temp.head()"
     ],
     "language": "python",
     "metadata": {},
     "outputs": [
      {
       "html": [
        "<div style=\"max-height:1000px;max-width:1500px;overflow:auto;\">\n",
        "<table border=\"1\" class=\"dataframe\">\n",
        "  <thead>\n",
        "    <tr style=\"text-align: right;\">\n",
        "      <th></th>\n",
        "      <th></th>\n",
        "      <th>Scope 1</th>\n",
        "      <th>Scope 2</th>\n",
        "    </tr>\n",
        "    <tr>\n",
        "      <th></th>\n",
        "      <th>year</th>\n",
        "      <th></th>\n",
        "      <th></th>\n",
        "    </tr>\n",
        "  </thead>\n",
        "  <tbody>\n",
        "    <tr>\n",
        "      <th>ACC</th>\n",
        "      <th>2014</th>\n",
        "      <td> 15146444</td>\n",
        "      <td> 511476</td>\n",
        "    </tr>\n",
        "    <tr>\n",
        "      <th>ACEA SpA</th>\n",
        "      <th>2014</th>\n",
        "      <td>   228600</td>\n",
        "      <td> 233000</td>\n",
        "    </tr>\n",
        "    <tr>\n",
        "      <th>AECI Ltd Ord</th>\n",
        "      <th>2014</th>\n",
        "      <td>   329822</td>\n",
        "      <td> 209557</td>\n",
        "    </tr>\n",
        "    <tr>\n",
        "      <th>AFLAC Incorporated</th>\n",
        "      <th>2014</th>\n",
        "      <td>     3133</td>\n",
        "      <td>  17791</td>\n",
        "    </tr>\n",
        "    <tr>\n",
        "      <th>AMG Advanced Metallurgical Group NV</th>\n",
        "      <th>2014</th>\n",
        "      <td>   183326</td>\n",
        "      <td> 396784</td>\n",
        "    </tr>\n",
        "  </tbody>\n",
        "</table>\n",
        "</div>"
       ],
       "metadata": {},
       "output_type": "pyout",
       "prompt_number": 908,
       "text": [
        "                                           Scope 1  Scope 2\n",
        "                                    year                   \n",
        "ACC                                 2014  15146444   511476\n",
        "ACEA SpA                            2014    228600   233000\n",
        "AECI Ltd Ord                        2014    329822   209557\n",
        "AFLAC Incorporated                  2014      3133    17791\n",
        "AMG Advanced Metallurgical Group NV 2014    183326   396784"
       ]
      }
     ],
     "prompt_number": 908
    },
    {
     "cell_type": "code",
     "collapsed": false,
     "input": [
      "# scopes12 = pd.concat([scopes12, temp])\n",
      "scopes12.sort_index(inplace=True)\n",
      "scopes12.head()"
     ],
     "language": "python",
     "metadata": {},
     "outputs": [
      {
       "html": [
        "<div style=\"max-height:1000px;max-width:1500px;overflow:auto;\">\n",
        "<table border=\"1\" class=\"dataframe\">\n",
        "  <thead>\n",
        "    <tr style=\"text-align: right;\">\n",
        "      <th></th>\n",
        "      <th></th>\n",
        "      <th>Scope 1</th>\n",
        "      <th>Scope 2</th>\n",
        "      <th>has Scope 1and2</th>\n",
        "    </tr>\n",
        "    <tr>\n",
        "      <th></th>\n",
        "      <th>year</th>\n",
        "      <th></th>\n",
        "      <th></th>\n",
        "      <th></th>\n",
        "    </tr>\n",
        "  </thead>\n",
        "  <tbody>\n",
        "    <tr>\n",
        "      <th rowspan=\"5\" valign=\"top\">ACC</th>\n",
        "      <th>2010</th>\n",
        "      <td> 11888436.00</td>\n",
        "      <td> 493000</td>\n",
        "      <td> 1</td>\n",
        "    </tr>\n",
        "    <tr>\n",
        "      <th>2011</th>\n",
        "      <td> 13717736.46</td>\n",
        "      <td> 473744</td>\n",
        "      <td> 1</td>\n",
        "    </tr>\n",
        "    <tr>\n",
        "      <th>2012</th>\n",
        "      <td> 15809662.00</td>\n",
        "      <td> 625162</td>\n",
        "      <td> 1</td>\n",
        "    </tr>\n",
        "    <tr>\n",
        "      <th>2013</th>\n",
        "      <td> 15383520.00</td>\n",
        "      <td> 565856</td>\n",
        "      <td> 1</td>\n",
        "    </tr>\n",
        "    <tr>\n",
        "      <th>2014</th>\n",
        "      <td> 15146444.00</td>\n",
        "      <td> 511476</td>\n",
        "      <td> 1</td>\n",
        "    </tr>\n",
        "  </tbody>\n",
        "</table>\n",
        "</div>"
       ],
       "metadata": {},
       "output_type": "pyout",
       "prompt_number": 948,
       "text": [
        "              Scope 1  Scope 2  has Scope 1and2\n",
        "    year                                       \n",
        "ACC 2010  11888436.00   493000                1\n",
        "    2011  13717736.46   473744                1\n",
        "    2012  15809662.00   625162                1\n",
        "    2013  15383520.00   565856                1\n",
        "    2014  15146444.00   511476                1"
       ]
      }
     ],
     "prompt_number": 948
    },
    {
     "cell_type": "code",
     "collapsed": false,
     "input": [
      "scopes12=scopes12[scopes12[\"Scope 2\"].notnull()]\n",
      "len(scopes12)"
     ],
     "language": "python",
     "metadata": {},
     "outputs": [
      {
       "metadata": {},
       "output_type": "pyout",
       "prompt_number": 914,
       "text": [
        "1922"
       ]
      }
     ],
     "prompt_number": 914
    },
    {
     "cell_type": "code",
     "collapsed": false,
     "input": [
      "# scopes12['has Scope 1and2'] = 1\n",
      "# scopes12.head()\n",
      "# s12counts = scopes12.groupby(level=0).sum()\n",
      "# s12counts.head()\n",
      "# s12companies = s12counts[s12counts[\"has Scope 1and2\"] == 5].index\n",
      "# len(s12companies)*5\n",
      "# scopes12 = scopes12.loc[s12companies.tolist()]\n",
      "scopes12.to_pickle(\"../CDPdata/2010to2014scopes12.pkl\")\n",
      "len(scopes12)"
     ],
     "language": "python",
     "metadata": {},
     "outputs": [
      {
       "metadata": {},
       "output_type": "pyout",
       "prompt_number": 953,
       "text": [
        "1805"
       ]
      }
     ],
     "prompt_number": 953
    },
    {
     "cell_type": "code",
     "collapsed": false,
     "input": [
      "ind = scopes12.index.levels[0].tolist()\n",
      "sc = s12companies.tolist()\n",
      "len(ind)"
     ],
     "language": "python",
     "metadata": {},
     "outputs": [
      {
       "metadata": {},
       "output_type": "pyout",
       "prompt_number": 949,
       "text": [
        "399"
       ]
      }
     ],
     "prompt_number": 949
    },
    {
     "cell_type": "code",
     "collapsed": false,
     "input": [
      "# set(ind) - set(sc)\n",
      "# s = scopes12.reset_index()\n",
      "# s = s.rename(columns={\"level_0\":\"Organisation\"})\n",
      "s.head()\n",
      "scopes12 = s\n",
      "# s = s.set_index([\"Organisation\",\"year\"])\n",
      "# len(s.index.levels[0].tolist())"
     ],
     "language": "python",
     "metadata": {},
     "outputs": [],
     "prompt_number": 952
    },
    {
     "cell_type": "code",
     "collapsed": false,
     "input": [
      "# groupby industry and country and find largest groups"
     ],
     "language": "python",
     "metadata": {},
     "outputs": []
    }
   ],
   "metadata": {}
  }
 ]
}