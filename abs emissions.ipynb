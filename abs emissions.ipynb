{
 "metadata": {
  "name": "",
  "signature": "sha256:5237c53bd9711f4e3d9b1b2e3c49d9e11f476aa23983a5425ab552ec16c2d0a5"
 },
 "nbformat": 3,
 "nbformat_minor": 0,
 "worksheets": [
  {
   "cells": [
    {
     "cell_type": "code",
     "collapsed": false,
     "input": [
      "import ghgmosh as gm\n",
      "import datavis as dv\n",
      "reload(gm)"
     ],
     "language": "python",
     "metadata": {},
     "outputs": [
      {
       "metadata": {},
       "output_type": "pyout",
       "prompt_number": 2,
       "text": [
        "<module 'ghgmosh' from 'ghgmosh.pyc'>"
       ]
      }
     ],
     "prompt_number": 2
    },
    {
     "cell_type": "code",
     "collapsed": false,
     "input": [
      "scope1 = gm.getscope_allyears(1)\n",
      "scope2 = gm.getscope_allyears(2)"
     ],
     "language": "python",
     "metadata": {},
     "outputs": [
      {
       "output_type": "stream",
       "stream": "stderr",
       "text": [
        "ghgmosh.py:77: SettingWithCopyWarning: \n",
        "A value is trying to be set on a copy of a slice from a DataFrame.\n",
        "Try using .loc[row_indexer,col_indexer] = value instead\n",
        "\n",
        "See the the caveats in the documentation: http://pandas.pydata.org/pandas-docs/stable/indexing.html#indexing-view-versus-copy\n",
        "  ptemp[jyr][\"year\"] = jyr\n"
       ]
      }
     ],
     "prompt_number": 4
    },
    {
     "cell_type": "markdown",
     "metadata": {},
     "source": [
      "## combine scope 1 and 2 for companies that report every year\n",
      "## index Organisation, year"
     ]
    },
    {
     "cell_type": "code",
     "collapsed": false,
     "input": [
      "# indexed by Organisation and year\n",
      "scopes12 = scope1.join(scope2[['scope2']], how='outer')\n",
      "scopes12.to_pickle(\"../CDPdata/2010to2014scopes1or2.pkl\")"
     ],
     "language": "python",
     "metadata": {},
     "outputs": [],
     "prompt_number": 11
    },
    {
     "cell_type": "code",
     "collapsed": false,
     "input": [
      "scopes12 = pd.read_pickle(\"../CDPdata/2010to2014scopes1or2.pkl\")"
     ],
     "language": "python",
     "metadata": {},
     "outputs": [],
     "prompt_number": 12
    },
    {
     "cell_type": "code",
     "collapsed": false,
     "input": [
      "s = scopes12\n",
      "scopes12_complete = s[(s[\"scope2\"].isnull()==False) & (s[\"scope1\"].isnull()==False)].reset_index().set_index([\"Organisation\", \"year\"])\n",
      "scopes12_incomplete = s[(s[\"scope2\"].isnull()==True) | (s[\"scope1\"].isnull()==True)].reset_index().set_index([\"Organisation\", \"year\"])"
     ],
     "language": "python",
     "metadata": {},
     "outputs": [],
     "prompt_number": 13
    },
    {
     "cell_type": "code",
     "collapsed": false,
     "input": [
      "# so most companies that report scope 1 also report scope 2\n",
      "len(scopes12) # 8023\n",
      "len(scopes12.index.levels[0]) # 2727\n",
      "s12_cos = scopes12.index.levels[0]\n",
      "len(scopes12_complete.index.levels[0]) # 2646\n",
      "s12_completecos = scopes12_complete.index.levels[0]\n",
      "len(scopes12_complete) # 7787\n",
      "incomplete_cos = set(s12_cos).difference(set(s12_completecos))"
     ],
     "language": "python",
     "metadata": {},
     "outputs": [],
     "prompt_number": 21
    },
    {
     "cell_type": "code",
     "collapsed": false,
     "input": [
      "# some nans are b/c they say the emissions are not relevant (like for Alliant and Duke Energy)\n",
      "# but some are b/c they say they're relevant but not calculated\n",
      "# relevance is on a different sheet, can just use 2014 data\n",
      "excuses = pd.read_pickle(\"../CDPdata/excuses_s12.pkl\")"
     ],
     "language": "python",
     "metadata": {},
     "outputs": [],
     "prompt_number": 22
    },
    {
     "cell_type": "code",
     "collapsed": false,
     "input": [
      "good_excuses =  [\"Emissions are not relevant\", \"No emissions from this source\",\n",
      "                 \"No emissions excluded\", \"Emissions excluded due to a recent acquisition\"]\n",
      "excuses[excuses.columns[1]].value_counts().index"
     ],
     "language": "python",
     "metadata": {},
     "outputs": [
      {
       "metadata": {},
       "output_type": "pyout",
       "prompt_number": 23,
       "text": [
        "Index([u'Emissions are not relevant', u'Emissions are relevant but not yet calculated', u'Emissions are not evaluated', u'Emissions excluded due to a recent acquisition', u'No emissions from this source', u'Emissions are relevant and calculated, but not disclosed', u'No emissions excluded'], dtype='object')"
       ]
      }
     ],
     "prompt_number": 23
    },
    {
     "cell_type": "code",
     "collapsed": false,
     "input": [
      "excuses.drop_duplicates(cols=\"Organisation\", inplace=True)\n",
      "excuses[\"scope1 null\"] = excuses[excuses.columns[1]].apply(lambda x: 0 if str(x) in good_excuses  else float(\"nan\"))\n",
      "excuses[\"scope2 null\"] = excuses[excuses.columns[2]].apply(lambda x: 0 if str(x) in good_excuses  else float(\"nan\"))"
     ],
     "language": "python",
     "metadata": {},
     "outputs": [
      {
       "output_type": "stream",
       "stream": "stderr",
       "text": [
        "/home/mirthbottle/anaconda/lib/python2.7/site-packages/pandas/util/decorators.py:81: FutureWarning: the 'cols' keyword is deprecated, use 'subset' instead\n",
        "  warnings.warn(msg, FutureWarning)\n"
       ]
      }
     ],
     "prompt_number": 24
    },
    {
     "cell_type": "code",
     "collapsed": false,
     "input": [
      "scopes12_incomplete = scopes12_incomplete.reset_index().set_index(\"Organisation\")\n",
      "excuses.set_index(\"Organisation\", inplace=True)"
     ],
     "language": "python",
     "metadata": {},
     "outputs": [],
     "prompt_number": 25
    },
    {
     "cell_type": "code",
     "collapsed": false,
     "input": [
      "incomplete_excuses = scopes12_incomplete.join(excuses[[\"scope1 null\", \"scope2 null\"]])\n",
      "complete_reasons = incomplete_excuses[(incomplete_excuses[\"scope1 null\"].isnull()==False) & (incomplete_excuses[\"scope2 null\"].isnull()==False)]"
     ],
     "language": "python",
     "metadata": {},
     "outputs": [],
     "prompt_number": 26
    },
    {
     "cell_type": "code",
     "collapsed": false,
     "input": [
      "s12_addback = complete_reasons.drop([\"scope1 null\", \"scope2 null\"],1)\n",
      "s12_addback[\"scope1\"] = s12_addback[\"scope1\"].fillna(0)\n",
      "s12_addback[\"scope2\"] = s12_addback[\"scope2\"].fillna(0)"
     ],
     "language": "python",
     "metadata": {},
     "outputs": [],
     "prompt_number": 27
    },
    {
     "cell_type": "code",
     "collapsed": false,
     "input": [
      "s12_addback = s12_addback.reset_index().set_index([\"Organisation\", \"year\"])"
     ],
     "language": "python",
     "metadata": {},
     "outputs": [],
     "prompt_number": 28
    },
    {
     "cell_type": "code",
     "collapsed": false,
     "input": [
      "# more cleanup\n",
      "s = pd.concat([s12_addback, scopes12_complete])\n",
      "s12_completed = s[(s[\"Country\"].isnull()==False) & (s[\"GICS Industry\"].isnull()==False)]"
     ],
     "language": "python",
     "metadata": {},
     "outputs": [],
     "prompt_number": 29
    },
    {
     "cell_type": "code",
     "collapsed": false,
     "input": [
      "s12_companies = s12_completed.index.levels[0]\n",
      "len(s12_companies) #2648 yay"
     ],
     "language": "python",
     "metadata": {},
     "outputs": [
      {
       "metadata": {},
       "output_type": "pyout",
       "prompt_number": 30,
       "text": [
        "2648"
       ]
      }
     ],
     "prompt_number": 30
    },
    {
     "cell_type": "code",
     "collapsed": false,
     "input": [
      "s12_completed = pd.read_pickle(\"../CDPdata/s12_completed.pkl\")"
     ],
     "language": "python",
     "metadata": {},
     "outputs": [],
     "prompt_number": 2
    },
    {
     "cell_type": "code",
     "collapsed": false,
     "input": [
      "s12_completed.to_pickle(\"../CDPdata/s12_completed.pkl\")\n",
      "s12_completed.head()"
     ],
     "language": "python",
     "metadata": {},
     "outputs": [
      {
       "html": [
        "<div style=\"max-height:1000px;max-width:1500px;overflow:auto;\">\n",
        "<table border=\"1\" class=\"dataframe\">\n",
        "  <thead>\n",
        "    <tr style=\"text-align: right;\">\n",
        "      <th></th>\n",
        "      <th></th>\n",
        "      <th>Country</th>\n",
        "      <th>Discloser ID</th>\n",
        "      <th>GICS Industry</th>\n",
        "      <th>GICS Industry Group</th>\n",
        "      <th>GICS Sector</th>\n",
        "      <th>GICS Sub-Industry</th>\n",
        "      <th>Reporting Period\n",
        "From</th>\n",
        "      <th>Reporting Period\n",
        "To</th>\n",
        "      <th>reporting period to</th>\n",
        "      <th>scope1</th>\n",
        "      <th>scope2</th>\n",
        "    </tr>\n",
        "    <tr>\n",
        "      <th>Organisation</th>\n",
        "      <th>year</th>\n",
        "      <th></th>\n",
        "      <th></th>\n",
        "      <th></th>\n",
        "      <th></th>\n",
        "      <th></th>\n",
        "      <th></th>\n",
        "      <th></th>\n",
        "      <th></th>\n",
        "      <th></th>\n",
        "      <th></th>\n",
        "      <th></th>\n",
        "    </tr>\n",
        "  </thead>\n",
        "  <tbody>\n",
        "    <tr>\n",
        "      <th rowspan=\"3\" valign=\"top\">Agrium Inc.</th>\n",
        "      <th>2009</th>\n",
        "      <td> Canada</td>\n",
        "      <td> d91c5885-e21b-df11-b692-0017a47708d8</td>\n",
        "      <td>       Chemicals</td>\n",
        "      <td> Materials</td>\n",
        "      <td> Materials</td>\n",
        "      <td>                   NaN</td>\n",
        "      <td> 1 Jan 2009</td>\n",
        "      <td> 31 Dec 2009</td>\n",
        "      <td>2009-12-31</td>\n",
        "      <td>  3202620</td>\n",
        "      <td> 0</td>\n",
        "    </tr>\n",
        "    <tr>\n",
        "      <th>2011</th>\n",
        "      <td> Canada</td>\n",
        "      <td> e00e8ed3-e8fe-e011-871c-0017a47708d8</td>\n",
        "      <td>       Chemicals</td>\n",
        "      <td> Materials</td>\n",
        "      <td> Materials</td>\n",
        "      <td>                   NaN</td>\n",
        "      <td> 1 Jan 2011</td>\n",
        "      <td> 31 Dec 2011</td>\n",
        "      <td>2011-12-31</td>\n",
        "      <td>  3441605</td>\n",
        "      <td> 0</td>\n",
        "    </tr>\n",
        "    <tr>\n",
        "      <th>2012</th>\n",
        "      <td> Canada</td>\n",
        "      <td>                                  NaN</td>\n",
        "      <td>       Chemicals</td>\n",
        "      <td> Materials</td>\n",
        "      <td> Materials</td>\n",
        "      <td> Diversified Chemicals</td>\n",
        "      <td> 1 Jan 2012</td>\n",
        "      <td> 31 Dec 2012</td>\n",
        "      <td>2012-12-31</td>\n",
        "      <td>  3807001</td>\n",
        "      <td> 0</td>\n",
        "    </tr>\n",
        "    <tr>\n",
        "      <th rowspan=\"2\" valign=\"top\">Alliant Energy Corporation</th>\n",
        "      <th>2009</th>\n",
        "      <td>    USA</td>\n",
        "      <td> ed1d5885-e21b-df11-b692-0017a47708d8</td>\n",
        "      <td> Multi-Utilities</td>\n",
        "      <td> Utilities</td>\n",
        "      <td> Utilities</td>\n",
        "      <td>                   NaN</td>\n",
        "      <td> 1 Jan 2009</td>\n",
        "      <td> 31 Dec 2009</td>\n",
        "      <td>2009-12-31</td>\n",
        "      <td> 17608208</td>\n",
        "      <td> 0</td>\n",
        "    </tr>\n",
        "    <tr>\n",
        "      <th>2010</th>\n",
        "      <td>    USA</td>\n",
        "      <td> f0d4061d-18e0-df11-a2b8-0017a47708d8</td>\n",
        "      <td> Multi-Utilities</td>\n",
        "      <td> Utilities</td>\n",
        "      <td> Utilities</td>\n",
        "      <td>                   NaN</td>\n",
        "      <td> 1 Jan 2010</td>\n",
        "      <td> 31 Dec 2010</td>\n",
        "      <td>2010-12-31</td>\n",
        "      <td> 18719000</td>\n",
        "      <td> 0</td>\n",
        "    </tr>\n",
        "  </tbody>\n",
        "</table>\n",
        "</div>"
       ],
       "metadata": {},
       "output_type": "pyout",
       "prompt_number": 31,
       "text": [
        "                                Country                          Discloser ID  \\\n",
        "Organisation               year                                                 \n",
        "Agrium Inc.                2009  Canada  d91c5885-e21b-df11-b692-0017a47708d8   \n",
        "                           2011  Canada  e00e8ed3-e8fe-e011-871c-0017a47708d8   \n",
        "                           2012  Canada                                   NaN   \n",
        "Alliant Energy Corporation 2009     USA  ed1d5885-e21b-df11-b692-0017a47708d8   \n",
        "                           2010     USA  f0d4061d-18e0-df11-a2b8-0017a47708d8   \n",
        "\n",
        "                                   GICS Industry GICS Industry Group  \\\n",
        "Organisation               year                                        \n",
        "Agrium Inc.                2009        Chemicals           Materials   \n",
        "                           2011        Chemicals           Materials   \n",
        "                           2012        Chemicals           Materials   \n",
        "Alliant Energy Corporation 2009  Multi-Utilities           Utilities   \n",
        "                           2010  Multi-Utilities           Utilities   \n",
        "\n",
        "                                GICS Sector      GICS Sub-Industry  \\\n",
        "Organisation               year                                      \n",
        "Agrium Inc.                2009   Materials                    NaN   \n",
        "                           2011   Materials                    NaN   \n",
        "                           2012   Materials  Diversified Chemicals   \n",
        "Alliant Energy Corporation 2009   Utilities                    NaN   \n",
        "                           2010   Utilities                    NaN   \n",
        "\n",
        "                                Reporting Period\\nFrom Reporting Period\\nTo  \\\n",
        "Organisation               year                                               \n",
        "Agrium Inc.                2009             1 Jan 2009          31 Dec 2009   \n",
        "                           2011             1 Jan 2011          31 Dec 2011   \n",
        "                           2012             1 Jan 2012          31 Dec 2012   \n",
        "Alliant Energy Corporation 2009             1 Jan 2009          31 Dec 2009   \n",
        "                           2010             1 Jan 2010          31 Dec 2010   \n",
        "\n",
        "                                reporting period to    scope1  scope2  \n",
        "Organisation               year                                        \n",
        "Agrium Inc.                2009          2009-12-31   3202620       0  \n",
        "                           2011          2011-12-31   3441605       0  \n",
        "                           2012          2012-12-31   3807001       0  \n",
        "Alliant Energy Corporation 2009          2009-12-31  17608208       0  \n",
        "                           2010          2010-12-31  18719000       0  "
       ]
      }
     ],
     "prompt_number": 31
    },
    {
     "cell_type": "markdown",
     "metadata": {},
     "source": [
      "# not used"
     ]
    },
    {
     "cell_type": "code",
     "collapsed": false,
     "input": [
      "#  get all 5 years for balanced panel\n",
      "s = scopes12_complete.reset_index()\n",
      "s12_count = s[s[\"year\"].isin(range(2009,2014))].groupby(\"Organisation\").count()\n",
      "s12_companies = s12_count[s12_count[\"year\"]==5].index.tolist()"
     ],
     "language": "python",
     "metadata": {},
     "outputs": [],
     "prompt_number": 26
    },
    {
     "cell_type": "code",
     "collapsed": false,
     "input": [
      "scopes12_complete5 = scopes12_complete[scopes12_complete.index.isin(s12_companies,level=0)].reset_index().set_index([\"Organisation\", \"year\"])"
     ],
     "language": "python",
     "metadata": {},
     "outputs": [],
     "prompt_number": 16
    },
    {
     "cell_type": "code",
     "collapsed": false,
     "input": [
      "len(s12_companies)  # 643\n",
      "len(scopes12_complete5) # 3308 has extra because some companies also have 2009 numbers\n",
      "scopes12_complete5.to_pickle(\"../CDPdata/2010to2014scopes12fiveyrs.pkl\")\n",
      "scopes12_complete.to_pickle(\"../CDPdata/2010to2014scopes12.pkl\")"
     ],
     "language": "python",
     "metadata": {},
     "outputs": [],
     "prompt_number": 18
    },
    {
     "cell_type": "markdown",
     "metadata": {},
     "source": [
      "# get company infos"
     ]
    },
    {
     "cell_type": "code",
     "collapsed": false,
     "input": [
      "# len(s12_companies)\n",
      "orginfos = pd.read_pickle(\"../CDPdata/orginfos.pkl\")"
     ],
     "language": "python",
     "metadata": {},
     "outputs": [],
     "prompt_number": 32
    },
    {
     "cell_type": "code",
     "collapsed": false,
     "input": [
      "p = pd.read_pickle(\"../CDPdata/sheet35_2014.pkl\")\n",
      "orginfos = p[[\"Organisation\"] + p.columns[2:7].tolist()+[\"Ticker\", \"ISIN\"]]\n",
      "orginfos = orginfos.drop_duplicates(\"Organisation\").set_index(\"Organisation\")\n",
      "orginfos.to_pickle(\"../CDPdata/orginfos.pkl\")\n",
      "len(orginfos)"
     ],
     "language": "python",
     "metadata": {},
     "outputs": [
      {
       "metadata": {},
       "output_type": "pyout",
       "prompt_number": 33,
       "text": [
        "1825"
       ]
      }
     ],
     "prompt_number": 33
    },
    {
     "cell_type": "code",
     "collapsed": false,
     "input": [
      "s12_company_ids = orginfos[orginfos.index.isin(s12_companies)][[\"ISIN\", \"Ticker\", \"Country\"]]\n",
      "s12_company_ids[\"Ticker\"] = s12_company_ids[\"Ticker\"].apply(lambda(x): str(x).split(\" \")[0])\n",
      "len(s12_company_ids) # 1732"
     ],
     "language": "python",
     "metadata": {},
     "outputs": [
      {
       "metadata": {},
       "output_type": "pyout",
       "prompt_number": 34,
       "text": [
        "1732"
       ]
      }
     ],
     "prompt_number": 34
    },
    {
     "cell_type": "code",
     "collapsed": false,
     "input": [
      "americans = s12_company_ids[s12_company_ids[\"Country\"]==\"USA\"][[\"Ticker\"]]\n",
      "americans=americans[americans[\"Ticker\"]!=\"nan\"]\n",
      "americans.to_excel(\"../CDPdata/s12_american_ids.xlsx\")\n",
      "len(americans) # 381"
     ],
     "language": "python",
     "metadata": {},
     "outputs": [
      {
       "metadata": {},
       "output_type": "pyout",
       "prompt_number": 35,
       "text": [
        "381"
       ]
      }
     ],
     "prompt_number": 35
    },
    {
     "cell_type": "code",
     "collapsed": false,
     "input": [
      "world = s12_company_ids[s12_company_ids[\"Country\"]!=\"USA\"][[\"ISIN\"]]\n",
      "world=world[world[\"ISIN\"].isnull()==False]\n",
      "world.to_excel(\"../CDPdata/s12_world_ids.xlsx\")\n",
      "len(world) # 1264"
     ],
     "language": "python",
     "metadata": {},
     "outputs": [
      {
       "metadata": {},
       "output_type": "pyout",
       "prompt_number": 17,
       "text": [
        "1264"
       ]
      }
     ],
     "prompt_number": 17
    },
    {
     "cell_type": "markdown",
     "metadata": {},
     "source": [
      "# Scope 3"
     ]
    },
    {
     "cell_type": "code",
     "collapsed": false,
     "input": [
      "p = pd.read_pickle(\"../CDPdata/sheet68_2014.pkl\")\n",
      "p.columns"
     ],
     "language": "python",
     "metadata": {},
     "outputs": [
      {
       "metadata": {},
       "output_type": "pyout",
       "prompt_number": 286,
       "text": [
        "Index([u'Organisation', u'Account No', u'Country', u'GICS Sector', u'GICS Industry Group', u'GICS Industry', u'GICS Sub-Industry', u'Access', u'Primary Expansion', u'Secondary Expansions', u'Complexity', u'Ticker', u'ISIN', u'Complexity.1', u'CC14.1. Please account for your organization\u2019s Scope 3 emissions, disclosing and explaining any exclusions\\n\\nCC14.1. Sources of Scope 3 emissions', u'CC14.1. Evaluation status', u'CC14.1. metric tonnes CO2e', u'CC14.1. Emissions calculation methodology', u'CC14.1. Percentage of emissions calculated using primary data', u'CC14.1. Explanation'], dtype='object')"
       ]
      }
     ],
     "prompt_number": 286
    },
    {
     "cell_type": "markdown",
     "metadata": {},
     "source": [
      "### example"
     ]
    },
    {
     "cell_type": "code",
     "collapsed": false,
     "input": [
      "N = 20\n",
      "categories = ['y' + str(x) for x in range(10)]\n",
      "data = {}\n",
      "data['x'] = np.arange(N)\n",
      "for cat in categories:\n",
      "    data[cat] = np.random.randint(10, 100, size=N)\n",
      "x2 = np.hstack((data['x'][::-1], data['x']))"
     ],
     "language": "python",
     "metadata": {},
     "outputs": [],
     "prompt_number": 163
    },
    {
     "cell_type": "code",
     "collapsed": false,
     "input": [
      "df = pd.DataFrame(data)\n",
      "df = df.set_index(['x'])\n",
      "areas = dv.stacked_cols(df, categories)"
     ],
     "language": "python",
     "metadata": {},
     "outputs": [],
     "prompt_number": 164
    },
    {
     "cell_type": "code",
     "collapsed": false,
     "input": [
      "p = figure()\n",
      "p.patches([x2 for a in areas], list(areas.values()), color=colors, alpha=0.8, line_color=None)"
     ],
     "language": "python",
     "metadata": {},
     "outputs": [
      {
       "metadata": {},
       "output_type": "pyout",
       "prompt_number": 167,
       "text": [
        "<bokeh.plotting.Figure at 0x7f09b9db5150>"
       ]
      }
     ],
     "prompt_number": 167
    },
    {
     "cell_type": "code",
     "collapsed": false,
     "input": [],
     "language": "python",
     "metadata": {},
     "outputs": []
    }
   ],
   "metadata": {}
  }
 ]
}