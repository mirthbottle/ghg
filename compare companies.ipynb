{
 "metadata": {
  "name": "",
  "signature": "sha256:29578d31b2cddea1990978c3c35a086804ea03bd2c71b28cb8396d3671311489"
 },
 "nbformat": 3,
 "nbformat_minor": 0,
 "worksheets": [
  {
   "cells": [
    {
     "cell_type": "code",
     "collapsed": false,
     "input": [
      "import pandas as pd"
     ],
     "language": "python",
     "metadata": {},
     "outputs": [],
     "prompt_number": 6
    },
    {
     "cell_type": "code",
     "collapsed": false,
     "input": [
      "import targetsmosh as tm"
     ],
     "language": "python",
     "metadata": {},
     "outputs": [],
     "prompt_number": 7
    },
    {
     "cell_type": "code",
     "collapsed": false,
     "input": [
      "ghgrevs = pd.read_pickle(\"../CDPdata/ghgrevs_with_changes.pkl\")\n",
      "targets = pd.read_pickle(\"../CDPdata/2010to2014targets.pkl\")"
     ],
     "language": "python",
     "metadata": {},
     "outputs": [],
     "prompt_number": 258
    },
    {
     "cell_type": "code",
     "collapsed": false,
     "input": [
      "orginfos = pd.read_pickle(\"../CDPdata/sheet35_2014.pkl\")\n",
      "orginfos = orginfos[orginfos.columns[0:15]]\n",
      "orginfos.set_index(\"ISIN\", inplace=True)"
     ],
     "language": "python",
     "metadata": {},
     "outputs": [],
     "prompt_number": 238
    },
    {
     "cell_type": "code",
     "collapsed": false,
     "input": [
      "orginfos.to_pickle(\"../CDPdata/orginfos.pkl\")"
     ],
     "language": "python",
     "metadata": {},
     "outputs": [],
     "prompt_number": 296
    },
    {
     "cell_type": "code",
     "collapsed": false,
     "input": [
      "# i should compare first by GICS Industry Group\n",
      "ghgrevs.head()"
     ],
     "language": "python",
     "metadata": {},
     "outputs": [
      {
       "html": [
        "<div style=\"max-height:1000px;max-width:1500px;overflow:auto;\">\n",
        "<table border=\"1\" class=\"dataframe\">\n",
        "  <thead>\n",
        "    <tr style=\"text-align: right;\">\n",
        "      <th></th>\n",
        "      <th></th>\n",
        "      <th>cogs</th>\n",
        "      <th>revt</th>\n",
        "      <th>Organisation</th>\n",
        "      <th>Scope 1</th>\n",
        "      <th>Scope 2</th>\n",
        "      <th>has Scope 1and2</th>\n",
        "      <th>1and2 total</th>\n",
        "      <th>1and2 intensity</th>\n",
        "      <th>percent change 1and2 intensity</th>\n",
        "      <th>percent change 1and2 total</th>\n",
        "    </tr>\n",
        "    <tr>\n",
        "      <th>ISIN</th>\n",
        "      <th>year</th>\n",
        "      <th></th>\n",
        "      <th></th>\n",
        "      <th></th>\n",
        "      <th></th>\n",
        "      <th></th>\n",
        "      <th></th>\n",
        "      <th></th>\n",
        "      <th></th>\n",
        "      <th></th>\n",
        "      <th></th>\n",
        "    </tr>\n",
        "  </thead>\n",
        "  <tbody>\n",
        "    <tr>\n",
        "      <th rowspan=\"5\" valign=\"top\">AN8068571086</th>\n",
        "      <th>2010</th>\n",
        "      <td> 18587</td>\n",
        "      <td> 27447</td>\n",
        "      <td> Schlumberger Limited</td>\n",
        "      <td> 1315000</td>\n",
        "      <td> 390000</td>\n",
        "      <td> 1</td>\n",
        "      <td> 1705000</td>\n",
        "      <td> 62.119722</td>\n",
        "      <td> 0.000000</td>\n",
        "      <td> 0.000000</td>\n",
        "    </tr>\n",
        "    <tr>\n",
        "      <th>2011</th>\n",
        "      <td> 28077</td>\n",
        "      <td> 39540</td>\n",
        "      <td> Schlumberger Limited</td>\n",
        "      <td> 1610000</td>\n",
        "      <td> 330000</td>\n",
        "      <td> 1</td>\n",
        "      <td> 1940000</td>\n",
        "      <td> 49.064239</td>\n",
        "      <td> 0.210166</td>\n",
        "      <td>-0.137830</td>\n",
        "    </tr>\n",
        "    <tr>\n",
        "      <th>2012</th>\n",
        "      <td> 29567</td>\n",
        "      <td> 42149</td>\n",
        "      <td> Schlumberger Limited</td>\n",
        "      <td> 1761333</td>\n",
        "      <td> 341824</td>\n",
        "      <td> 1</td>\n",
        "      <td> 2103157</td>\n",
        "      <td> 49.898147</td>\n",
        "      <td>-0.016996</td>\n",
        "      <td>-0.084102</td>\n",
        "    </tr>\n",
        "    <tr>\n",
        "      <th>2013</th>\n",
        "      <td> 31504</td>\n",
        "      <td> 45266</td>\n",
        "      <td> Schlumberger Limited</td>\n",
        "      <td> 2200000</td>\n",
        "      <td> 550000</td>\n",
        "      <td> 1</td>\n",
        "      <td> 2750000</td>\n",
        "      <td> 60.751999</td>\n",
        "      <td>-0.217520</td>\n",
        "      <td>-0.307558</td>\n",
        "    </tr>\n",
        "    <tr>\n",
        "      <th>2014</th>\n",
        "      <td> 33659</td>\n",
        "      <td> 48580</td>\n",
        "      <td> Schlumberger Limited</td>\n",
        "      <td> 1790000</td>\n",
        "      <td> 430000</td>\n",
        "      <td> 1</td>\n",
        "      <td> 2220000</td>\n",
        "      <td> 45.697818</td>\n",
        "      <td> 0.247797</td>\n",
        "      <td> 0.192727</td>\n",
        "    </tr>\n",
        "  </tbody>\n",
        "</table>\n",
        "</div>"
       ],
       "metadata": {},
       "output_type": "pyout",
       "prompt_number": 317,
       "text": [
        "                    cogs   revt          Organisation  Scope 1  Scope 2  \\\n",
        "ISIN         year                                                         \n",
        "AN8068571086 2010  18587  27447  Schlumberger Limited  1315000   390000   \n",
        "             2011  28077  39540  Schlumberger Limited  1610000   330000   \n",
        "             2012  29567  42149  Schlumberger Limited  1761333   341824   \n",
        "             2013  31504  45266  Schlumberger Limited  2200000   550000   \n",
        "             2014  33659  48580  Schlumberger Limited  1790000   430000   \n",
        "\n",
        "                   has Scope 1and2  1and2 total  1and2 intensity  \\\n",
        "ISIN         year                                                  \n",
        "AN8068571086 2010                1      1705000        62.119722   \n",
        "             2011                1      1940000        49.064239   \n",
        "             2012                1      2103157        49.898147   \n",
        "             2013                1      2750000        60.751999   \n",
        "             2014                1      2220000        45.697818   \n",
        "\n",
        "                   percent change 1and2 intensity  percent change 1and2 total  \n",
        "ISIN         year                                                              \n",
        "AN8068571086 2010                        0.000000                    0.000000  \n",
        "             2011                        0.210166                   -0.137830  \n",
        "             2012                       -0.016996                   -0.084102  \n",
        "             2013                       -0.217520                   -0.307558  \n",
        "             2014                        0.247797                    0.192727  "
       ]
      }
     ],
     "prompt_number": 317
    },
    {
     "cell_type": "code",
     "collapsed": false,
     "input": [
      "ghgrevscolumns = [\"cogs\", \"revt\", \"Scope 1\", \"Scope 2\", \"1and2 total\", \"1and2 intensity\",\n",
      "                  \"percent change 1and2 intensity\", \"percent change 1and2 total\"]\n",
      "targets = targets.reset_index().set_index(\"ISIN\")\n",
      "targetorgs = targets.join(orginfos[orginfos.columns[1:15]])\n",
      "targetorgs = targetorgs.reset_index().set_index([\"ISIN\",\"year\"])\n",
      "targetorgs = targetorgs.join(ghgrevs[ghgrevscolumns], how=\"inner\")"
     ],
     "language": "python",
     "metadata": {},
     "outputs": [],
     "prompt_number": 319
    },
    {
     "cell_type": "code",
     "collapsed": false,
     "input": [
      "targetorgs.to_pickle(\"../CDPdata/2010to2014targetorgs.pkl\")"
     ],
     "language": "python",
     "metadata": {},
     "outputs": [],
     "prompt_number": 320
    },
    {
     "cell_type": "code",
     "collapsed": false,
     "input": [
      "# split up companies by level of target setting\n",
      "# those who care (pt) and don't care (pn)\n",
      "pt, pn = tm.get_companies_by_target(targets)"
     ],
     "language": "python",
     "metadata": {},
     "outputs": [
      {
       "output_type": "stream",
       "stream": "stderr",
       "text": [
        "targetsmosh.py:46: SettingWithCopyWarning: \n",
        "A value is trying to be set on a copy of a slice from a DataFrame.\n",
        "Try using .loc[row_indexer,col_indexer] = value instead\n",
        "\n",
        "See the the caveats in the documentation: http://pandas.pydata.org/pandas-docs/stable/indexing.html#indexing-view-versus-copy\n",
        "  f[\"ISIN\"] = c\n"
       ]
      }
     ],
     "prompt_number": 119
    },
    {
     "cell_type": "code",
     "collapsed": false,
     "input": [
      "# pt = pt.join(orginfos[orginfos.columns[1:15]])\n",
      "# pn.head()"
     ],
     "language": "python",
     "metadata": {},
     "outputs": [],
     "prompt_number": 124
    },
    {
     "cell_type": "code",
     "collapsed": false,
     "input": [
      "pt.head()"
     ],
     "language": "python",
     "metadata": {},
     "outputs": [
      {
       "html": [
        "<div style=\"max-height:1000px;max-width:1500px;overflow:auto;\">\n",
        "<table border=\"1\" class=\"dataframe\">\n",
        "  <thead>\n",
        "    <tr style=\"text-align: right;\">\n",
        "      <th></th>\n",
        "      <th></th>\n",
        "      <th>Organisation</th>\n",
        "      <th>has absolute</th>\n",
        "      <th>has intensity</th>\n",
        "      <th>target type</th>\n",
        "      <th>has target</th>\n",
        "    </tr>\n",
        "    <tr>\n",
        "      <th>ISIN</th>\n",
        "      <th>year</th>\n",
        "      <th></th>\n",
        "      <th></th>\n",
        "      <th></th>\n",
        "      <th></th>\n",
        "      <th></th>\n",
        "    </tr>\n",
        "  </thead>\n",
        "  <tbody>\n",
        "    <tr>\n",
        "      <th rowspan=\"5\" valign=\"top\">AT0000746409</th>\n",
        "      <th>2010</th>\n",
        "      <td> VERBUND AG</td>\n",
        "      <td> False</td>\n",
        "      <td>  True</td>\n",
        "      <td>               Intensity target</td>\n",
        "      <td> True</td>\n",
        "    </tr>\n",
        "    <tr>\n",
        "      <th>2011</th>\n",
        "      <td> VERBUND AG</td>\n",
        "      <td>  True</td>\n",
        "      <td>  True</td>\n",
        "      <td> Absolute and intensity targets</td>\n",
        "      <td> True</td>\n",
        "    </tr>\n",
        "    <tr>\n",
        "      <th>2012</th>\n",
        "      <td> VERBUND AG</td>\n",
        "      <td>  True</td>\n",
        "      <td>  True</td>\n",
        "      <td> Absolute and intensity targets</td>\n",
        "      <td> True</td>\n",
        "    </tr>\n",
        "    <tr>\n",
        "      <th>2013</th>\n",
        "      <td>        NaN</td>\n",
        "      <td>  True</td>\n",
        "      <td> False</td>\n",
        "      <td>                Absolute target</td>\n",
        "      <td> True</td>\n",
        "    </tr>\n",
        "    <tr>\n",
        "      <th>2014</th>\n",
        "      <td>        NaN</td>\n",
        "      <td>  True</td>\n",
        "      <td> False</td>\n",
        "      <td>                Absolute target</td>\n",
        "      <td> True</td>\n",
        "    </tr>\n",
        "  </tbody>\n",
        "</table>\n",
        "</div>"
       ],
       "metadata": {},
       "output_type": "pyout",
       "prompt_number": 121,
       "text": [
        "                  Organisation has absolute has intensity  \\\n",
        "ISIN         year                                           \n",
        "AT0000746409 2010   VERBUND AG        False          True   \n",
        "             2011   VERBUND AG         True          True   \n",
        "             2012   VERBUND AG         True          True   \n",
        "             2013          NaN         True         False   \n",
        "             2014          NaN         True         False   \n",
        "\n",
        "                                      target type has target  \n",
        "ISIN         year                                             \n",
        "AT0000746409 2010                Intensity target       True  \n",
        "             2011  Absolute and intensity targets       True  \n",
        "             2012  Absolute and intensity targets       True  \n",
        "             2013                 Absolute target       True  \n",
        "             2014                 Absolute target       True  "
       ]
      }
     ],
     "prompt_number": 121
    },
    {
     "cell_type": "code",
     "collapsed": false,
     "input": [
      "# make pn_g and pt_g\n",
      "# pn_g = pn.groupby(\"GICS Industry\")\n",
      "# pn_g.head()"
     ],
     "language": "python",
     "metadata": {},
     "outputs": [],
     "prompt_number": 1
    },
    {
     "cell_type": "code",
     "collapsed": false,
     "input": [
      "# get groups with more than 10 companies for those with targets as well as without targets\n",
      "pn_gcount = pn_g.agg(['count'])\n",
      "pn_industries = pn_gcount[pn_gcount['has target']['count'] > 10].index\n",
      "pt_industries = pt_gcount[pt_gcount['has target']['count'] > 20].index\n",
      "pt_industries\n",
      "# get changes in intensity from ISIN for each year\n",
      "# plot change vs year for each category"
     ],
     "language": "python",
     "metadata": {},
     "outputs": [
      {
       "metadata": {},
       "output_type": "pyout",
       "prompt_number": 92,
       "text": [
        "Index([u'Aerospace & Defense', u'Beverages', u'Capital Markets', u'Chemicals', u'Commercial Banks', u'Construction & Engineering', u'Containers & Packaging', u'Diversified Telecommunication Services', u'Electric Utilities', u'Electronic Equipment, Instruments & Components', u'Food & Staples Retailing', u'Food Products', u'Hotels, Restaurants & Leisure', u'Household Durables', u'IT Services', u'Insurance', u'Machinery', u'Metals & Mining', u'Multi-Utilities', u'Oil, Gas & Consumable Fuels', u'Pharmaceuticals', u'Real Estate Investment Trusts (REITs)', u'Semiconductors & Semiconductor Equipment'], dtype='object')"
       ]
      }
     ],
     "prompt_number": 92
    },
    {
     "cell_type": "code",
     "collapsed": false,
     "input": [
      "industries = set(pt_industries) & set(pn_industries)"
     ],
     "language": "python",
     "metadata": {},
     "outputs": [],
     "prompt_number": 94
    },
    {
     "cell_type": "code",
     "collapsed": false,
     "input": [
      "# list(industries)\n",
      "pt_subset = pt[pt[\"GICS Industry\"].isin(list(industries))]"
     ],
     "language": "python",
     "metadata": {},
     "outputs": [],
     "prompt_number": 124
    },
    {
     "cell_type": "code",
     "collapsed": false,
     "input": [
      "pt_subset = pt_subset.join(ghgrevs[[\"percent change 1and2 intensity\", \"percent change 1and2 total\"]], how=\"inner\")"
     ],
     "language": "python",
     "metadata": {},
     "outputs": [],
     "prompt_number": 159
    },
    {
     "cell_type": "code",
     "collapsed": false,
     "input": [
      "# \n",
      "graphcols = [\"Country\", \"GICS Industry\", \"percent change 1and2 intensity\", \"percent change 1and2 total\"]\n",
      "pt_subset[graphcols].head()"
     ],
     "language": "python",
     "metadata": {},
     "outputs": [
      {
       "html": [
        "<div style=\"max-height:1000px;max-width:1500px;overflow:auto;\">\n",
        "<table border=\"1\" class=\"dataframe\">\n",
        "  <thead>\n",
        "    <tr style=\"text-align: right;\">\n",
        "      <th></th>\n",
        "      <th></th>\n",
        "      <th>Country</th>\n",
        "      <th>GICS Industry</th>\n",
        "      <th>percent change 1and2 intensity</th>\n",
        "      <th>percent change 1and2 total</th>\n",
        "    </tr>\n",
        "    <tr>\n",
        "      <th>ISIN</th>\n",
        "      <th>year</th>\n",
        "      <th></th>\n",
        "      <th></th>\n",
        "      <th></th>\n",
        "      <th></th>\n",
        "    </tr>\n",
        "  </thead>\n",
        "  <tbody>\n",
        "    <tr>\n",
        "      <th rowspan=\"3\" valign=\"top\">CH0038388911</th>\n",
        "      <th>2010</th>\n",
        "      <td> Switzerland</td>\n",
        "      <td> Machinery</td>\n",
        "      <td> 0.000000</td>\n",
        "      <td> 0.000000</td>\n",
        "    </tr>\n",
        "    <tr>\n",
        "      <th>2012</th>\n",
        "      <td> Switzerland</td>\n",
        "      <td> Machinery</td>\n",
        "      <td> 0.051745</td>\n",
        "      <td>-0.065849</td>\n",
        "    </tr>\n",
        "    <tr>\n",
        "      <th>2013</th>\n",
        "      <td> Switzerland</td>\n",
        "      <td> Machinery</td>\n",
        "      <td>-0.346938</td>\n",
        "      <td>-0.093165</td>\n",
        "    </tr>\n",
        "    <tr>\n",
        "      <th rowspan=\"2\" valign=\"top\">DE0005937007</th>\n",
        "      <th>2010</th>\n",
        "      <td>     Germany</td>\n",
        "      <td> Machinery</td>\n",
        "      <td> 0.000000</td>\n",
        "      <td> 0.000000</td>\n",
        "    </tr>\n",
        "    <tr>\n",
        "      <th>2012</th>\n",
        "      <td>     Germany</td>\n",
        "      <td> Machinery</td>\n",
        "      <td>-0.047503</td>\n",
        "      <td>-0.002988</td>\n",
        "    </tr>\n",
        "  </tbody>\n",
        "</table>\n",
        "</div>"
       ],
       "metadata": {},
       "output_type": "pyout",
       "prompt_number": 12,
       "text": [
        "                       Country GICS Industry  percent change 1and2 intensity  \\\n",
        "ISIN         year                                                              \n",
        "CH0038388911 2010  Switzerland     Machinery                        0.000000   \n",
        "             2012  Switzerland     Machinery                        0.051745   \n",
        "             2013  Switzerland     Machinery                       -0.346938   \n",
        "DE0005937007 2010      Germany     Machinery                        0.000000   \n",
        "             2012      Germany     Machinery                       -0.047503   \n",
        "\n",
        "                   percent change 1and2 total  \n",
        "ISIN         year                              \n",
        "CH0038388911 2010                    0.000000  \n",
        "             2012                   -0.065849  \n",
        "             2013                   -0.093165  \n",
        "DE0005937007 2010                    0.000000  \n",
        "             2012                   -0.002988  "
       ]
      }
     ],
     "prompt_number": 12
    },
    {
     "cell_type": "code",
     "collapsed": false,
     "input": [
      "pt_subset.to_pickle(\"../CDPdata/targets_subset.pkl\")"
     ],
     "language": "python",
     "metadata": {},
     "outputs": [],
     "prompt_number": 162
    },
    {
     "cell_type": "markdown",
     "metadata": {},
     "source": [
      "# plot results"
     ]
    },
    {
     "cell_type": "code",
     "collapsed": false,
     "input": [
      "import numpy as np\n",
      "from collections import OrderedDict\n",
      "from bokeh.charts import Scatter\n",
      "from bokeh.plotting import output_notebook, show\n",
      "output_notebook()"
     ],
     "language": "python",
     "metadata": {},
     "outputs": [],
     "prompt_number": 264
    },
    {
     "cell_type": "code",
     "collapsed": false,
     "input": [
      "import datavis as dv"
     ],
     "language": "python",
     "metadata": {},
     "outputs": [],
     "prompt_number": 265
    },
    {
     "cell_type": "code",
     "collapsed": false,
     "input": [
      "reload(dv)"
     ],
     "language": "python",
     "metadata": {},
     "outputs": [
      {
       "metadata": {},
       "output_type": "pyout",
       "prompt_number": 270,
       "text": [
        "<module 'datavis' from 'datavis.py'>"
       ]
      }
     ],
     "prompt_number": 270
    },
    {
     "cell_type": "code",
     "collapsed": false,
     "input": [
      "#targetorgs = pd.read_pickle(\"../CDPdata/2010to2014targetorgs.pkl\")\n",
      "targetorgs[\"Country\"].value_counts()"
     ],
     "language": "python",
     "metadata": {},
     "outputs": [
      {
       "metadata": {},
       "output_type": "pyout",
       "prompt_number": 321,
       "text": [
        "USA               432\n",
        "United Kingdom    138\n",
        "Japan              85\n",
        "France             52\n",
        "Canada             44\n",
        "South Africa       43\n",
        "Germany            40\n",
        "Sweden             38\n",
        "South Korea        33\n",
        "Switzerland        24\n",
        "Finland            21\n",
        "Spain              18\n",
        "Bermuda            16\n",
        "India              15\n",
        "Brazil             11\n",
        "Denmark            10\n",
        "Australia          10\n",
        "Norway             10\n",
        "Belgium             9\n",
        "Italy               9\n",
        "Netherlands         8\n",
        "Portugal            4\n",
        "Austria             4\n",
        "Hong Kong           3\n",
        "China               3\n",
        "Taiwan              3\n",
        "dtype: int64"
       ]
      }
     ],
     "prompt_number": 321
    },
    {
     "cell_type": "code",
     "collapsed": false,
     "input": [
      "fc_targetorgs = tm.get_targetorgs(targetorgs)\n",
      "fc_targetorgs.head()"
     ],
     "language": "python",
     "metadata": {},
     "outputs": [
      {
       "html": [
        "<div style=\"max-height:1000px;max-width:1500px;overflow:auto;\">\n",
        "<table border=\"1\" class=\"dataframe\">\n",
        "  <thead>\n",
        "    <tr style=\"text-align: right;\">\n",
        "      <th></th>\n",
        "      <th>year</th>\n",
        "      <th>GICS Industry</th>\n",
        "      <th>has target</th>\n",
        "      <th>has absolute</th>\n",
        "      <th>has intensity</th>\n",
        "      <th>percent change 1and2 intensity</th>\n",
        "      <th>percent change 1and2 total</th>\n",
        "    </tr>\n",
        "    <tr>\n",
        "      <th>ISIN</th>\n",
        "      <th></th>\n",
        "      <th></th>\n",
        "      <th></th>\n",
        "      <th></th>\n",
        "      <th></th>\n",
        "      <th></th>\n",
        "      <th></th>\n",
        "    </tr>\n",
        "  </thead>\n",
        "  <tbody>\n",
        "    <tr>\n",
        "      <th>AN8068571086</th>\n",
        "      <td> 2010</td>\n",
        "      <td> Energy Equipment &amp; Services</td>\n",
        "      <td> False</td>\n",
        "      <td> False</td>\n",
        "      <td> False</td>\n",
        "      <td> 0.000000</td>\n",
        "      <td> 0.000000</td>\n",
        "    </tr>\n",
        "    <tr>\n",
        "      <th>AN8068571086</th>\n",
        "      <td> 2011</td>\n",
        "      <td> Energy Equipment &amp; Services</td>\n",
        "      <td> False</td>\n",
        "      <td> False</td>\n",
        "      <td> False</td>\n",
        "      <td> 0.210166</td>\n",
        "      <td>-0.137830</td>\n",
        "    </tr>\n",
        "    <tr>\n",
        "      <th>AN8068571086</th>\n",
        "      <td> 2012</td>\n",
        "      <td> Energy Equipment &amp; Services</td>\n",
        "      <td> False</td>\n",
        "      <td> False</td>\n",
        "      <td> False</td>\n",
        "      <td>-0.016996</td>\n",
        "      <td>-0.084102</td>\n",
        "    </tr>\n",
        "    <tr>\n",
        "      <th>AN8068571086</th>\n",
        "      <td> 2013</td>\n",
        "      <td> Energy Equipment &amp; Services</td>\n",
        "      <td>  True</td>\n",
        "      <td> False</td>\n",
        "      <td>  True</td>\n",
        "      <td>-0.217520</td>\n",
        "      <td>-0.307558</td>\n",
        "    </tr>\n",
        "    <tr>\n",
        "      <th>AN8068571086</th>\n",
        "      <td> 2014</td>\n",
        "      <td> Energy Equipment &amp; Services</td>\n",
        "      <td>  True</td>\n",
        "      <td> False</td>\n",
        "      <td>  True</td>\n",
        "      <td> 0.247797</td>\n",
        "      <td> 0.192727</td>\n",
        "    </tr>\n",
        "  </tbody>\n",
        "</table>\n",
        "</div>"
       ],
       "metadata": {},
       "output_type": "pyout",
       "prompt_number": 266,
       "text": [
        "              year                GICS Industry has target has absolute  \\\n",
        "ISIN                                                                      \n",
        "AN8068571086  2010  Energy Equipment & Services      False        False   \n",
        "AN8068571086  2011  Energy Equipment & Services      False        False   \n",
        "AN8068571086  2012  Energy Equipment & Services      False        False   \n",
        "AN8068571086  2013  Energy Equipment & Services       True        False   \n",
        "AN8068571086  2014  Energy Equipment & Services       True        False   \n",
        "\n",
        "             has intensity  percent change 1and2 intensity  \\\n",
        "ISIN                                                         \n",
        "AN8068571086         False                        0.000000   \n",
        "AN8068571086         False                        0.210166   \n",
        "AN8068571086         False                       -0.016996   \n",
        "AN8068571086          True                       -0.217520   \n",
        "AN8068571086          True                        0.247797   \n",
        "\n",
        "              percent change 1and2 total  \n",
        "ISIN                                      \n",
        "AN8068571086                    0.000000  \n",
        "AN8068571086                   -0.137830  \n",
        "AN8068571086                   -0.084102  \n",
        "AN8068571086                   -0.307558  \n",
        "AN8068571086                    0.192727  "
       ]
      }
     ],
     "prompt_number": 266
    },
    {
     "cell_type": "code",
     "collapsed": false,
     "input": [
      "compareintensity = fc_targetorgs[['year', 'percent change 1and2 intensity', 'has target']]\n",
      "compareintensity = compareintensity[compareintensity['percent change 1and2 intensity'].notnull()]\n",
      "compareintensity = compareintensity.groupby('has target')"
     ],
     "language": "python",
     "metadata": {},
     "outputs": [],
     "prompt_number": 267
    },
    {
     "cell_type": "code",
     "collapsed": false,
     "input": [
      "pn_subset = pd.read_pickle(\"../CDPdata/notargets_subset.pkl\")\n",
      "pt_subset = pd.read_pickle(\"../CDPdata/targets_subset.pkl\")"
     ],
     "language": "python",
     "metadata": {},
     "outputs": [],
     "prompt_number": 8
    },
    {
     "cell_type": "code",
     "collapsed": false,
     "input": [
      "# pn_subset[\"often cares\"] = False\n",
      "# pt_subset[\"often cares\"] = True\n",
      "forcomparing = pd.concat([pn_subset, pt_subset])\n",
      "forcomparing.reset_index(inplace=True)\n",
      "forcomparing = forcomparing[['year','GICS Industry', 'often cares','percent change 1and2 intensity', 'percent change 1and2 total']]"
     ],
     "language": "python",
     "metadata": {},
     "outputs": [],
     "prompt_number": 9
    },
    {
     "cell_type": "code",
     "collapsed": false,
     "input": [
      "compareintensity = forcomparing[['year', 'percent change 1and2 intensity', 'often cares']]\n",
      "compareintensity = compareintensity[compareintensity['percent change 1and2 intensity'].notnull()]\n",
      "compareintensity = compareintensity.groupby('often cares')"
     ],
     "language": "python",
     "metadata": {},
     "outputs": [],
     "prompt_number": 150
    },
    {
     "cell_type": "code",
     "collapsed": false,
     "input": [
      "xycomint = dv.prep_groups(compareintensity)"
     ],
     "language": "python",
     "metadata": {},
     "outputs": [],
     "prompt_number": 273
    },
    {
     "cell_type": "code",
     "collapsed": false,
     "input": [
      "compareby = forcomparing[['year', 'percent change 1and2 intensity', 'GICS Industry']]\n",
      "compareby = compareby[compareby['percent change 1and2 intensity'].notnull()]\n",
      "compareby = compareby.groupby('GICS Industry')"
     ],
     "language": "python",
     "metadata": {},
     "outputs": [],
     "prompt_number": 10
    },
    {
     "cell_type": "code",
     "collapsed": false,
     "input": [
      "xycomby = dv.prep_groups(compareby)"
     ],
     "language": "python",
     "metadata": {},
     "outputs": [],
     "prompt_number": 269
    },
    {
     "cell_type": "code",
     "collapsed": false,
     "input": [
      "scatter = dv.scatter_groups(xycomby, \"foo.html\", \"industry vs. change\", \"year\", \"percent change\")\n",
      "scatter.show()"
     ],
     "language": "python",
     "metadata": {},
     "outputs": [
      {
       "output_type": "stream",
       "stream": "stdout",
       "text": [
        "Wrote foo.html\n"
       ]
      }
     ],
     "prompt_number": 14
    },
    {
     "cell_type": "code",
     "collapsed": false,
     "input": [
      "scatter = dv.scatter_groups(xycomint.values(), \"intensity v has_target 3_13.html\", \"% Intensity change vs. Has Target\", \"year\", \"percent change\")\n",
      "scatter.show()"
     ],
     "language": "python",
     "metadata": {},
     "outputs": [
      {
       "output_type": "stream",
       "stream": "stdout",
       "text": [
        "Wrote intensity v has_target 3_13.html\n"
       ]
      }
     ],
     "prompt_number": 275
    },
    {
     "cell_type": "code",
     "collapsed": false,
     "input": [
      "perindustry = forcomparing[['year', 'percent change 1and2 intensity', 'GICS Industry', 'often cares']]\n",
      "pig = perindustry.groupby('GICS Industry')\n",
      "pig.groups.keys()"
     ],
     "language": "python",
     "metadata": {},
     "outputs": [
      {
       "metadata": {},
       "output_type": "pyout",
       "prompt_number": 76,
       "text": [
        "[u'Oil, Gas & Consumable Fuels',\n",
        " u'Household Durables',\n",
        " u'Machinery',\n",
        " u'Construction & Engineering',\n",
        " u'Metals & Mining']"
       ]
      }
     ],
     "prompt_number": 76
    },
    {
     "cell_type": "code",
     "collapsed": false,
     "input": [
      "industry = pig.get_group('Oil, Gas & Consumable Fuels')\n",
      "industry= industry[[\"year\", \"percent change 1and2 intensity\", \"often cares\"]]\n",
      "xyindustry = g = industry.groupby(\"often cares\")"
     ],
     "language": "python",
     "metadata": {},
     "outputs": [],
     "prompt_number": 101
    },
    {
     "cell_type": "code",
     "collapsed": false,
     "input": [
      "forcomparing.tail()"
     ],
     "language": "python",
     "metadata": {},
     "outputs": [
      {
       "html": [
        "<div style=\"max-height:1000px;max-width:1500px;overflow:auto;\">\n",
        "<table border=\"1\" class=\"dataframe\">\n",
        "  <thead>\n",
        "    <tr style=\"text-align: right;\">\n",
        "      <th></th>\n",
        "      <th>year</th>\n",
        "      <th>GICS Industry</th>\n",
        "      <th>often cares</th>\n",
        "      <th>percent change 1and2 intensity</th>\n",
        "      <th>percent change 1and2 total</th>\n",
        "    </tr>\n",
        "  </thead>\n",
        "  <tbody>\n",
        "    <tr>\n",
        "      <th>157</th>\n",
        "      <td> 2012</td>\n",
        "      <td> Oil, Gas &amp; Consumable Fuels</td>\n",
        "      <td> True</td>\n",
        "      <td> 0.029587</td>\n",
        "      <td> 0.048417</td>\n",
        "    </tr>\n",
        "    <tr>\n",
        "      <th>158</th>\n",
        "      <td> 2013</td>\n",
        "      <td> Oil, Gas &amp; Consumable Fuels</td>\n",
        "      <td> True</td>\n",
        "      <td> 0.469252</td>\n",
        "      <td> 0.411138</td>\n",
        "    </tr>\n",
        "    <tr>\n",
        "      <th>159</th>\n",
        "      <td> 2010</td>\n",
        "      <td>             Metals &amp; Mining</td>\n",
        "      <td> True</td>\n",
        "      <td> 0.000000</td>\n",
        "      <td> 0.000000</td>\n",
        "    </tr>\n",
        "    <tr>\n",
        "      <th>160</th>\n",
        "      <td> 2012</td>\n",
        "      <td>             Metals &amp; Mining</td>\n",
        "      <td> True</td>\n",
        "      <td>-0.157244</td>\n",
        "      <td>-0.083190</td>\n",
        "    </tr>\n",
        "    <tr>\n",
        "      <th>161</th>\n",
        "      <td> 2013</td>\n",
        "      <td>             Metals &amp; Mining</td>\n",
        "      <td> True</td>\n",
        "      <td> 0.112687</td>\n",
        "      <td>-0.063327</td>\n",
        "    </tr>\n",
        "  </tbody>\n",
        "</table>\n",
        "</div>"
       ],
       "metadata": {},
       "output_type": "pyout",
       "prompt_number": 167,
       "text": [
        "     year                GICS Industry often cares  \\\n",
        "157  2012  Oil, Gas & Consumable Fuels        True   \n",
        "158  2013  Oil, Gas & Consumable Fuels        True   \n",
        "159  2010              Metals & Mining        True   \n",
        "160  2012              Metals & Mining        True   \n",
        "161  2013              Metals & Mining        True   \n",
        "\n",
        "     percent change 1and2 intensity  percent change 1and2 total  \n",
        "157                        0.029587                    0.048417  \n",
        "158                        0.469252                    0.411138  \n",
        "159                        0.000000                    0.000000  \n",
        "160                       -0.157244                   -0.083190  \n",
        "161                        0.112687                   -0.063327  "
       ]
      }
     ],
     "prompt_number": 167
    },
    {
     "cell_type": "code",
     "collapsed": false,
     "input": [
      "from bokeh.charts import Histogram"
     ],
     "language": "python",
     "metadata": {},
     "outputs": [],
     "prompt_number": 274
    },
    {
     "cell_type": "code",
     "collapsed": false,
     "input": [
      "reload(tm)\n",
      "# fc_hadtargets = tm.get_hadtarget(fc_targetorgs)\n",
      "hadtargets = tm.get_hadtarget(targetorgs)"
     ],
     "language": "python",
     "metadata": {},
     "outputs": [],
     "prompt_number": 324
    },
    {
     "cell_type": "code",
     "collapsed": false,
     "input": [
      "# fc_hadtargets.drop(\"index\", 1, inplace=True)\n",
      "hadtargets.to_pickle(\"../CDPdata/2010to2014hadtargetorgs.pkl\")\n",
      "len(fc_hadtargets.index)"
     ],
     "language": "python",
     "metadata": {},
     "outputs": [
      {
       "metadata": {},
       "output_type": "pyout",
       "prompt_number": 331,
       "text": [
        "815"
       ]
      }
     ],
     "prompt_number": 331
    },
    {
     "cell_type": "code",
     "collapsed": false,
     "input": [
      "fc_g = fc_hadtargets[fc_hadtargets[\"year\"].isin([2012])].groupby(\"has intensity last year\")\n",
      "true2012 = fc_g.get_group(True)\n",
      "false2012 = fc_g.get_group(False)"
     ],
     "language": "python",
     "metadata": {},
     "outputs": [],
     "prompt_number": 310
    },
    {
     "cell_type": "code",
     "collapsed": false,
     "input": [
      "fc_2012 = {\"No target\": false2012[false2012[\"percent change 1and2 intensity\"] > -10][\"percent change 1and2 intensity\"].tolist(),\n",
      "\"Had target\": true2012[true2012[\"percent change 1and2 intensity\"] > -10][\"percent change 1and2 intensity\"].tolist()}"
     ],
     "language": "python",
     "metadata": {},
     "outputs": [],
     "prompt_number": 311
    },
    {
     "cell_type": "code",
     "collapsed": false,
     "input": [
      "fname = \"2012 had inttarget vs int change 3_16_2015.html\"\n",
      "title =  \"Effect of Intensity Goal on % Intensity Change 2012\"\n",
      "hist = Histogram(fc_2012, bins=50, filename=fname, title = title, legend=True)\n",
      "hist.show()"
     ],
     "language": "python",
     "metadata": {},
     "outputs": [
      {
       "output_type": "stream",
       "stream": "stdout",
       "text": [
        "Wrote 2012 had inttarget vs int change 3_16_2015.html\n"
       ]
      }
     ],
     "prompt_number": 312
    },
    {
     "cell_type": "code",
     "collapsed": false,
     "input": [],
     "language": "python",
     "metadata": {},
     "outputs": []
    }
   ],
   "metadata": {}
  }
 ]
}